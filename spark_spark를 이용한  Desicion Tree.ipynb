{
 "cells": [
  {
   "cell_type": "code",
   "execution_count": 1,
   "id": "c7186cbf",
   "metadata": {},
   "outputs": [],
   "source": [
    "from pyspark.mllib.tree import DecisionTree, DecisionTreeModel"
   ]
  },
  {
   "cell_type": "code",
   "execution_count": 2,
   "id": "2ea3c8e9",
   "metadata": {},
   "outputs": [],
   "source": [
    "# spark.read.csv\n",
    "df = spark.read.csv('playtennis.csv', header = True) # 첫번째 줄은 칼럼"
   ]
  },
  {
   "cell_type": "code",
   "execution_count": 3,
   "id": "df287d2a",
   "metadata": {},
   "outputs": [
    {
     "data": {
      "text/plain": [
       "pyspark.sql.dataframe.DataFrame"
      ]
     },
     "execution_count": 3,
     "metadata": {},
     "output_type": "execute_result"
    }
   ],
   "source": [
    "# csv -> spark DataFrame\n",
    "# (데이터가 클 경우) 여러 블록에 나눠서 저장\n",
    "# 다수에 블록이 동시에 실행하기 때문에 처리 속도가 매우 빠름\n",
    "type(df)"
   ]
  },
  {
   "cell_type": "code",
   "execution_count": 4,
   "id": "f5374588",
   "metadata": {},
   "outputs": [
    {
     "name": "stdout",
     "output_type": "stream",
     "text": [
      "+--------+-----------+--------+------+----------+\n",
      "| Outlook|Temperature|Humidity|  Wind|PlayTennis|\n",
      "+--------+-----------+--------+------+----------+\n",
      "|   Sunny|        Hot|    High|  Weak|        No|\n",
      "|   Sunny|        Hot|    High|Strong|        No|\n",
      "|Overcast|        Hot|    High|  Weak|       Yes|\n",
      "|    Rain|       Mild|    High|  Weak|       Yes|\n",
      "|    Rain|       Cool|  Normal|  Weak|       Yes|\n",
      "|    Rain|       Cool|  Normal|Strong|        No|\n",
      "|Overcast|       Cool|  Normal|Strong|       Yes|\n",
      "|   Sunny|       Mild|    High|  Weak|        No|\n",
      "|   Sunny|       Cool|  Normal|  Weak|       Yes|\n",
      "|    Rain|       Mild|  Normal|  Weak|       Yes|\n",
      "|   Sunny|       Mild|  Normal|Strong|       Yes|\n",
      "|Overcast|       Mild|    High|Strong|       Yes|\n",
      "|Overcast|        Hot|  Normal|  Weak|       Yes|\n",
      "|    Rain|       Mild|    High|Strong|        No|\n",
      "+--------+-----------+--------+------+----------+\n",
      "\n"
     ]
    }
   ],
   "source": [
    "# df 저장된 데이터 출력\n",
    "df.show()"
   ]
  },
  {
   "cell_type": "markdown",
   "id": "0bcdb01e",
   "metadata": {},
   "source": [
    "줄들이 분산 저장되어있음"
   ]
  },
  {
   "cell_type": "markdown",
   "id": "a04abbc5",
   "metadata": {},
   "source": [
    "## Label Encoding()"
   ]
  },
  {
   "cell_type": "code",
   "execution_count": 5,
   "id": "0cfb9257",
   "metadata": {},
   "outputs": [],
   "source": [
    "from pyspark.sql import functions as F"
   ]
  },
  {
   "cell_type": "code",
   "execution_count": null,
   "id": "610ec070",
   "metadata": {},
   "outputs": [],
   "source": [
    "# df.withColumn : 컬럼 데이터를 수정해서 리턴\n",
    "# df.withColumn(\"Outlook\", F.when(F.col(\"Outlook\")==\"Sunny\",0): Outlook 컬럼값이 sunny이면 0으로 수정해서 리턴\n",
    "# otherwise(F.col(\"Outlook\") : 조건이 거짓이면 Outlook 컬럼의 기존 값 리턴\n",
    "\n",
    "# df = df.withColumn(\"Outlook\", F.when(F.col(\"Outlook\")==\"Sunny\",0).otherwise(F.col(\"Outlook\")))"
   ]
  },
  {
   "cell_type": "code",
   "execution_count": 6,
   "id": "71844b26",
   "metadata": {},
   "outputs": [
    {
     "name": "stdout",
     "output_type": "stream",
     "text": [
      "+--------+-----------+--------+------+----------+\n",
      "| Outlook|Temperature|Humidity|  Wind|PlayTennis|\n",
      "+--------+-----------+--------+------+----------+\n",
      "|   Sunny|        Hot|    High|  Weak|        No|\n",
      "|   Sunny|        Hot|    High|Strong|        No|\n",
      "|Overcast|        Hot|    High|  Weak|       Yes|\n",
      "|    Rain|       Mild|    High|  Weak|       Yes|\n",
      "|    Rain|       Cool|  Normal|  Weak|       Yes|\n",
      "|    Rain|       Cool|  Normal|Strong|        No|\n",
      "|Overcast|       Cool|  Normal|Strong|       Yes|\n",
      "|   Sunny|       Mild|    High|  Weak|        No|\n",
      "|   Sunny|       Cool|  Normal|  Weak|       Yes|\n",
      "|    Rain|       Mild|  Normal|  Weak|       Yes|\n",
      "|   Sunny|       Mild|  Normal|Strong|       Yes|\n",
      "|Overcast|       Mild|    High|Strong|       Yes|\n",
      "|Overcast|        Hot|  Normal|  Weak|       Yes|\n",
      "|    Rain|       Mild|    High|Strong|        No|\n",
      "+--------+-----------+--------+------+----------+\n",
      "\n"
     ]
    }
   ],
   "source": [
    "df.show()"
   ]
  },
  {
   "cell_type": "markdown",
   "id": "7fd5ac0c",
   "metadata": {},
   "source": [
    "### Pandas를 이용하여 Label Encoding"
   ]
  },
  {
   "cell_type": "code",
   "execution_count": 7,
   "id": "877466d2",
   "metadata": {},
   "outputs": [],
   "source": [
    "import pandas as pd\n",
    "from sklearn.preprocessing import LabelEncoder"
   ]
  },
  {
   "cell_type": "code",
   "execution_count": 8,
   "id": "5346db10",
   "metadata": {},
   "outputs": [],
   "source": [
    "pdf = df.toPandas() #판다스 데이터 프레임 형식으로 변환"
   ]
  },
  {
   "cell_type": "code",
   "execution_count": 9,
   "id": "edae6575",
   "metadata": {},
   "outputs": [
    {
     "data": {
      "text/html": [
       "<div>\n",
       "<style scoped>\n",
       "    .dataframe tbody tr th:only-of-type {\n",
       "        vertical-align: middle;\n",
       "    }\n",
       "\n",
       "    .dataframe tbody tr th {\n",
       "        vertical-align: top;\n",
       "    }\n",
       "\n",
       "    .dataframe thead th {\n",
       "        text-align: right;\n",
       "    }\n",
       "</style>\n",
       "<table border=\"1\" class=\"dataframe\">\n",
       "  <thead>\n",
       "    <tr style=\"text-align: right;\">\n",
       "      <th></th>\n",
       "      <th>Outlook</th>\n",
       "      <th>Temperature</th>\n",
       "      <th>Humidity</th>\n",
       "      <th>Wind</th>\n",
       "      <th>PlayTennis</th>\n",
       "    </tr>\n",
       "  </thead>\n",
       "  <tbody>\n",
       "    <tr>\n",
       "      <th>0</th>\n",
       "      <td>Sunny</td>\n",
       "      <td>Hot</td>\n",
       "      <td>High</td>\n",
       "      <td>Weak</td>\n",
       "      <td>No</td>\n",
       "    </tr>\n",
       "    <tr>\n",
       "      <th>1</th>\n",
       "      <td>Sunny</td>\n",
       "      <td>Hot</td>\n",
       "      <td>High</td>\n",
       "      <td>Strong</td>\n",
       "      <td>No</td>\n",
       "    </tr>\n",
       "    <tr>\n",
       "      <th>2</th>\n",
       "      <td>Overcast</td>\n",
       "      <td>Hot</td>\n",
       "      <td>High</td>\n",
       "      <td>Weak</td>\n",
       "      <td>Yes</td>\n",
       "    </tr>\n",
       "    <tr>\n",
       "      <th>3</th>\n",
       "      <td>Rain</td>\n",
       "      <td>Mild</td>\n",
       "      <td>High</td>\n",
       "      <td>Weak</td>\n",
       "      <td>Yes</td>\n",
       "    </tr>\n",
       "    <tr>\n",
       "      <th>4</th>\n",
       "      <td>Rain</td>\n",
       "      <td>Cool</td>\n",
       "      <td>Normal</td>\n",
       "      <td>Weak</td>\n",
       "      <td>Yes</td>\n",
       "    </tr>\n",
       "    <tr>\n",
       "      <th>5</th>\n",
       "      <td>Rain</td>\n",
       "      <td>Cool</td>\n",
       "      <td>Normal</td>\n",
       "      <td>Strong</td>\n",
       "      <td>No</td>\n",
       "    </tr>\n",
       "    <tr>\n",
       "      <th>6</th>\n",
       "      <td>Overcast</td>\n",
       "      <td>Cool</td>\n",
       "      <td>Normal</td>\n",
       "      <td>Strong</td>\n",
       "      <td>Yes</td>\n",
       "    </tr>\n",
       "    <tr>\n",
       "      <th>7</th>\n",
       "      <td>Sunny</td>\n",
       "      <td>Mild</td>\n",
       "      <td>High</td>\n",
       "      <td>Weak</td>\n",
       "      <td>No</td>\n",
       "    </tr>\n",
       "    <tr>\n",
       "      <th>8</th>\n",
       "      <td>Sunny</td>\n",
       "      <td>Cool</td>\n",
       "      <td>Normal</td>\n",
       "      <td>Weak</td>\n",
       "      <td>Yes</td>\n",
       "    </tr>\n",
       "    <tr>\n",
       "      <th>9</th>\n",
       "      <td>Rain</td>\n",
       "      <td>Mild</td>\n",
       "      <td>Normal</td>\n",
       "      <td>Weak</td>\n",
       "      <td>Yes</td>\n",
       "    </tr>\n",
       "    <tr>\n",
       "      <th>10</th>\n",
       "      <td>Sunny</td>\n",
       "      <td>Mild</td>\n",
       "      <td>Normal</td>\n",
       "      <td>Strong</td>\n",
       "      <td>Yes</td>\n",
       "    </tr>\n",
       "    <tr>\n",
       "      <th>11</th>\n",
       "      <td>Overcast</td>\n",
       "      <td>Mild</td>\n",
       "      <td>High</td>\n",
       "      <td>Strong</td>\n",
       "      <td>Yes</td>\n",
       "    </tr>\n",
       "    <tr>\n",
       "      <th>12</th>\n",
       "      <td>Overcast</td>\n",
       "      <td>Hot</td>\n",
       "      <td>Normal</td>\n",
       "      <td>Weak</td>\n",
       "      <td>Yes</td>\n",
       "    </tr>\n",
       "    <tr>\n",
       "      <th>13</th>\n",
       "      <td>Rain</td>\n",
       "      <td>Mild</td>\n",
       "      <td>High</td>\n",
       "      <td>Strong</td>\n",
       "      <td>No</td>\n",
       "    </tr>\n",
       "  </tbody>\n",
       "</table>\n",
       "</div>"
      ],
      "text/plain": [
       "     Outlook Temperature Humidity    Wind PlayTennis\n",
       "0      Sunny         Hot     High    Weak         No\n",
       "1      Sunny         Hot     High  Strong         No\n",
       "2   Overcast         Hot     High    Weak        Yes\n",
       "3       Rain        Mild     High    Weak        Yes\n",
       "4       Rain        Cool   Normal    Weak        Yes\n",
       "5       Rain        Cool   Normal  Strong         No\n",
       "6   Overcast        Cool   Normal  Strong        Yes\n",
       "7      Sunny        Mild     High    Weak         No\n",
       "8      Sunny        Cool   Normal    Weak        Yes\n",
       "9       Rain        Mild   Normal    Weak        Yes\n",
       "10     Sunny        Mild   Normal  Strong        Yes\n",
       "11  Overcast        Mild     High  Strong        Yes\n",
       "12  Overcast         Hot   Normal    Weak        Yes\n",
       "13      Rain        Mild     High  Strong         No"
      ]
     },
     "execution_count": 9,
     "metadata": {},
     "output_type": "execute_result"
    }
   ],
   "source": [
    "pdf"
   ]
  },
  {
   "cell_type": "code",
   "execution_count": 10,
   "id": "69d6b28a",
   "metadata": {},
   "outputs": [
    {
     "name": "stdout",
     "output_type": "stream",
     "text": [
      "Outlook 의 인코딩 정보입니다!\n",
      "Outlook   Outlook_encoded\n",
      "Sunny     2                  5\n",
      "Rain      1                  5\n",
      "Overcast  0                  4\n",
      "dtype: int64\n",
      "------------------------------\n",
      "Temperature 의 인코딩 정보입니다!\n",
      "Temperature  Temperature_encoded\n",
      "Mild         2                      6\n",
      "Hot          1                      4\n",
      "Cool         0                      4\n",
      "dtype: int64\n",
      "------------------------------\n",
      "Humidity 의 인코딩 정보입니다!\n",
      "Humidity  Humidity_encoded\n",
      "Normal    1                   7\n",
      "High      0                   7\n",
      "dtype: int64\n",
      "------------------------------\n",
      "Wind 의 인코딩 정보입니다!\n",
      "Wind    Wind_encoded\n",
      "Weak    1               8\n",
      "Strong  0               6\n",
      "dtype: int64\n",
      "------------------------------\n",
      "PlayTennis 의 인코딩 정보입니다!\n",
      "PlayTennis  PlayTennis_encoded\n",
      "Yes         1                     9\n",
      "No          0                     5\n",
      "dtype: int64\n",
      "------------------------------\n"
     ]
    }
   ],
   "source": [
    "# 인코딩 한 라벨 값 확인\n",
    "cols_encoded = ['Outlook', 'Temperature', 'Humidity', 'Wind', 'PlayTennis']\n",
    "le = LabelEncoder()\n",
    "\n",
    "\n",
    "for col in cols_encoded:\n",
    "    le.fit(pdf[col])\n",
    "    new_col = '{}_encoded'.format(col)\n",
    "    pdf[new_col] = le.transform(pdf[col] )\n",
    "    print(col, \"의 인코딩 정보입니다!\")\n",
    "    print(pdf.filter(regex = col).value_counts())\n",
    "    print(\"-\"*30)\n",
    "    \n",
    "# fit - Transform하는 형태\n",
    "for col in cols_encoded:\n",
    "    le.fit(pdf[col])\n",
    "    pdf[col] = le.transform(pdf[col] )\n",
    "    \n",
    "pdf = pdf.drop(pdf.filter(regex = 'encoded'), axis =1)"
   ]
  },
  {
   "cell_type": "code",
   "execution_count": 11,
   "id": "843a09f9",
   "metadata": {},
   "outputs": [],
   "source": [
    "df = spark.createDataFrame(pdf)"
   ]
  },
  {
   "cell_type": "code",
   "execution_count": 12,
   "id": "f45dd641",
   "metadata": {},
   "outputs": [
    {
     "name": "stdout",
     "output_type": "stream",
     "text": [
      "+-------+-----------+--------+----+----------+\n",
      "|Outlook|Temperature|Humidity|Wind|PlayTennis|\n",
      "+-------+-----------+--------+----+----------+\n",
      "|      2|          1|       0|   1|         0|\n",
      "|      2|          1|       0|   0|         0|\n",
      "|      0|          1|       0|   1|         1|\n",
      "|      1|          2|       0|   1|         1|\n",
      "|      1|          0|       1|   1|         1|\n",
      "|      1|          0|       1|   0|         0|\n",
      "|      0|          0|       1|   0|         1|\n",
      "|      2|          2|       0|   1|         0|\n",
      "|      2|          0|       1|   1|         1|\n",
      "|      1|          2|       1|   1|         1|\n",
      "|      2|          2|       1|   0|         1|\n",
      "|      0|          2|       0|   0|         1|\n",
      "|      0|          1|       1|   1|         1|\n",
      "|      1|          2|       0|   0|         0|\n",
      "+-------+-----------+--------+----+----------+\n",
      "\n"
     ]
    }
   ],
   "source": [
    "df.show()"
   ]
  },
  {
   "cell_type": "code",
   "execution_count": 13,
   "id": "b1efc346",
   "metadata": {
    "scrolled": true
   },
   "outputs": [
    {
     "data": {
      "text/plain": [
       "pyspark.sql.dataframe.DataFrame"
      ]
     },
     "execution_count": 13,
     "metadata": {},
     "output_type": "execute_result"
    }
   ],
   "source": [
    "type(df)"
   ]
  },
  {
   "cell_type": "code",
   "execution_count": 14,
   "id": "f1c398cd",
   "metadata": {},
   "outputs": [
    {
     "data": {
      "text/plain": [
       "StructType(List(StructField(Outlook,LongType,true),StructField(Temperature,LongType,true),StructField(Humidity,LongType,true),StructField(Wind,LongType,true),StructField(PlayTennis,LongType,true)))"
      ]
     },
     "execution_count": 14,
     "metadata": {},
     "output_type": "execute_result"
    }
   ],
   "source": [
    "df.schema"
   ]
  },
  {
   "cell_type": "code",
   "execution_count": 15,
   "id": "e66ec156",
   "metadata": {},
   "outputs": [],
   "source": [
    "cols = ['Outlook', 'Temperature', 'Humidity', 'Wind', 'PlayTennis']\n",
    "for col in cols :\n",
    "    df = df.withColumn(col,df[col].cast('int'))"
   ]
  },
  {
   "cell_type": "code",
   "execution_count": 16,
   "id": "dbf70813",
   "metadata": {},
   "outputs": [
    {
     "data": {
      "text/plain": [
       "StructType(List(StructField(Outlook,IntegerType,true),StructField(Temperature,IntegerType,true),StructField(Humidity,IntegerType,true),StructField(Wind,IntegerType,true),StructField(PlayTennis,IntegerType,true)))"
      ]
     },
     "execution_count": 16,
     "metadata": {},
     "output_type": "execute_result"
    }
   ],
   "source": [
    "df.schema"
   ]
  },
  {
   "cell_type": "code",
   "execution_count": 17,
   "id": "77f82ee2",
   "metadata": {},
   "outputs": [
    {
     "name": "stdout",
     "output_type": "stream",
     "text": [
      "+-------+-----------+--------+----+----------+\n",
      "|Outlook|Temperature|Humidity|Wind|PlayTennis|\n",
      "+-------+-----------+--------+----+----------+\n",
      "|      2|          1|       0|   1|         0|\n",
      "|      2|          1|       0|   0|         0|\n",
      "|      0|          1|       0|   1|         1|\n",
      "|      1|          2|       0|   1|         1|\n",
      "|      1|          0|       1|   1|         1|\n",
      "|      1|          0|       1|   0|         0|\n",
      "|      0|          0|       1|   0|         1|\n",
      "|      2|          2|       0|   1|         0|\n",
      "|      2|          0|       1|   1|         1|\n",
      "|      1|          2|       1|   1|         1|\n",
      "|      2|          2|       1|   0|         1|\n",
      "|      0|          2|       0|   0|         1|\n",
      "|      0|          1|       1|   1|         1|\n",
      "|      1|          2|       0|   0|         0|\n",
      "+-------+-----------+--------+----+----------+\n",
      "\n"
     ]
    }
   ],
   "source": [
    "df.show()"
   ]
  },
  {
   "cell_type": "markdown",
   "id": "49980822",
   "metadata": {},
   "source": [
    "## VectorAssembler \n",
    "*  sparkdataframe에서는 데이터가 크면 데이터가 블록으로 분할됨(직접지정하지 않아도)\n",
    "* 그래서 함수를 실행하여 진행하고, 블록에 동시에 동일한 함수를 실행함\n",
    "\n",
    "### <span style =\"color:red\"> -> 동일한 레코드임에도 불구하고 독립 변수들이 각각 다른 블록에 나눠서 저장 될 수도 있음 </span>\n",
    "\n",
    "### <span style =\"color:bule\">VectorAssenbler</span>을 사용하여 독립변수를 한컬럼에 저장함!\n",
    "\n",
    "* 독립 변수들을 inputCols에 지정\n",
    "* outputCol =\"features\" feature 변수에 독립변수를 벡터로 한 번에 저장"
   ]
  },
  {
   "cell_type": "code",
   "execution_count": 18,
   "id": "e5a6451b",
   "metadata": {},
   "outputs": [],
   "source": [
    "from pyspark.ml.feature import VectorAssembler\n",
    "assembler = VectorAssembler(inputCols = ['Outlook', 'Temperature', 'Humidity', 'Wind'], outputCol = 'features')\n",
    "assembler_df = assembler.transform(df)"
   ]
  },
  {
   "cell_type": "code",
   "execution_count": 19,
   "id": "dd2fbb51",
   "metadata": {},
   "outputs": [
    {
     "name": "stdout",
     "output_type": "stream",
     "text": [
      "+-------+-----------+--------+----+----------+-----------------+\n",
      "|Outlook|Temperature|Humidity|Wind|PlayTennis|         features|\n",
      "+-------+-----------+--------+----+----------+-----------------+\n",
      "|      2|          1|       0|   1|         0|[2.0,1.0,0.0,1.0]|\n",
      "|      2|          1|       0|   0|         0|[2.0,1.0,0.0,0.0]|\n",
      "|      0|          1|       0|   1|         1|[0.0,1.0,0.0,1.0]|\n",
      "|      1|          2|       0|   1|         1|[1.0,2.0,0.0,1.0]|\n",
      "|      1|          0|       1|   1|         1|[1.0,0.0,1.0,1.0]|\n",
      "|      1|          0|       1|   0|         0|[1.0,0.0,1.0,0.0]|\n",
      "|      0|          0|       1|   0|         1|    (4,[2],[1.0])|\n",
      "|      2|          2|       0|   1|         0|[2.0,2.0,0.0,1.0]|\n",
      "|      2|          0|       1|   1|         1|[2.0,0.0,1.0,1.0]|\n",
      "|      1|          2|       1|   1|         1|[1.0,2.0,1.0,1.0]|\n",
      "|      2|          2|       1|   0|         1|[2.0,2.0,1.0,0.0]|\n",
      "|      0|          2|       0|   0|         1|    (4,[1],[2.0])|\n",
      "|      0|          1|       1|   1|         1|[0.0,1.0,1.0,1.0]|\n",
      "|      1|          2|       0|   0|         0|[1.0,2.0,0.0,0.0]|\n",
      "+-------+-----------+--------+----+----------+-----------------+\n",
      "\n"
     ]
    }
   ],
   "source": [
    "assembler_df.show()"
   ]
  },
  {
   "cell_type": "markdown",
   "id": "6d72da68",
   "metadata": {},
   "source": [
    "### Test/Train data set 분리"
   ]
  },
  {
   "cell_type": "code",
   "execution_count": 20,
   "id": "0cb8b4b2",
   "metadata": {},
   "outputs": [
    {
     "name": "stdout",
     "output_type": "stream",
     "text": [
      "+-------+-----------+--------+----+----------+-----------------+\n",
      "|Outlook|Temperature|Humidity|Wind|PlayTennis|         features|\n",
      "+-------+-----------+--------+----+----------+-----------------+\n",
      "|      2|          1|       0|   1|         0|[2.0,1.0,0.0,1.0]|\n",
      "|      2|          1|       0|   0|         0|[2.0,1.0,0.0,0.0]|\n",
      "|      1|          0|       1|   1|         1|[1.0,0.0,1.0,1.0]|\n",
      "|      0|          0|       1|   0|         1|    (4,[2],[1.0])|\n",
      "|      2|          2|       0|   1|         0|[2.0,2.0,0.0,1.0]|\n",
      "|      1|          2|       1|   1|         1|[1.0,2.0,1.0,1.0]|\n",
      "|      2|          0|       1|   1|         1|[2.0,0.0,1.0,1.0]|\n",
      "|      2|          2|       1|   0|         1|[2.0,2.0,1.0,0.0]|\n",
      "|      1|          2|       0|   0|         0|[1.0,2.0,0.0,0.0]|\n",
      "+-------+-----------+--------+----+----------+-----------------+\n",
      "\n"
     ]
    }
   ],
   "source": [
    "(trainingData, testData) = assembler_df.randomSplit([0.7,0.3])\n",
    "trainingData.show()"
   ]
  },
  {
   "cell_type": "code",
   "execution_count": 21,
   "id": "3a4906fe",
   "metadata": {},
   "outputs": [
    {
     "name": "stdout",
     "output_type": "stream",
     "text": [
      "+-------+-----------+--------+----+----------+-----------------+\n",
      "|Outlook|Temperature|Humidity|Wind|PlayTennis|         features|\n",
      "+-------+-----------+--------+----+----------+-----------------+\n",
      "|      0|          1|       0|   1|         1|[0.0,1.0,0.0,1.0]|\n",
      "|      1|          2|       0|   1|         1|[1.0,2.0,0.0,1.0]|\n",
      "|      1|          0|       1|   0|         0|[1.0,0.0,1.0,0.0]|\n",
      "|      0|          2|       0|   0|         1|    (4,[1],[2.0])|\n",
      "|      0|          1|       1|   1|         1|[0.0,1.0,1.0,1.0]|\n",
      "+-------+-----------+--------+----+----------+-----------------+\n",
      "\n"
     ]
    }
   ],
   "source": [
    "testData.show()"
   ]
  },
  {
   "cell_type": "markdown",
   "id": "001cd818",
   "metadata": {},
   "source": [
    "종속 변수  = PlqyTennis\n",
    "\n",
    "독립 변수 = features"
   ]
  },
  {
   "cell_type": "markdown",
   "id": "9dbe600c",
   "metadata": {},
   "source": [
    "## Spark를 이용한 Decision Tree"
   ]
  },
  {
   "cell_type": "code",
   "execution_count": 22,
   "id": "055e7822",
   "metadata": {},
   "outputs": [],
   "source": [
    "from pyspark.ml.classification import DecisionTreeClassifier\n",
    "\n",
    "dt = DecisionTreeClassifier(featuresCol = 'features', labelCol = 'PlayTennis')"
   ]
  },
  {
   "cell_type": "code",
   "execution_count": 23,
   "id": "7bec91a7",
   "metadata": {},
   "outputs": [],
   "source": [
    "dt_model = dt.fit(trainingData)"
   ]
  },
  {
   "cell_type": "code",
   "execution_count": 24,
   "id": "7c492ca1",
   "metadata": {},
   "outputs": [],
   "source": [
    "# 모델 예측\n",
    "prediction = dt_model.transform(testData)"
   ]
  },
  {
   "cell_type": "code",
   "execution_count": 25,
   "id": "a2febbd5",
   "metadata": {},
   "outputs": [
    {
     "name": "stdout",
     "output_type": "stream",
     "text": [
      "+-------+-----------+--------+----+----------+-----------------+-------------+-----------+----------+\n",
      "|Outlook|Temperature|Humidity|Wind|PlayTennis|         features|rawPrediction|probability|prediction|\n",
      "+-------+-----------+--------+----+----------+-----------------+-------------+-----------+----------+\n",
      "|      0|          1|       0|   1|         1|[0.0,1.0,0.0,1.0]|    [4.0,0.0]|  [1.0,0.0]|       0.0|\n",
      "|      1|          2|       0|   1|         1|[1.0,2.0,0.0,1.0]|    [4.0,0.0]|  [1.0,0.0]|       0.0|\n",
      "|      1|          0|       1|   0|         0|[1.0,0.0,1.0,0.0]|    [0.0,5.0]|  [0.0,1.0]|       1.0|\n",
      "|      0|          2|       0|   0|         1|    (4,[1],[2.0])|    [4.0,0.0]|  [1.0,0.0]|       0.0|\n",
      "|      0|          1|       1|   1|         1|[0.0,1.0,1.0,1.0]|    [0.0,5.0]|  [0.0,1.0]|       1.0|\n",
      "+-------+-----------+--------+----+----------+-----------------+-------------+-----------+----------+\n",
      "\n"
     ]
    }
   ],
   "source": [
    "prediction.show()"
   ]
  },
  {
   "cell_type": "markdown",
   "id": "ded3b825",
   "metadata": {},
   "source": [
    "Decision Tree 정확도 계산하기"
   ]
  },
  {
   "cell_type": "code",
   "execution_count": 26,
   "id": "764c47ef",
   "metadata": {},
   "outputs": [
    {
     "data": {
      "text/plain": [
       "1"
      ]
     },
     "execution_count": 26,
     "metadata": {},
     "output_type": "execute_result"
    }
   ],
   "source": [
    "# playTennis 칼럼과 예측 값이 같은 행 조회\n",
    "right_pred = prediction.filter(prediction.PlayTennis == prediction.prediction)\n",
    "right_pred.count()"
   ]
  },
  {
   "cell_type": "code",
   "execution_count": 27,
   "id": "d797bd9b",
   "metadata": {},
   "outputs": [
    {
     "data": {
      "text/plain": [
       "0.2"
      ]
     },
     "execution_count": 27,
     "metadata": {},
     "output_type": "execute_result"
    }
   ],
   "source": [
    "right_pred.count()/prediction.count()"
   ]
  },
  {
   "cell_type": "code",
   "execution_count": null,
   "id": "5967e1af",
   "metadata": {},
   "outputs": [],
   "source": []
  }
 ],
 "metadata": {
  "kernelspec": {
   "display_name": "Python 3",
   "language": "python",
   "name": "python3"
  },
  "language_info": {
   "codemirror_mode": {
    "name": "ipython",
    "version": 3
   },
   "file_extension": ".py",
   "mimetype": "text/x-python",
   "name": "python",
   "nbconvert_exporter": "python",
   "pygments_lexer": "ipython3",
   "version": "3.6.13"
  }
 },
 "nbformat": 4,
 "nbformat_minor": 5
}
