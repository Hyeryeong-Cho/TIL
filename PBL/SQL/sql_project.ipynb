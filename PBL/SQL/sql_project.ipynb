{
 "cells": [
  {
   "cell_type": "code",
   "execution_count": 4,
   "metadata": {},
   "outputs": [],
   "source": [
    "# python과 mysql 연결하는 패키지 불러오기\n",
    "import pymysql"
   ]
  },
  {
   "cell_type": "code",
   "execution_count": 48,
   "metadata": {},
   "outputs": [],
   "source": [
    "# 각 테이블 출력하는 함수 \n",
    "# 테이블 별 함수\n",
    "\n",
    "def print_car_result(result): \n",
    "    print(\"\\n-----------------------------------------------------------\")\n",
    "    cnames = ['car_id', 'car_type', 'car_name']\n",
    "    for c in cnames:\n",
    "        print(c.center(11,' '), end='\\t')\n",
    "    print(\"\\n-----------------------------------------------------------\")\n",
    "    for r in result:\n",
    "        for c in cnames:\n",
    "            print(str(r[c]).center(11, ' '), end='\\t')\n",
    "        print()\n",
    "    print(\"\\n-----------------------------------------------------------\")\n",
    "\n",
    "def print_cus_info_result(result): \n",
    "    print(\"\\n-------------------------------------------------------------------\")\n",
    "    bnames = ['cus_id', 'cus_name', 'gender', 'age']\n",
    "    for c in bnames:\n",
    "        print(c.center(11,' '), end='\\t')\n",
    "    print(\"\\n-------------------------------------------------------------------\")\n",
    "    for r in result:\n",
    "        for c in bnames:\n",
    "            print(str(r[c]).center(11, ' '), end='\\t')\n",
    "        print()\n",
    "    print(\"\\n-------------------------------------------------------------------\")\n",
    "\n",
    "def print_price_result(result): \n",
    "    print(\"\\n-------------------------------------------------------------------\")\n",
    "    inames = ['car_id','price']\n",
    "    for c in inames:\n",
    "        print(c.center(11,' '), end='\\t')\n",
    "    print(\"\\n-------------------------------------------------------------------\")\n",
    "    for r in result:\n",
    "        for c in inames:\n",
    "            print(str(r[c]).center(11, ' '), end='\\t')\n",
    "        print()\n",
    "    print(\"\\n-------------------------------------------------------------------\")\n",
    "\n",
    "def print_reservation_result(result): \n",
    "    print(\"\\n----------------------------------------------------------------------------\")\n",
    "    inames = ['car_id','cus_id','from_time','to_time']\n",
    "    for c in inames:\n",
    "        print(c.center(11,' '), end='\\t')\n",
    "    print(\"\\n----------------------------------------------------------------------------\")\n",
    "    for r in result:\n",
    "        for c in inames:\n",
    "            print(str(r[c]).center(11, ' '), end='\\t')\n",
    "        print()\n",
    "    print(\"\\n----------------------------------------------------------------------------\")\n",
    "\n",
    "def print_timerate_result(result): \n",
    "    print(\"\\n-------------------------------------------------------------------\")\n",
    "    inames = ['range_time','lohour','hihour','rate']\n",
    "    for c in inames:\n",
    "        print(c.center(11,' '), end='\\t')\n",
    "    print(\"\\n-------------------------------------------------------------------\")\n",
    "    for r in result:\n",
    "        for c in inames:\n",
    "            print(str(r[c]).center(11, ' '), end='\\t')\n",
    "        print()\n",
    "    print(\"\\n-------------------------------------------------------------------\")"
   ]
  },
  {
   "cell_type": "code",
   "execution_count": 44,
   "metadata": {},
   "outputs": [],
   "source": [
    "# 테이블 확인하는 함수 view_table\n",
    "# 매개변수: 테이블 명\n",
    "def view_table(what):\n",
    "    try:\n",
    "        # sql에 db 연결\n",
    "        conn = pymysql.connect(host='localhost',user='root', password='root', db='sql_project', port=3306, charset='utf8')\n",
    "        cursor = conn.cursor(pymysql.cursors.DictCursor)\n",
    "        # 테이블에 접근하여 구문 실행하기\n",
    "        if what == 'car':\n",
    "            sql = 'select * from car'\n",
    "            cursor.execute(sql)\n",
    "            result = cursor.fetchall()\n",
    "            print_car_result(result)\n",
    "        elif what == 'cus_info':\n",
    "            sql = 'select * from cus_info'\n",
    "            cursor.execute(sql)\n",
    "            result = cursor.fetchall()\n",
    "            print_cus_info_result(result)\n",
    "        elif what == 'price':\n",
    "            sql = 'select * from price'\n",
    "            cursor.execute(sql)\n",
    "            result = cursor.fetchall()\n",
    "            print_price_result(result)\n",
    "        elif what == 'reservation':\n",
    "            sql = 'select * from reservation'\n",
    "            cursor.execute(sql)\n",
    "            result = cursor.fetchall()\n",
    "            print_reservation_result(result)\n",
    "        elif what == 'timerate':\n",
    "            sql = 'select * from timerate'\n",
    "            cursor.execute(sql)\n",
    "            result = cursor.fetchall()\n",
    "            print_timerate_result(result)\n",
    "    except: #예외 처리\n",
    "        print(what,'을 확인해주세요.')\n",
    "        conn.rollback()\n",
    "    else: # 실행하기\n",
    "        conn.commit()\n",
    "    finally: # 연결 종료\n",
    "        cursor.close()\n",
    "        conn.close()"
   ]
  },
  {
   "cell_type": "code",
   "execution_count": 74,
   "metadata": {},
   "outputs": [],
   "source": [
    "# 테이블d에 데이터 삽입하는 함수 insert\n",
    "# 매개변수: 테이블 명\n",
    "def insert(what):\n",
    "    try:\n",
    "        conn = pymysql.connect(host='localhost',user='root', password='root', db='sql_project', port=3306, charset='utf8')\n",
    "        cursor = conn.cursor(pymysql.cursors.DictCursor)\n",
    "        if what == 'car':\n",
    "            car_type = input(\"car type: \")\n",
    "            car_name = input(\"car name: \")\n",
    "            sql = \"INSERT INTO car VALUES(null,'{}','{}')\".format(car_type, car_name)\n",
    "        elif what == 'cus_info':\n",
    "            cus_name = input(\"cus name: \")\n",
    "            gender = input(\"gender: \")\n",
    "            age = input('age: ')\n",
    "            sql = \"INSERT INTO cus_info VALUES(null,'{}','{}','{}')\".format(cus_name,gender,age)\n",
    "        elif what == 'price':\n",
    "            car_id = input('car_id: ')\n",
    "            price = input(\"price: \")\n",
    "            sql = \"INSERT INTO price VALUES('{}','{}')\".format(car_id,price)\n",
    "        elif what == 'reservation':\n",
    "            car_id = input('car_id: ')\n",
    "            cus_id = input('cus_id: ')\n",
    "            from_time = input(\"from time: \")\n",
    "            to_time = input(\"to time: \")\n",
    "            sql = \"INSERT INTO reservation VALUES('{}','{}','{}','{}')\".format(car_id,cus_id,from_time, to_time)\n",
    "        elif what == 'timerate':\n",
    "            lohour = input(\"lohour: \")\n",
    "            hihour = input(\"hihour: \")\n",
    "            rate = input(\"rate: \")\n",
    "            sql = \"INSERT INTO timerate VALUES(null,'{}','{}','{}')\".format(lohour, hihour, rate)\n",
    "        cursor.execute(sql)\n",
    "    except:\n",
    "        print(what,'을 확인해주세요.')\n",
    "        conn.rollback()\n",
    "    else:\n",
    "        conn.commit()\n",
    "    finally:\n",
    "        cursor.close()\n",
    "        conn.close()\n",
    "    print(what,'에 데이터가 입력되었습니다.')"
   ]
  },
  {
   "cell_type": "code",
   "execution_count": 7,
   "metadata": {},
   "outputs": [],
   "source": [
    "# 테이블d에 데이터 삭제하는 함수 delete\n",
    "# 매개변수: 테이블 명\n",
    "def delete_data(what):\n",
    "    try:\n",
    "        if what=='car':\n",
    "            car_id = input(\"삭제할 데이터를 입력해주세요.: \")\n",
    "            sql = \"DELETE FROM car WHERE car_id = '{}'\".format(car_id)\n",
    "        if what=='cus_info':\n",
    "            car_id = input(\"삭제할 데이터를 입력해주세요.: \")\n",
    "            sql = \"DELETE FROM cus_info WHERE cus_id = '{}'\".format(car_id)\n",
    "        if what=='price':\n",
    "            car_id = input(\"삭제할 데이터를 입력해주세요.: \")\n",
    "            sql = \"DELETE FROM price WHERE car_id = '{}'\".format(car_id)\n",
    "        if what=='reservation':\n",
    "            car_id = input(\"삭제할 데이터를 입력해주세요.: \")\n",
    "            sql = \"DELETE FROM reservation WHERE car_id = '{}'\".format(car_id)\n",
    "        if what=='timerate':\n",
    "            car_id = input(\"삭제할 데이터를 입력해주세요.: \")\n",
    "            sql = \"DELETE FROM timerate WHERE range_time = '{}'\".format(car_id)\n",
    "        cursor.execute(sql)\n",
    "        conn.commit()\n",
    "        print(\"해당 데이터의 삭제가 완료되었습니다.\")\n",
    "        close()\n",
    "    except:\n",
    "        print(what,'을 확인해주세요.')"
   ]
  },
  {
   "cell_type": "code",
   "execution_count": 12,
   "metadata": {},
   "outputs": [
    {
     "name": "stdout",
     "output_type": "stream",
     "text": [
      "car type: 국산 소형\n",
      "car name: 모닝\n",
      "car 에 데이터가 입력되었습니다.\n"
     ]
    }
   ],
   "source": [
    "insert('car')"
   ]
  },
  {
   "cell_type": "code",
   "execution_count": 13,
   "metadata": {},
   "outputs": [
    {
     "name": "stdout",
     "output_type": "stream",
     "text": [
      "car type: 국산 소형\n",
      "car name: 엑센트\n",
      "car 에 데이터가 입력되었습니다.\n"
     ]
    }
   ],
   "source": [
    "insert('car')"
   ]
  },
  {
   "cell_type": "code",
   "execution_count": 14,
   "metadata": {},
   "outputs": [
    {
     "name": "stdout",
     "output_type": "stream",
     "text": [
      "car type: 국산 소형\n",
      "car name: 티볼리\n",
      "car 에 데이터가 입력되었습니다.\n"
     ]
    }
   ],
   "source": [
    "insert('car')"
   ]
  },
  {
   "cell_type": "code",
   "execution_count": 15,
   "metadata": {},
   "outputs": [
    {
     "name": "stdout",
     "output_type": "stream",
     "text": [
      "car type: 국산 중형\n",
      "car name: 소나타\n",
      "car 에 데이터가 입력되었습니다.\n"
     ]
    }
   ],
   "source": [
    "insert('car')"
   ]
  },
  {
   "cell_type": "code",
   "execution_count": 16,
   "metadata": {},
   "outputs": [
    {
     "name": "stdout",
     "output_type": "stream",
     "text": [
      "car type: 국산 중형\n",
      "car name: K5\n",
      "car 에 데이터가 입력되었습니다.\n"
     ]
    }
   ],
   "source": [
    "insert('car')"
   ]
  },
  {
   "cell_type": "code",
   "execution_count": 17,
   "metadata": {},
   "outputs": [
    {
     "name": "stdout",
     "output_type": "stream",
     "text": [
      "car type: 국산 중형\n",
      "car name: 말리부\n",
      "car 에 데이터가 입력되었습니다.\n"
     ]
    }
   ],
   "source": [
    "insert('car')"
   ]
  },
  {
   "cell_type": "code",
   "execution_count": 18,
   "metadata": {},
   "outputs": [
    {
     "name": "stdout",
     "output_type": "stream",
     "text": [
      "car type: 국산 중형\n",
      "car name: SM6\n",
      "car 에 데이터가 입력되었습니다.\n"
     ]
    }
   ],
   "source": [
    "insert('car')"
   ]
  },
  {
   "cell_type": "code",
   "execution_count": 19,
   "metadata": {},
   "outputs": [
    {
     "name": "stdout",
     "output_type": "stream",
     "text": [
      "car type: 국산 대형\n",
      "car name: 그랜저\n",
      "car 에 데이터가 입력되었습니다.\n"
     ]
    }
   ],
   "source": [
    "insert('car')"
   ]
  },
  {
   "cell_type": "code",
   "execution_count": 20,
   "metadata": {},
   "outputs": [
    {
     "name": "stdout",
     "output_type": "stream",
     "text": [
      "car type: 국산 대형\n",
      "car name: K7\n",
      "car 에 데이터가 입력되었습니다.\n"
     ]
    }
   ],
   "source": [
    "insert('car')"
   ]
  },
  {
   "cell_type": "code",
   "execution_count": 21,
   "metadata": {},
   "outputs": [
    {
     "name": "stdout",
     "output_type": "stream",
     "text": [
      "car type: 국산 대형\n",
      "car name: 제네시스 G80\n",
      "car 에 데이터가 입력되었습니다.\n"
     ]
    }
   ],
   "source": [
    "insert('car')"
   ]
  },
  {
   "cell_type": "code",
   "execution_count": 22,
   "metadata": {},
   "outputs": [
    {
     "name": "stdout",
     "output_type": "stream",
     "text": [
      "car type: 외제차\n",
      "car name: 벤츠\n",
      "car 에 데이터가 입력되었습니다.\n"
     ]
    }
   ],
   "source": [
    "insert('car')"
   ]
  },
  {
   "cell_type": "code",
   "execution_count": 23,
   "metadata": {},
   "outputs": [
    {
     "name": "stdout",
     "output_type": "stream",
     "text": [
      "car type: 외제차\n",
      "car name: 포르쉐\n",
      "car 에 데이터가 입력되었습니다.\n"
     ]
    }
   ],
   "source": [
    "insert('car')"
   ]
  },
  {
   "cell_type": "code",
   "execution_count": 24,
   "metadata": {},
   "outputs": [
    {
     "name": "stdout",
     "output_type": "stream",
     "text": [
      "car type: 외제차\n",
      "car name: 람보르기니\n",
      "car 에 데이터가 입력되었습니다.\n"
     ]
    }
   ],
   "source": [
    "insert('car')"
   ]
  },
  {
   "cell_type": "code",
   "execution_count": 31,
   "metadata": {},
   "outputs": [
    {
     "name": "stdout",
     "output_type": "stream",
     "text": [
      "cus name: 김태형\n",
      "gender: 남자\n",
      "age: 25\n",
      "cus_info 에 데이터가 입력되었습니다.\n"
     ]
    }
   ],
   "source": [
    "insert('cus_info')"
   ]
  },
  {
   "cell_type": "code",
   "execution_count": 32,
   "metadata": {},
   "outputs": [
    {
     "name": "stdout",
     "output_type": "stream",
     "text": [
      "cus name: 김정현\n",
      "gender: 남자\n",
      "age: 26\n",
      "cus_info 에 데이터가 입력되었습니다.\n"
     ]
    }
   ],
   "source": [
    "insert('cus_info')"
   ]
  },
  {
   "cell_type": "code",
   "execution_count": 33,
   "metadata": {},
   "outputs": [
    {
     "name": "stdout",
     "output_type": "stream",
     "text": [
      "cus name: 조혜령\n",
      "gender: 여자\n",
      "age: 26\n",
      "cus_info 에 데이터가 입력되었습니다.\n"
     ]
    }
   ],
   "source": [
    "insert('cus_info')"
   ]
  },
  {
   "cell_type": "code",
   "execution_count": 34,
   "metadata": {},
   "outputs": [
    {
     "name": "stdout",
     "output_type": "stream",
     "text": [
      "cus name: 황한희\n",
      "gender: 남자\n",
      "age: 25\n",
      "cus_info 에 데이터가 입력되었습니다.\n"
     ]
    }
   ],
   "source": [
    "insert('cus_info')"
   ]
  },
  {
   "cell_type": "code",
   "execution_count": 35,
   "metadata": {},
   "outputs": [
    {
     "name": "stdout",
     "output_type": "stream",
     "text": [
      "cus name: 배예진\n",
      "gender: 여자\n",
      "age: 26\n",
      "cus_info 에 데이터가 입력되었습니다.\n"
     ]
    }
   ],
   "source": [
    "insert('cus_info')"
   ]
  },
  {
   "cell_type": "code",
   "execution_count": 36,
   "metadata": {},
   "outputs": [
    {
     "name": "stdout",
     "output_type": "stream",
     "text": [
      "cus name: carami\n",
      "gender: 여자\n",
      "age: 28\n",
      "cus_info 에 데이터가 입력되었습니다.\n"
     ]
    }
   ],
   "source": [
    "insert('cus_info')"
   ]
  },
  {
   "cell_type": "code",
   "execution_count": 37,
   "metadata": {},
   "outputs": [
    {
     "name": "stdout",
     "output_type": "stream",
     "text": [
      "cus name: 김명환\n",
      "gender: 남자\n",
      "age: 56\n",
      "cus_info 에 데이터가 입력되었습니다.\n"
     ]
    }
   ],
   "source": [
    "insert('cus_info')"
   ]
  },
  {
   "cell_type": "code",
   "execution_count": 38,
   "metadata": {},
   "outputs": [
    {
     "name": "stdout",
     "output_type": "stream",
     "text": [
      "cus name: 문현규\n",
      "gender: 남자\n",
      "age: 56\n",
      "cus_info 에 데이터가 입력되었습니다.\n"
     ]
    }
   ],
   "source": [
    "insert('cus_info')"
   ]
  },
  {
   "cell_type": "code",
   "execution_count": 39,
   "metadata": {},
   "outputs": [
    {
     "name": "stdout",
     "output_type": "stream",
     "text": [
      "cus name: 임수영\n",
      "gender: 남자\n",
      "age: 31\n",
      "cus_info 에 데이터가 입력되었습니다.\n"
     ]
    }
   ],
   "source": [
    "insert('cus_info')"
   ]
  },
  {
   "cell_type": "code",
   "execution_count": 40,
   "metadata": {},
   "outputs": [
    {
     "name": "stdout",
     "output_type": "stream",
     "text": [
      "cus name: 권영준\n",
      "gender: 남자\n",
      "age: 31\n",
      "cus_info 에 데이터가 입력되었습니다.\n"
     ]
    }
   ],
   "source": [
    "insert('cus_info')"
   ]
  },
  {
   "cell_type": "code",
   "execution_count": 45,
   "metadata": {},
   "outputs": [],
   "source": [
    "conn = pymysql.connect(host='localhost',user='root', password='root', db='project', port=3306, charset='utf8')\n",
    "cursor = conn.cursor(pymysql.cursors.DictCursor)\n",
    "query='''ALTER TABLE price DROP COLUMN car_type'''\n",
    "cursor.execute(query)\n",
    "cursor.close()\n",
    "conn.close()"
   ]
  },
  {
   "cell_type": "code",
   "execution_count": 46,
   "metadata": {},
   "outputs": [
    {
     "name": "stdout",
     "output_type": "stream",
     "text": [
      "car_id: 1\n",
      "price: 35360\n",
      "price 에 데이터가 입력되었습니다.\n"
     ]
    }
   ],
   "source": [
    "insert('price')"
   ]
  },
  {
   "cell_type": "code",
   "execution_count": 47,
   "metadata": {},
   "outputs": [
    {
     "name": "stdout",
     "output_type": "stream",
     "text": [
      "car_id: 2\n",
      "price: 36750\n",
      "price 에 데이터가 입력되었습니다.\n"
     ]
    }
   ],
   "source": [
    "insert('price')"
   ]
  },
  {
   "cell_type": "code",
   "execution_count": 48,
   "metadata": {},
   "outputs": [
    {
     "name": "stdout",
     "output_type": "stream",
     "text": [
      "car_id: 3\n",
      "price: 48600\n",
      "price 에 데이터가 입력되었습니다.\n"
     ]
    }
   ],
   "source": [
    "insert('price')"
   ]
  },
  {
   "cell_type": "code",
   "execution_count": 49,
   "metadata": {},
   "outputs": [
    {
     "name": "stdout",
     "output_type": "stream",
     "text": [
      "car_id: 4\n",
      "price: 48120\n",
      "price 에 데이터가 입력되었습니다.\n"
     ]
    }
   ],
   "source": [
    "insert('price')"
   ]
  },
  {
   "cell_type": "code",
   "execution_count": 50,
   "metadata": {},
   "outputs": [
    {
     "name": "stdout",
     "output_type": "stream",
     "text": [
      "car_id: 5\n",
      "price: 48470\n",
      "price 에 데이터가 입력되었습니다.\n"
     ]
    }
   ],
   "source": [
    "insert('price')"
   ]
  },
  {
   "cell_type": "code",
   "execution_count": 51,
   "metadata": {},
   "outputs": [
    {
     "name": "stdout",
     "output_type": "stream",
     "text": [
      "car_id: 6\n",
      "price: 48470\n",
      "price 에 데이터가 입력되었습니다.\n"
     ]
    }
   ],
   "source": [
    "insert('price')"
   ]
  },
  {
   "cell_type": "code",
   "execution_count": 52,
   "metadata": {},
   "outputs": [
    {
     "name": "stdout",
     "output_type": "stream",
     "text": [
      "car_id: 7\n",
      "price: 48470\n",
      "price 에 데이터가 입력되었습니다.\n"
     ]
    }
   ],
   "source": [
    "insert('price')"
   ]
  },
  {
   "cell_type": "code",
   "execution_count": 53,
   "metadata": {},
   "outputs": [
    {
     "name": "stdout",
     "output_type": "stream",
     "text": [
      "car_id: 8\n",
      "price: 63210\n",
      "price 에 데이터가 입력되었습니다.\n"
     ]
    }
   ],
   "source": [
    "insert('price')"
   ]
  },
  {
   "cell_type": "code",
   "execution_count": 54,
   "metadata": {},
   "outputs": [
    {
     "name": "stdout",
     "output_type": "stream",
     "text": [
      "car_id: 9\n",
      "price: 63210\n",
      "price 에 데이터가 입력되었습니다.\n"
     ]
    }
   ],
   "source": [
    "insert('price')"
   ]
  },
  {
   "cell_type": "code",
   "execution_count": 55,
   "metadata": {},
   "outputs": [
    {
     "name": "stdout",
     "output_type": "stream",
     "text": [
      "car_id: 10\n",
      "price: 146890\n",
      "price 에 데이터가 입력되었습니다.\n"
     ]
    }
   ],
   "source": [
    "insert('price')"
   ]
  },
  {
   "cell_type": "code",
   "execution_count": 56,
   "metadata": {},
   "outputs": [
    {
     "name": "stdout",
     "output_type": "stream",
     "text": [
      "car_id: 11\n",
      "price: 91710\n",
      "price 에 데이터가 입력되었습니다.\n"
     ]
    }
   ],
   "source": [
    "insert('price')"
   ]
  },
  {
   "cell_type": "code",
   "execution_count": 57,
   "metadata": {},
   "outputs": [
    {
     "name": "stdout",
     "output_type": "stream",
     "text": [
      "car_id: 12\n",
      "price: 236120\n",
      "price 에 데이터가 입력되었습니다.\n"
     ]
    }
   ],
   "source": [
    "insert('price')"
   ]
  },
  {
   "cell_type": "code",
   "execution_count": 58,
   "metadata": {},
   "outputs": [
    {
     "name": "stdout",
     "output_type": "stream",
     "text": [
      "car_id: 13\n",
      "price: 317520\n",
      "price 에 데이터가 입력되었습니다.\n"
     ]
    }
   ],
   "source": [
    "insert('price')"
   ]
  },
  {
   "cell_type": "code",
   "execution_count": 61,
   "metadata": {},
   "outputs": [
    {
     "name": "stdout",
     "output_type": "stream",
     "text": [
      "car_id: 7\n",
      "cus_id: 1\n",
      "from time: 2021-04-12 16:00\n",
      "to time: 2021-04-13 00:00\n",
      "reservation 에 데이터가 입력되었습니다.\n"
     ]
    }
   ],
   "source": [
    "insert('reservation')"
   ]
  },
  {
   "cell_type": "code",
   "execution_count": 62,
   "metadata": {},
   "outputs": [
    {
     "name": "stdout",
     "output_type": "stream",
     "text": [
      "car_id: 4\n",
      "cus_id: 2\n",
      "from time: 2021-04-12 16:00\n",
      "to time: 2021-04-12 22:00\n",
      "reservation 에 데이터가 입력되었습니다.\n"
     ]
    }
   ],
   "source": [
    "insert('reservation')"
   ]
  },
  {
   "cell_type": "code",
   "execution_count": 64,
   "metadata": {},
   "outputs": [
    {
     "name": "stdout",
     "output_type": "stream",
     "text": [
      "car_id: 9\n",
      "cus_id: 3\n",
      "from time: 2021-04-12 16:00\n",
      "to time: 2021-04-13 08:00\n",
      "reservation 에 데이터가 입력되었습니다.\n"
     ]
    }
   ],
   "source": [
    "insert('reservation')"
   ]
  },
  {
   "cell_type": "code",
   "execution_count": 65,
   "metadata": {},
   "outputs": [
    {
     "name": "stdout",
     "output_type": "stream",
     "text": [
      "car_id: 11\n",
      "cus_id: 4\n",
      "from time: 2021-04-12 16:00\n",
      "to time: 2021-04-13 16:00\n",
      "reservation 에 데이터가 입력되었습니다.\n"
     ]
    }
   ],
   "source": [
    "insert('reservation')"
   ]
  },
  {
   "cell_type": "code",
   "execution_count": 66,
   "metadata": {},
   "outputs": [
    {
     "name": "stdout",
     "output_type": "stream",
     "text": [
      "car_id: 12\n",
      "cus_id: 5\n",
      "from time: 2021-04-13 08:00\n",
      "to time: 2021-04-13 10:00\n",
      "reservation 에 데이터가 입력되었습니다.\n"
     ]
    }
   ],
   "source": [
    "insert('reservation')"
   ]
  },
  {
   "cell_type": "code",
   "execution_count": 67,
   "metadata": {},
   "outputs": [
    {
     "name": "stdout",
     "output_type": "stream",
     "text": [
      "car_id: 12\n",
      "cus_id: 6\n",
      "from time: 2021-04-13 12:00\n",
      "to time: 2021-04-13 22:00\n",
      "reservation 에 데이터가 입력되었습니다.\n"
     ]
    }
   ],
   "source": [
    "insert('reservation')"
   ]
  },
  {
   "cell_type": "code",
   "execution_count": 68,
   "metadata": {},
   "outputs": [
    {
     "name": "stdout",
     "output_type": "stream",
     "text": [
      "car_id: 1\n",
      "cus_id: 7\n",
      "from time: 2021-04-13 12:00\n",
      "to time: 2021-04-13 20:00\n",
      "reservation 에 데이터가 입력되었습니다.\n"
     ]
    }
   ],
   "source": [
    "insert('reservation')"
   ]
  },
  {
   "cell_type": "code",
   "execution_count": 69,
   "metadata": {},
   "outputs": [
    {
     "name": "stdout",
     "output_type": "stream",
     "text": [
      "car_id: 10\n",
      "cus_id: 8\n",
      "from time: 2021-04-13 16:00\n",
      "to time: 2021-04-13 20:00\n",
      "reservation 에 데이터가 입력되었습니다.\n"
     ]
    }
   ],
   "source": [
    "insert('reservation')"
   ]
  },
  {
   "cell_type": "code",
   "execution_count": 71,
   "metadata": {},
   "outputs": [
    {
     "name": "stdout",
     "output_type": "stream",
     "text": [
      "car_id: 4\n",
      "cus_id: 9\n",
      "from time: 2021-04-13 13:00\n",
      "to time: 2021-04-13 17:00\n",
      "reservation 에 데이터가 입력되었습니다.\n"
     ]
    }
   ],
   "source": [
    "insert('reservation')"
   ]
  },
  {
   "cell_type": "code",
   "execution_count": 72,
   "metadata": {},
   "outputs": [
    {
     "name": "stdout",
     "output_type": "stream",
     "text": [
      "car_id: 6\n",
      "cus_id: 10\n",
      "from time: 2021-04-13 18:00\n",
      "to time: 2021-04-13 23:00\n",
      "reservation 에 데이터가 입력되었습니다.\n"
     ]
    }
   ],
   "source": [
    "insert('reservation')"
   ]
  },
  {
   "cell_type": "code",
   "execution_count": 76,
   "metadata": {},
   "outputs": [
    {
     "name": "stdout",
     "output_type": "stream",
     "text": [
      "lohour: 0\n",
      "hihour: 1\n",
      "rate: 5200\n",
      "timerate 에 데이터가 입력되었습니다.\n"
     ]
    }
   ],
   "source": [
    "insert('timerate')"
   ]
  },
  {
   "cell_type": "code",
   "execution_count": 77,
   "metadata": {},
   "outputs": [
    {
     "name": "stdout",
     "output_type": "stream",
     "text": [
      "lohour: 1\n",
      "hihour: 4\n",
      "rate: 5000\n",
      "timerate 에 데이터가 입력되었습니다.\n"
     ]
    }
   ],
   "source": [
    "insert('timerate')"
   ]
  },
  {
   "cell_type": "code",
   "execution_count": 78,
   "metadata": {},
   "outputs": [
    {
     "name": "stdout",
     "output_type": "stream",
     "text": [
      "lohour: 4\n",
      "hihour: 8\n",
      "rate: 4800\n",
      "timerate 에 데이터가 입력되었습니다.\n"
     ]
    }
   ],
   "source": [
    "insert('timerate')"
   ]
  },
  {
   "cell_type": "code",
   "execution_count": 79,
   "metadata": {},
   "outputs": [
    {
     "name": "stdout",
     "output_type": "stream",
     "text": [
      "lohour: 8\n",
      "hihour: 16\n",
      "rate: 4500\n",
      "timerate 에 데이터가 입력되었습니다.\n"
     ]
    }
   ],
   "source": [
    "insert('timerate')"
   ]
  },
  {
   "cell_type": "code",
   "execution_count": 80,
   "metadata": {},
   "outputs": [
    {
     "name": "stdout",
     "output_type": "stream",
     "text": [
      "lohour: 16\n",
      "hihour: 24\n",
      "rate: 4000\n",
      "timerate 에 데이터가 입력되었습니다.\n"
     ]
    }
   ],
   "source": [
    "insert('timerate')"
   ]
  },
  {
   "cell_type": "code",
   "execution_count": 49,
   "metadata": {},
   "outputs": [
    {
     "name": "stdout",
     "output_type": "stream",
     "text": [
      "\n",
      "-----------------------------------------------------------\n",
      "   car_id  \t  car_type \t  car_name \t\n",
      "-----------------------------------------------------------\n",
      "     1     \t   국산 소형   \t     모닝    \t\n",
      "     2     \t   국산 소형   \t    엑센트    \t\n",
      "     3     \t   국산 소형   \t    티볼리    \t\n",
      "     4     \t   국산 중형   \t    소나타    \t\n",
      "     5     \t   국산 중형   \t     K5    \t\n",
      "     6     \t   국산 중형   \t    말리부    \t\n",
      "     7     \t   국산 중형   \t    SM6    \t\n",
      "     8     \t   국산 대형   \t    그랜저    \t\n",
      "     9     \t   국산 대형   \t     K7    \t\n",
      "     10    \t   국산 대형   \t  제네시스 G80 \t\n",
      "     11    \t    외제차    \t     벤츠    \t\n",
      "     12    \t    외제차    \t    포르쉐    \t\n",
      "     13    \t    외제차    \t   람보르기니   \t\n",
      "\n",
      "-----------------------------------------------------------\n"
     ]
    }
   ],
   "source": [
    "view_table('car')"
   ]
  },
  {
   "cell_type": "code",
   "execution_count": 51,
   "metadata": {
    "scrolled": true
   },
   "outputs": [
    {
     "name": "stdout",
     "output_type": "stream",
     "text": [
      "\n",
      "-------------------------------------------------------------------\n",
      "   car_id  \t   price   \t\n",
      "-------------------------------------------------------------------\n",
      "     1     \t   35360   \t\n",
      "     2     \t   36750   \t\n",
      "     3     \t   48600   \t\n",
      "     4     \t   48120   \t\n",
      "     5     \t   48470   \t\n",
      "     6     \t   48470   \t\n",
      "     7     \t   48470   \t\n",
      "     8     \t   63210   \t\n",
      "     9     \t   63210   \t\n",
      "     10    \t   146890  \t\n",
      "     11    \t   91710   \t\n",
      "     12    \t   236120  \t\n",
      "     13    \t   317520  \t\n",
      "\n",
      "-------------------------------------------------------------------\n"
     ]
    }
   ],
   "source": [
    "view_table('price')"
   ]
  },
  {
   "cell_type": "code",
   "execution_count": 52,
   "metadata": {},
   "outputs": [
    {
     "name": "stdout",
     "output_type": "stream",
     "text": [
      "\n",
      "----------------------------------------------------------------------------\n",
      "   car_id  \t   cus_id  \t from_time \t  to_time  \t\n",
      "----------------------------------------------------------------------------\n",
      "     7     \t     1     \t2021-04-12 16:00:00\t2021-04-13 00:00:00\t\n",
      "     4     \t     2     \t2021-04-12 16:00:00\t2021-04-12 22:00:00\t\n",
      "     9     \t     3     \t2021-04-12 16:00:00\t2021-04-13 08:00:00\t\n",
      "     11    \t     4     \t2021-04-12 16:00:00\t2021-04-13 16:00:00\t\n",
      "     12    \t     5     \t2021-04-13 08:00:00\t2021-04-13 10:00:00\t\n",
      "     12    \t     6     \t2021-04-13 12:00:00\t2021-04-13 22:00:00\t\n",
      "     1     \t     7     \t2021-04-13 12:00:00\t2021-04-13 20:00:00\t\n",
      "     10    \t     8     \t2021-04-13 16:00:00\t2021-04-13 20:00:00\t\n",
      "     4     \t     9     \t2021-04-13 13:00:00\t2021-04-13 17:00:00\t\n",
      "     6     \t     10    \t2021-04-13 18:00:00\t2021-04-13 23:00:00\t\n",
      "\n",
      "----------------------------------------------------------------------------\n"
     ]
    }
   ],
   "source": [
    "view_table('reservation')"
   ]
  }
 ],
 "metadata": {
  "kernelspec": {
   "display_name": "Python 3",
   "language": "python",
   "name": "python3"
  },
  "language_info": {
   "codemirror_mode": {
    "name": "ipython",
    "version": 3
   },
   "file_extension": ".py",
   "mimetype": "text/x-python",
   "name": "python",
   "nbconvert_exporter": "python",
   "pygments_lexer": "ipython3",
   "version": "3.8.5"
  }
 },
 "nbformat": 4,
 "nbformat_minor": 4
}
