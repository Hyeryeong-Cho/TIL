{
 "cells": [
  {
   "cell_type": "markdown",
   "metadata": {},
   "source": [
    "### 딥-러닝 과정 Mulit Layer Perceptron(MLP) "
   ]
  },
  {
   "cell_type": "markdown",
   "metadata": {},
   "source": [
    "## Keras 모델 생성/학습 - 당뇨병 예측 모델"
   ]
  },
  {
   "cell_type": "code",
   "execution_count": 1,
   "metadata": {},
   "outputs": [],
   "source": [
    "# 1. Pandas 가져오기\n",
    "import pandas as pd\n",
    "import numpy as np"
   ]
  },
  {
   "cell_type": "code",
   "execution_count": 2,
   "metadata": {},
   "outputs": [],
   "source": [
    "# 2. 데이터 불러오기\n",
    "data = pd.read_csv('diabetes_data.csv')"
   ]
  },
  {
   "cell_type": "code",
   "execution_count": 3,
   "metadata": {
    "scrolled": true
   },
   "outputs": [
    {
     "data": {
      "text/html": [
       "<div>\n",
       "<style scoped>\n",
       "    .dataframe tbody tr th:only-of-type {\n",
       "        vertical-align: middle;\n",
       "    }\n",
       "\n",
       "    .dataframe tbody tr th {\n",
       "        vertical-align: top;\n",
       "    }\n",
       "\n",
       "    .dataframe thead th {\n",
       "        text-align: right;\n",
       "    }\n",
       "</style>\n",
       "<table border=\"1\" class=\"dataframe\">\n",
       "  <thead>\n",
       "    <tr style=\"text-align: right;\">\n",
       "      <th></th>\n",
       "      <th>pregnant</th>\n",
       "      <th>gloucose</th>\n",
       "      <th>blood pressure</th>\n",
       "      <th>skin thickness</th>\n",
       "      <th>insulin</th>\n",
       "      <th>BMI</th>\n",
       "      <th>DPF</th>\n",
       "      <th>age</th>\n",
       "      <th>result</th>\n",
       "    </tr>\n",
       "  </thead>\n",
       "  <tbody>\n",
       "    <tr>\n",
       "      <th>0</th>\n",
       "      <td>6</td>\n",
       "      <td>148</td>\n",
       "      <td>72</td>\n",
       "      <td>35</td>\n",
       "      <td>0</td>\n",
       "      <td>33.6</td>\n",
       "      <td>0.627</td>\n",
       "      <td>50</td>\n",
       "      <td>1</td>\n",
       "    </tr>\n",
       "    <tr>\n",
       "      <th>1</th>\n",
       "      <td>1</td>\n",
       "      <td>85</td>\n",
       "      <td>66</td>\n",
       "      <td>29</td>\n",
       "      <td>0</td>\n",
       "      <td>26.6</td>\n",
       "      <td>0.351</td>\n",
       "      <td>31</td>\n",
       "      <td>0</td>\n",
       "    </tr>\n",
       "    <tr>\n",
       "      <th>2</th>\n",
       "      <td>8</td>\n",
       "      <td>183</td>\n",
       "      <td>64</td>\n",
       "      <td>0</td>\n",
       "      <td>0</td>\n",
       "      <td>23.3</td>\n",
       "      <td>0.672</td>\n",
       "      <td>32</td>\n",
       "      <td>1</td>\n",
       "    </tr>\n",
       "    <tr>\n",
       "      <th>3</th>\n",
       "      <td>1</td>\n",
       "      <td>89</td>\n",
       "      <td>66</td>\n",
       "      <td>23</td>\n",
       "      <td>94</td>\n",
       "      <td>28.1</td>\n",
       "      <td>0.167</td>\n",
       "      <td>21</td>\n",
       "      <td>0</td>\n",
       "    </tr>\n",
       "    <tr>\n",
       "      <th>4</th>\n",
       "      <td>0</td>\n",
       "      <td>137</td>\n",
       "      <td>40</td>\n",
       "      <td>35</td>\n",
       "      <td>168</td>\n",
       "      <td>43.1</td>\n",
       "      <td>2.288</td>\n",
       "      <td>33</td>\n",
       "      <td>1</td>\n",
       "    </tr>\n",
       "  </tbody>\n",
       "</table>\n",
       "</div>"
      ],
      "text/plain": [
       "   pregnant  gloucose  blood pressure  skin thickness  insulin   BMI    DPF  \\\n",
       "0         6       148              72              35        0  33.6  0.627   \n",
       "1         1        85              66              29        0  26.6  0.351   \n",
       "2         8       183              64               0        0  23.3  0.672   \n",
       "3         1        89              66              23       94  28.1  0.167   \n",
       "4         0       137              40              35      168  43.1  2.288   \n",
       "\n",
       "   age  result  \n",
       "0   50       1  \n",
       "1   31       0  \n",
       "2   32       1  \n",
       "3   21       0  \n",
       "4   33       1  "
      ]
     },
     "execution_count": 3,
     "metadata": {},
     "output_type": "execute_result"
    }
   ],
   "source": [
    "data.head()"
   ]
  },
  {
   "cell_type": "code",
   "execution_count": 4,
   "metadata": {
    "scrolled": true
   },
   "outputs": [
    {
     "name": "stdout",
     "output_type": "stream",
     "text": [
      "<class 'pandas.core.frame.DataFrame'>\n",
      "RangeIndex: 768 entries, 0 to 767\n",
      "Data columns (total 9 columns):\n",
      " #   Column          Non-Null Count  Dtype  \n",
      "---  ------          --------------  -----  \n",
      " 0   pregnant        768 non-null    int64  \n",
      " 1   gloucose        768 non-null    int64  \n",
      " 2   blood pressure  768 non-null    int64  \n",
      " 3   skin thickness  768 non-null    int64  \n",
      " 4   insulin         768 non-null    int64  \n",
      " 5   BMI             768 non-null    float64\n",
      " 6   DPF             768 non-null    float64\n",
      " 7   age             768 non-null    int64  \n",
      " 8   result          768 non-null    int64  \n",
      "dtypes: float64(2), int64(7)\n",
      "memory usage: 54.1 KB\n"
     ]
    }
   ],
   "source": [
    "data.info()"
   ]
  },
  {
   "cell_type": "code",
   "execution_count": 5,
   "metadata": {},
   "outputs": [],
   "source": [
    "# 3. X/y 나누기\n",
    "X = data.copy().drop(['result'], axis = 1)\n",
    "y = data.copy()['result']"
   ]
  },
  {
   "cell_type": "code",
   "execution_count": 6,
   "metadata": {},
   "outputs": [
    {
     "name": "stdout",
     "output_type": "stream",
     "text": [
      "X: (614, 8) (154, 8)\n",
      "y: (614,) (154,)\n"
     ]
    }
   ],
   "source": [
    "# 4. Train set, Test set 나누기\n",
    "from sklearn.model_selection import train_test_split\n",
    "\n",
    "X_train, X_test, y_train, y_test = train_test_split(X, y, test_size = 0.2, random_state = 1234)\n",
    "\n",
    "print('X:', X_train.shape, X_test.shape)\n",
    "print('y:', y_train.shape, y_test.shape)"
   ]
  },
  {
   "cell_type": "markdown",
   "metadata": {},
   "source": [
    "## 전처리 후 모델링 해보기\n",
    "# EDA\n",
    "\n",
    "\n",
    "* pregnant : 임신횟수\n",
    "* glucose : 포도당 부하 검사 수치\n",
    "* bloodpressure : 혈압\n",
    "* Skinthickness : 팔 삼두근 뒤쪽의 피하지방 측정값\n",
    "* insulin : 혈청 인슐린\n",
    "* BMI : 체질량 지수\n",
    "* DPF(DiabetesPedigreeFunction) : 당뇨 내력 가중치 값\n",
    "* age : 나이\n",
    "* result : 당뇨여부(0 또는 1)"
   ]
  },
  {
   "cell_type": "code",
   "execution_count": 7,
   "metadata": {},
   "outputs": [
    {
     "data": {
      "text/html": [
       "<div>\n",
       "<style scoped>\n",
       "    .dataframe tbody tr th:only-of-type {\n",
       "        vertical-align: middle;\n",
       "    }\n",
       "\n",
       "    .dataframe tbody tr th {\n",
       "        vertical-align: top;\n",
       "    }\n",
       "\n",
       "    .dataframe thead th {\n",
       "        text-align: right;\n",
       "    }\n",
       "</style>\n",
       "<table border=\"1\" class=\"dataframe\">\n",
       "  <thead>\n",
       "    <tr style=\"text-align: right;\">\n",
       "      <th></th>\n",
       "      <th>pregnant</th>\n",
       "      <th>gloucose</th>\n",
       "      <th>blood pressure</th>\n",
       "      <th>skin thickness</th>\n",
       "      <th>insulin</th>\n",
       "      <th>BMI</th>\n",
       "      <th>DPF</th>\n",
       "      <th>age</th>\n",
       "      <th>result</th>\n",
       "    </tr>\n",
       "  </thead>\n",
       "  <tbody>\n",
       "    <tr>\n",
       "      <th>count</th>\n",
       "      <td>768.000000</td>\n",
       "      <td>768.000000</td>\n",
       "      <td>768.000000</td>\n",
       "      <td>768.000000</td>\n",
       "      <td>768.000000</td>\n",
       "      <td>768.000000</td>\n",
       "      <td>768.000000</td>\n",
       "      <td>768.000000</td>\n",
       "      <td>768.000000</td>\n",
       "    </tr>\n",
       "    <tr>\n",
       "      <th>mean</th>\n",
       "      <td>3.845052</td>\n",
       "      <td>120.894531</td>\n",
       "      <td>69.105469</td>\n",
       "      <td>20.536458</td>\n",
       "      <td>79.799479</td>\n",
       "      <td>31.992578</td>\n",
       "      <td>0.471876</td>\n",
       "      <td>33.240885</td>\n",
       "      <td>0.348958</td>\n",
       "    </tr>\n",
       "    <tr>\n",
       "      <th>std</th>\n",
       "      <td>3.369578</td>\n",
       "      <td>31.972618</td>\n",
       "      <td>19.355807</td>\n",
       "      <td>15.952218</td>\n",
       "      <td>115.244002</td>\n",
       "      <td>7.884160</td>\n",
       "      <td>0.331329</td>\n",
       "      <td>11.760232</td>\n",
       "      <td>0.476951</td>\n",
       "    </tr>\n",
       "    <tr>\n",
       "      <th>min</th>\n",
       "      <td>0.000000</td>\n",
       "      <td>0.000000</td>\n",
       "      <td>0.000000</td>\n",
       "      <td>0.000000</td>\n",
       "      <td>0.000000</td>\n",
       "      <td>0.000000</td>\n",
       "      <td>0.078000</td>\n",
       "      <td>21.000000</td>\n",
       "      <td>0.000000</td>\n",
       "    </tr>\n",
       "    <tr>\n",
       "      <th>25%</th>\n",
       "      <td>1.000000</td>\n",
       "      <td>99.000000</td>\n",
       "      <td>62.000000</td>\n",
       "      <td>0.000000</td>\n",
       "      <td>0.000000</td>\n",
       "      <td>27.300000</td>\n",
       "      <td>0.243750</td>\n",
       "      <td>24.000000</td>\n",
       "      <td>0.000000</td>\n",
       "    </tr>\n",
       "    <tr>\n",
       "      <th>50%</th>\n",
       "      <td>3.000000</td>\n",
       "      <td>117.000000</td>\n",
       "      <td>72.000000</td>\n",
       "      <td>23.000000</td>\n",
       "      <td>30.500000</td>\n",
       "      <td>32.000000</td>\n",
       "      <td>0.372500</td>\n",
       "      <td>29.000000</td>\n",
       "      <td>0.000000</td>\n",
       "    </tr>\n",
       "    <tr>\n",
       "      <th>75%</th>\n",
       "      <td>6.000000</td>\n",
       "      <td>140.250000</td>\n",
       "      <td>80.000000</td>\n",
       "      <td>32.000000</td>\n",
       "      <td>127.250000</td>\n",
       "      <td>36.600000</td>\n",
       "      <td>0.626250</td>\n",
       "      <td>41.000000</td>\n",
       "      <td>1.000000</td>\n",
       "    </tr>\n",
       "    <tr>\n",
       "      <th>max</th>\n",
       "      <td>17.000000</td>\n",
       "      <td>199.000000</td>\n",
       "      <td>122.000000</td>\n",
       "      <td>99.000000</td>\n",
       "      <td>846.000000</td>\n",
       "      <td>67.100000</td>\n",
       "      <td>2.420000</td>\n",
       "      <td>81.000000</td>\n",
       "      <td>1.000000</td>\n",
       "    </tr>\n",
       "  </tbody>\n",
       "</table>\n",
       "</div>"
      ],
      "text/plain": [
       "         pregnant    gloucose  blood pressure  skin thickness     insulin  \\\n",
       "count  768.000000  768.000000      768.000000      768.000000  768.000000   \n",
       "mean     3.845052  120.894531       69.105469       20.536458   79.799479   \n",
       "std      3.369578   31.972618       19.355807       15.952218  115.244002   \n",
       "min      0.000000    0.000000        0.000000        0.000000    0.000000   \n",
       "25%      1.000000   99.000000       62.000000        0.000000    0.000000   \n",
       "50%      3.000000  117.000000       72.000000       23.000000   30.500000   \n",
       "75%      6.000000  140.250000       80.000000       32.000000  127.250000   \n",
       "max     17.000000  199.000000      122.000000       99.000000  846.000000   \n",
       "\n",
       "              BMI         DPF         age      result  \n",
       "count  768.000000  768.000000  768.000000  768.000000  \n",
       "mean    31.992578    0.471876   33.240885    0.348958  \n",
       "std      7.884160    0.331329   11.760232    0.476951  \n",
       "min      0.000000    0.078000   21.000000    0.000000  \n",
       "25%     27.300000    0.243750   24.000000    0.000000  \n",
       "50%     32.000000    0.372500   29.000000    0.000000  \n",
       "75%     36.600000    0.626250   41.000000    1.000000  \n",
       "max     67.100000    2.420000   81.000000    1.000000  "
      ]
     },
     "execution_count": 7,
     "metadata": {},
     "output_type": "execute_result"
    }
   ],
   "source": [
    "data.describe(include = 'all')"
   ]
  },
  {
   "cell_type": "markdown",
   "metadata": {},
   "source": [
    "gloucose, blood pressure, skin thickness,insulin,BMI은 0이 나올 수 없는 값이므로(gloucose의 정상 수치는 65~99 mg/dL)  \n",
    "0이 나온 것은 결측치인지 확인하여 대체(평균 or 중앙값)"
   ]
  },
  {
   "cell_type": "code",
   "execution_count": 8,
   "metadata": {
    "scrolled": false
   },
   "outputs": [
    {
     "data": {
      "image/png": "[encoded data removed]",
      "text/plain": [
       "<Figure size 432x288 with 1 Axes>"
      ]
     },
     "metadata": {
      "needs_background": "light"
     },
     "output_type": "display_data"
    },
    {
     "data": {
      "text/plain": [
       "<AxesSubplot:ylabel='Density'>"
      ]
     },
     "execution_count": 8,
     "metadata": {},
     "output_type": "execute_result"
    },
    {
     "data": {
      "image/png": "[encoded data removed]",
      "text/plain": [
       "<Figure size 432x288 with 1 Axes>"
      ]
     },
     "metadata": {
      "needs_background": "light"
     },
     "output_type": "display_data"
    }
   ],
   "source": [
    "import seaborn as sns\n",
    "import matplotlib.pyplot as plt\n",
    "\n",
    "sns.kdeplot(data = data[['gloucose','blood pressure','skin thickness','BMI']])\n",
    "plt.show()\n",
    "sns.kdeplot(data = data[['insulin']])"
   ]
  },
  {
   "cell_type": "markdown",
   "metadata": {},
   "source": [
    "### 결측치 대체하기"
   ]
  },
  {
   "cell_type": "code",
   "execution_count": 11,
   "metadata": {},
   "outputs": [],
   "source": [
    "col = ['gloucose', 'blood pressure','skin thickness','insulin','BMI']\n",
    "\n",
    "def imput_mean(df, col):\n",
    "    df.loc[(df[col] == 0), col] = df.loc[df[col] != 0, col ].mean()"
   ]
  },
  {
   "cell_type": "code",
   "execution_count": 12,
   "metadata": {
    "scrolled": false
   },
   "outputs": [
    {
     "name": "stderr",
     "output_type": "stream",
     "text": [
      "/anaconda/envs/py38_tensorflow/lib/python3.8/site-packages/pandas/core/indexing.py:1720: SettingWithCopyWarning: \n",
      "A value is trying to be set on a copy of a slice from a DataFrame.\n",
      "Try using .loc[row_indexer,col_indexer] = value instead\n",
      "\n",
      "See the caveats in the documentation: https://pandas.pydata.org/pandas-docs/stable/user_guide/indexing.html#returning-a-view-versus-a-copy\n",
      "  self._setitem_single_column(loc, value, pi)\n",
      "/anaconda/envs/py38_tensorflow/lib/python3.8/site-packages/pandas/core/indexing.py:1720: SettingWithCopyWarning: \n",
      "A value is trying to be set on a copy of a slice from a DataFrame.\n",
      "Try using .loc[row_indexer,col_indexer] = value instead\n",
      "\n",
      "See the caveats in the documentation: https://pandas.pydata.org/pandas-docs/stable/user_guide/indexing.html#returning-a-view-versus-a-copy\n",
      "  self._setitem_single_column(loc, value, pi)\n",
      "/anaconda/envs/py38_tensorflow/lib/python3.8/site-packages/pandas/core/indexing.py:1720: SettingWithCopyWarning: \n",
      "A value is trying to be set on a copy of a slice from a DataFrame.\n",
      "Try using .loc[row_indexer,col_indexer] = value instead\n",
      "\n",
      "See the caveats in the documentation: https://pandas.pydata.org/pandas-docs/stable/user_guide/indexing.html#returning-a-view-versus-a-copy\n",
      "  self._setitem_single_column(loc, value, pi)\n",
      "/anaconda/envs/py38_tensorflow/lib/python3.8/site-packages/pandas/core/indexing.py:1720: SettingWithCopyWarning: \n",
      "A value is trying to be set on a copy of a slice from a DataFrame.\n",
      "Try using .loc[row_indexer,col_indexer] = value instead\n",
      "\n",
      "See the caveats in the documentation: https://pandas.pydata.org/pandas-docs/stable/user_guide/indexing.html#returning-a-view-versus-a-copy\n",
      "  self._setitem_single_column(loc, value, pi)\n",
      "/anaconda/envs/py38_tensorflow/lib/python3.8/site-packages/pandas/core/indexing.py:1720: SettingWithCopyWarning: \n",
      "A value is trying to be set on a copy of a slice from a DataFrame.\n",
      "Try using .loc[row_indexer,col_indexer] = value instead\n",
      "\n",
      "See the caveats in the documentation: https://pandas.pydata.org/pandas-docs/stable/user_guide/indexing.html#returning-a-view-versus-a-copy\n",
      "  self._setitem_single_column(loc, value, pi)\n"
     ]
    }
   ],
   "source": [
    "for i in col:\n",
    "    imput_mean(X_train, i)"
   ]
  },
  {
   "cell_type": "code",
   "execution_count": 13,
   "metadata": {
    "scrolled": true
   },
   "outputs": [
    {
     "data": {
      "text/plain": [
       "<AxesSubplot:ylabel='Density'>"
      ]
     },
     "execution_count": 13,
     "metadata": {},
     "output_type": "execute_result"
    },
    {
     "data": {
      "image/png": "[encoded data removed]",
      "text/plain": [
       "<Figure size 432x288 with 1 Axes>"
      ]
     },
     "metadata": {
      "needs_background": "light"
     },
     "output_type": "display_data"
    }
   ],
   "source": [
    "sns.kdeplot(data = X_train)"
   ]
  },
  {
   "cell_type": "code",
   "execution_count": 14,
   "metadata": {},
   "outputs": [],
   "source": [
    "# 5. Keras 패키지 가져오기\n",
    "from tensorflow import keras\n",
    "from tensorflow.keras import layers\n",
    "from tensorflow.keras.layers import Dense, Activation"
   ]
  },
  {
   "cell_type": "code",
   "execution_count": 15,
   "metadata": {},
   "outputs": [],
   "source": [
    "# 6. MLP 모델 생성\n",
    "model = keras.Sequential()"
   ]
  },
  {
   "cell_type": "code",
   "execution_count": 16,
   "metadata": {},
   "outputs": [],
   "source": [
    "# network 생성\n",
    "model.add(Dense(input_dim = 8, units = 64, activation = 'relu'))\n",
    "model.add(Dense(units = 64, activation = 'relu'))\n",
    "model.add(Dense(units = 1, activation = 'sigmoid'))"
   ]
  },
  {
   "cell_type": "code",
   "execution_count": 17,
   "metadata": {},
   "outputs": [],
   "source": [
    "# 7. Compile - Optimizer, Loss function 설정\n",
    "#adam = keras.optimizers.Adam(lr = 0.1)\n",
    "model.compile(loss = 'binary_crossentropy', optimizer = 'adam')"
   ]
  },
  {
   "cell_type": "code",
   "execution_count": 18,
   "metadata": {},
   "outputs": [
    {
     "name": "stdout",
     "output_type": "stream",
     "text": [
      "Epoch 1/100\n",
      "39/39 [==============================] - 1s 1ms/step - loss: 4.2133\n",
      "Epoch 2/100\n",
      "39/39 [==============================] - 0s 1ms/step - loss: 0.9165\n",
      "Epoch 3/100\n",
      "39/39 [==============================] - 0s 989us/step - loss: 0.6842\n",
      "Epoch 4/100\n",
      "39/39 [==============================] - 0s 970us/step - loss: 0.6869\n",
      "Epoch 5/100\n",
      "39/39 [==============================] - 0s 1ms/step - loss: 0.6748\n",
      "Epoch 6/100\n",
      "39/39 [==============================] - 0s 1ms/step - loss: 0.6014\n",
      "Epoch 7/100\n",
      "39/39 [==============================] - 0s 1ms/step - loss: 0.5780\n",
      "Epoch 8/100\n",
      "39/39 [==============================] - 0s 1ms/step - loss: 0.5599\n",
      "Epoch 9/100\n",
      "39/39 [==============================] - 0s 1000us/step - loss: 0.6459\n",
      "Epoch 10/100\n",
      "39/39 [==============================] - 0s 1ms/step - loss: 0.6498\n",
      "Epoch 11/100\n",
      "39/39 [==============================] - 0s 979us/step - loss: 0.6589\n",
      "Epoch 12/100\n",
      "39/39 [==============================] - 0s 1ms/step - loss: 0.5333\n",
      "Epoch 13/100\n",
      "39/39 [==============================] - 0s 1ms/step - loss: 0.6132\n",
      "Epoch 14/100\n",
      "39/39 [==============================] - 0s 947us/step - loss: 0.6002\n",
      "Epoch 15/100\n",
      "39/39 [==============================] - 0s 986us/step - loss: 0.6097\n",
      "Epoch 16/100\n",
      "39/39 [==============================] - 0s 1ms/step - loss: 0.6328\n",
      "Epoch 17/100\n",
      "39/39 [==============================] - 0s 1ms/step - loss: 0.5502\n",
      "Epoch 18/100\n",
      "39/39 [==============================] - 0s 1ms/step - loss: 0.5994\n",
      "Epoch 19/100\n",
      "39/39 [==============================] - 0s 1ms/step - loss: 0.5833\n",
      "Epoch 20/100\n",
      "39/39 [==============================] - 0s 1ms/step - loss: 0.5665\n",
      "Epoch 21/100\n",
      "39/39 [==============================] - 0s 1ms/step - loss: 0.5543\n",
      "Epoch 22/100\n",
      "39/39 [==============================] - 0s 1ms/step - loss: 0.7163\n",
      "Epoch 23/100\n",
      "39/39 [==============================] - 0s 999us/step - loss: 0.6167\n",
      "Epoch 24/100\n",
      "39/39 [==============================] - 0s 954us/step - loss: 0.6147\n",
      "Epoch 25/100\n",
      "39/39 [==============================] - 0s 967us/step - loss: 0.5974\n",
      "Epoch 26/100\n",
      "39/39 [==============================] - 0s 954us/step - loss: 0.5512\n",
      "Epoch 27/100\n",
      "39/39 [==============================] - ETA: 0s - loss: 0.578 - 0s 1ms/step - loss: 0.6016\n",
      "Epoch 28/100\n",
      "39/39 [==============================] - 0s 1ms/step - loss: 0.6881\n",
      "Epoch 29/100\n",
      "39/39 [==============================] - 0s 1ms/step - loss: 0.5576\n",
      "Epoch 30/100\n",
      "39/39 [==============================] - 0s 1ms/step - loss: 0.5397\n",
      "Epoch 31/100\n",
      "39/39 [==============================] - 0s 1ms/step - loss: 0.5783\n",
      "Epoch 32/100\n",
      "39/39 [==============================] - 0s 1ms/step - loss: 0.5787\n",
      "Epoch 33/100\n",
      "39/39 [==============================] - 0s 1000us/step - loss: 0.5413\n",
      "Epoch 34/100\n",
      "39/39 [==============================] - 0s 1ms/step - loss: 0.6346\n",
      "Epoch 35/100\n",
      "39/39 [==============================] - 0s 974us/step - loss: 0.4915\n",
      "Epoch 36/100\n",
      "39/39 [==============================] - 0s 984us/step - loss: 0.5398\n",
      "Epoch 37/100\n",
      "39/39 [==============================] - 0s 973us/step - loss: 0.5685\n",
      "Epoch 38/100\n",
      "39/39 [==============================] - 0s 1ms/step - loss: 0.5340\n",
      "Epoch 39/100\n",
      "39/39 [==============================] - 0s 1ms/step - loss: 0.5201\n",
      "Epoch 40/100\n",
      "39/39 [==============================] - 0s 947us/step - loss: 0.5293\n",
      "Epoch 41/100\n",
      "39/39 [==============================] - 0s 918us/step - loss: 0.5277\n",
      "Epoch 42/100\n",
      "39/39 [==============================] - 0s 961us/step - loss: 0.5649\n",
      "Epoch 43/100\n",
      "39/39 [==============================] - 0s 1ms/step - loss: 0.5315\n",
      "Epoch 44/100\n",
      "39/39 [==============================] - 0s 1ms/step - loss: 0.5329\n",
      "Epoch 45/100\n",
      "39/39 [==============================] - 0s 1ms/step - loss: 0.7182\n",
      "Epoch 46/100\n",
      "39/39 [==============================] - 0s 952us/step - loss: 0.5468\n",
      "Epoch 47/100\n",
      "39/39 [==============================] - 0s 1ms/step - loss: 0.5336\n",
      "Epoch 48/100\n",
      "39/39 [==============================] - 0s 980us/step - loss: 0.5353\n",
      "Epoch 49/100\n",
      "39/39 [==============================] - 0s 971us/step - loss: 0.5752\n",
      "Epoch 50/100\n",
      "39/39 [==============================] - 0s 976us/step - loss: 0.5836\n",
      "Epoch 51/100\n",
      "39/39 [==============================] - 0s 952us/step - loss: 0.5299\n",
      "Epoch 52/100\n",
      "39/39 [==============================] - 0s 955us/step - loss: 0.5176\n",
      "Epoch 53/100\n",
      "39/39 [==============================] - 0s 984us/step - loss: 0.5849\n",
      "Epoch 54/100\n",
      "39/39 [==============================] - 0s 1ms/step - loss: 0.6714\n",
      "Epoch 55/100\n",
      "39/39 [==============================] - 0s 1ms/step - loss: 0.4834\n",
      "Epoch 56/100\n",
      "39/39 [==============================] - 0s 1ms/step - loss: 0.5256\n",
      "Epoch 57/100\n",
      "39/39 [==============================] - 0s 1ms/step - loss: 0.4872\n",
      "Epoch 58/100\n",
      "39/39 [==============================] - 0s 974us/step - loss: 0.4995\n",
      "Epoch 59/100\n",
      "39/39 [==============================] - 0s 993us/step - loss: 0.5350\n",
      "Epoch 60/100\n",
      "39/39 [==============================] - 0s 1ms/step - loss: 0.5302\n",
      "Epoch 61/100\n",
      "39/39 [==============================] - 0s 961us/step - loss: 0.5090\n",
      "Epoch 62/100\n",
      "39/39 [==============================] - 0s 994us/step - loss: 0.5261\n",
      "Epoch 63/100\n",
      "39/39 [==============================] - 0s 1ms/step - loss: 0.4901\n",
      "Epoch 64/100\n",
      "39/39 [==============================] - 0s 980us/step - loss: 0.5706\n",
      "Epoch 65/100\n",
      "39/39 [==============================] - 0s 988us/step - loss: 0.5123\n",
      "Epoch 66/100\n",
      "39/39 [==============================] - 0s 975us/step - loss: 0.4890\n",
      "Epoch 67/100\n",
      "39/39 [==============================] - 0s 942us/step - loss: 0.4624\n",
      "Epoch 68/100\n",
      "39/39 [==============================] - 0s 972us/step - loss: 0.5193\n",
      "Epoch 69/100\n",
      "39/39 [==============================] - 0s 1ms/step - loss: 0.5263\n",
      "Epoch 70/100\n",
      "39/39 [==============================] - 0s 974us/step - loss: 0.4613\n",
      "Epoch 71/100\n",
      "39/39 [==============================] - 0s 977us/step - loss: 0.4929\n",
      "Epoch 72/100\n",
      "39/39 [==============================] - 0s 963us/step - loss: 0.5183\n",
      "Epoch 73/100\n",
      "39/39 [==============================] - 0s 976us/step - loss: 0.5447\n",
      "Epoch 74/100\n",
      "39/39 [==============================] - 0s 970us/step - loss: 0.5358\n",
      "Epoch 75/100\n",
      "39/39 [==============================] - 0s 984us/step - loss: 0.4976\n",
      "Epoch 76/100\n",
      "39/39 [==============================] - 0s 951us/step - loss: 0.5323\n",
      "Epoch 77/100\n",
      "39/39 [==============================] - 0s 998us/step - loss: 0.4980\n",
      "Epoch 78/100\n",
      "39/39 [==============================] - 0s 986us/step - loss: 0.5776\n",
      "Epoch 79/100\n",
      "39/39 [==============================] - 0s 966us/step - loss: 0.4721\n",
      "Epoch 80/100\n",
      "39/39 [==============================] - 0s 1ms/step - loss: 0.4981\n",
      "Epoch 81/100\n",
      "39/39 [==============================] - 0s 983us/step - loss: 0.5765\n",
      "Epoch 82/100\n",
      "39/39 [==============================] - 0s 999us/step - loss: 0.4630\n",
      "Epoch 83/100\n",
      "39/39 [==============================] - 0s 1ms/step - loss: 0.5174\n",
      "Epoch 84/100\n",
      "39/39 [==============================] - 0s 1ms/step - loss: 0.5030\n",
      "Epoch 85/100\n",
      "39/39 [==============================] - 0s 1ms/step - loss: 0.4455\n",
      "Epoch 86/100\n",
      "39/39 [==============================] - 0s 1ms/step - loss: 0.5150\n",
      "Epoch 87/100\n",
      "39/39 [==============================] - 0s 1ms/step - loss: 0.5010\n",
      "Epoch 88/100\n",
      "39/39 [==============================] - 0s 1ms/step - loss: 0.4654\n",
      "Epoch 89/100\n",
      "39/39 [==============================] - 0s 1ms/step - loss: 0.5103\n",
      "Epoch 90/100\n",
      "39/39 [==============================] - 0s 1ms/step - loss: 0.5600\n",
      "Epoch 91/100\n",
      "39/39 [==============================] - 0s 1ms/step - loss: 0.4741\n",
      "Epoch 92/100\n",
      "39/39 [==============================] - 0s 1ms/step - loss: 0.4832\n",
      "Epoch 93/100\n",
      "39/39 [==============================] - 0s 1ms/step - loss: 0.5264\n",
      "Epoch 94/100\n",
      "39/39 [==============================] - 0s 1ms/step - loss: 0.4811\n",
      "Epoch 95/100\n",
      "39/39 [==============================] - 0s 1ms/step - loss: 0.5366\n",
      "Epoch 96/100\n",
      "39/39 [==============================] - 0s 1ms/step - loss: 0.4401\n",
      "Epoch 97/100\n",
      "39/39 [==============================] - 0s 1ms/step - loss: 0.4848\n",
      "Epoch 98/100\n",
      "39/39 [==============================] - 0s 1ms/step - loss: 0.4835\n",
      "Epoch 99/100\n",
      "39/39 [==============================] - 0s 1ms/step - loss: 0.4868\n",
      "Epoch 100/100\n",
      "39/39 [==============================] - 0s 1ms/step - loss: 0.4560\n"
     ]
    },
    {
     "data": {
      "text/plain": [
       "<tensorflow.python.keras.callbacks.History at 0x7f19b59bd460>"
      ]
     },
     "execution_count": 18,
     "metadata": {},
     "output_type": "execute_result"
    }
   ],
   "source": [
    "# 8. 학습시키기\n",
    "model.fit(X_train, y_train,\n",
    "         batch_size = 16,\n",
    "         epochs = 100)"
   ]
  },
  {
   "cell_type": "code",
   "execution_count": 19,
   "metadata": {},
   "outputs": [
    {
     "name": "stdout",
     "output_type": "stream",
     "text": [
      "[[1]\n",
      " [1]\n",
      " [0]\n",
      " [1]\n",
      " [0]\n",
      " [1]\n",
      " [0]\n",
      " [0]\n",
      " [0]\n",
      " [0]\n",
      " [0]\n",
      " [0]\n",
      " [0]\n",
      " [0]\n",
      " [0]\n",
      " [0]\n",
      " [1]\n",
      " [0]\n",
      " [0]\n",
      " [0]\n",
      " [1]\n",
      " [1]\n",
      " [0]\n",
      " [0]\n",
      " [0]\n",
      " [0]\n",
      " [0]\n",
      " [0]\n",
      " [1]\n",
      " [0]\n",
      " [0]\n",
      " [0]\n",
      " [0]\n",
      " [1]\n",
      " [1]\n",
      " [0]\n",
      " [0]\n",
      " [0]\n",
      " [0]\n",
      " [0]\n",
      " [0]\n",
      " [1]\n",
      " [1]\n",
      " [0]\n",
      " [1]\n",
      " [0]\n",
      " [0]\n",
      " [0]\n",
      " [0]\n",
      " [0]\n",
      " [1]\n",
      " [1]\n",
      " [1]\n",
      " [1]\n",
      " [0]\n",
      " [0]\n",
      " [0]\n",
      " [0]\n",
      " [1]\n",
      " [1]\n",
      " [0]\n",
      " [0]\n",
      " [0]\n",
      " [0]\n",
      " [0]\n",
      " [0]\n",
      " [0]\n",
      " [0]\n",
      " [0]\n",
      " [1]\n",
      " [0]\n",
      " [1]\n",
      " [0]\n",
      " [0]\n",
      " [1]\n",
      " [0]\n",
      " [0]\n",
      " [0]\n",
      " [0]\n",
      " [0]\n",
      " [0]\n",
      " [1]\n",
      " [0]\n",
      " [1]\n",
      " [0]\n",
      " [0]\n",
      " [0]\n",
      " [0]\n",
      " [0]\n",
      " [0]\n",
      " [1]\n",
      " [0]\n",
      " [0]\n",
      " [1]\n",
      " [0]\n",
      " [0]\n",
      " [0]\n",
      " [0]\n",
      " [0]\n",
      " [1]\n",
      " [0]\n",
      " [0]\n",
      " [0]\n",
      " [0]\n",
      " [0]\n",
      " [0]\n",
      " [1]\n",
      " [1]\n",
      " [0]\n",
      " [0]\n",
      " [1]\n",
      " [0]\n",
      " [0]\n",
      " [0]\n",
      " [0]\n",
      " [0]\n",
      " [0]\n",
      " [1]\n",
      " [0]\n",
      " [1]\n",
      " [0]\n",
      " [0]\n",
      " [1]\n",
      " [0]\n",
      " [0]\n",
      " [1]\n",
      " [1]\n",
      " [1]\n",
      " [0]\n",
      " [0]\n",
      " [0]\n",
      " [0]\n",
      " [0]\n",
      " [0]\n",
      " [0]\n",
      " [0]\n",
      " [0]\n",
      " [0]\n",
      " [0]\n",
      " [0]\n",
      " [1]\n",
      " [0]\n",
      " [0]\n",
      " [0]\n",
      " [0]\n",
      " [0]\n",
      " [1]\n",
      " [1]\n",
      " [1]\n",
      " [0]\n",
      " [1]\n",
      " [0]\n",
      " [1]\n",
      " [1]]\n"
     ]
    },
    {
     "name": "stderr",
     "output_type": "stream",
     "text": [
      "/anaconda/envs/py38_tensorflow/lib/python3.8/site-packages/tensorflow/python/keras/engine/sequential.py:450: UserWarning: `model.predict_classes()` is deprecated and will be removed after 2021-01-01. Please use instead:* `np.argmax(model.predict(x), axis=-1)`,   if your model does multi-class classification   (e.g. if it uses a `softmax` last-layer activation).* `(model.predict(x) > 0.5).astype(\"int32\")`,   if your model does binary classification   (e.g. if it uses a `sigmoid` last-layer activation).\n",
      "  warnings.warn('`model.predict_classes()` is deprecated and '\n"
     ]
    }
   ],
   "source": [
    "# 9. 모델 평가하기\n",
    "predict = model.predict_classes(X_test)\n",
    "print(predict)"
   ]
  },
  {
   "cell_type": "code",
   "execution_count": 20,
   "metadata": {},
   "outputs": [
    {
     "data": {
      "text/plain": [
       "array([104])"
      ]
     },
     "execution_count": 20,
     "metadata": {},
     "output_type": "execute_result"
    }
   ],
   "source": [
    "sum(pre == y for pre, y in zip(predict, y_test))\n"
   ]
  },
  {
   "cell_type": "code",
   "execution_count": 21,
   "metadata": {},
   "outputs": [
    {
     "data": {
      "text/plain": [
       "0.6753246753246753"
      ]
     },
     "execution_count": 21,
     "metadata": {},
     "output_type": "execute_result"
    }
   ],
   "source": [
    "# 10. 학습 시각화하기\n",
    "acc = sum(pre == y for pre, y in zip(predict, y_test))/len(y_test)\n",
    "acc[0]"
   ]
  },
  {
   "cell_type": "code",
   "execution_count": 22,
   "metadata": {},
   "outputs": [
    {
     "name": "stdout",
     "output_type": "stream",
     "text": [
      "Model: \"sequential_1\"\n",
      "_________________________________________________________________\n",
      "Layer (type)                 Output Shape              Param #   \n",
      "=================================================================\n",
      "dense_3 (Dense)              (None, 64)                576       \n",
      "_________________________________________________________________\n",
      "dense_4 (Dense)              (None, 128)               8320      \n",
      "_________________________________________________________________\n",
      "dense_5 (Dense)              (None, 64)                8256      \n",
      "_________________________________________________________________\n",
      "dense_6 (Dense)              (None, 1)                 65        \n",
      "=================================================================\n",
      "Total params: 17,217\n",
      "Trainable params: 17,217\n",
      "Non-trainable params: 0\n",
      "_________________________________________________________________\n"
     ]
    }
   ],
   "source": [
    "model1 = keras.Sequential()\n",
    "\n",
    "model1.add(Dense(input_dim = X_train.shape[1], units = 64, activation = 'relu'))\n",
    "model1.add(Dense(units = 128, activation = 'relu'))\n",
    "model1.add(Dense(units = 64, activation = 'relu'))\n",
    "model1.add(Dense(units = 1, activation = 'sigmoid'))\n",
    "\n",
    "model1.summary()\n"
   ]
  },
  {
   "cell_type": "code",
   "execution_count": 23,
   "metadata": {},
   "outputs": [],
   "source": [
    "model1.compile(loss = 'binary_crossentropy',\n",
    "              optimizer = 'adam',\n",
    "               metrics = ['accuracy'])"
   ]
  },
  {
   "cell_type": "code",
   "execution_count": 24,
   "metadata": {
    "scrolled": true
   },
   "outputs": [
    {
     "name": "stdout",
     "output_type": "stream",
     "text": [
      "Epoch 1/100\n",
      "39/39 [==============================] - 1s 1ms/step - loss: 1.8570 - accuracy: 0.6000\n",
      "Epoch 2/100\n",
      "39/39 [==============================] - 0s 1ms/step - loss: 0.9912 - accuracy: 0.5781\n",
      "Epoch 3/100\n",
      "39/39 [==============================] - 0s 1ms/step - loss: 0.6896 - accuracy: 0.6389\n",
      "Epoch 4/100\n",
      "39/39 [==============================] - 0s 1ms/step - loss: 0.5989 - accuracy: 0.6891\n",
      "Epoch 5/100\n",
      "39/39 [==============================] - 0s 1ms/step - loss: 0.6729 - accuracy: 0.6617\n",
      "Epoch 6/100\n",
      "39/39 [==============================] - 0s 1ms/step - loss: 0.8591 - accuracy: 0.6310\n",
      "Epoch 7/100\n",
      "39/39 [==============================] - 0s 1ms/step - loss: 0.7148 - accuracy: 0.6389\n",
      "Epoch 8/100\n",
      "39/39 [==============================] - 0s 1ms/step - loss: 0.8213 - accuracy: 0.6482\n",
      "Epoch 9/100\n",
      "39/39 [==============================] - 0s 1ms/step - loss: 0.5974 - accuracy: 0.6837\n",
      "Epoch 10/100\n",
      "39/39 [==============================] - 0s 1ms/step - loss: 0.6775 - accuracy: 0.6587\n",
      "Epoch 11/100\n",
      "39/39 [==============================] - 0s 1ms/step - loss: 0.5968 - accuracy: 0.7016\n",
      "Epoch 12/100\n",
      "39/39 [==============================] - 0s 1ms/step - loss: 0.5504 - accuracy: 0.7129\n",
      "Epoch 13/100\n",
      "39/39 [==============================] - 0s 1ms/step - loss: 0.5510 - accuracy: 0.7175\n",
      "Epoch 14/100\n",
      "39/39 [==============================] - 0s 1ms/step - loss: 0.6568 - accuracy: 0.6684\n",
      "Epoch 15/100\n",
      "39/39 [==============================] - 0s 1ms/step - loss: 0.5863 - accuracy: 0.7197\n",
      "Epoch 16/100\n",
      "39/39 [==============================] - 0s 1ms/step - loss: 0.5708 - accuracy: 0.7134\n",
      "Epoch 17/100\n",
      "39/39 [==============================] - 0s 1ms/step - loss: 0.5542 - accuracy: 0.7216\n",
      "Epoch 18/100\n",
      "39/39 [==============================] - 0s 1ms/step - loss: 0.6003 - accuracy: 0.7088\n",
      "Epoch 19/100\n",
      "39/39 [==============================] - 0s 1ms/step - loss: 0.6221 - accuracy: 0.6894\n",
      "Epoch 20/100\n",
      "39/39 [==============================] - 0s 1ms/step - loss: 0.5952 - accuracy: 0.7096\n",
      "Epoch 21/100\n",
      "39/39 [==============================] - 0s 1ms/step - loss: 0.5695 - accuracy: 0.7243\n",
      "Epoch 22/100\n",
      "39/39 [==============================] - 0s 1ms/step - loss: 0.5929 - accuracy: 0.6941\n",
      "Epoch 23/100\n",
      "39/39 [==============================] - 0s 1ms/step - loss: 0.5799 - accuracy: 0.6926\n",
      "Epoch 24/100\n",
      "39/39 [==============================] - 0s 1ms/step - loss: 0.5446 - accuracy: 0.7215\n",
      "Epoch 25/100\n",
      "39/39 [==============================] - 0s 1ms/step - loss: 0.5250 - accuracy: 0.7437\n",
      "Epoch 26/100\n",
      "39/39 [==============================] - 0s 1ms/step - loss: 0.6109 - accuracy: 0.7032\n",
      "Epoch 27/100\n",
      "39/39 [==============================] - 0s 1ms/step - loss: 0.6080 - accuracy: 0.7247\n",
      "Epoch 28/100\n",
      "39/39 [==============================] - 0s 1ms/step - loss: 0.5759 - accuracy: 0.6919\n",
      "Epoch 29/100\n",
      "39/39 [==============================] - 0s 1ms/step - loss: 0.5794 - accuracy: 0.6882\n",
      "Epoch 30/100\n",
      "39/39 [==============================] - 0s 1ms/step - loss: 0.5267 - accuracy: 0.7455\n",
      "Epoch 31/100\n",
      "39/39 [==============================] - 0s 1ms/step - loss: 0.5273 - accuracy: 0.7303\n",
      "Epoch 32/100\n",
      "39/39 [==============================] - 0s 1ms/step - loss: 0.5319 - accuracy: 0.7469\n",
      "Epoch 33/100\n",
      "39/39 [==============================] - 0s 1ms/step - loss: 0.6244 - accuracy: 0.7348\n",
      "Epoch 34/100\n",
      "39/39 [==============================] - 0s 1ms/step - loss: 0.5565 - accuracy: 0.6999\n",
      "Epoch 35/100\n",
      "39/39 [==============================] - 0s 1ms/step - loss: 0.5301 - accuracy: 0.7382\n",
      "Epoch 36/100\n",
      "39/39 [==============================] - 0s 1ms/step - loss: 0.5079 - accuracy: 0.7331\n",
      "Epoch 37/100\n",
      "39/39 [==============================] - 0s 1ms/step - loss: 0.5660 - accuracy: 0.6689\n",
      "Epoch 38/100\n",
      "39/39 [==============================] - 0s 1ms/step - loss: 0.4957 - accuracy: 0.7559\n",
      "Epoch 39/100\n",
      "39/39 [==============================] - 0s 1ms/step - loss: 0.5978 - accuracy: 0.7071\n",
      "Epoch 40/100\n",
      "39/39 [==============================] - 0s 1ms/step - loss: 0.4902 - accuracy: 0.7757\n",
      "Epoch 41/100\n",
      "39/39 [==============================] - 0s 1ms/step - loss: 0.4883 - accuracy: 0.7674\n",
      "Epoch 42/100\n",
      "39/39 [==============================] - 0s 1ms/step - loss: 0.5914 - accuracy: 0.7032\n",
      "Epoch 43/100\n",
      "39/39 [==============================] - 0s 1ms/step - loss: 0.4609 - accuracy: 0.7689\n",
      "Epoch 44/100\n",
      "39/39 [==============================] - 0s 1ms/step - loss: 0.5200 - accuracy: 0.7395\n",
      "Epoch 45/100\n",
      "39/39 [==============================] - 0s 1ms/step - loss: 0.4640 - accuracy: 0.8044\n",
      "Epoch 46/100\n",
      "39/39 [==============================] - 0s 1ms/step - loss: 0.4669 - accuracy: 0.7864\n",
      "Epoch 47/100\n",
      "39/39 [==============================] - 0s 1ms/step - loss: 0.4939 - accuracy: 0.7374\n",
      "Epoch 48/100\n",
      "39/39 [==============================] - 0s 1ms/step - loss: 0.5095 - accuracy: 0.7624\n",
      "Epoch 49/100\n",
      "39/39 [==============================] - 0s 1ms/step - loss: 0.5076 - accuracy: 0.7400\n",
      "Epoch 50/100\n",
      "39/39 [==============================] - 0s 1ms/step - loss: 0.5306 - accuracy: 0.7361\n",
      "Epoch 51/100\n",
      "39/39 [==============================] - 0s 1ms/step - loss: 0.4824 - accuracy: 0.7564\n",
      "Epoch 52/100\n",
      "39/39 [==============================] - 0s 1ms/step - loss: 0.4932 - accuracy: 0.7433\n",
      "Epoch 53/100\n",
      "39/39 [==============================] - 0s 1ms/step - loss: 0.4823 - accuracy: 0.7681\n",
      "Epoch 54/100\n",
      "39/39 [==============================] - 0s 1ms/step - loss: 0.4832 - accuracy: 0.7422\n",
      "Epoch 55/100\n",
      "39/39 [==============================] - 0s 1ms/step - loss: 0.4730 - accuracy: 0.7914\n",
      "Epoch 56/100\n",
      "39/39 [==============================] - 0s 1ms/step - loss: 0.5041 - accuracy: 0.7299\n",
      "Epoch 57/100\n",
      "39/39 [==============================] - 0s 1ms/step - loss: 0.4847 - accuracy: 0.7776\n",
      "Epoch 58/100\n",
      "39/39 [==============================] - 0s 1ms/step - loss: 0.4492 - accuracy: 0.7881\n",
      "Epoch 59/100\n",
      "39/39 [==============================] - 0s 1ms/step - loss: 0.4963 - accuracy: 0.7778\n",
      "Epoch 60/100\n",
      "39/39 [==============================] - 0s 1ms/step - loss: 0.4462 - accuracy: 0.7810\n",
      "Epoch 61/100\n",
      "39/39 [==============================] - 0s 1ms/step - loss: 0.4629 - accuracy: 0.7561\n",
      "Epoch 62/100\n",
      "39/39 [==============================] - 0s 1ms/step - loss: 0.4817 - accuracy: 0.7374\n",
      "Epoch 63/100\n",
      "39/39 [==============================] - 0s 1ms/step - loss: 0.4388 - accuracy: 0.7850\n",
      "Epoch 64/100\n",
      "39/39 [==============================] - 0s 1ms/step - loss: 0.5264 - accuracy: 0.7137\n",
      "Epoch 65/100\n",
      "39/39 [==============================] - 0s 1ms/step - loss: 0.4933 - accuracy: 0.7656\n",
      "Epoch 66/100\n",
      "39/39 [==============================] - 0s 1ms/step - loss: 0.4803 - accuracy: 0.7779\n",
      "Epoch 67/100\n",
      "39/39 [==============================] - 0s 1ms/step - loss: 0.4679 - accuracy: 0.7847\n",
      "Epoch 68/100\n",
      "39/39 [==============================] - 0s 1ms/step - loss: 0.4291 - accuracy: 0.7903\n",
      "Epoch 69/100\n",
      "39/39 [==============================] - 0s 1ms/step - loss: 0.4742 - accuracy: 0.7571\n",
      "Epoch 70/100\n",
      "39/39 [==============================] - 0s 1ms/step - loss: 0.4329 - accuracy: 0.8166\n",
      "Epoch 71/100\n",
      "39/39 [==============================] - 0s 1ms/step - loss: 0.4794 - accuracy: 0.7570\n",
      "Epoch 72/100\n",
      "39/39 [==============================] - 0s 1ms/step - loss: 0.4519 - accuracy: 0.7486\n",
      "Epoch 73/100\n",
      "39/39 [==============================] - 0s 1ms/step - loss: 0.4213 - accuracy: 0.7907\n",
      "Epoch 74/100\n",
      "39/39 [==============================] - 0s 1ms/step - loss: 0.4754 - accuracy: 0.7565\n",
      "Epoch 75/100\n",
      "39/39 [==============================] - 0s 1ms/step - loss: 0.4464 - accuracy: 0.7760\n",
      "Epoch 76/100\n",
      "39/39 [==============================] - 0s 1ms/step - loss: 0.4030 - accuracy: 0.8009\n",
      "Epoch 77/100\n",
      "39/39 [==============================] - 0s 1ms/step - loss: 0.4581 - accuracy: 0.7699\n",
      "Epoch 78/100\n",
      "39/39 [==============================] - 0s 1ms/step - loss: 0.4073 - accuracy: 0.7967\n",
      "Epoch 79/100\n",
      "39/39 [==============================] - 0s 1ms/step - loss: 0.4309 - accuracy: 0.7936\n",
      "Epoch 80/100\n",
      "39/39 [==============================] - 0s 1ms/step - loss: 0.4468 - accuracy: 0.7837\n",
      "Epoch 81/100\n",
      "39/39 [==============================] - 0s 1ms/step - loss: 0.4114 - accuracy: 0.8229\n",
      "Epoch 82/100\n",
      "39/39 [==============================] - 0s 1ms/step - loss: 0.4043 - accuracy: 0.8197\n",
      "Epoch 83/100\n"
     ]
    },
    {
     "name": "stdout",
     "output_type": "stream",
     "text": [
      "39/39 [==============================] - 0s 1ms/step - loss: 0.4174 - accuracy: 0.8008\n",
      "Epoch 84/100\n",
      "39/39 [==============================] - 0s 1ms/step - loss: 0.4240 - accuracy: 0.7583\n",
      "Epoch 85/100\n",
      "39/39 [==============================] - 0s 1ms/step - loss: 0.4098 - accuracy: 0.7918\n",
      "Epoch 86/100\n",
      "39/39 [==============================] - 0s 1ms/step - loss: 0.4468 - accuracy: 0.7871\n",
      "Epoch 87/100\n",
      "39/39 [==============================] - 0s 1ms/step - loss: 0.4343 - accuracy: 0.8009\n",
      "Epoch 88/100\n",
      "39/39 [==============================] - 0s 1ms/step - loss: 0.4350 - accuracy: 0.7830\n",
      "Epoch 89/100\n",
      "39/39 [==============================] - 0s 1ms/step - loss: 0.4373 - accuracy: 0.7909\n",
      "Epoch 90/100\n",
      "39/39 [==============================] - 0s 1ms/step - loss: 0.4286 - accuracy: 0.7879\n",
      "Epoch 91/100\n",
      "39/39 [==============================] - 0s 1ms/step - loss: 0.4088 - accuracy: 0.8277\n",
      "Epoch 92/100\n",
      "39/39 [==============================] - 0s 1ms/step - loss: 0.4130 - accuracy: 0.7919\n",
      "Epoch 93/100\n",
      "39/39 [==============================] - 0s 1ms/step - loss: 0.4010 - accuracy: 0.8124\n",
      "Epoch 94/100\n",
      "39/39 [==============================] - 0s 1ms/step - loss: 0.4210 - accuracy: 0.8007\n",
      "Epoch 95/100\n",
      "39/39 [==============================] - 0s 1ms/step - loss: 0.3918 - accuracy: 0.8028\n",
      "Epoch 96/100\n",
      "39/39 [==============================] - 0s 1ms/step - loss: 0.3724 - accuracy: 0.8313\n",
      "Epoch 97/100\n",
      "39/39 [==============================] - 0s 1ms/step - loss: 0.4235 - accuracy: 0.7759\n",
      "Epoch 98/100\n",
      "39/39 [==============================] - 0s 1ms/step - loss: 0.3335 - accuracy: 0.8547\n",
      "Epoch 99/100\n",
      "39/39 [==============================] - 0s 1ms/step - loss: 0.3799 - accuracy: 0.8453\n",
      "Epoch 100/100\n",
      "39/39 [==============================] - 0s 1ms/step - loss: 0.3987 - accuracy: 0.8091\n"
     ]
    },
    {
     "data": {
      "text/plain": [
       "<tensorflow.python.keras.callbacks.History at 0x7f19b01bcaf0>"
      ]
     },
     "execution_count": 24,
     "metadata": {},
     "output_type": "execute_result"
    }
   ],
   "source": [
    "# 모델 학습하기\n",
    "batch_size = 16\n",
    "epochs = 100\n",
    "\n",
    "# model1.fit(X_train, y_train,\n",
    "#            batch_size = batch_size,\n",
    "#            epochs = epochs,\n",
    "#            verbose = 1)\n",
    "\n",
    "\n",
    "model1.fit(X_train, y_train,\n",
    "         batch_size = batch_size,\n",
    "         epochs = epochs,\n",
    "         verbose = 1)"
   ]
  },
  {
   "cell_type": "code",
   "execution_count": 25,
   "metadata": {},
   "outputs": [
    {
     "name": "stdout",
     "output_type": "stream",
     "text": [
      "38.375\n"
     ]
    }
   ],
   "source": [
    "print(X_train.shape[0]/batch_size)"
   ]
  },
  {
   "cell_type": "code",
   "execution_count": 26,
   "metadata": {},
   "outputs": [
    {
     "name": "stdout",
     "output_type": "stream",
     "text": [
      "X: (614, 8) (77, 8) (77, 8)\n",
      "y: (614,) (77,) (77,)\n"
     ]
    }
   ],
   "source": [
    "# 4. Train set, Test set 나누기\n",
    "from sklearn.model_selection import train_test_split\n",
    "\n",
    "X_train, X_test, y_train, y_test = train_test_split(X, y, test_size = 0.2, random_state = 1234)\n",
    "X_val, X_test, y_val, y_test = train_test_split(X_test, y_test, test_size = 0.5, random_state = 1234)\n",
    "\n",
    "print('X:', X_train.shape, X_val.shape, X_test.shape)\n",
    "print('y:', y_train.shape, y_val.shape, y_test.shape)\n"
   ]
  },
  {
   "cell_type": "code",
   "execution_count": 27,
   "metadata": {},
   "outputs": [],
   "source": [
    "model = keras.Sequential()\n",
    "\n",
    "model.add(Dense(input_dim = X_train.shape[1], units = 64, activation = 'relu'))\n",
    "model.add(Dense(units = 64, activation = 'relu'))\n",
    "model.add(Dense(units = 1, activation = 'sigmoid'))"
   ]
  },
  {
   "cell_type": "code",
   "execution_count": 28,
   "metadata": {},
   "outputs": [],
   "source": [
    "model.compile(loss = 'binary_crossentropy',\n",
    "              optimizer = 'adam',\n",
    "               metrics = ['accuracy'])"
   ]
  },
  {
   "cell_type": "code",
   "execution_count": 29,
   "metadata": {},
   "outputs": [
    {
     "name": "stdout",
     "output_type": "stream",
     "text": [
      "Epoch 1/100\n",
      "39/39 [==============================] - 1s 13ms/step - loss: 1.6093 - accuracy: 0.6208 - val_loss: 0.9475 - val_accuracy: 0.6234\n",
      "Epoch 2/100\n",
      "39/39 [==============================] - 0s 2ms/step - loss: 0.9968 - accuracy: 0.5924 - val_loss: 0.8959 - val_accuracy: 0.6364\n",
      "Epoch 3/100\n",
      "39/39 [==============================] - 0s 2ms/step - loss: 0.9003 - accuracy: 0.6829 - val_loss: 1.2676 - val_accuracy: 0.5974\n",
      "Epoch 4/100\n",
      "39/39 [==============================] - 0s 2ms/step - loss: 0.9199 - accuracy: 0.6046 - val_loss: 0.8574 - val_accuracy: 0.7273\n",
      "Epoch 5/100\n",
      "39/39 [==============================] - 0s 2ms/step - loss: 0.8068 - accuracy: 0.6632 - val_loss: 0.7786 - val_accuracy: 0.6623\n",
      "Epoch 6/100\n",
      "39/39 [==============================] - 0s 2ms/step - loss: 0.8966 - accuracy: 0.6631 - val_loss: 0.7456 - val_accuracy: 0.6623\n",
      "Epoch 7/100\n",
      "39/39 [==============================] - 0s 2ms/step - loss: 0.7273 - accuracy: 0.6651 - val_loss: 0.6762 - val_accuracy: 0.6494\n",
      "Epoch 8/100\n",
      "39/39 [==============================] - 0s 2ms/step - loss: 0.6810 - accuracy: 0.6844 - val_loss: 1.2126 - val_accuracy: 0.6753\n",
      "Epoch 9/100\n",
      "39/39 [==============================] - 0s 2ms/step - loss: 1.0664 - accuracy: 0.6355 - val_loss: 1.0224 - val_accuracy: 0.6104\n",
      "Epoch 10/100\n",
      "39/39 [==============================] - 0s 2ms/step - loss: 0.7807 - accuracy: 0.6602 - val_loss: 0.7184 - val_accuracy: 0.6753\n",
      "Epoch 11/100\n",
      "39/39 [==============================] - 0s 2ms/step - loss: 0.7188 - accuracy: 0.6820 - val_loss: 1.3990 - val_accuracy: 0.6364\n",
      "Epoch 12/100\n",
      "39/39 [==============================] - 0s 2ms/step - loss: 0.8403 - accuracy: 0.6893 - val_loss: 0.7358 - val_accuracy: 0.6234\n",
      "Epoch 13/100\n",
      "39/39 [==============================] - 0s 2ms/step - loss: 0.7802 - accuracy: 0.6134 - val_loss: 0.7084 - val_accuracy: 0.6753\n",
      "Epoch 14/100\n",
      "39/39 [==============================] - 0s 2ms/step - loss: 0.6306 - accuracy: 0.7052 - val_loss: 0.6685 - val_accuracy: 0.6883\n",
      "Epoch 15/100\n",
      "39/39 [==============================] - 0s 2ms/step - loss: 0.6036 - accuracy: 0.6932 - val_loss: 0.6644 - val_accuracy: 0.6753\n",
      "Epoch 16/100\n",
      "39/39 [==============================] - 0s 2ms/step - loss: 0.6150 - accuracy: 0.7062 - val_loss: 0.8113 - val_accuracy: 0.6494\n",
      "Epoch 17/100\n",
      "39/39 [==============================] - 0s 2ms/step - loss: 0.6628 - accuracy: 0.6744 - val_loss: 0.6575 - val_accuracy: 0.7403\n",
      "Epoch 18/100\n",
      "39/39 [==============================] - 0s 2ms/step - loss: 0.6786 - accuracy: 0.6977 - val_loss: 0.8102 - val_accuracy: 0.6364\n",
      "Epoch 19/100\n",
      "39/39 [==============================] - 0s 2ms/step - loss: 0.6552 - accuracy: 0.7044 - val_loss: 0.7696 - val_accuracy: 0.6234\n",
      "Epoch 20/100\n",
      "39/39 [==============================] - 0s 2ms/step - loss: 0.7528 - accuracy: 0.6611 - val_loss: 0.6258 - val_accuracy: 0.7143\n",
      "Epoch 21/100\n",
      "39/39 [==============================] - 0s 2ms/step - loss: 0.6356 - accuracy: 0.6908 - val_loss: 0.9111 - val_accuracy: 0.6623\n",
      "Epoch 22/100\n",
      "39/39 [==============================] - 0s 2ms/step - loss: 0.7320 - accuracy: 0.6818 - val_loss: 0.6361 - val_accuracy: 0.7143\n",
      "Epoch 23/100\n",
      "39/39 [==============================] - 0s 2ms/step - loss: 0.6040 - accuracy: 0.6771 - val_loss: 0.6509 - val_accuracy: 0.6753\n",
      "Epoch 24/100\n",
      "39/39 [==============================] - 0s 2ms/step - loss: 0.6334 - accuracy: 0.7094 - val_loss: 0.6491 - val_accuracy: 0.7143\n",
      "Epoch 25/100\n",
      "39/39 [==============================] - 0s 2ms/step - loss: 0.5935 - accuracy: 0.7132 - val_loss: 0.8340 - val_accuracy: 0.6104\n",
      "Epoch 26/100\n",
      "39/39 [==============================] - 0s 2ms/step - loss: 0.6604 - accuracy: 0.6640 - val_loss: 0.6709 - val_accuracy: 0.7403\n",
      "Epoch 27/100\n",
      "39/39 [==============================] - 0s 2ms/step - loss: 0.5489 - accuracy: 0.7126 - val_loss: 0.7821 - val_accuracy: 0.6623\n",
      "Epoch 28/100\n",
      "39/39 [==============================] - 0s 2ms/step - loss: 0.5445 - accuracy: 0.7343 - val_loss: 0.6752 - val_accuracy: 0.7143\n",
      "Epoch 29/100\n",
      "39/39 [==============================] - 0s 2ms/step - loss: 0.5484 - accuracy: 0.7532 - val_loss: 0.6084 - val_accuracy: 0.7013\n",
      "Epoch 30/100\n",
      "39/39 [==============================] - 0s 2ms/step - loss: 0.7094 - accuracy: 0.6917 - val_loss: 0.5815 - val_accuracy: 0.7273\n",
      "Epoch 31/100\n",
      "39/39 [==============================] - 0s 2ms/step - loss: 0.5667 - accuracy: 0.6966 - val_loss: 0.9068 - val_accuracy: 0.7013\n",
      "Epoch 32/100\n",
      "39/39 [==============================] - 0s 2ms/step - loss: 0.6803 - accuracy: 0.6926 - val_loss: 0.6935 - val_accuracy: 0.6883\n",
      "Epoch 33/100\n",
      "39/39 [==============================] - 0s 2ms/step - loss: 0.5383 - accuracy: 0.7636 - val_loss: 0.6723 - val_accuracy: 0.7532\n",
      "Epoch 34/100\n",
      "39/39 [==============================] - 0s 2ms/step - loss: 0.5447 - accuracy: 0.7263 - val_loss: 0.6552 - val_accuracy: 0.6753\n",
      "Epoch 35/100\n",
      "39/39 [==============================] - 0s 2ms/step - loss: 0.5634 - accuracy: 0.7021 - val_loss: 0.5936 - val_accuracy: 0.7013\n",
      "Epoch 36/100\n",
      "39/39 [==============================] - 0s 2ms/step - loss: 0.5780 - accuracy: 0.7140 - val_loss: 0.6470 - val_accuracy: 0.6753\n",
      "Epoch 37/100\n",
      "39/39 [==============================] - 0s 2ms/step - loss: 0.5387 - accuracy: 0.7531 - val_loss: 0.7005 - val_accuracy: 0.7013\n",
      "Epoch 38/100\n",
      "39/39 [==============================] - 0s 2ms/step - loss: 0.5917 - accuracy: 0.7142 - val_loss: 0.6386 - val_accuracy: 0.6753\n",
      "Epoch 39/100\n",
      "39/39 [==============================] - 0s 2ms/step - loss: 0.5526 - accuracy: 0.7492 - val_loss: 0.9961 - val_accuracy: 0.6364\n",
      "Epoch 40/100\n",
      "39/39 [==============================] - 0s 2ms/step - loss: 0.7471 - accuracy: 0.6573 - val_loss: 0.5581 - val_accuracy: 0.7013\n",
      "Epoch 41/100\n",
      "39/39 [==============================] - 0s 2ms/step - loss: 0.5081 - accuracy: 0.7506 - val_loss: 0.6982 - val_accuracy: 0.6623\n",
      "Epoch 42/100\n",
      "39/39 [==============================] - 0s 2ms/step - loss: 0.5271 - accuracy: 0.7302 - val_loss: 0.6700 - val_accuracy: 0.6883\n",
      "Epoch 43/100\n",
      "39/39 [==============================] - 0s 2ms/step - loss: 0.5530 - accuracy: 0.7204 - val_loss: 0.6354 - val_accuracy: 0.7273\n",
      "Epoch 44/100\n",
      "39/39 [==============================] - 0s 2ms/step - loss: 0.7540 - accuracy: 0.7374 - val_loss: 0.6792 - val_accuracy: 0.7143\n",
      "Epoch 45/100\n",
      "39/39 [==============================] - 0s 2ms/step - loss: 0.5181 - accuracy: 0.7437 - val_loss: 0.8258 - val_accuracy: 0.6494\n",
      "Epoch 46/100\n",
      "39/39 [==============================] - 0s 2ms/step - loss: 0.5775 - accuracy: 0.7019 - val_loss: 0.9497 - val_accuracy: 0.6364\n",
      "Epoch 47/100\n",
      "39/39 [==============================] - 0s 2ms/step - loss: 0.6424 - accuracy: 0.7231 - val_loss: 0.6681 - val_accuracy: 0.7013\n",
      "Epoch 48/100\n",
      "39/39 [==============================] - 0s 2ms/step - loss: 0.5901 - accuracy: 0.7469 - val_loss: 0.7190 - val_accuracy: 0.6494\n",
      "Epoch 49/100\n",
      "39/39 [==============================] - 0s 2ms/step - loss: 0.4945 - accuracy: 0.7722 - val_loss: 0.6429 - val_accuracy: 0.7013\n",
      "Epoch 50/100\n",
      "39/39 [==============================] - 0s 2ms/step - loss: 0.4841 - accuracy: 0.7686 - val_loss: 0.7374 - val_accuracy: 0.6364\n",
      "Epoch 51/100\n",
      "39/39 [==============================] - 0s 2ms/step - loss: 0.6155 - accuracy: 0.7136 - val_loss: 0.7498 - val_accuracy: 0.6364\n",
      "Epoch 52/100\n",
      "39/39 [==============================] - 0s 2ms/step - loss: 0.6288 - accuracy: 0.7047 - val_loss: 0.7819 - val_accuracy: 0.6623\n",
      "Epoch 53/100\n",
      "39/39 [==============================] - 0s 2ms/step - loss: 0.5704 - accuracy: 0.7069 - val_loss: 0.6478 - val_accuracy: 0.6883\n",
      "Epoch 54/100\n",
      "39/39 [==============================] - 0s 2ms/step - loss: 0.5324 - accuracy: 0.7513 - val_loss: 0.5713 - val_accuracy: 0.7013\n",
      "Epoch 55/100\n",
      "39/39 [==============================] - 0s 2ms/step - loss: 0.4702 - accuracy: 0.7657 - val_loss: 0.6865 - val_accuracy: 0.6883\n",
      "Epoch 56/100\n",
      "39/39 [==============================] - 0s 2ms/step - loss: 0.4829 - accuracy: 0.7711 - val_loss: 0.7915 - val_accuracy: 0.6494\n",
      "Epoch 57/100\n",
      "39/39 [==============================] - 0s 2ms/step - loss: 0.6097 - accuracy: 0.6967 - val_loss: 0.7321 - val_accuracy: 0.6753\n",
      "Epoch 58/100\n",
      "39/39 [==============================] - 0s 2ms/step - loss: 0.5322 - accuracy: 0.7265 - val_loss: 0.6749 - val_accuracy: 0.7273\n"
     ]
    },
    {
     "name": "stdout",
     "output_type": "stream",
     "text": [
      "Epoch 59/100\n",
      "39/39 [==============================] - 0s 2ms/step - loss: 0.4964 - accuracy: 0.7845 - val_loss: 0.8022 - val_accuracy: 0.6623\n",
      "Epoch 60/100\n",
      "39/39 [==============================] - 0s 2ms/step - loss: 0.5691 - accuracy: 0.7041 - val_loss: 0.7382 - val_accuracy: 0.7273\n",
      "Epoch 61/100\n",
      "39/39 [==============================] - 0s 2ms/step - loss: 0.5492 - accuracy: 0.7534 - val_loss: 0.7738 - val_accuracy: 0.6883\n",
      "Epoch 62/100\n",
      "39/39 [==============================] - 0s 2ms/step - loss: 0.4674 - accuracy: 0.7799 - val_loss: 0.6415 - val_accuracy: 0.6753\n",
      "Epoch 63/100\n",
      "39/39 [==============================] - 0s 2ms/step - loss: 0.4746 - accuracy: 0.7760 - val_loss: 0.6636 - val_accuracy: 0.7403\n",
      "Epoch 64/100\n",
      "39/39 [==============================] - 0s 2ms/step - loss: 0.4770 - accuracy: 0.7587 - val_loss: 0.6671 - val_accuracy: 0.7143\n",
      "Epoch 65/100\n",
      "39/39 [==============================] - 0s 2ms/step - loss: 0.4912 - accuracy: 0.7597 - val_loss: 0.6117 - val_accuracy: 0.7013\n",
      "Epoch 66/100\n",
      "39/39 [==============================] - 0s 2ms/step - loss: 0.5101 - accuracy: 0.7243 - val_loss: 0.6205 - val_accuracy: 0.7273\n",
      "Epoch 67/100\n",
      "39/39 [==============================] - 0s 2ms/step - loss: 0.4761 - accuracy: 0.7739 - val_loss: 0.6537 - val_accuracy: 0.6623\n",
      "Epoch 68/100\n",
      "39/39 [==============================] - 0s 2ms/step - loss: 0.5580 - accuracy: 0.7245 - val_loss: 0.6340 - val_accuracy: 0.7403\n",
      "Epoch 69/100\n",
      "39/39 [==============================] - 0s 2ms/step - loss: 0.4469 - accuracy: 0.7813 - val_loss: 0.6397 - val_accuracy: 0.6494\n",
      "Epoch 70/100\n",
      "39/39 [==============================] - 0s 2ms/step - loss: 0.4724 - accuracy: 0.7740 - val_loss: 0.6441 - val_accuracy: 0.6883\n",
      "Epoch 71/100\n",
      "39/39 [==============================] - 0s 2ms/step - loss: 0.4457 - accuracy: 0.7928 - val_loss: 0.6428 - val_accuracy: 0.7273\n",
      "Epoch 72/100\n",
      "39/39 [==============================] - 0s 2ms/step - loss: 0.5227 - accuracy: 0.7449 - val_loss: 0.7273 - val_accuracy: 0.6494\n",
      "Epoch 73/100\n",
      "39/39 [==============================] - 0s 2ms/step - loss: 0.4756 - accuracy: 0.7918 - val_loss: 0.8872 - val_accuracy: 0.6104\n",
      "Epoch 74/100\n",
      "39/39 [==============================] - 0s 2ms/step - loss: 0.4965 - accuracy: 0.7582 - val_loss: 0.9885 - val_accuracy: 0.6104\n",
      "Epoch 75/100\n",
      "39/39 [==============================] - 0s 2ms/step - loss: 0.6081 - accuracy: 0.6824 - val_loss: 0.7709 - val_accuracy: 0.6623\n",
      "Epoch 76/100\n",
      "39/39 [==============================] - 0s 2ms/step - loss: 0.5077 - accuracy: 0.7453 - val_loss: 0.6861 - val_accuracy: 0.7143\n",
      "Epoch 77/100\n",
      "39/39 [==============================] - 0s 2ms/step - loss: 0.4796 - accuracy: 0.7640 - val_loss: 0.7871 - val_accuracy: 0.6364\n",
      "Epoch 78/100\n",
      "39/39 [==============================] - 0s 2ms/step - loss: 0.5099 - accuracy: 0.7586 - val_loss: 0.7854 - val_accuracy: 0.7013\n",
      "Epoch 79/100\n",
      "39/39 [==============================] - 0s 2ms/step - loss: 0.5002 - accuracy: 0.7568 - val_loss: 0.5930 - val_accuracy: 0.7273\n",
      "Epoch 80/100\n",
      "39/39 [==============================] - 0s 2ms/step - loss: 0.4312 - accuracy: 0.7913 - val_loss: 0.6077 - val_accuracy: 0.6753\n",
      "Epoch 81/100\n",
      "39/39 [==============================] - 0s 2ms/step - loss: 0.4385 - accuracy: 0.7916 - val_loss: 0.5908 - val_accuracy: 0.7143\n",
      "Epoch 82/100\n",
      "39/39 [==============================] - 0s 2ms/step - loss: 0.4740 - accuracy: 0.7795 - val_loss: 0.6523 - val_accuracy: 0.6753\n",
      "Epoch 83/100\n",
      "39/39 [==============================] - 0s 2ms/step - loss: 0.4620 - accuracy: 0.7657 - val_loss: 0.6089 - val_accuracy: 0.7273\n",
      "Epoch 84/100\n",
      "39/39 [==============================] - 0s 2ms/step - loss: 0.4477 - accuracy: 0.7865 - val_loss: 0.5882 - val_accuracy: 0.7273\n",
      "Epoch 85/100\n",
      "39/39 [==============================] - 0s 2ms/step - loss: 0.4363 - accuracy: 0.7905 - val_loss: 0.6714 - val_accuracy: 0.6494\n",
      "Epoch 86/100\n",
      "39/39 [==============================] - 0s 2ms/step - loss: 0.4796 - accuracy: 0.7547 - val_loss: 0.5553 - val_accuracy: 0.7532\n",
      "Epoch 87/100\n",
      "39/39 [==============================] - 0s 2ms/step - loss: 0.5598 - accuracy: 0.7466 - val_loss: 0.7443 - val_accuracy: 0.7143\n",
      "Epoch 88/100\n",
      "39/39 [==============================] - 0s 2ms/step - loss: 0.4656 - accuracy: 0.7937 - val_loss: 0.6370 - val_accuracy: 0.6753\n",
      "Epoch 89/100\n",
      "39/39 [==============================] - 0s 2ms/step - loss: 0.4110 - accuracy: 0.7993 - val_loss: 0.8422 - val_accuracy: 0.6234\n",
      "Epoch 90/100\n",
      "39/39 [==============================] - 0s 2ms/step - loss: 0.4665 - accuracy: 0.7637 - val_loss: 0.6461 - val_accuracy: 0.7662\n",
      "Epoch 91/100\n",
      "39/39 [==============================] - 0s 2ms/step - loss: 0.4267 - accuracy: 0.8018 - val_loss: 0.5976 - val_accuracy: 0.7013\n",
      "Epoch 92/100\n",
      "39/39 [==============================] - 0s 2ms/step - loss: 0.4704 - accuracy: 0.8043 - val_loss: 0.6526 - val_accuracy: 0.7143\n",
      "Epoch 93/100\n",
      "39/39 [==============================] - 0s 2ms/step - loss: 0.4754 - accuracy: 0.7992 - val_loss: 0.9043 - val_accuracy: 0.7013\n",
      "Epoch 94/100\n",
      "39/39 [==============================] - 0s 2ms/step - loss: 0.4518 - accuracy: 0.8034 - val_loss: 0.7733 - val_accuracy: 0.6234\n",
      "Epoch 95/100\n",
      "39/39 [==============================] - 0s 2ms/step - loss: 0.4444 - accuracy: 0.7753 - val_loss: 0.7348 - val_accuracy: 0.6623\n",
      "Epoch 96/100\n",
      "39/39 [==============================] - 0s 2ms/step - loss: 0.4610 - accuracy: 0.7753 - val_loss: 0.7228 - val_accuracy: 0.7143\n",
      "Epoch 97/100\n",
      "39/39 [==============================] - 0s 2ms/step - loss: 0.4431 - accuracy: 0.7919 - val_loss: 0.7543 - val_accuracy: 0.7143\n",
      "Epoch 98/100\n",
      "39/39 [==============================] - 0s 2ms/step - loss: 0.4309 - accuracy: 0.7965 - val_loss: 0.6809 - val_accuracy: 0.7143\n",
      "Epoch 99/100\n",
      "39/39 [==============================] - 0s 2ms/step - loss: 0.4284 - accuracy: 0.8002 - val_loss: 0.7471 - val_accuracy: 0.7143\n",
      "Epoch 100/100\n",
      "39/39 [==============================] - 0s 2ms/step - loss: 0.4684 - accuracy: 0.7822 - val_loss: 0.7420 - val_accuracy: 0.6883\n"
     ]
    }
   ],
   "source": [
    "# 모델 학습하기\n",
    "batch_size = 16\n",
    "epochs = 100\n",
    "\n",
    "\n",
    "hist = model.fit(X_train, y_train,\n",
    "                 validation_data = (X_val, y_val),\n",
    "                 batch_size = batch_size,\n",
    "                 epochs = epochs,\n",
    "                 verbose = 1)"
   ]
  },
  {
   "cell_type": "code",
   "execution_count": 30,
   "metadata": {
    "scrolled": true
   },
   "outputs": [
    {
     "data": {
      "image/png": "[encoded data removed]",
      "text/plain": [
       "<Figure size 432x288 with 1 Axes>"
      ]
     },
     "metadata": {
      "needs_background": "light"
     },
     "output_type": "display_data"
    },
    {
     "data": {
      "image/png": "[encoded data removed]",
      "text/plain": [
       "<Figure size 432x288 with 1 Axes>"
      ]
     },
     "metadata": {
      "needs_background": "light"
     },
     "output_type": "display_data"
    }
   ],
   "source": [
    "# 학습 시각화\n",
    "import matplotlib.pyplot as plt\n",
    "\n",
    "# 정확도 그래프\n",
    "plt.plot(hist.history['accuracy'])\n",
    "plt.plot(hist.history['val_accuracy'])\n",
    "\n",
    "plt.xlabel('Epoch')\n",
    "plt.ylabel('Accuracy')\n",
    "plt.legend(['train', 'val'], loc = 'upper left')\n",
    "plt.title('Accuracy')\n",
    "plt.show()\n",
    "\n",
    "# loss 그래프\n",
    "plt.plot(hist.history['loss'])\n",
    "plt.plot(hist.history['val_loss'])\n",
    "\n",
    "plt.xlabel('Epoch')\n",
    "plt.ylabel('loss')\n",
    "plt.legend(['train', 'val'], loc = 'upper left')\n",
    "plt.title('Loss Function')\n",
    "plt.show()"
   ]
  },
  {
   "cell_type": "markdown",
   "metadata": {},
   "source": [
    "Data의 차이가 크고 학습을 할 때마다 weight값이 차이가 나는 것을 알 수 있다.  \n"
   ]
  },
  {
   "cell_type": "markdown",
   "metadata": {},
   "source": [
    "#### Loss function  \n",
    "20번 epoch 이후부터는 overfitting이 일어나고 있다  \n",
    "\n",
    "### 1. Drop Out : Overfitting 해결법"
   ]
  },
  {
   "cell_type": "code",
   "execution_count": 43,
   "metadata": {},
   "outputs": [],
   "source": [
    "from tensorflow.keras.layers import Dropout\n",
    "\n",
    "model = keras.Sequential()\n",
    "\n",
    "model.add(Dense(input_dim = X_train.shape[1], units = 128, activation = 'relu'))\n",
    "model.add(Dense(units = 64, activation = 'relu'))\n",
    "\n",
    "model.add(Dropout(0.2))\n",
    "\n",
    "model.add(Dense(64, activation = 'relu'))\n",
    "model.add(Dense(1, activation = 'sigmoid'))\n",
    "\n",
    "model.compile(loss = 'binary_crossentropy',\n",
    "              optimizer = 'adam',\n",
    "               metrics = ['accuracy'])"
   ]
  },
  {
   "cell_type": "code",
   "execution_count": 44,
   "metadata": {},
   "outputs": [],
   "source": [
    "batch_size = 16\n",
    "epochs = 100\n",
    "hist = model.fit(X_train, y_train,\n",
    "                 validation_data = (X_val, y_val),\n",
    "                 batch_size = batch_size,\n",
    "                 epochs = epochs,\n",
    "                 verbose = 0)"
   ]
  },
  {
   "cell_type": "code",
   "execution_count": 33,
   "metadata": {
    "scrolled": false
   },
   "outputs": [
    {
     "data": {
      "image/png": "[encoded data removed]",
      "text/plain": [
       "<Figure size 432x288 with 1 Axes>"
      ]
     },
     "metadata": {
      "needs_background": "light"
     },
     "output_type": "display_data"
    },
    {
     "data": {
      "image/png": "[encoded data removed]",
      "text/plain": [
       "<Figure size 432x288 with 1 Axes>"
      ]
     },
     "metadata": {
      "needs_background": "light"
     },
     "output_type": "display_data"
    }
   ],
   "source": [
    "# 정확도 그래프\n",
    "plt.plot(hist.history['accuracy'])\n",
    "plt.plot(hist.history['val_accuracy'])\n",
    "\n",
    "plt.xlabel('Epoch')\n",
    "plt.ylabel('Accuracy')\n",
    "plt.legend(['train', 'val'], loc = 'upper left')\n",
    "plt.title('Accuracy_dropout')\n",
    "plt.show()\n",
    "\n",
    "# loss 그래프\n",
    "plt.plot(hist.history['loss'])\n",
    "plt.plot(hist.history['val_loss'])\n",
    "\n",
    "plt.xlabel('Epoch')\n",
    "plt.ylabel('loss')\n",
    "plt.legend(['train', 'val'], loc = 'upper left')\n",
    "plt.title('Loss Function_dropout')\n",
    "plt.show()"
   ]
  },
  {
   "cell_type": "code",
   "execution_count": 45,
   "metadata": {},
   "outputs": [],
   "source": [
    "from keras.callbacks import EarlyStopping\n",
    "\n",
    "from tensorflow.keras.layers import Dropout\n",
    "\n",
    "model = keras.Sequential()\n",
    "\n",
    "model.add(Dense(input_dim = X_train.shape[1], units = 128, activation = 'relu'))\n",
    "model.add(Dense(units = 64, activation = 'relu'))\n",
    "\n",
    "model.add(Dropout(0.2))\n",
    "\n",
    "model.add(Dense(64, activation = 'relu'))\n",
    "model.add(Dense(1, activation = 'sigmoid'))\n",
    "\n",
    "model.compile(loss = 'binary_crossentropy',\n",
    "              optimizer = 'adam',\n",
    "               metrics = ['accuracy'])\n",
    "\n",
    "batch_size = 16\n",
    "epochs = 1000\n",
    "\n",
    "# 빠른 종료\n",
    "early_stopping = EarlyStopping(monitor = 'val_loss', # 이전 val_loss보다 높아지면 중지\n",
    "                              patience = 10) # epochs 10까지는 지켜보도록 함\n",
    "\n",
    "hist = model.fit(X_train, y_train,\n",
    "                 validation_data = (X_val, y_val),\n",
    "                 batch_size = batch_size,\n",
    "                 epochs = epochs,\n",
    "                 verbose = 0,\n",
    "                 callbacks = [early_stopping])"
   ]
  },
  {
   "cell_type": "code",
   "execution_count": 46,
   "metadata": {
    "scrolled": true
   },
   "outputs": [
    {
     "data": {
      "image/png": "[encoded data removed]",
      "text/plain": [
       "<Figure size 432x288 with 1 Axes>"
      ]
     },
     "metadata": {
      "needs_background": "light"
     },
     "output_type": "display_data"
    },
    {
     "data": {
      "image/png": "[encoded data removed]",
      "text/plain": [
       "<Figure size 432x288 with 1 Axes>"
      ]
     },
     "metadata": {
      "needs_background": "light"
     },
     "output_type": "display_data"
    }
   ],
   "source": [
    "# 정확도 그래프\n",
    "plt.plot(hist.history['accuracy'])\n",
    "plt.plot(hist.history['val_accuracy'])\n",
    "\n",
    "plt.xlabel('Epoch')\n",
    "plt.ylabel('Accuracy')\n",
    "plt.legend(['train', 'val'], loc = 'upper left')\n",
    "plt.title('Accuracy_EarlyStopping')\n",
    "plt.show()\n",
    "\n",
    "# loss 그래프\n",
    "plt.plot(hist.history['loss'])\n",
    "plt.plot(hist.history['val_loss'])\n",
    "\n",
    "plt.xlabel('Epoch')\n",
    "plt.ylabel('loss')\n",
    "plt.legend(['train', 'val'], loc = 'upper left')\n",
    "plt.title('Loss Function_EarlyStopping')\n",
    "plt.show()"
   ]
  },
  {
   "cell_type": "markdown",
   "metadata": {},
   "source": [
    "### 2. Overfitting 해결 :Regularization"
   ]
  },
  {
   "cell_type": "code",
   "execution_count": 47,
   "metadata": {},
   "outputs": [],
   "source": [
    "model.add(Dense(64, input_dim = X_train.shape[1], activation = 'relu'))\n",
    "model.add(Dense(128, activation = 'relu',\n",
    "               kernel_regularizer = keras.regularizers.L2(0.1)))\n",
    "\n",
    "# model.add(Dropout(0.2))\n",
    "\n",
    "model.add(Dense(64, activation = 'relu'))\n",
    "model.add(Dense(1, activation = 'sigmoid'))"
   ]
  },
  {
   "cell_type": "code",
   "execution_count": 48,
   "metadata": {},
   "outputs": [],
   "source": [
    "from keras.callbacks import EarlyStopping\n",
    "\n",
    "from tensorflow.keras.layers import Dropout\n",
    "\n",
    "model = keras.Sequential()\n",
    "\n",
    "model.add(Dense(64, input_dim = X_train.shape[1], activation = 'relu'))\n",
    "model.add(Dense(128, activation = 'relu',\n",
    "               kernel_regularizer = keras.regularizers.L2(0.1)))\n",
    "\n",
    "# model.add(Dropout(0.2))\n",
    "\n",
    "model.add(Dense(64, activation = 'relu'))\n",
    "model.add(Dense(1, activation = 'sigmoid'))\n",
    "\n",
    "#compile \n",
    "model.compile(loss = 'binary_crossentropy',\n",
    "              optimizer = 'adam',\n",
    "               metrics = ['accuracy'])\n",
    "# modeling\n",
    "batch_size = 16\n",
    "epochs = 1000\n",
    "\n",
    "# 빠른 종료\n",
    "early_stopping = EarlyStopping(monitor = 'val_loss', # 이전 val_loss보다 높아지면 중지\n",
    "                              patience = 10) # epochs 10까지는 지켜보도록 함\n",
    "\n",
    "hist = model.fit(X_train, y_train,\n",
    "                 validation_data = (X_val, y_val),\n",
    "                 batch_size = batch_size,\n",
    "                 epochs = epochs,\n",
    "                 verbose = 0,\n",
    "                 callbacks = [early_stopping])"
   ]
  },
  {
   "cell_type": "code",
   "execution_count": 38,
   "metadata": {},
   "outputs": [
    {
     "data": {
      "image/png": "[encoded data removed]",
      "text/plain": [
       "<Figure size 432x288 with 1 Axes>"
      ]
     },
     "metadata": {
      "needs_background": "light"
     },
     "output_type": "display_data"
    },
    {
     "data": {
      "image/png": "[encoded data removed]",
      "text/plain": [
       "<Figure size 432x288 with 1 Axes>"
      ]
     },
     "metadata": {
      "needs_background": "light"
     },
     "output_type": "display_data"
    }
   ],
   "source": [
    "# 정확도 그래프\n",
    "plt.plot(hist.history['accuracy'])\n",
    "plt.plot(hist.history['val_accuracy'])\n",
    "\n",
    "plt.xlabel('Epoch')\n",
    "plt.ylabel('Accuracy')\n",
    "plt.legend(['train', 'val'], loc = 'upper left')\n",
    "plt.title('Accuracy_Regluarization')\n",
    "plt.show()\n",
    "\n",
    "# loss 그래프\n",
    "plt.plot(hist.history['loss'])\n",
    "plt.plot(hist.history['val_loss'])\n",
    "\n",
    "plt.xlabel('Epoch')\n",
    "plt.ylabel('loss')\n",
    "plt.legend(['train', 'val'], loc = 'upper left')\n",
    "plt.title('Loss Function_Regluarization')\n",
    "plt.show()"
   ]
  }
 ],
 "metadata": {
  "kernelspec": {
   "display_name": "py38_tensorflow",
   "language": "python",
   "name": "conda-env-py38_tensorflow-py"
  },
  "language_info": {
   "codemirror_mode": {
    "name": "ipython",
    "version": 3
   },
   "file_extension": ".py",
   "mimetype": "text/x-python",
   "name": "python",
   "nbconvert_exporter": "python",
   "pygments_lexer": "ipython3",
   "version": "3.8.8"
  }
 },
 "nbformat": 4,
 "nbformat_minor": 2
}
