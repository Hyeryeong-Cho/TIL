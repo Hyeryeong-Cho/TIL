{
 "cells": [
  {
   "cell_type": "markdown",
   "metadata": {},
   "source": [
    "## Machine Leaning 실습"
   ]
  },
  {
   "cell_type": "code",
   "execution_count": 1,
   "metadata": {},
   "outputs": [],
   "source": [
    "# 자동완성\n",
    "%config Completer.use_jedi = False"
   ]
  },
  {
   "cell_type": "markdown",
   "metadata": {},
   "source": [
    "### Regression With Python"
   ]
  },
  {
   "cell_type": "code",
   "execution_count": 2,
   "metadata": {
    "colab": {
     "base_uri": "https://localhost:8080/",
     "height": 51
    },
    "id": "f03rAXEehsAe",
    "outputId": "ebd33e96-166e-450a-d810-d6f502f153c2"
   },
   "outputs": [
    {
     "name": "stdout",
     "output_type": "stream",
     "text": [
      "1.2.4\n",
      "1.19.5\n"
     ]
    }
   ],
   "source": [
    "# 1. 패키지 호출\n",
    "import pandas as pd\n",
    "import numpy as np\n",
    "\n",
    "print(pd.__version__)\n",
    "print(np.__version__)"
   ]
  },
  {
   "cell_type": "code",
   "execution_count": 3,
   "metadata": {},
   "outputs": [
    {
     "name": "stdout",
     "output_type": "stream",
     "text": [
      " 01.Regression_with_Python_210602.ipynb\r\n",
      " 01SR_Data.csv\r\n",
      " 02.Classification_with_Python.ipynb\r\n",
      " 02Social_Network_Ads.csv\r\n",
      "'03.Classification_with_scikitlearn(Titanic).ipynb'\r\n",
      " 03Titanic_dataset.csv\r\n",
      " ML.zip\r\n"
     ]
    }
   ],
   "source": [
    "%ls"
   ]
  },
  {
   "cell_type": "code",
   "execution_count": 4,
   "metadata": {
    "colab": {
     "base_uri": "https://localhost:8080/",
     "height": 204
    },
    "id": "oh5MYl6OhsAm",
    "outputId": "e87c6d4e-92de-45c3-d9cb-0979cd8fc2f0"
   },
   "outputs": [],
   "source": [
    "# 2. 데이터 with pandas DataFrame\n",
    "df = pd.read_csv('01SR_Data.csv')"
   ]
  },
  {
   "cell_type": "code",
   "execution_count": 5,
   "metadata": {
    "colab": {
     "base_uri": "https://localhost:8080/",
     "height": 204
    },
    "id": "fgcSd2nmhsAs",
    "outputId": "1e2ca856-5329-47f2-93dc-91521e9f8b1a",
    "scrolled": true
   },
   "outputs": [
    {
     "data": {
      "text/html": [
       "<div>\n",
       "<style scoped>\n",
       "    .dataframe tbody tr th:only-of-type {\n",
       "        vertical-align: middle;\n",
       "    }\n",
       "\n",
       "    .dataframe tbody tr th {\n",
       "        vertical-align: top;\n",
       "    }\n",
       "\n",
       "    .dataframe thead th {\n",
       "        text-align: right;\n",
       "    }\n",
       "</style>\n",
       "<table border=\"1\" class=\"dataframe\">\n",
       "  <thead>\n",
       "    <tr style=\"text-align: right;\">\n",
       "      <th></th>\n",
       "      <th>Country</th>\n",
       "      <th>Age</th>\n",
       "      <th>Year</th>\n",
       "      <th>Salary</th>\n",
       "    </tr>\n",
       "  </thead>\n",
       "  <tbody>\n",
       "    <tr>\n",
       "      <th>5</th>\n",
       "      <td>Germany</td>\n",
       "      <td>40.0</td>\n",
       "      <td>10.0</td>\n",
       "      <td>61000</td>\n",
       "    </tr>\n",
       "    <tr>\n",
       "      <th>6</th>\n",
       "      <td>France</td>\n",
       "      <td>37.0</td>\n",
       "      <td>7.0</td>\n",
       "      <td>67000</td>\n",
       "    </tr>\n",
       "    <tr>\n",
       "      <th>7</th>\n",
       "      <td>France</td>\n",
       "      <td>44.0</td>\n",
       "      <td>15.0</td>\n",
       "      <td>72000</td>\n",
       "    </tr>\n",
       "    <tr>\n",
       "      <th>8</th>\n",
       "      <td>France</td>\n",
       "      <td>48.0</td>\n",
       "      <td>NaN</td>\n",
       "      <td>79000</td>\n",
       "    </tr>\n",
       "    <tr>\n",
       "      <th>9</th>\n",
       "      <td>Germany</td>\n",
       "      <td>50.0</td>\n",
       "      <td>21.0</td>\n",
       "      <td>83000</td>\n",
       "    </tr>\n",
       "  </tbody>\n",
       "</table>\n",
       "</div>"
      ],
      "text/plain": [
       "   Country   Age  Year  Salary\n",
       "5  Germany  40.0  10.0   61000\n",
       "6   France  37.0   7.0   67000\n",
       "7   France  44.0  15.0   72000\n",
       "8   France  48.0   NaN   79000\n",
       "9  Germany  50.0  21.0   83000"
      ]
     },
     "execution_count": 5,
     "metadata": {},
     "output_type": "execute_result"
    }
   ],
   "source": [
    "# 3-1. 데이터 살펴보기\n",
    "df.head()\n",
    "df.tail()"
   ]
  },
  {
   "cell_type": "code",
   "execution_count": 6,
   "metadata": {
    "colab": {
     "base_uri": "https://localhost:8080/",
     "height": 204
    },
    "id": "GQsvXjc1hsA5",
    "outputId": "7b8779e1-cc35-421a-ed0a-e1900f2c061f",
    "scrolled": true
   },
   "outputs": [
    {
     "name": "stdout",
     "output_type": "stream",
     "text": [
      "<class 'pandas.core.frame.DataFrame'>\n",
      "RangeIndex: 10 entries, 0 to 9\n",
      "Data columns (total 4 columns):\n",
      " #   Column   Non-Null Count  Dtype  \n",
      "---  ------   --------------  -----  \n",
      " 0   Country  10 non-null     object \n",
      " 1   Age      9 non-null      float64\n",
      " 2   Year     7 non-null      float64\n",
      " 3   Salary   10 non-null     int64  \n",
      "dtypes: float64(2), int64(1), object(1)\n",
      "memory usage: 448.0+ bytes\n"
     ]
    }
   ],
   "source": [
    "# 3-2. 데이터 정보확인\n",
    "df.info()"
   ]
  },
  {
   "cell_type": "code",
   "execution_count": 7,
   "metadata": {
    "colab": {
     "base_uri": "https://localhost:8080/",
     "height": 390
    },
    "id": "mXYHvswehsA-",
    "outputId": "d585f605-eaf7-452c-fbbc-a6deb345168d",
    "scrolled": false
   },
   "outputs": [
    {
     "data": {
      "text/html": [
       "<div>\n",
       "<style scoped>\n",
       "    .dataframe tbody tr th:only-of-type {\n",
       "        vertical-align: middle;\n",
       "    }\n",
       "\n",
       "    .dataframe tbody tr th {\n",
       "        vertical-align: top;\n",
       "    }\n",
       "\n",
       "    .dataframe thead th {\n",
       "        text-align: right;\n",
       "    }\n",
       "</style>\n",
       "<table border=\"1\" class=\"dataframe\">\n",
       "  <thead>\n",
       "    <tr style=\"text-align: right;\">\n",
       "      <th></th>\n",
       "      <th>Country</th>\n",
       "      <th>Age</th>\n",
       "      <th>Year</th>\n",
       "      <th>Salary</th>\n",
       "    </tr>\n",
       "  </thead>\n",
       "  <tbody>\n",
       "    <tr>\n",
       "      <th>count</th>\n",
       "      <td>10</td>\n",
       "      <td>9.000000</td>\n",
       "      <td>7.000000</td>\n",
       "      <td>10.000000</td>\n",
       "    </tr>\n",
       "    <tr>\n",
       "      <th>unique</th>\n",
       "      <td>3</td>\n",
       "      <td>NaN</td>\n",
       "      <td>NaN</td>\n",
       "      <td>NaN</td>\n",
       "    </tr>\n",
       "    <tr>\n",
       "      <th>top</th>\n",
       "      <td>France</td>\n",
       "      <td>NaN</td>\n",
       "      <td>NaN</td>\n",
       "      <td>NaN</td>\n",
       "    </tr>\n",
       "    <tr>\n",
       "      <th>freq</th>\n",
       "      <td>4</td>\n",
       "      <td>NaN</td>\n",
       "      <td>NaN</td>\n",
       "      <td>NaN</td>\n",
       "    </tr>\n",
       "    <tr>\n",
       "      <th>mean</th>\n",
       "      <td>NaN</td>\n",
       "      <td>38.777778</td>\n",
       "      <td>9.142857</td>\n",
       "      <td>63500.000000</td>\n",
       "    </tr>\n",
       "    <tr>\n",
       "      <th>std</th>\n",
       "      <td>NaN</td>\n",
       "      <td>7.693793</td>\n",
       "      <td>6.817345</td>\n",
       "      <td>11597.413505</td>\n",
       "    </tr>\n",
       "    <tr>\n",
       "      <th>min</th>\n",
       "      <td>NaN</td>\n",
       "      <td>27.000000</td>\n",
       "      <td>2.000000</td>\n",
       "      <td>48000.000000</td>\n",
       "    </tr>\n",
       "    <tr>\n",
       "      <th>25%</th>\n",
       "      <td>NaN</td>\n",
       "      <td>35.000000</td>\n",
       "      <td>4.500000</td>\n",
       "      <td>55000.000000</td>\n",
       "    </tr>\n",
       "    <tr>\n",
       "      <th>50%</th>\n",
       "      <td>NaN</td>\n",
       "      <td>38.000000</td>\n",
       "      <td>7.000000</td>\n",
       "      <td>61000.000000</td>\n",
       "    </tr>\n",
       "    <tr>\n",
       "      <th>75%</th>\n",
       "      <td>NaN</td>\n",
       "      <td>44.000000</td>\n",
       "      <td>12.500000</td>\n",
       "      <td>70750.000000</td>\n",
       "    </tr>\n",
       "    <tr>\n",
       "      <th>max</th>\n",
       "      <td>NaN</td>\n",
       "      <td>50.000000</td>\n",
       "      <td>21.000000</td>\n",
       "      <td>83000.000000</td>\n",
       "    </tr>\n",
       "  </tbody>\n",
       "</table>\n",
       "</div>"
      ],
      "text/plain": [
       "       Country        Age       Year        Salary\n",
       "count       10   9.000000   7.000000     10.000000\n",
       "unique       3        NaN        NaN           NaN\n",
       "top     France        NaN        NaN           NaN\n",
       "freq         4        NaN        NaN           NaN\n",
       "mean       NaN  38.777778   9.142857  63500.000000\n",
       "std        NaN   7.693793   6.817345  11597.413505\n",
       "min        NaN  27.000000   2.000000  48000.000000\n",
       "25%        NaN  35.000000   4.500000  55000.000000\n",
       "50%        NaN  38.000000   7.000000  61000.000000\n",
       "75%        NaN  44.000000  12.500000  70750.000000\n",
       "max        NaN  50.000000  21.000000  83000.000000"
      ]
     },
     "execution_count": 7,
     "metadata": {},
     "output_type": "execute_result"
    }
   ],
   "source": [
    "# 3-3. 데이터 설명보기\n",
    "df.describe(include = 'all') # object 열 포함"
   ]
  },
  {
   "cell_type": "markdown",
   "metadata": {},
   "source": [
    "* AGE은 27세부터 50세의 범위로 평균 38.7세\n",
    "* YEAR은 결측치 3개 존재\n",
    "* country는 France, Germany, Spain 존재"
   ]
  },
  {
   "cell_type": "code",
   "execution_count": 8,
   "metadata": {
    "scrolled": true
   },
   "outputs": [
    {
     "data": {
      "text/plain": [
       "Country  Age   Year  Salary\n",
       "France   37.0  7.0   67000     1\n",
       "         44.0  15.0  72000     1\n",
       "Germany  30.0  2.0   54000     1\n",
       "         40.0  10.0  61000     1\n",
       "         50.0  21.0  83000     1\n",
       "Spain    27.0  3.0   48000     1\n",
       "dtype: int64"
      ]
     },
     "execution_count": 8,
     "metadata": {},
     "output_type": "execute_result"
    }
   ],
   "source": [
    "# 국가 별 데이터 파악\n",
    "df.value_counts()"
   ]
  },
  {
   "cell_type": "code",
   "execution_count": 9,
   "metadata": {
    "colab": {
     "base_uri": "https://localhost:8080/",
     "height": 391
    },
    "id": "W0ThVRw7hsBF",
    "outputId": "11469773-09b5-4a09-ccc7-979e14a76ddc"
   },
   "outputs": [],
   "source": [
    "# 4. feature/label 나누기\n",
    "\n",
    "# 열 이름으로 접근\n",
    "# feature = df[[\"Country\", \"Age\", \"Year\"]]\n",
    "# lagel = df[[\"Salary\"]]\n",
    "\n",
    "# idex로 접근\n",
    "# df.ilof[행, 열] 모든 행 [:,열] \n",
    "feature = df.iloc[:,:-1]\n",
    "label = df.iloc[:,-1]\n"
   ]
  },
  {
   "cell_type": "code",
   "execution_count": 10,
   "metadata": {
    "scrolled": true
   },
   "outputs": [
    {
     "data": {
      "text/html": [
       "<div>\n",
       "<style scoped>\n",
       "    .dataframe tbody tr th:only-of-type {\n",
       "        vertical-align: middle;\n",
       "    }\n",
       "\n",
       "    .dataframe tbody tr th {\n",
       "        vertical-align: top;\n",
       "    }\n",
       "\n",
       "    .dataframe thead th {\n",
       "        text-align: right;\n",
       "    }\n",
       "</style>\n",
       "<table border=\"1\" class=\"dataframe\">\n",
       "  <thead>\n",
       "    <tr style=\"text-align: right;\">\n",
       "      <th></th>\n",
       "      <th>Country</th>\n",
       "      <th>Age</th>\n",
       "      <th>Year</th>\n",
       "    </tr>\n",
       "  </thead>\n",
       "  <tbody>\n",
       "    <tr>\n",
       "      <th>0</th>\n",
       "      <td>Spain</td>\n",
       "      <td>27.0</td>\n",
       "      <td>3.0</td>\n",
       "    </tr>\n",
       "    <tr>\n",
       "      <th>1</th>\n",
       "      <td>Spain</td>\n",
       "      <td>NaN</td>\n",
       "      <td>6.0</td>\n",
       "    </tr>\n",
       "    <tr>\n",
       "      <th>2</th>\n",
       "      <td>Germany</td>\n",
       "      <td>30.0</td>\n",
       "      <td>2.0</td>\n",
       "    </tr>\n",
       "    <tr>\n",
       "      <th>3</th>\n",
       "      <td>France</td>\n",
       "      <td>35.0</td>\n",
       "      <td>NaN</td>\n",
       "    </tr>\n",
       "    <tr>\n",
       "      <th>4</th>\n",
       "      <td>Spain</td>\n",
       "      <td>38.0</td>\n",
       "      <td>NaN</td>\n",
       "    </tr>\n",
       "  </tbody>\n",
       "</table>\n",
       "</div>"
      ],
      "text/plain": [
       "   Country   Age  Year\n",
       "0    Spain  27.0   3.0\n",
       "1    Spain   NaN   6.0\n",
       "2  Germany  30.0   2.0\n",
       "3   France  35.0   NaN\n",
       "4    Spain  38.0   NaN"
      ]
     },
     "execution_count": 10,
     "metadata": {},
     "output_type": "execute_result"
    }
   ],
   "source": [
    "feature.head()"
   ]
  },
  {
   "cell_type": "code",
   "execution_count": 11,
   "metadata": {},
   "outputs": [
    {
     "data": {
      "text/plain": [
       "0    48000\n",
       "1    52000\n",
       "2    54000\n",
       "3    58000\n",
       "4    61000\n",
       "Name: Salary, dtype: int64"
      ]
     },
     "execution_count": 11,
     "metadata": {},
     "output_type": "execute_result"
    }
   ],
   "source": [
    "label.head()"
   ]
  },
  {
   "cell_type": "code",
   "execution_count": 12,
   "metadata": {
    "colab": {
     "base_uri": "https://localhost:8080/",
     "height": 85
    },
    "id": "jddvRWfUhsBI",
    "outputId": "8441502d-a91f-4457-f1f8-7d2e06f2e08a",
    "scrolled": true
   },
   "outputs": [
    {
     "data": {
      "text/plain": [
       "Country    0\n",
       "Age        1\n",
       "Year       3\n",
       "Salary     0\n",
       "dtype: int64"
      ]
     },
     "execution_count": 12,
     "metadata": {},
     "output_type": "execute_result"
    }
   ],
   "source": [
    "# 5. 비어있는 값 채우기(mean)\n",
    "# 비어있는 값 확인\n",
    "df.isnull().sum()"
   ]
  },
  {
   "cell_type": "code",
   "execution_count": 13,
   "metadata": {},
   "outputs": [
    {
     "data": {
      "text/plain": [
       "Country    0\n",
       "Age        0\n",
       "Year       0\n",
       "dtype: int64"
      ]
     },
     "execution_count": 13,
     "metadata": {},
     "output_type": "execute_result"
    }
   ],
   "source": [
    "# 비어있는 값 채우기\n",
    "from sklearn.impute import SimpleImputer\n",
    "\n",
    "\n",
    "mean_imputer = SimpleImputer(strategy = 'mean')\n",
    "mean_imputer.fit(feature.iloc[:, 1:])\n",
    "feature.iloc[:, 1:] = mean_imputer.transform(feature.iloc[:, 1:])\n",
    "\n",
    "feature.isnull().sum()"
   ]
  },
  {
   "cell_type": "code",
   "execution_count": 14,
   "metadata": {
    "colab": {
     "base_uri": "https://localhost:8080/",
     "height": 187
    },
    "id": "buX5yMM0hsBU",
    "outputId": "1f7ff81a-c534-434b-b6e0-d6160161e255"
   },
   "outputs": [
    {
     "name": "stdout",
     "output_type": "stream",
     "text": [
      "[[ 0.          0.          1.         27.          3.        ]\n",
      " [ 0.          0.          1.         38.77777778  6.        ]\n",
      " [ 0.          1.          0.         30.          2.        ]\n",
      " [ 1.          0.          0.         35.          9.14285714]\n",
      " [ 0.          0.          1.         38.          9.14285714]\n",
      " [ 0.          1.          0.         40.         10.        ]\n",
      " [ 1.          0.          0.         37.          7.        ]\n",
      " [ 1.          0.          0.         44.         15.        ]\n",
      " [ 1.          0.          0.         48.          9.14285714]\n",
      " [ 0.          1.          0.         50.         21.        ]]\n"
     ]
    }
   ],
   "source": [
    "# 6. One hot encoding\n",
    "from sklearn.compose import ColumnTransformer\n",
    "from sklearn.preprocessing import OneHotEncoder\n",
    "\n",
    "ct = ColumnTransformer([('one_hot_encoder', OneHotEncoder(), [0])], \n",
    "                      remainder = 'passthrough')\n",
    "feature = ct.fit_transform(feature)\n",
    "\n",
    "print(feature)"
   ]
  },
  {
   "cell_type": "code",
   "execution_count": 15,
   "metadata": {
    "colab": {
     "base_uri": "https://localhost:8080/",
     "height": 187
    },
    "id": "69Gz8Fh6hsBW",
    "outputId": "fb923167-3114-4d98-c2f6-b33fa7dc9bb8"
   },
   "outputs": [
    {
     "name": "stdout",
     "output_type": "stream",
     "text": [
      "[[ 1.          0.          0.         44.         15.        ]\n",
      " [ 0.          1.          0.         40.         10.        ]\n",
      " [ 1.          0.          0.         48.          9.14285714]\n",
      " [ 1.          0.          0.         35.          9.14285714]\n",
      " [ 0.          0.          1.         38.77777778  6.        ]\n",
      " [ 1.          0.          0.         37.          7.        ]\n",
      " [ 0.          1.          0.         50.         21.        ]\n",
      " [ 0.          1.          0.         30.          2.        ]]\n",
      "7    72000\n",
      "5    61000\n",
      "8    79000\n",
      "3    58000\n",
      "1    52000\n",
      "6    67000\n",
      "9    83000\n",
      "2    54000\n",
      "Name: Salary, dtype: int64\n"
     ]
    }
   ],
   "source": [
    "# 7. Split Data\n",
    "\n",
    "from sklearn.model_selection import train_test_split\n",
    "\n",
    "X_train, X_test, y_train, y_test = train_test_split(feature, label, test_size = 0.2, random_state = 123)\n",
    "\n",
    "print(X_train)\n",
    "print(y_train)"
   ]
  },
  {
   "cell_type": "code",
   "execution_count": 16,
   "metadata": {
    "colab": {
     "base_uri": "https://localhost:8080/",
     "height": 34
    },
    "id": "4KeELCr1hsBZ",
    "outputId": "5354c8e8-fd78-4310-fdb4-a39400370ceb"
   },
   "outputs": [
    {
     "data": {
      "text/plain": [
       "LinearRegression()"
      ]
     },
     "execution_count": 16,
     "metadata": {},
     "output_type": "execute_result"
    }
   ],
   "source": [
    "# 8. Train\n",
    "\n",
    "from sklearn.linear_model import LinearRegression\n",
    "\n",
    "linear_model = LinearRegression() # y = wx + b(bias, intercept)\n",
    "linear_model.fit(X_train, y_train) # fit -> trian"
   ]
  },
  {
   "cell_type": "code",
   "execution_count": 17,
   "metadata": {
    "colab": {
     "base_uri": "https://localhost:8080/",
     "height": 119
    },
    "id": "tcoRznDjli5z",
    "outputId": "0725567e-7130-41ce-9a6b-f530fa69080a"
   },
   "outputs": [],
   "source": [
    "# 8-1. Train_2\n",
    "\n",
    "from sklearn.tree import DecisionTreeRegressor\n",
    "# fit을 동시에 할 수 있음\n",
    "tree_model = DecisionTreeRegressor().fit(X_train, y_train)\n"
   ]
  },
  {
   "cell_type": "code",
   "execution_count": 18,
   "metadata": {},
   "outputs": [
    {
     "data": {
      "text/plain": [
       "array([[ 0.        ,  0.        ,  1.        , 38.        ,  9.14285714],\n",
       "       [ 0.        ,  0.        ,  1.        , 27.        ,  3.        ]])"
      ]
     },
     "execution_count": 18,
     "metadata": {},
     "output_type": "execute_result"
    }
   ],
   "source": [
    "X_test"
   ]
  },
  {
   "cell_type": "code",
   "execution_count": 19,
   "metadata": {
    "colab": {
     "base_uri": "https://localhost:8080/",
     "height": 85
    },
    "id": "BzX1hsPnhsBh",
    "outputId": "3cc9aadd-34c2-4647-926a-ed1598f98938"
   },
   "outputs": [
    {
     "name": "stdout",
     "output_type": "stream",
     "text": [
      "[50666.69395455 34855.43405324]\n",
      "4    61000\n",
      "0    48000\n",
      "Name: Salary, dtype: int64\n"
     ]
    }
   ],
   "source": [
    "# 9. Score\n",
    "y_pred_lr = linear_model.predict(X_test)\n",
    "print(y_pred_lr)\n",
    "print(y_test)"
   ]
  },
  {
   "cell_type": "code",
   "execution_count": 20,
   "metadata": {},
   "outputs": [
    {
     "name": "stdout",
     "output_type": "stream",
     "text": [
      "[61000. 52000.]\n",
      "4    61000\n",
      "0    48000\n",
      "Name: Salary, dtype: int64\n"
     ]
    }
   ],
   "source": [
    "y_pred_tree = tree_model.predict(X_test)\n",
    "print(y_pred_tree)\n",
    "print(y_test)"
   ]
  },
  {
   "cell_type": "code",
   "execution_count": 21,
   "metadata": {
    "colab": {
     "base_uri": "https://localhost:8080/",
     "height": 68
    },
    "id": "UxYkqzfLhsBt",
    "outputId": "b8a634df-5e5e-43bc-ae20-0690cf39a04e"
   },
   "outputs": [
    {
     "name": "stdout",
     "output_type": "stream",
     "text": [
      "LinerRegression_MAE: 11738.93599610473\n",
      "LinerRegression_MSE: 139778413.8788216\n",
      "LinerRegression_RMSE: 11822.792135482277\n",
      "LinerRegression_R^2: -2.3083648255342393\n"
     ]
    }
   ],
   "source": [
    "# 10. Evalute\n",
    "\n",
    "# 회귀 지표 : mae, mse, R^2 확인\n",
    "from sklearn.metrics import mean_absolute_error, mean_squared_error, r2_score\n",
    "\n",
    "mae = mean_absolute_error(y_test, y_pred_lr)\n",
    "mse = mean_squared_error(y_test, y_pred_lr)\n",
    "rmse = mean_squared_error(y_test, y_pred_lr, squared = False) # rmse\n",
    "r2 = r2_score(y_test, y_pred_lr)\n",
    "\n",
    "print('LinerRegression_MAE:', mae)\n",
    "print('LinerRegression_MSE:', mse)\n",
    "print('LinerRegression_RMSE:', rmse)\n",
    "print('LinerRegression_R^2:', r2)"
   ]
  },
  {
   "cell_type": "code",
   "execution_count": 23,
   "metadata": {},
   "outputs": [
    {
     "name": "stdout",
     "output_type": "stream",
     "text": [
      "DecisionTreeRegressor_MAE: 2000.0\n",
      "DecisionTreeRegressor_MSE: 8000000.0\n",
      "LinerRegression_RMSE: 2828.42712474619\n",
      "DecisionTreeRegressor_R^2: 0.8106508875739645\n"
     ]
    }
   ],
   "source": [
    "# 트리모델\n",
    "from sklearn.metrics import mean_absolute_error, mean_squared_error, r2_score\n",
    "\n",
    "mae = mean_absolute_error(y_test, y_pred_tree)\n",
    "mse = mean_squared_error(y_test, y_pred_tree)\n",
    "rmse = mean_squared_error(y_test, y_pred_tree, squared = False)\n",
    "r2 = r2_score(y_test, y_pred_tree)\n",
    "\n",
    "print('DecisionTreeRegressor_MAE:', mae)\n",
    "print('DecisionTreeRegressor_MSE:', mse)\n",
    "print('LinerRegression_RMSE:', rmse)\n",
    "print('DecisionTreeRegressor_R^2:', r2)"
   ]
  },
  {
   "cell_type": "code",
   "execution_count": null,
   "metadata": {},
   "outputs": [],
   "source": []
  }
 ],
 "metadata": {
  "colab": {
   "name": "(Full)Regression_with_Python.ipynb",
   "provenance": []
  },
  "kernelspec": {
   "display_name": "py38_tensorflow",
   "language": "python",
   "name": "conda-env-py38_tensorflow-py"
  },
  "language_info": {
   "codemirror_mode": {
    "name": "ipython",
    "version": 3
   },
   "file_extension": ".py",
   "mimetype": "text/x-python",
   "name": "python",
   "nbconvert_exporter": "python",
   "pygments_lexer": "ipython3",
   "version": "3.8.8"
  }
 },
 "nbformat": 4,
 "nbformat_minor": 1
}
