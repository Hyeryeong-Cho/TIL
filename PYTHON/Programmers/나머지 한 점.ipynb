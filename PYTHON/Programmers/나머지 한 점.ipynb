{
 "cells": [
  {
   "cell_type": "code",
   "execution_count": 2,
   "source": [
    "# 정사각형 좌표 구하기\r\n",
    "v = [[1, 1], [2, 2], [1, 2]]\r\n",
    "def solution(v):\r\n",
    "    x_list = [v[i][0] for i in range(len(v))]\r\n",
    "    y_list = [v[i][1] for i in range(len(v))]\r\n",
    "    \r\n",
    "    return \r\n"
   ],
   "outputs": [],
   "metadata": {}
  },
  {
   "cell_type": "code",
   "execution_count": 33,
   "source": [
    "x_list = [v[i][0] for i in range(len(v))]\r\n",
    "y_list = [v[i][1] for i in range(len(v))]"
   ],
   "outputs": [],
   "metadata": {}
  },
  {
   "cell_type": "code",
   "execution_count": 34,
   "source": [
    "x_set = list(set(x_list))\r\n",
    "y_set = list(set(y_list))"
   ],
   "outputs": [],
   "metadata": {}
  },
  {
   "cell_type": "code",
   "execution_count": 47,
   "source": [
    "def get_x_y(v): \r\n",
    "    x_list = [v[i][0] for i in range(len(v))]\r\n",
    "    y_list = [v[i][1] for i in range(len(v))]\r\n",
    "    x_set = list(set(x_list))\r\n",
    "    y_set = list(set(y_list))\r\n",
    "\r\n",
    "    for i in range(2):\r\n",
    "        if x_list.count(x_set[i]) == 1:\r\n",
    "            X = x_set[i]\r\n",
    "        if y_list.count(y_set[i]) == 1:\r\n",
    "            Y = y_set[i]\r\n",
    "    return [X, Y]\r\n"
   ],
   "outputs": [],
   "metadata": {}
  },
  {
   "cell_type": "code",
   "execution_count": 48,
   "source": [
    "v = [[1, 4], [3, 4], [3, 10]]\r\n",
    "get_x_y(v)"
   ],
   "outputs": [
    {
     "output_type": "execute_result",
     "data": {
      "text/plain": [
       "[1, 10]"
      ]
     },
     "metadata": {},
     "execution_count": 48
    }
   ],
   "metadata": {}
  },
  {
   "cell_type": "markdown",
   "source": [
    "## 다른 사람 풀이 : XOR\r\n"
   ],
   "metadata": {}
  },
  {
   "cell_type": "code",
   "execution_count": 49,
   "source": [
    "def solution(pos):\r\n",
    "    x = pos[0][0] ^ pos[1][0] ^ pos[2][0]\r\n",
    "    y = pos[0][1] ^ pos[1][1] ^ pos[2][1]\r\n",
    "    return [x,y]"
   ],
   "outputs": [],
   "metadata": {}
  },
  {
   "cell_type": "code",
   "execution_count": 50,
   "source": [
    "pos = [[1, 4], [3, 4], [3, 10]]\r\n",
    "solution(pos)"
   ],
   "outputs": [
    {
     "output_type": "execute_result",
     "data": {
      "text/plain": [
       "[1, 10]"
      ]
     },
     "metadata": {},
     "execution_count": 50
    }
   ],
   "metadata": {}
  },
  {
   "cell_type": "code",
   "execution_count": 58,
   "source": [
    "1 ^ 3 ^ 3"
   ],
   "outputs": [
    {
     "output_type": "execute_result",
     "data": {
      "text/plain": [
       "1"
      ]
     },
     "metadata": {},
     "execution_count": 58
    }
   ],
   "metadata": {}
  },
  {
   "cell_type": "code",
   "execution_count": 60,
   "source": [
    "3 ^ 1 ^ 3"
   ],
   "outputs": [
    {
     "output_type": "execute_result",
     "data": {
      "text/plain": [
       "1"
      ]
     },
     "metadata": {},
     "execution_count": 60
    }
   ],
   "metadata": {}
  },
  {
   "cell_type": "code",
   "execution_count": 61,
   "source": [
    "5 ^ 26 ^ 5"
   ],
   "outputs": [
    {
     "output_type": "execute_result",
     "data": {
      "text/plain": [
       "26"
      ]
     },
     "metadata": {},
     "execution_count": 61
    }
   ],
   "metadata": {}
  }
 ],
 "metadata": {
  "orig_nbformat": 4,
  "language_info": {
   "name": "python",
   "version": "3.8.10",
   "mimetype": "text/x-python",
   "codemirror_mode": {
    "name": "ipython",
    "version": 3
   },
   "pygments_lexer": "ipython3",
   "nbconvert_exporter": "python",
   "file_extension": ".py"
  },
  "kernelspec": {
   "name": "python3",
   "display_name": "Python 3.8.10 64-bit ('quantum': conda)"
  },
  "interpreter": {
   "hash": "e47b8a4f3acce32868f8270ac76768021906721b08af0a806aadcbc5b0859d28"
  }
 },
 "nbformat": 4,
 "nbformat_minor": 2
}