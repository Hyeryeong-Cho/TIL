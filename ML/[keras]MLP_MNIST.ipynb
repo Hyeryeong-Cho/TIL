{
 "cells": [
  {
   "cell_type": "markdown",
   "metadata": {
    "id": "0EA1u4vCXxyz"
   },
   "source": [
    "### Keras 모델 생성/학습 - MNIST : MLP\n",
    "[Keras Dataset](https://keras.io/ko/datasets/#mnist)"
   ]
  },
  {
   "cell_type": "markdown",
   "metadata": {},
   "source": [
    "### 데이터 불러오기 및 데이터 확인"
   ]
  },
  {
   "cell_type": "code",
   "execution_count": 1,
   "metadata": {
    "id": "9TIg2lB4Xxy2"
   },
   "outputs": [],
   "source": [
    "# 데이터 불러오기\n",
    "from keras.datasets import mnist\n",
    "\n",
    "(X_train, y_train), (X_test, y_test) = mnist.load_data()"
   ]
  },
  {
   "cell_type": "code",
   "execution_count": 2,
   "metadata": {
    "scrolled": false
   },
   "outputs": [
    {
     "name": "stdout",
     "output_type": "stream",
     "text": [
      "train: (60000, 28, 28) (60000,)\n",
      "test:  (10000, 28, 28) (10000,)\n"
     ]
    }
   ],
   "source": [
    "print('train:',X_train.shape, y_train.shape)\n",
    "print('test: ',X_test.shape, y_test.shape)"
   ]
  },
  {
   "cell_type": "markdown",
   "metadata": {},
   "source": [
    "#### 데이터 셋은 3차원, 데이터는 2차원  \n",
    "(60000, 28,28) -> 데이터 셋에서 데이터 개수 60000, 데이터는 2차원(28, 28)  \n",
    "흑백 데이터의 경우 channel이 1이므로 데이터 셋이 3차원\n",
    "\n",
    "#### 데이터 셋은 4차원, 데이터는 3차원\n",
    "(10000,28,28,3)  \n",
    "-> 데이터 개수 10000, 데이터(28,28,3)  \n",
    "-> (28,28,3) channel = 3 컬러 이미지"
   ]
  },
  {
   "cell_type": "code",
   "execution_count": 3,
   "metadata": {
    "id": "MmGb35gTXxzD",
    "scrolled": true
   },
   "outputs": [
    {
     "name": "stdout",
     "output_type": "stream",
     "text": [
      "label:  7\n"
     ]
    },
    {
     "data": {
      "image/png": "[encoded data removed]",
      "text/plain": [
       "<Figure size 432x288 with 1 Axes>"
      ]
     },
     "metadata": {
      "needs_background": "light"
     },
     "output_type": "display_data"
    }
   ],
   "source": [
    "# 이미지 확인하기\n",
    "from PIL import Image\n",
    "import matplotlib.pyplot as plt\n",
    "import cv2\n",
    "\n",
    "plt.imshow(X_train[123], cmap =plt.cm.gray)\n",
    "print('label: ', y_train[123])"
   ]
  },
  {
   "cell_type": "code",
   "execution_count": 4,
   "metadata": {},
   "outputs": [
    {
     "name": "stdout",
     "output_type": "stream",
     "text": [
      "[[  0   0   0   0   0   0   0   0   0   0   0   0   0   0   0   0   0   0\n",
      "    0   0   0   0   0   0   0   0   0   0]\n",
      " [  0   0   0   0   0   0   0   0   0   0   0   0   0   0   0   0   0   0\n",
      "    0   0   0   0   0   0   0   0   0   0]\n",
      " [  0   0   0   0   0   0   0   0   0   0   0   0   0   0   0   0   0   0\n",
      "    0   0   0   0   0   0   0   0   0   0]\n",
      " [  0   0   0   0   0   0   0   0   0   0   0   0   0   0   0   0   0   0\n",
      "    0   0   0   0   0   0   0   0   0   0]\n",
      " [  0   0   0   0   0   0   0   0   0   0   0   0   0   0   0   0   0   0\n",
      "    0   0   0   0   0   0   0   0   0   0]\n",
      " [  0   0   0   0   0   0   0   0   0   0   0   0   0   0   0   0   0   0\n",
      "    0   0   0   0   0   0   0   0   0   0]\n",
      " [  0   0   0   0   0   0   0   0   0   0   0   0   0   0   0   0   0   0\n",
      "    0   0   0   0   0   0   0   0   0   0]\n",
      " [  0   0   0   0   0   0   0   0   0   0   0   0   0   0   0   0   0   0\n",
      "    0   0   0   0   0   0   0   0   0   0]\n",
      " [  0   0   0   0   0   0   0   0   0   0  38 113 113 113 114 238 253 253\n",
      "  253 255 206  88   0   0   0   0   0   0]\n",
      " [  0   0   0   0   0   0   0  57  85 147 234 252 252 252 253 252 252 252\n",
      "  252 253 252 246  75   0   0   0   0   0]\n",
      " [  0   0   0   0   0  67 197 234 252 253 252 252 252 252 196 195 195 195\n",
      "  195 253 252 252  84   0   0   0   0   0]\n",
      " [  0   0   0   0   0  85 252 252 252 225 223 114  84  84   0   0   0   0\n",
      "   16 253 252 214  28   0   0   0   0   0]\n",
      " [  0   0   0   0   0  38 221 157 112   0   0   0   0   0   0   0   0  16\n",
      "  203 253 252 118   0   0   0   0   0   0]\n",
      " [  0   0   0   0   0   0   0   0   0   0   0   0   0   0   0   0  26 207\n",
      "  253 255 168   0   0   0   0   0   0   0]\n",
      " [  0   0   0   0   0   0   0   0   0   0   0   0   0   0   0   0 104 252\n",
      "  252 215  33   0   0   0   0   0   0   0]\n",
      " [  0   0   0   0   0   0   0   0   0   0   0   0   0   0   0  67 240 252\n",
      "  220  31   0   0   0   0   0   0   0   0]\n",
      " [  0   0   0   0   0   0   0   0   0   0   0   0   0   0  29 181 252 217\n",
      "   37   0   0   0   0   0   0   0   0   0]\n",
      " [  0   0   0   0   0   0   0   0   0   0   0   0   0   0 253 252 252  84\n",
      "    0   0   0   0   0   0   0   0   0   0]\n",
      " [  0   0   0   0   0   0   0   0   0   0   0   0  76 191 255 215 110   0\n",
      "    0   0   0   0   0   0   0   0   0   0]\n",
      " [  0   0   0   0   0   0   0   0   0   0   0  19 196 252 253 121   0   0\n",
      "    0   0   0   0   0   0   0   0   0   0]\n",
      " [  0   0   0   0   0   0   0   0   0   0  67 209 252 252  56   6   0   0\n",
      "    0   0   0   0   0   0   0   0   0   0]\n",
      " [  0   0   0   0   0   0   0   0   0  29 181 252 217  84   0   0   0   0\n",
      "    0   0   0   0   0   0   0   0   0   0]\n",
      " [  0   0   0   0   0   0   0   0   0 253 252 252  84   0   0   0   0   0\n",
      "    0   0   0   0   0   0   0   0   0   0]\n",
      " [  0   0   0   0   0   0   0  13 191 255 215  31   0   0   0   0   0   0\n",
      "    0   0   0   0   0   0   0   0   0   0]\n",
      " [  0   0   0   0   0   0   0 154 252 253 121   0   0   0   0   0   0   0\n",
      "    0   0   0   0   0   0   0   0   0   0]\n",
      " [  0   0   0   0   0   0  13 187 252 133   6   0   0   0   0   0   0   0\n",
      "    0   0   0   0   0   0   0   0   0   0]\n",
      " [  0   0   0   0   0   0  57 252 252   0   0   0   0   0   0   0   0   0\n",
      "    0   0   0   0   0   0   0   0   0   0]\n",
      " [  0   0   0   0   0   0  57 252 252   0   0   0   0   0   0   0   0   0\n",
      "    0   0   0   0   0   0   0   0   0   0]]\n"
     ]
    }
   ],
   "source": [
    "# 이미지 데이터 확인하기\n",
    "print(X_train[123])"
   ]
  },
  {
   "cell_type": "markdown",
   "metadata": {},
   "source": [
    "### 이미지 데이터 전처리"
   ]
  },
  {
   "cell_type": "code",
   "execution_count": 5,
   "metadata": {},
   "outputs": [
    {
     "data": {
      "text/plain": [
       "(60000, 28, 28)"
      ]
     },
     "execution_count": 5,
     "metadata": {},
     "output_type": "execute_result"
    }
   ],
   "source": [
    "X_train.shape #(데이터 전체의 개수, pixel)"
   ]
  },
  {
   "cell_type": "code",
   "execution_count": 6,
   "metadata": {
    "id": "nosoxNNjXxzP"
   },
   "outputs": [],
   "source": [
    "# 이미지 데이터 전처리 : 2차원->1차원 🌟🌟🌟\n",
    "def reshape_to_1d(df):\n",
    "    return df.reshape(-1, df.shape[1]*df.shape[2]) # .reshape(전체데이터 개수, 데이터 pixel) (df.shape[0], -1)"
   ]
  },
  {
   "cell_type": "code",
   "execution_count": 7,
   "metadata": {
    "scrolled": true
   },
   "outputs": [],
   "source": [
    "X_train= reshape_to_1d(X_train)\n",
    "X_test = reshape_to_1d(X_test)"
   ]
  },
  {
   "cell_type": "code",
   "execution_count": 8,
   "metadata": {},
   "outputs": [
    {
     "name": "stdout",
     "output_type": "stream",
     "text": [
      "(60000, 784)\n",
      "(10000, 784)\n"
     ]
    }
   ],
   "source": [
    "print(X_train.shape)\n",
    "print(X_test.shape)"
   ]
  },
  {
   "cell_type": "code",
   "execution_count": 9,
   "metadata": {
    "id": "YfiCskEHXxzT"
   },
   "outputs": [],
   "source": [
    "# 이미지 데이터 전처리 : Normalzation (MinMaxScaler -> 전체 범위는 동일함)\n",
    "from sklearn.preprocessing import MinMaxScaler\n",
    "\n",
    "normalization = MinMaxScaler()\n",
    "normalization.fit(X_train)\n",
    "\n",
    "X_train_norm = normalization.transform(X_train)\n",
    "X_test_norm = normalization.transform(X_test)"
   ]
  },
  {
   "cell_type": "code",
   "execution_count": 10,
   "metadata": {
    "scrolled": false
   },
   "outputs": [
    {
     "data": {
      "text/html": [
       "<div>\n",
       "<style scoped>\n",
       "    .dataframe tbody tr th:only-of-type {\n",
       "        vertical-align: middle;\n",
       "    }\n",
       "\n",
       "    .dataframe tbody tr th {\n",
       "        vertical-align: top;\n",
       "    }\n",
       "\n",
       "    .dataframe thead th {\n",
       "        text-align: right;\n",
       "    }\n",
       "</style>\n",
       "<table border=\"1\" class=\"dataframe\">\n",
       "  <thead>\n",
       "    <tr style=\"text-align: right;\">\n",
       "      <th></th>\n",
       "      <th>0</th>\n",
       "    </tr>\n",
       "  </thead>\n",
       "  <tbody>\n",
       "    <tr>\n",
       "      <th>count</th>\n",
       "      <td>4.704000e+07</td>\n",
       "    </tr>\n",
       "    <tr>\n",
       "      <th>mean</th>\n",
       "      <td>3.331842e+01</td>\n",
       "    </tr>\n",
       "    <tr>\n",
       "      <th>std</th>\n",
       "      <td>7.856749e+01</td>\n",
       "    </tr>\n",
       "    <tr>\n",
       "      <th>min</th>\n",
       "      <td>0.000000e+00</td>\n",
       "    </tr>\n",
       "    <tr>\n",
       "      <th>25%</th>\n",
       "      <td>0.000000e+00</td>\n",
       "    </tr>\n",
       "    <tr>\n",
       "      <th>50%</th>\n",
       "      <td>0.000000e+00</td>\n",
       "    </tr>\n",
       "    <tr>\n",
       "      <th>75%</th>\n",
       "      <td>0.000000e+00</td>\n",
       "    </tr>\n",
       "    <tr>\n",
       "      <th>max</th>\n",
       "      <td>2.550000e+02</td>\n",
       "    </tr>\n",
       "  </tbody>\n",
       "</table>\n",
       "</div>"
      ],
      "text/plain": [
       "                  0\n",
       "count  4.704000e+07\n",
       "mean   3.331842e+01\n",
       "std    7.856749e+01\n",
       "min    0.000000e+00\n",
       "25%    0.000000e+00\n",
       "50%    0.000000e+00\n",
       "75%    0.000000e+00\n",
       "max    2.550000e+02"
      ]
     },
     "execution_count": 10,
     "metadata": {},
     "output_type": "execute_result"
    }
   ],
   "source": [
    "import pandas as pd\n",
    "check_Train = pd.DataFrame(X_train.reshape(-1))\n",
    "check_Train.describe()"
   ]
  },
  {
   "cell_type": "code",
   "execution_count": 11,
   "metadata": {},
   "outputs": [
    {
     "data": {
      "text/html": [
       "<div>\n",
       "<style scoped>\n",
       "    .dataframe tbody tr th:only-of-type {\n",
       "        vertical-align: middle;\n",
       "    }\n",
       "\n",
       "    .dataframe tbody tr th {\n",
       "        vertical-align: top;\n",
       "    }\n",
       "\n",
       "    .dataframe thead th {\n",
       "        text-align: right;\n",
       "    }\n",
       "</style>\n",
       "<table border=\"1\" class=\"dataframe\">\n",
       "  <thead>\n",
       "    <tr style=\"text-align: right;\">\n",
       "      <th></th>\n",
       "      <th>0</th>\n",
       "    </tr>\n",
       "  </thead>\n",
       "  <tbody>\n",
       "    <tr>\n",
       "      <th>count</th>\n",
       "      <td>7.840000e+06</td>\n",
       "    </tr>\n",
       "    <tr>\n",
       "      <th>mean</th>\n",
       "      <td>3.379122e+01</td>\n",
       "    </tr>\n",
       "    <tr>\n",
       "      <th>std</th>\n",
       "      <td>7.917247e+01</td>\n",
       "    </tr>\n",
       "    <tr>\n",
       "      <th>min</th>\n",
       "      <td>0.000000e+00</td>\n",
       "    </tr>\n",
       "    <tr>\n",
       "      <th>25%</th>\n",
       "      <td>0.000000e+00</td>\n",
       "    </tr>\n",
       "    <tr>\n",
       "      <th>50%</th>\n",
       "      <td>0.000000e+00</td>\n",
       "    </tr>\n",
       "    <tr>\n",
       "      <th>75%</th>\n",
       "      <td>0.000000e+00</td>\n",
       "    </tr>\n",
       "    <tr>\n",
       "      <th>max</th>\n",
       "      <td>2.550000e+02</td>\n",
       "    </tr>\n",
       "  </tbody>\n",
       "</table>\n",
       "</div>"
      ],
      "text/plain": [
       "                  0\n",
       "count  7.840000e+06\n",
       "mean   3.379122e+01\n",
       "std    7.917247e+01\n",
       "min    0.000000e+00\n",
       "25%    0.000000e+00\n",
       "50%    0.000000e+00\n",
       "75%    0.000000e+00\n",
       "max    2.550000e+02"
      ]
     },
     "execution_count": 11,
     "metadata": {},
     "output_type": "execute_result"
    }
   ],
   "source": [
    "check_Test = pd.DataFrame(X_test.reshape(-1))\n",
    "check_Test.describe()"
   ]
  },
  {
   "cell_type": "code",
   "execution_count": 12,
   "metadata": {},
   "outputs": [],
   "source": [
    "\n",
    "X_train = X_train/255 \n",
    "X_test = X_test/255 "
   ]
  },
  {
   "cell_type": "markdown",
   "metadata": {},
   "source": [
    "MinMaxScaler로 normalization을 했더니, X_test에서 max 값이 3으로 제대로 안되어 있는 것을 알 수 있음  \n",
    "그러므로 0~255의 범위를 가졌으므로 255로 나눠서 normalization을 진행 "
   ]
  },
  {
   "cell_type": "code",
   "execution_count": 13,
   "metadata": {
    "id": "TKtO7TUoXxzX"
   },
   "outputs": [
    {
     "data": {
      "text/plain": [
       "array([5, 0, 4, ..., 5, 6, 8], dtype=uint8)"
      ]
     },
     "execution_count": 13,
     "metadata": {},
     "output_type": "execute_result"
    }
   ],
   "source": [
    "# 4. Label 전처리 (one-hot encoding) \n",
    "y_train"
   ]
  },
  {
   "cell_type": "code",
   "execution_count": 14,
   "metadata": {},
   "outputs": [],
   "source": [
    "from keras.utils.np_utils import to_categorical   \n",
    "\n",
    "y_train = to_categorical(y_train)\n",
    "y_test = to_categorical(y_test)"
   ]
  },
  {
   "cell_type": "code",
   "execution_count": 15,
   "metadata": {},
   "outputs": [
    {
     "data": {
      "text/plain": [
       "array([0., 0., 0., 0., 0., 1., 0., 0., 0., 0.], dtype=float32)"
      ]
     },
     "execution_count": 15,
     "metadata": {},
     "output_type": "execute_result"
    }
   ],
   "source": [
    "y_train[0]"
   ]
  },
  {
   "cell_type": "markdown",
   "metadata": {},
   "source": [
    "### MLP"
   ]
  },
  {
   "cell_type": "code",
   "execution_count": 16,
   "metadata": {},
   "outputs": [],
   "source": [
    "# 패키지 불러오기\n",
    "from tensorflow import keras\n",
    "from keras import layers\n",
    "from keras.layers import Dense, Dropout\n",
    "from keras.callbacks import EarlyStopping, ModelCheckpoint"
   ]
  },
  {
   "cell_type": "code",
   "execution_count": 17,
   "metadata": {},
   "outputs": [
    {
     "data": {
      "text/plain": [
       "(60000, 784)"
      ]
     },
     "execution_count": 17,
     "metadata": {},
     "output_type": "execute_result"
    }
   ],
   "source": [
    "X_train.shape"
   ]
  },
  {
   "cell_type": "code",
   "execution_count": 18,
   "metadata": {},
   "outputs": [
    {
     "data": {
      "text/plain": [
       "(60000, 10)"
      ]
     },
     "execution_count": 18,
     "metadata": {},
     "output_type": "execute_result"
    }
   ],
   "source": [
    "y_train.shape"
   ]
  },
  {
   "cell_type": "code",
   "execution_count": 26,
   "metadata": {
    "id": "rbn2UpioXxzc"
   },
   "outputs": [
    {
     "name": "stdout",
     "output_type": "stream",
     "text": [
      "Epoch 1/50\n",
      "750/750 [==============================] - 4s 4ms/step - loss: 0.4163 - accuracy: 0.8737 - val_loss: 0.1113 - val_accuracy: 0.9655\n",
      "Epoch 2/50\n",
      "750/750 [==============================] - 3s 4ms/step - loss: 0.0959 - accuracy: 0.9705 - val_loss: 0.0951 - val_accuracy: 0.9704\n",
      "Epoch 3/50\n",
      "750/750 [==============================] - 3s 4ms/step - loss: 0.0600 - accuracy: 0.9811 - val_loss: 0.0872 - val_accuracy: 0.9742\n",
      "Epoch 4/50\n",
      "750/750 [==============================] - 3s 4ms/step - loss: 0.0431 - accuracy: 0.9870 - val_loss: 0.0936 - val_accuracy: 0.9747\n",
      "Epoch 5/50\n",
      "750/750 [==============================] - 3s 4ms/step - loss: 0.0352 - accuracy: 0.9884 - val_loss: 0.0877 - val_accuracy: 0.9766\n",
      "Epoch 6/50\n",
      "750/750 [==============================] - 3s 4ms/step - loss: 0.0303 - accuracy: 0.9900 - val_loss: 0.1050 - val_accuracy: 0.9712\n",
      "Epoch 7/50\n",
      "750/750 [==============================] - 3s 4ms/step - loss: 0.0275 - accuracy: 0.9913 - val_loss: 0.0851 - val_accuracy: 0.9782\n",
      "Epoch 8/50\n",
      "750/750 [==============================] - 3s 4ms/step - loss: 0.0206 - accuracy: 0.9931 - val_loss: 0.0993 - val_accuracy: 0.9754\n",
      "Epoch 9/50\n",
      "750/750 [==============================] - 3s 4ms/step - loss: 0.0196 - accuracy: 0.9936 - val_loss: 0.1081 - val_accuracy: 0.9748\n",
      "Epoch 10/50\n",
      "750/750 [==============================] - 3s 4ms/step - loss: 0.0192 - accuracy: 0.9940 - val_loss: 0.0973 - val_accuracy: 0.9794\n",
      "Epoch 11/50\n",
      "750/750 [==============================] - 3s 4ms/step - loss: 0.0174 - accuracy: 0.9939 - val_loss: 0.0889 - val_accuracy: 0.9808\n",
      "Epoch 12/50\n",
      "750/750 [==============================] - 3s 4ms/step - loss: 0.0149 - accuracy: 0.9950 - val_loss: 0.1103 - val_accuracy: 0.9771\n",
      "Epoch 13/50\n",
      "750/750 [==============================] - 3s 4ms/step - loss: 0.0181 - accuracy: 0.9942 - val_loss: 0.0943 - val_accuracy: 0.9796\n",
      "Epoch 14/50\n",
      "750/750 [==============================] - 3s 4ms/step - loss: 0.0115 - accuracy: 0.9961 - val_loss: 0.1232 - val_accuracy: 0.9768\n",
      "Epoch 15/50\n",
      "750/750 [==============================] - 3s 4ms/step - loss: 0.0160 - accuracy: 0.9950 - val_loss: 0.1106 - val_accuracy: 0.9787\n",
      "Epoch 16/50\n",
      "750/750 [==============================] - 3s 4ms/step - loss: 0.0145 - accuracy: 0.9959 - val_loss: 0.1373 - val_accuracy: 0.9737\n",
      "Epoch 17/50\n",
      "750/750 [==============================] - 3s 4ms/step - loss: 0.0114 - accuracy: 0.9962 - val_loss: 0.1039 - val_accuracy: 0.9799\n",
      "Epoch 18/50\n",
      "750/750 [==============================] - 3s 4ms/step - loss: 0.0139 - accuracy: 0.9956 - val_loss: 0.1006 - val_accuracy: 0.9806\n",
      "Epoch 19/50\n",
      "750/750 [==============================] - 3s 4ms/step - loss: 0.0099 - accuracy: 0.9969 - val_loss: 0.1170 - val_accuracy: 0.9795\n",
      "Epoch 20/50\n",
      "750/750 [==============================] - 3s 4ms/step - loss: 0.0106 - accuracy: 0.9966 - val_loss: 0.1143 - val_accuracy: 0.9784\n",
      "Epoch 21/50\n",
      "750/750 [==============================] - 3s 4ms/step - loss: 0.0109 - accuracy: 0.9966 - val_loss: 0.1211 - val_accuracy: 0.9772\n",
      "Epoch 22/50\n",
      "750/750 [==============================] - 3s 4ms/step - loss: 0.0098 - accuracy: 0.9972 - val_loss: 0.1320 - val_accuracy: 0.9791\n"
     ]
    }
   ],
   "source": [
    "# 5. 모델 생성 : MLP\n",
    "model = keras.Sequential()\n",
    "\n",
    "model.add(Dense(512, input_dim = X_train.shape[1], activation = 'relu'))\n",
    "#model.add(Dense(512, input_shape = X_train.shape[1], activation = 'relu'))\n",
    "model.add(Dropout(0.1))\n",
    "model.add(Dense(256, activation = 'relu'))\n",
    "model.add(Dense(y_train.shape[1], activation = 'softmax'))\n",
    "\n",
    "# 6. Compile - Optimizer, Loss function 설정\n",
    "model.compile(loss = 'categorical_crossentropy',\n",
    "             optimizer = 'adam',\n",
    "             metrics = ['accuracy'])\n",
    "\n",
    "# early stopping\n",
    "early_stopping = EarlyStopping(monitor = 'val_loss',   patience = 15) \n",
    "# 베스트 모델 저장(.h5파일)\n",
    "model_path = 'keras_house_model.h5'\n",
    "model_checkpoint = ModelCheckpoint(filepath = model_path,\n",
    "                                  monitor = 'val_loss')\n",
    "\n",
    "# 7. 모델 학습시키기\n",
    "batch_size = 64\n",
    "epochs = 50\n",
    "hist = model.fit(X_train, y_train,\n",
    "                batch_size = batch_size,\n",
    "                validation_split = 0.2,\n",
    "                epochs = epochs,\n",
    "                verbose = 1,\n",
    "                callbacks = [early_stopping, model_checkpoint])"
   ]
  },
  {
   "cell_type": "code",
   "execution_count": 27,
   "metadata": {
    "id": "pgYRoXaJXxzn"
   },
   "outputs": [
    {
     "name": "stdout",
     "output_type": "stream",
     "text": [
      "1875/1875 [==============================] - 4s 2ms/step - loss: 0.0305 - accuracy: 0.9945\n",
      "313/313 [==============================] - 0s 2ms/step - loss: 0.1106 - accuracy: 0.9797\n"
     ]
    },
    {
     "data": {
      "text/plain": [
       "[0.11063675582408905, 0.9797000288963318]"
      ]
     },
     "execution_count": 27,
     "metadata": {},
     "output_type": "execute_result"
    }
   ],
   "source": [
    "# 8. 모델 평가하기\n",
    "model.evaluate(X_train, y_train)\n",
    "model.evaluate(X_test, y_test)"
   ]
  },
  {
   "cell_type": "code",
   "execution_count": 28,
   "metadata": {
    "id": "G7kPGgJEXxzv"
   },
   "outputs": [
    {
     "data": {
      "image/png": "[encoded data removed]",
      "text/plain": [
       "<Figure size 432x288 with 1 Axes>"
      ]
     },
     "metadata": {
      "needs_background": "light"
     },
     "output_type": "display_data"
    },
    {
     "data": {
      "image/png": "[encoded data removed]",
      "text/plain": [
       "<Figure size 432x288 with 1 Axes>"
      ]
     },
     "metadata": {
      "needs_background": "light"
     },
     "output_type": "display_data"
    }
   ],
   "source": [
    "# 9. 학습 시각화하기\n",
    "import matplotlib.pyplot as plt\n",
    "\n",
    "# 정확도 그래프\n",
    "plt.plot(hist.history['accuracy'])\n",
    "plt.plot(hist.history['val_accuracy'])\n",
    "\n",
    "plt.xlabel('Epoch')\n",
    "plt.ylabel('Accuracy')\n",
    "plt.legend(['train', 'val'], loc = 'upper left')\n",
    "plt.title('Accuracy')\n",
    "plt.show()\n",
    "\n",
    "# loss 그래프\n",
    "plt.plot(hist.history['loss'])\n",
    "plt.plot(hist.history['val_loss'])\n",
    "\n",
    "plt.xlabel('Epoch')\n",
    "plt.ylabel('loss')\n",
    "plt.legend(['train', 'val'], loc = 'upper left')\n",
    "plt.title('Loss Function')\n",
    "plt.show()"
   ]
  },
  {
   "cell_type": "code",
   "execution_count": 29,
   "metadata": {
    "id": "FLhicf8aXxzr"
   },
   "outputs": [
    {
     "data": {
      "image/png": "[encoded data removed]",
      "text/plain": [
       "<Figure size 216x216 with 1 Axes>"
      ]
     },
     "metadata": {
      "needs_background": "light"
     },
     "output_type": "display_data"
    },
    {
     "data": {
      "image/png": "[encoded data removed]",
      "text/plain": [
       "<Figure size 216x216 with 1 Axes>"
      ]
     },
     "metadata": {
      "needs_background": "light"
     },
     "output_type": "display_data"
    },
    {
     "data": {
      "image/png": "[encoded data removed]",
      "text/plain": [
       "<Figure size 216x216 with 1 Axes>"
      ]
     },
     "metadata": {
      "needs_background": "light"
     },
     "output_type": "display_data"
    }
   ],
   "source": [
    "# 10. 이미지를 랜덤으로 선택해 훈련된 모델로 예측 🖼\n",
    "\n",
    "import numpy as np\n",
    "for index in np.random.choice(len(y_test), 3, replace = False):\n",
    "    test_image = X_test[index].reshape(1, 784)\n",
    "    predicted = model.predict(test_image)\n",
    "    label = y_test[index]\n",
    "    result_label = np.where(label == np.amax(label))\n",
    "    result_predicted = np.where(predicted == np.amax(predicted))\n",
    "    title = \"Label value = %s  Predicted value = %s \" % (label, result_predicted[1])\n",
    "    \n",
    "    fig = plt.figure(1, figsize = (3,3))\n",
    "    ax1 = fig.add_axes((0,0,.8,.8))\n",
    "    ax1.set_title(title)\n",
    "    images = X_test\n",
    "    plt.imshow(images[index].reshape(28, 28), cmap = plt.cm.gray, interpolation = 'nearest')\n",
    "    plt.show()"
   ]
  },
  {
   "cell_type": "code",
   "execution_count": null,
   "metadata": {},
   "outputs": [],
   "source": []
  }
 ],
 "metadata": {
  "colab": {
   "collapsed_sections": [],
   "name": "01.MNIST_MLP.ipynb",
   "provenance": []
  },
  "kernelspec": {
   "display_name": "py38_tensorflow",
   "language": "python",
   "name": "conda-env-py38_tensorflow-py"
  },
  "language_info": {
   "codemirror_mode": {
    "name": "ipython",
    "version": 3
   },
   "file_extension": ".py",
   "mimetype": "text/x-python",
   "name": "python",
   "nbconvert_exporter": "python",
   "pygments_lexer": "ipython3",
   "version": "3.8.8"
  }
 },
 "nbformat": 4,
 "nbformat_minor": 1
}
