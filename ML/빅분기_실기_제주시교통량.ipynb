{
 "cells": [
  {
   "cell_type": "markdown",
   "metadata": {},
   "source": [
    "### 제주도 교통량 예측문제\n",
    "\n",
    "날시 및 유동인구에 따른 교통량 추이  \n",
    "\n",
    "[코드예시](https://www.datamanim.com/dataset/03_dataq/q2/jeju/main.html)"
   ]
  },
  {
   "cell_type": "code",
   "execution_count": 4,
   "metadata": {},
   "outputs": [
    {
     "name": "stdout",
     "output_type": "stream",
     "text": [
      "(22448, 13) (22448, 2) (9621, 13) (9621, 2)\n"
     ]
    },
    {
     "data": {
      "text/html": [
       "<div>\n",
       "<style scoped>\n",
       "    .dataframe tbody tr th:only-of-type {\n",
       "        vertical-align: middle;\n",
       "    }\n",
       "\n",
       "    .dataframe tbody tr th {\n",
       "        vertical-align: top;\n",
       "    }\n",
       "\n",
       "    .dataframe thead th {\n",
       "        text-align: right;\n",
       "    }\n",
       "</style>\n",
       "<table border=\"1\" class=\"dataframe\">\n",
       "  <thead>\n",
       "    <tr style=\"text-align: right;\">\n",
       "      <th></th>\n",
       "      <th>id</th>\n",
       "      <th>일자</th>\n",
       "      <th>시도명</th>\n",
       "      <th>읍면동명</th>\n",
       "      <th>거주인구</th>\n",
       "      <th>근무인구</th>\n",
       "      <th>방문인구</th>\n",
       "      <th>총 유동인구</th>\n",
       "      <th>평균 속도</th>\n",
       "      <th>평균 소요 시간</th>\n",
       "      <th>평균 기온</th>\n",
       "      <th>일강수량</th>\n",
       "      <th>평균 풍속</th>\n",
       "    </tr>\n",
       "  </thead>\n",
       "  <tbody>\n",
       "    <tr>\n",
       "      <th>0</th>\n",
       "      <td>0</td>\n",
       "      <td>2018-01-01</td>\n",
       "      <td>서귀포시</td>\n",
       "      <td>남원읍</td>\n",
       "      <td>291408.897</td>\n",
       "      <td>18744.131</td>\n",
       "      <td>219588.857</td>\n",
       "      <td>529741.884</td>\n",
       "      <td>53.000</td>\n",
       "      <td>40.571</td>\n",
       "      <td>2.35</td>\n",
       "      <td>0.0</td>\n",
       "      <td>3.325</td>\n",
       "    </tr>\n",
       "    <tr>\n",
       "      <th>1</th>\n",
       "      <td>1</td>\n",
       "      <td>2018-01-01</td>\n",
       "      <td>제주시</td>\n",
       "      <td>노형동</td>\n",
       "      <td>1215420.248</td>\n",
       "      <td>74964.858</td>\n",
       "      <td>445735.329</td>\n",
       "      <td>1736120.435</td>\n",
       "      <td>38.563</td>\n",
       "      <td>30.655</td>\n",
       "      <td>-2.30</td>\n",
       "      <td>0.0</td>\n",
       "      <td>1.100</td>\n",
       "    </tr>\n",
       "    <tr>\n",
       "      <th>2</th>\n",
       "      <td>2</td>\n",
       "      <td>2018-01-01</td>\n",
       "      <td>제주시</td>\n",
       "      <td>구좌읍</td>\n",
       "      <td>276220.023</td>\n",
       "      <td>17542.105</td>\n",
       "      <td>248104.122</td>\n",
       "      <td>541866.250</td>\n",
       "      <td>53.188</td>\n",
       "      <td>40.719</td>\n",
       "      <td>5.90</td>\n",
       "      <td>0.0</td>\n",
       "      <td>4.100</td>\n",
       "    </tr>\n",
       "  </tbody>\n",
       "</table>\n",
       "</div>"
      ],
      "text/plain": [
       "   id          일자   시도명 읍면동명         거주인구       근무인구        방문인구       총 유동인구  \\\n",
       "0   0  2018-01-01  서귀포시  남원읍   291408.897  18744.131  219588.857   529741.884   \n",
       "1   1  2018-01-01   제주시  노형동  1215420.248  74964.858  445735.329  1736120.435   \n",
       "2   2  2018-01-01   제주시  구좌읍   276220.023  17542.105  248104.122   541866.250   \n",
       "\n",
       "    평균 속도  평균 소요 시간  평균 기온  일강수량  평균 풍속  \n",
       "0  53.000    40.571   2.35   0.0  3.325  \n",
       "1  38.563    30.655  -2.30   0.0  1.100  \n",
       "2  53.188    40.719   5.90   0.0  4.100  "
      ]
     },
     "execution_count": 4,
     "metadata": {},
     "output_type": "execute_result"
    }
   ],
   "source": [
    "import pandas as pd\n",
    "import numpy as np\n",
    "\n",
    "# 데이터 로드\n",
    "X = pd.read_csv(\"https://raw.githubusercontent.com/Datamanim/jeju/main/Jeju_trainX.csv\",encoding='euc-kr')\n",
    "y= pd.read_csv(\"https://raw.githubusercontent.com/Datamanim/jeju/main/Jeju_trainy.csv\",encoding='euc-kr')\n",
    "test_X= pd.read_csv(\"https://raw.githubusercontent.com/Datamanim/jeju/main/Jeju_testX.csv\",encoding='euc-kr')\n",
    "sub= pd.read_csv(\"https://raw.githubusercontent.com/Datamanim/jeju/main/subExample.csv\",encoding='euc-kr')\n",
    "\n",
    "print(X.shape, y.shape, test_X.shape, sub.shape)\n",
    "\n",
    "X.head(3)"
   ]
  },
  {
   "cell_type": "code",
   "execution_count": 29,
   "metadata": {},
   "outputs": [
    {
     "data": {
      "text/html": [
       "<div>\n",
       "<style scoped>\n",
       "    .dataframe tbody tr th:only-of-type {\n",
       "        vertical-align: middle;\n",
       "    }\n",
       "\n",
       "    .dataframe tbody tr th {\n",
       "        vertical-align: top;\n",
       "    }\n",
       "\n",
       "    .dataframe thead th {\n",
       "        text-align: right;\n",
       "    }\n",
       "</style>\n",
       "<table border=\"1\" class=\"dataframe\">\n",
       "  <thead>\n",
       "    <tr style=\"text-align: right;\">\n",
       "      <th></th>\n",
       "      <th>id</th>\n",
       "      <th>교통량</th>\n",
       "    </tr>\n",
       "  </thead>\n",
       "  <tbody>\n",
       "    <tr>\n",
       "      <th>count</th>\n",
       "      <td>22448.000000</td>\n",
       "      <td>22448.000000</td>\n",
       "    </tr>\n",
       "    <tr>\n",
       "      <th>mean</th>\n",
       "      <td>11223.500000</td>\n",
       "      <td>374.652433</td>\n",
       "    </tr>\n",
       "    <tr>\n",
       "      <th>std</th>\n",
       "      <td>6480.323757</td>\n",
       "      <td>532.709650</td>\n",
       "    </tr>\n",
       "    <tr>\n",
       "      <th>min</th>\n",
       "      <td>0.000000</td>\n",
       "      <td>0.000000</td>\n",
       "    </tr>\n",
       "    <tr>\n",
       "      <th>25%</th>\n",
       "      <td>5611.750000</td>\n",
       "      <td>0.000000</td>\n",
       "    </tr>\n",
       "    <tr>\n",
       "      <th>50%</th>\n",
       "      <td>11223.500000</td>\n",
       "      <td>42.824500</td>\n",
       "    </tr>\n",
       "    <tr>\n",
       "      <th>75%</th>\n",
       "      <td>16835.250000</td>\n",
       "      <td>640.584500</td>\n",
       "    </tr>\n",
       "    <tr>\n",
       "      <th>max</th>\n",
       "      <td>22447.000000</td>\n",
       "      <td>2301.500000</td>\n",
       "    </tr>\n",
       "  </tbody>\n",
       "</table>\n",
       "</div>"
      ],
      "text/plain": [
       "                 id           교통량\n",
       "count  22448.000000  22448.000000\n",
       "mean   11223.500000    374.652433\n",
       "std     6480.323757    532.709650\n",
       "min        0.000000      0.000000\n",
       "25%     5611.750000      0.000000\n",
       "50%    11223.500000     42.824500\n",
       "75%    16835.250000    640.584500\n",
       "max    22447.000000   2301.500000"
      ]
     },
     "execution_count": 29,
     "metadata": {},
     "output_type": "execute_result"
    }
   ],
   "source": [
    "y.describe()"
   ]
  },
  {
   "cell_type": "code",
   "execution_count": 5,
   "metadata": {},
   "outputs": [
    {
     "name": "stdout",
     "output_type": "stream",
     "text": [
      "=========================\n",
      "id          0\n",
      "일자          0\n",
      "시도명         0\n",
      "읍면동명        0\n",
      "거주인구        0\n",
      "근무인구        0\n",
      "방문인구        0\n",
      "총 유동인구      0\n",
      "평균 속도       0\n",
      "평균 소요 시간    0\n",
      "평균 기온       0\n",
      "일강수량        0\n",
      "평균 풍속       0\n",
      "dtype: int64\n",
      "=========================\n",
      "id     0\n",
      "교통량    0\n",
      "dtype: int64\n",
      "=========================\n",
      "id          0\n",
      "일자          0\n",
      "시도명         0\n",
      "읍면동명        0\n",
      "거주인구        0\n",
      "근무인구        0\n",
      "방문인구        0\n",
      "총 유동인구      0\n",
      "평균 속도       0\n",
      "평균 소요 시간    0\n",
      "평균 기온       0\n",
      "일강수량        0\n",
      "평균 풍속       0\n",
      "dtype: int64\n"
     ]
    }
   ],
   "source": [
    "# 결측치 확인하기\n",
    "def checking_null(df_input):\n",
    "    print('='*25)\n",
    "    print(df_input.isnull().sum())\n",
    "\n",
    "dataset = [X, y, test_X]\n",
    "\n",
    "for ds in dataset:\n",
    "    checking_null(ds)"
   ]
  },
  {
   "cell_type": "code",
   "execution_count": 6,
   "metadata": {
    "scrolled": false
   },
   "outputs": [
    {
     "data": {
      "text/html": [
       "<div>\n",
       "<style scoped>\n",
       "    .dataframe tbody tr th:only-of-type {\n",
       "        vertical-align: middle;\n",
       "    }\n",
       "\n",
       "    .dataframe tbody tr th {\n",
       "        vertical-align: top;\n",
       "    }\n",
       "\n",
       "    .dataframe thead th {\n",
       "        text-align: right;\n",
       "    }\n",
       "</style>\n",
       "<table border=\"1\" class=\"dataframe\">\n",
       "  <thead>\n",
       "    <tr style=\"text-align: right;\">\n",
       "      <th></th>\n",
       "      <th>id</th>\n",
       "      <th>일자</th>\n",
       "      <th>시도명</th>\n",
       "      <th>읍면동명</th>\n",
       "      <th>거주인구</th>\n",
       "      <th>근무인구</th>\n",
       "      <th>방문인구</th>\n",
       "      <th>총 유동인구</th>\n",
       "      <th>평균 속도</th>\n",
       "      <th>평균 소요 시간</th>\n",
       "      <th>평균 기온</th>\n",
       "      <th>일강수량</th>\n",
       "      <th>평균 풍속</th>\n",
       "    </tr>\n",
       "  </thead>\n",
       "  <tbody>\n",
       "    <tr>\n",
       "      <th>count</th>\n",
       "      <td>22448.000000</td>\n",
       "      <td>22448</td>\n",
       "      <td>22448</td>\n",
       "      <td>22448</td>\n",
       "      <td>2.244800e+04</td>\n",
       "      <td>22448.000000</td>\n",
       "      <td>22448.000000</td>\n",
       "      <td>2.244800e+04</td>\n",
       "      <td>22448.000000</td>\n",
       "      <td>22448.000000</td>\n",
       "      <td>22448.000000</td>\n",
       "      <td>22448.000000</td>\n",
       "      <td>22448.000000</td>\n",
       "    </tr>\n",
       "    <tr>\n",
       "      <th>unique</th>\n",
       "      <td>NaN</td>\n",
       "      <td>803</td>\n",
       "      <td>2</td>\n",
       "      <td>41</td>\n",
       "      <td>NaN</td>\n",
       "      <td>NaN</td>\n",
       "      <td>NaN</td>\n",
       "      <td>NaN</td>\n",
       "      <td>NaN</td>\n",
       "      <td>NaN</td>\n",
       "      <td>NaN</td>\n",
       "      <td>NaN</td>\n",
       "      <td>NaN</td>\n",
       "    </tr>\n",
       "    <tr>\n",
       "      <th>top</th>\n",
       "      <td>NaN</td>\n",
       "      <td>2019-08-15</td>\n",
       "      <td>제주시</td>\n",
       "      <td>천지동</td>\n",
       "      <td>NaN</td>\n",
       "      <td>NaN</td>\n",
       "      <td>NaN</td>\n",
       "      <td>NaN</td>\n",
       "      <td>NaN</td>\n",
       "      <td>NaN</td>\n",
       "      <td>NaN</td>\n",
       "      <td>NaN</td>\n",
       "      <td>NaN</td>\n",
       "    </tr>\n",
       "    <tr>\n",
       "      <th>freq</th>\n",
       "      <td>NaN</td>\n",
       "      <td>36</td>\n",
       "      <td>13455</td>\n",
       "      <td>562</td>\n",
       "      <td>NaN</td>\n",
       "      <td>NaN</td>\n",
       "      <td>NaN</td>\n",
       "      <td>NaN</td>\n",
       "      <td>NaN</td>\n",
       "      <td>NaN</td>\n",
       "      <td>NaN</td>\n",
       "      <td>NaN</td>\n",
       "      <td>NaN</td>\n",
       "    </tr>\n",
       "    <tr>\n",
       "      <th>mean</th>\n",
       "      <td>11223.500000</td>\n",
       "      <td>NaN</td>\n",
       "      <td>NaN</td>\n",
       "      <td>NaN</td>\n",
       "      <td>3.175557e+05</td>\n",
       "      <td>35805.028052</td>\n",
       "      <td>196133.748259</td>\n",
       "      <td>5.494945e+05</td>\n",
       "      <td>41.101625</td>\n",
       "      <td>37.221661</td>\n",
       "      <td>13.534623</td>\n",
       "      <td>7.401781</td>\n",
       "      <td>2.738243</td>\n",
       "    </tr>\n",
       "    <tr>\n",
       "      <th>std</th>\n",
       "      <td>6480.323757</td>\n",
       "      <td>NaN</td>\n",
       "      <td>NaN</td>\n",
       "      <td>NaN</td>\n",
       "      <td>2.981494e+05</td>\n",
       "      <td>40815.683983</td>\n",
       "      <td>140600.598737</td>\n",
       "      <td>4.611679e+05</td>\n",
       "      <td>8.708300</td>\n",
       "      <td>12.974543</td>\n",
       "      <td>7.749613</td>\n",
       "      <td>28.853829</td>\n",
       "      <td>1.468865</td>\n",
       "    </tr>\n",
       "    <tr>\n",
       "      <th>min</th>\n",
       "      <td>0.000000</td>\n",
       "      <td>NaN</td>\n",
       "      <td>NaN</td>\n",
       "      <td>NaN</td>\n",
       "      <td>1.032726e+04</td>\n",
       "      <td>1172.448000</td>\n",
       "      <td>10788.381000</td>\n",
       "      <td>2.228809e+04</td>\n",
       "      <td>23.545000</td>\n",
       "      <td>12.667000</td>\n",
       "      <td>-11.600000</td>\n",
       "      <td>0.000000</td>\n",
       "      <td>0.000000</td>\n",
       "    </tr>\n",
       "    <tr>\n",
       "      <th>25%</th>\n",
       "      <td>5611.750000</td>\n",
       "      <td>NaN</td>\n",
       "      <td>NaN</td>\n",
       "      <td>NaN</td>\n",
       "      <td>9.470432e+04</td>\n",
       "      <td>12221.819500</td>\n",
       "      <td>100005.044750</td>\n",
       "      <td>2.228364e+05</td>\n",
       "      <td>34.269000</td>\n",
       "      <td>27.889000</td>\n",
       "      <td>7.600000</td>\n",
       "      <td>0.000000</td>\n",
       "      <td>1.750000</td>\n",
       "    </tr>\n",
       "    <tr>\n",
       "      <th>50%</th>\n",
       "      <td>11223.500000</td>\n",
       "      <td>NaN</td>\n",
       "      <td>NaN</td>\n",
       "      <td>NaN</td>\n",
       "      <td>2.219279e+05</td>\n",
       "      <td>21765.337000</td>\n",
       "      <td>153158.832500</td>\n",
       "      <td>3.894584e+05</td>\n",
       "      <td>39.651500</td>\n",
       "      <td>34.500000</td>\n",
       "      <td>13.300000</td>\n",
       "      <td>0.000000</td>\n",
       "      <td>2.400000</td>\n",
       "    </tr>\n",
       "    <tr>\n",
       "      <th>75%</th>\n",
       "      <td>16835.250000</td>\n",
       "      <td>NaN</td>\n",
       "      <td>NaN</td>\n",
       "      <td>NaN</td>\n",
       "      <td>4.100979e+05</td>\n",
       "      <td>40316.875750</td>\n",
       "      <td>235928.067500</td>\n",
       "      <td>6.412934e+05</td>\n",
       "      <td>49.101250</td>\n",
       "      <td>46.191000</td>\n",
       "      <td>19.733000</td>\n",
       "      <td>1.500000</td>\n",
       "      <td>3.400000</td>\n",
       "    </tr>\n",
       "    <tr>\n",
       "      <th>max</th>\n",
       "      <td>22447.000000</td>\n",
       "      <td>NaN</td>\n",
       "      <td>NaN</td>\n",
       "      <td>NaN</td>\n",
       "      <td>1.353561e+06</td>\n",
       "      <td>272224.930000</td>\n",
       "      <td>786387.113000</td>\n",
       "      <td>2.079278e+06</td>\n",
       "      <td>95.000000</td>\n",
       "      <td>135.400000</td>\n",
       "      <td>30.400000</td>\n",
       "      <td>583.500000</td>\n",
       "      <td>17.700000</td>\n",
       "    </tr>\n",
       "  </tbody>\n",
       "</table>\n",
       "</div>"
      ],
      "text/plain": [
       "                  id          일자    시도명   읍면동명          거주인구           근무인구  \\\n",
       "count   22448.000000       22448  22448  22448  2.244800e+04   22448.000000   \n",
       "unique           NaN         803      2     41           NaN            NaN   \n",
       "top              NaN  2019-08-15    제주시    천지동           NaN            NaN   \n",
       "freq             NaN          36  13455    562           NaN            NaN   \n",
       "mean    11223.500000         NaN    NaN    NaN  3.175557e+05   35805.028052   \n",
       "std      6480.323757         NaN    NaN    NaN  2.981494e+05   40815.683983   \n",
       "min         0.000000         NaN    NaN    NaN  1.032726e+04    1172.448000   \n",
       "25%      5611.750000         NaN    NaN    NaN  9.470432e+04   12221.819500   \n",
       "50%     11223.500000         NaN    NaN    NaN  2.219279e+05   21765.337000   \n",
       "75%     16835.250000         NaN    NaN    NaN  4.100979e+05   40316.875750   \n",
       "max     22447.000000         NaN    NaN    NaN  1.353561e+06  272224.930000   \n",
       "\n",
       "                 방문인구        총 유동인구         평균 속도      평균 소요 시간         평균 기온  \\\n",
       "count    22448.000000  2.244800e+04  22448.000000  22448.000000  22448.000000   \n",
       "unique            NaN           NaN           NaN           NaN           NaN   \n",
       "top               NaN           NaN           NaN           NaN           NaN   \n",
       "freq              NaN           NaN           NaN           NaN           NaN   \n",
       "mean    196133.748259  5.494945e+05     41.101625     37.221661     13.534623   \n",
       "std     140600.598737  4.611679e+05      8.708300     12.974543      7.749613   \n",
       "min      10788.381000  2.228809e+04     23.545000     12.667000    -11.600000   \n",
       "25%     100005.044750  2.228364e+05     34.269000     27.889000      7.600000   \n",
       "50%     153158.832500  3.894584e+05     39.651500     34.500000     13.300000   \n",
       "75%     235928.067500  6.412934e+05     49.101250     46.191000     19.733000   \n",
       "max     786387.113000  2.079278e+06     95.000000    135.400000     30.400000   \n",
       "\n",
       "                일강수량         평균 풍속  \n",
       "count   22448.000000  22448.000000  \n",
       "unique           NaN           NaN  \n",
       "top              NaN           NaN  \n",
       "freq             NaN           NaN  \n",
       "mean        7.401781      2.738243  \n",
       "std        28.853829      1.468865  \n",
       "min         0.000000      0.000000  \n",
       "25%         0.000000      1.750000  \n",
       "50%         0.000000      2.400000  \n",
       "75%         1.500000      3.400000  \n",
       "max       583.500000     17.700000  "
      ]
     },
     "execution_count": 6,
     "metadata": {},
     "output_type": "execute_result"
    }
   ],
   "source": [
    "X.describe(include ='all')"
   ]
  },
  {
   "cell_type": "code",
   "execution_count": 7,
   "metadata": {
    "scrolled": false
   },
   "outputs": [
    {
     "data": {
      "text/plain": [
       "제주시     13455\n",
       "서귀포시     8993\n",
       "Name: 시도명, dtype: int64"
      ]
     },
     "execution_count": 7,
     "metadata": {},
     "output_type": "execute_result"
    }
   ],
   "source": [
    "X['시도명'].value_counts()"
   ]
  },
  {
   "cell_type": "code",
   "execution_count": 8,
   "metadata": {
    "scrolled": true
   },
   "outputs": [
    {
     "data": {
      "text/plain": [
       "천지동     562\n",
       "화북동     562\n",
       "대륜동     562\n",
       "표선면     562\n",
       "남원읍     562\n",
       "이도2동    562\n",
       "조천읍     562\n",
       "삼양동     562\n",
       "애월읍     562\n",
       "아라동     562\n",
       "안덕면     562\n",
       "이호동     562\n",
       "한림읍     562\n",
       "도두동     562\n",
       "송산동     562\n",
       "대정읍     562\n",
       "예래동     562\n",
       "일도2동    561\n",
       "정방동     561\n",
       "서홍동     561\n",
       "동홍동     561\n",
       "일도1동    561\n",
       "이도1동    561\n",
       "구좌읍     561\n",
       "효돈동     561\n",
       "영천동     561\n",
       "삼도2동    561\n",
       "한경면     561\n",
       "오라동     561\n",
       "용담2동    561\n",
       "용담1동    561\n",
       "삼도1동    561\n",
       "성산읍     561\n",
       "외도동     561\n",
       "중앙동     561\n",
       "노형동     558\n",
       "연동      558\n",
       "중문동     556\n",
       "건입동     555\n",
       "봉개동     555\n",
       "대천동      14\n",
       "Name: 읍면동명, dtype: int64"
      ]
     },
     "execution_count": 8,
     "metadata": {},
     "output_type": "execute_result"
    }
   ],
   "source": [
    "X['읍면동명'].value_counts()"
   ]
  },
  {
   "cell_type": "code",
   "execution_count": 9,
   "metadata": {},
   "outputs": [
    {
     "data": {
      "text/plain": [
       "0        서귀포시\n",
       "1         제주시\n",
       "2         제주시\n",
       "3         제주시\n",
       "4         제주시\n",
       "         ... \n",
       "22443     제주시\n",
       "22444     제주시\n",
       "22445     제주시\n",
       "22446    서귀포시\n",
       "22447     제주시\n",
       "Name: 시도명, Length: 22448, dtype: object"
      ]
     },
     "execution_count": 9,
     "metadata": {},
     "output_type": "execute_result"
    }
   ],
   "source": [
    "X['시도명']"
   ]
  },
  {
   "cell_type": "code",
   "execution_count": 10,
   "metadata": {},
   "outputs": [],
   "source": [
    "# 읍면동명을 라벨 인코딩\n",
    "from sklearn.preprocessing import LabelEncoder\n",
    "le = LabelEncoder()\n",
    "\n",
    "le.fit(X['읍면동명'])\n",
    "X['읍면동명'] = le.transform(X['읍면동명'])\n",
    "test_X['읍면동명'] = le.transform(test_X['읍면동명'])\n",
    "\n",
    "X['시도명'] = X['시도명'].apply(lambda x : 1 if x == '서귀포시' else 0)\n",
    "test_X['시도명'] = test_X['시도명'].apply(lambda x : 1 if x == '서귀포시' else 0)"
   ]
  },
  {
   "cell_type": "code",
   "execution_count": 11,
   "metadata": {},
   "outputs": [
    {
     "data": {
      "text/html": [
       "<div>\n",
       "<style scoped>\n",
       "    .dataframe tbody tr th:only-of-type {\n",
       "        vertical-align: middle;\n",
       "    }\n",
       "\n",
       "    .dataframe tbody tr th {\n",
       "        vertical-align: top;\n",
       "    }\n",
       "\n",
       "    .dataframe thead th {\n",
       "        text-align: right;\n",
       "    }\n",
       "</style>\n",
       "<table border=\"1\" class=\"dataframe\">\n",
       "  <thead>\n",
       "    <tr style=\"text-align: right;\">\n",
       "      <th></th>\n",
       "      <th>읍면동명</th>\n",
       "      <th>시도명</th>\n",
       "    </tr>\n",
       "  </thead>\n",
       "  <tbody>\n",
       "    <tr>\n",
       "      <th>0</th>\n",
       "      <td>2</td>\n",
       "      <td>1</td>\n",
       "    </tr>\n",
       "    <tr>\n",
       "      <th>1</th>\n",
       "      <td>3</td>\n",
       "      <td>0</td>\n",
       "    </tr>\n",
       "    <tr>\n",
       "      <th>2</th>\n",
       "      <td>1</td>\n",
       "      <td>0</td>\n",
       "    </tr>\n",
       "    <tr>\n",
       "      <th>3</th>\n",
       "      <td>24</td>\n",
       "      <td>0</td>\n",
       "    </tr>\n",
       "    <tr>\n",
       "      <th>4</th>\n",
       "      <td>0</td>\n",
       "      <td>0</td>\n",
       "    </tr>\n",
       "  </tbody>\n",
       "</table>\n",
       "</div>"
      ],
      "text/plain": [
       "   읍면동명  시도명\n",
       "0     2    1\n",
       "1     3    0\n",
       "2     1    0\n",
       "3    24    0\n",
       "4     0    0"
      ]
     },
     "execution_count": 11,
     "metadata": {},
     "output_type": "execute_result"
    }
   ],
   "source": [
    "X[['읍면동명', '시도명']].head()"
   ]
  },
  {
   "cell_type": "code",
   "execution_count": 12,
   "metadata": {},
   "outputs": [],
   "source": [
    "# 일자 컬럼에서 년, 월, 일 정보 추출\n",
    "def preprosessing_datetime(df_input):\n",
    "    df1 = df_input.copy()\n",
    "    df1 ['일자'] = pd.to_datetime(df1 ['일자'])\n",
    "    df1 ['year'] = df1 ['일자'].dt.year\n",
    "    df1 ['month'] = df1 ['일자'].dt.month\n",
    "    df1 ['weekend'] = df1 ['일자'].dt.weekday\n",
    "    df1 .drop(['일자'], axis = 1, inplace = True)\n",
    "    return df1"
   ]
  },
  {
   "cell_type": "code",
   "execution_count": 13,
   "metadata": {},
   "outputs": [],
   "source": [
    "X = preprosessing_datetime(X)\n",
    "test_X = preprosessing_datetime(test_X)"
   ]
  },
  {
   "cell_type": "code",
   "execution_count": 14,
   "metadata": {},
   "outputs": [
    {
     "data": {
      "text/plain": [
       "2    3299\n",
       "6    3263\n",
       "4    3240\n",
       "0    3228\n",
       "5    3190\n",
       "3    3119\n",
       "1    3109\n",
       "Name: weekend, dtype: int64"
      ]
     },
     "execution_count": 14,
     "metadata": {},
     "output_type": "execute_result"
    }
   ],
   "source": [
    "X['weekend'].value_counts()"
   ]
  },
  {
   "cell_type": "code",
   "execution_count": 15,
   "metadata": {
    "scrolled": true
   },
   "outputs": [
    {
     "data": {
      "text/plain": [
       "Index(['id', '시도명', '읍면동명', '거주인구', '근무인구', '방문인구', '총 유동인구', '평균 속도',\n",
       "       '평균 소요 시간', '평균 기온', '일강수량', '평균 풍속', 'year', 'month', 'weekend'],\n",
       "      dtype='object')"
      ]
     },
     "execution_count": 15,
     "metadata": {},
     "output_type": "execute_result"
    }
   ],
   "source": [
    "X.columns"
   ]
  },
  {
   "cell_type": "code",
   "execution_count": 16,
   "metadata": {},
   "outputs": [],
   "source": [
    "# scaling\n",
    "from sklearn.preprocessing import StandardScaler\n",
    "\n",
    "sc = StandardScaler()\n",
    "\n",
    "def pre_sc(df_input, sc = None):\n",
    "    df2 = df_input.copy()\n",
    "    sc = StandardScaler()\n",
    "    col = [ '거주인구', '근무인구', '방문인구', '총 유동인구']\n",
    "    sc.fit(df2[col])\n",
    "    df2[col] = sc.transform(df2[col])\n",
    "    return df2"
   ]
  },
  {
   "cell_type": "code",
   "execution_count": 17,
   "metadata": {},
   "outputs": [],
   "source": [
    "X_scaled =  pre_sc(X)\n",
    "test_X_scaled = pre_sc(test_X)"
   ]
  },
  {
   "cell_type": "code",
   "execution_count": 18,
   "metadata": {},
   "outputs": [
    {
     "data": {
      "text/html": [
       "<div>\n",
       "<style scoped>\n",
       "    .dataframe tbody tr th:only-of-type {\n",
       "        vertical-align: middle;\n",
       "    }\n",
       "\n",
       "    .dataframe tbody tr th {\n",
       "        vertical-align: top;\n",
       "    }\n",
       "\n",
       "    .dataframe thead th {\n",
       "        text-align: right;\n",
       "    }\n",
       "</style>\n",
       "<table border=\"1\" class=\"dataframe\">\n",
       "  <thead>\n",
       "    <tr style=\"text-align: right;\">\n",
       "      <th></th>\n",
       "      <th>거주인구</th>\n",
       "      <th>근무인구</th>\n",
       "      <th>방문인구</th>\n",
       "      <th>총 유동인구</th>\n",
       "    </tr>\n",
       "  </thead>\n",
       "  <tbody>\n",
       "    <tr>\n",
       "      <th>count</th>\n",
       "      <td>2.244800e+04</td>\n",
       "      <td>2.244800e+04</td>\n",
       "      <td>2.244800e+04</td>\n",
       "      <td>2.244800e+04</td>\n",
       "    </tr>\n",
       "    <tr>\n",
       "      <th>mean</th>\n",
       "      <td>1.056908e-17</td>\n",
       "      <td>7.063032e-17</td>\n",
       "      <td>-5.763999e-17</td>\n",
       "      <td>-1.240395e-17</td>\n",
       "    </tr>\n",
       "    <tr>\n",
       "      <th>std</th>\n",
       "      <td>1.000022e+00</td>\n",
       "      <td>1.000022e+00</td>\n",
       "      <td>1.000022e+00</td>\n",
       "      <td>1.000022e+00</td>\n",
       "    </tr>\n",
       "    <tr>\n",
       "      <th>min</th>\n",
       "      <td>-1.030474e+00</td>\n",
       "      <td>-8.485305e-01</td>\n",
       "      <td>-1.318270e+00</td>\n",
       "      <td>-1.143224e+00</td>\n",
       "    </tr>\n",
       "    <tr>\n",
       "      <th>25%</th>\n",
       "      <td>-7.474654e-01</td>\n",
       "      <td>-5.778106e-01</td>\n",
       "      <td>-6.837158e-01</td>\n",
       "      <td>-7.083438e-01</td>\n",
       "    </tr>\n",
       "    <tr>\n",
       "      <th>50%</th>\n",
       "      <td>-3.207451e-01</td>\n",
       "      <td>-3.439855e-01</td>\n",
       "      <td>-3.056592e-01</td>\n",
       "      <td>-3.470311e-01</td>\n",
       "    </tr>\n",
       "    <tr>\n",
       "      <th>75%</th>\n",
       "      <td>3.103956e-01</td>\n",
       "      <td>1.105445e-01</td>\n",
       "      <td>2.830372e-01</td>\n",
       "      <td>1.990620e-01</td>\n",
       "    </tr>\n",
       "    <tr>\n",
       "      <th>max</th>\n",
       "      <td>3.474862e+00</td>\n",
       "      <td>5.792508e+00</td>\n",
       "      <td>4.198179e+00</td>\n",
       "      <td>3.317268e+00</td>\n",
       "    </tr>\n",
       "  </tbody>\n",
       "</table>\n",
       "</div>"
      ],
      "text/plain": [
       "               거주인구          근무인구          방문인구        총 유동인구\n",
       "count  2.244800e+04  2.244800e+04  2.244800e+04  2.244800e+04\n",
       "mean   1.056908e-17  7.063032e-17 -5.763999e-17 -1.240395e-17\n",
       "std    1.000022e+00  1.000022e+00  1.000022e+00  1.000022e+00\n",
       "min   -1.030474e+00 -8.485305e-01 -1.318270e+00 -1.143224e+00\n",
       "25%   -7.474654e-01 -5.778106e-01 -6.837158e-01 -7.083438e-01\n",
       "50%   -3.207451e-01 -3.439855e-01 -3.056592e-01 -3.470311e-01\n",
       "75%    3.103956e-01  1.105445e-01  2.830372e-01  1.990620e-01\n",
       "max    3.474862e+00  5.792508e+00  4.198179e+00  3.317268e+00"
      ]
     },
     "execution_count": 18,
     "metadata": {},
     "output_type": "execute_result"
    }
   ],
   "source": [
    "X_scaled[[ '거주인구', '근무인구', '방문인구', '총 유동인구']].describe()"
   ]
  },
  {
   "cell_type": "code",
   "execution_count": 19,
   "metadata": {},
   "outputs": [],
   "source": [
    "X_scaled.drop(['id'], axis = 1, inplace = True)\n",
    "test_X_scaled.drop(['id'], axis = 1, inplace = True)\n",
    "\n",
    "y_train = y['교통량']"
   ]
  },
  {
   "cell_type": "code",
   "execution_count": 42,
   "metadata": {},
   "outputs": [],
   "source": [
    "# test- val 분리\n",
    "from sklearn.model_selection import train_test_split\n",
    "X_train, X_val, y_train, y_val = train_test_split(X_scaled, y_train, test_size = 0.2, random_state = 123)"
   ]
  },
  {
   "cell_type": "code",
   "execution_count": 43,
   "metadata": {},
   "outputs": [
    {
     "name": "stdout",
     "output_type": "stream",
     "text": [
      "(17958, 14) (4490, 14) (17958,) (4490,)\n"
     ]
    }
   ],
   "source": [
    "print(X_train.shape, X_val.shape, y_train.shape, y_val.shape)"
   ]
  },
  {
   "cell_type": "code",
   "execution_count": 49,
   "metadata": {
    "scrolled": true
   },
   "outputs": [],
   "source": [
    "# 모델링\n",
    "from sklearn.tree import DecisionTreeRegressor\n",
    "from sklearn.ensemble import RandomForestRegressor\n",
    "import xgboost as xgb\n",
    "from sklearn.metrics import mean_squared_error, r2_score\n",
    "\n",
    "dt = DecisionTreeRegressor()\n",
    "rf = RandomForestRegressor(random_state = 24)\n",
    "XGB = xgb.XGBRFRegressor()\n",
    "\n",
    "models = [dt, rf]\n",
    "\n",
    "def fit_model(model, trainX, trainY, testX, testY):\n",
    "    model.fit(trainX, trainY)\n",
    "    pred = model.predict(testX)\n",
    "    print('{0}_rmse:{1:.4f}'.format(model, mean_squared_error(testY, pred, squared = False))) #True일때 mse\n",
    "    print('{0}_r2:{1:.4f}'.format(model, r2_score(testY, pred)))"
   ]
  },
  {
   "cell_type": "code",
   "execution_count": 50,
   "metadata": {
    "scrolled": true
   },
   "outputs": [
    {
     "name": "stdout",
     "output_type": "stream",
     "text": [
      "DecisionTreeRegressor()_rmse:123.3967\n",
      "DecisionTreeRegressor()_r2:0.9453\n",
      "RandomForestRegressor(random_state=24)_rmse:82.7548\n",
      "RandomForestRegressor(random_state=24)_r2:0.9754\n"
     ]
    }
   ],
   "source": [
    "for model in models :\n",
    "    fit_model(model, X_train, y_train, X_val, y_val)"
   ]
  },
  {
   "cell_type": "markdown",
   "metadata": {},
   "source": [
    "R2가 0.94, 0.97로 엄청 높은 편이다....  \n",
    "rmse가 82이면 분산이 500대인것에 비해 꽤 예측을 잘하는 것 같다"
   ]
  },
  {
   "cell_type": "code",
   "execution_count": 67,
   "metadata": {},
   "outputs": [
    {
     "data": {
      "text/plain": [
       "array([1409.5883 , 1132.12894,  325.91998, ..., 1520.42006,    2.48477,\n",
       "        388.34998])"
      ]
     },
     "execution_count": 67,
     "metadata": {},
     "output_type": "execute_result"
    }
   ],
   "source": [
    "result = rf.predict(test_X_scaled)\n",
    "result"
   ]
  },
  {
   "cell_type": "code",
   "execution_count": 55,
   "metadata": {},
   "outputs": [],
   "source": [
    "sub['교통량'] =result"
   ]
  },
  {
   "cell_type": "code",
   "execution_count": 58,
   "metadata": {},
   "outputs": [],
   "source": [
    "sub.to_csv('수험번호.csv', encoding = 'euc-kr')"
   ]
  },
  {
   "cell_type": "code",
   "execution_count": 70,
   "metadata": {
    "scrolled": false
   },
   "outputs": [
    {
     "name": "stdout",
     "output_type": "stream",
     "text": [
      "mse: 84.92357633322638\n",
      "r2: 0.9743992596079425\n"
     ]
    }
   ],
   "source": [
    "y_true = pd.read_csv(\"https://raw.githubusercontent.com/Datamanim/jeju/main/Jeju_testy.csv\",encoding='euc-kr')\n",
    "\n",
    "print('mse:',mean_squared_error(y_true['교통량'], result, squared = False))\n",
    "print('r2:',r2_score(y_true['교통량'], result))"
   ]
  },
  {
   "cell_type": "markdown",
   "metadata": {},
   "source": [
    "실제 값과 비교해보아도 rmse가 84, 결정계수가 0.97로 꽤 정확하게 예측했다!"
   ]
  }
 ],
 "metadata": {
  "kernelspec": {
   "display_name": "Python 3",
   "language": "python",
   "name": "python3"
  },
  "language_info": {
   "codemirror_mode": {
    "name": "ipython",
    "version": 3
   },
   "file_extension": ".py",
   "mimetype": "text/x-python",
   "name": "python",
   "nbconvert_exporter": "python",
   "pygments_lexer": "ipython3",
   "version": "3.6.10"
  }
 },
 "nbformat": 4,
 "nbformat_minor": 4
}
