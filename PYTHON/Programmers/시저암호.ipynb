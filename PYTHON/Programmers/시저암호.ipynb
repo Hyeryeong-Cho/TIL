{
 "cells": [
  {
   "cell_type": "markdown",
   "metadata": {},
   "source": [
    "## 아스키 코드 변환하기\n",
    "- ord() : 문자를 아스키코드로 변환하는 방법\n",
    "- chr() : 아스키코드를 숫자로 변환\n",
    "\n",
    "\n",
    "A=65\n",
    "Z = 90\n",
    "\n",
    "a = 97\n",
    "z = 122\n"
   ]
  },
  {
   "cell_type": "code",
   "execution_count": 2,
   "metadata": {
    "scrolled": true
   },
   "outputs": [
    {
     "data": {
      "text/plain": [
       "65"
      ]
     },
     "execution_count": 2,
     "metadata": {},
     "output_type": "execute_result"
    }
   ],
   "source": [
    "ord('A')"
   ]
  },
  {
   "cell_type": "code",
   "execution_count": 3,
   "metadata": {},
   "outputs": [
    {
     "data": {
      "text/plain": [
       "'A'"
      ]
     },
     "execution_count": 3,
     "metadata": {},
     "output_type": "execute_result"
    }
   ],
   "source": [
    "chr(65)"
   ]
  },
  {
   "cell_type": "code",
   "execution_count": 11,
   "metadata": {},
   "outputs": [],
   "source": [
    "s = 'AB'\n",
    "n= 1   \n",
    "x = 'A'"
   ]
  },
  {
   "cell_type": "code",
   "execution_count": 20,
   "metadata": {},
   "outputs": [
    {
     "data": {
      "text/plain": [
       "['B', 'C']"
      ]
     },
     "execution_count": 20,
     "metadata": {},
     "output_type": "execute_result"
    }
   ],
   "source": [
    "chr_lst = list(map(lambda x : chr(ord(x) + n),s))\n",
    "chr_lst"
   ]
  },
  {
   "cell_type": "code",
   "execution_count": 21,
   "metadata": {},
   "outputs": [
    {
     "data": {
      "text/plain": [
       "'BC'"
      ]
     },
     "execution_count": 21,
     "metadata": {},
     "output_type": "execute_result"
    }
   ],
   "source": [
    "\"\".join(chr_lst)"
   ]
  },
  {
   "cell_type": "code",
   "execution_count": null,
   "metadata": {},
   "outputs": [],
   "source": [
    "def solution(s, n):\n",
    "    chr_lst = list(map(lambda x : chr(ord(x) + n),s))\n",
    "    return \"\".join(chr_lst)"
   ]
  },
  {
   "attachments": {
    "image.png": {
     "image/png": "[encoded data removed]"
    }
   },
   "cell_type": "markdown",
   "metadata": {},
   "source": [
    "![image.png](attachment:image.png)\n",
    "## 1. 대문자인 경우\n",
    "## 2. n이 최대 25일 때 n이 더해졌을 때 Z에서 a로 넘어가도록\n",
    "## 3. 공백일때 공백을 반환"
   ]
  },
  {
   "cell_type": "code",
   "execution_count": 43,
   "metadata": {},
   "outputs": [],
   "source": [
    "def solution(string, n):\n",
    "    lst = []\n",
    "    for s in string:\n",
    "        if ord(s)+1 >= 91 and ord(s)+1 <97:\n",
    "            lst.append('A')\n",
    "        elif ord(s) >= 122:\n",
    "            lst.append('a')\n",
    "        elif ord(s) == 32:\n",
    "            lst.append(' ')\n",
    "        else :\n",
    "            lst.append(chr(ord(s) + n))\n",
    "    return \"\".join(lst)"
   ]
  },
  {
   "cell_type": "code",
   "execution_count": 44,
   "metadata": {},
   "outputs": [
    {
     "data": {
      "text/plain": [
       "'AaBb'"
      ]
     },
     "execution_count": 44,
     "metadata": {},
     "output_type": "execute_result"
    }
   ],
   "source": [
    "solution('ZzAa',1)"
   ]
  },
  {
   "cell_type": "markdown",
   "metadata": {},
   "source": [
    "공백 처리"
   ]
  },
  {
   "cell_type": "code",
   "execution_count": 52,
   "metadata": {},
   "outputs": [
    {
     "data": {
      "text/plain": [
       "'b C a'"
      ]
     },
     "execution_count": 52,
     "metadata": {},
     "output_type": "execute_result"
    }
   ],
   "source": [
    "solution('a B z', n)"
   ]
  },
  {
   "cell_type": "code",
   "execution_count": 100,
   "metadata": {},
   "outputs": [],
   "source": [
    "def solution(string, n):\n",
    "    lst = []\n",
    "    for s in string:\n",
    "        if ord(s) < 91 and ord(s)+n > 90 and ord(s)+n < 116:\n",
    "            lst.append(chr(64+ord(s)+n-90))\n",
    "        elif ord(s) > 98 and ord(s)+n >122:\n",
    "            lst.append(chr(96+ord(s)+n-122))\n",
    "        elif s == ' ':\n",
    "            lst.append(' ')\n",
    "        else :\n",
    "            lst.append(chr(ord(s) + n))\n",
    "    return lst"
   ]
  },
  {
   "cell_type": "code",
   "execution_count": 101,
   "metadata": {},
   "outputs": [
    {
     "data": {
      "text/plain": [
       "['Z', 'z', 'Y', 'y']"
      ]
     },
     "execution_count": 101,
     "metadata": {},
     "output_type": "execute_result"
    }
   ],
   "source": [
    "solution('AaZz', 25)"
   ]
  },
  {
   "cell_type": "code",
   "execution_count": null,
   "metadata": {},
   "outputs": [],
   "source": []
  }
 ],
 "metadata": {
  "kernelspec": {
   "display_name": "Python 3",
   "language": "python",
   "name": "python3"
  },
  "language_info": {
   "codemirror_mode": {
    "name": "ipython",
    "version": 3
   },
   "file_extension": ".py",
   "mimetype": "text/x-python",
   "name": "python",
   "nbconvert_exporter": "python",
   "pygments_lexer": "ipython3",
   "version": "3.8.5"
  }
 },
 "nbformat": 4,
 "nbformat_minor": 4
}
