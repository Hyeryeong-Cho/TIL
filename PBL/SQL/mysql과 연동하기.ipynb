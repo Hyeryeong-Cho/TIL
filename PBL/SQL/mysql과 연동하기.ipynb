{
 "cells": [
  {
   "cell_type": "markdown",
   "metadata": {},
   "source": [
    "## MySQL 연동하기\n",
    "### 필요한 모듈을 설치한다.\n",
    " - pymysql 패키지를 설치한다."
   ]
  },
  {
   "cell_type": "code",
   "execution_count": 2,
   "metadata": {},
   "outputs": [
    {
     "name": "stdout",
     "output_type": "stream",
     "text": [
      "Requirement already satisfied: pymysql in c:\\users\\admin\\anaconda3\\lib\\site-packages (1.0.2)\n",
      "Note: you may need to restart the kernel to use updated packages.\n"
     ]
    }
   ],
   "source": [
    "pip install pymysql"
   ]
  },
  {
   "cell_type": "markdown",
   "metadata": {},
   "source": [
    "연동 순서\n",
    "1. DB모듈 import하기\n",
    "2. DB접속: 접속 객체 얻어옥\n",
    "3. 쿼리작성\n",
    "4. 쿼리 실행\n",
    "5. 결과 값을 얻어오기\n",
    "6. 접속 종료"
   ]
  },
  {
   "cell_type": "code",
   "execution_count": 73,
   "metadata": {},
   "outputs": [
    {
     "data": {
      "text/plain": [
       "<pymysql.connections.Connection at 0x22bfe87afd0>"
      ]
     },
     "execution_count": 73,
     "metadata": {},
     "output_type": "execute_result"
    }
   ],
   "source": [
    "import pymysql\n",
    "\n",
    "#DB접속\n",
    "conn= pymysql.connect(\n",
    "    host='localhost',\n",
    "    port=3306, #defalut 값\n",
    "    user='pbl',\n",
    "    password = 'pblpw',\n",
    "    db='pbldb'\n",
    ")\n",
    "\n",
    "conn"
   ]
  },
  {
   "cell_type": "code",
   "execution_count": 18,
   "metadata": {},
   "outputs": [
    {
     "data": {
      "text/plain": [
       "7"
      ]
     },
     "execution_count": 18,
     "metadata": {},
     "output_type": "execute_result"
    }
   ],
   "source": [
    "#쿼리작성\n",
    "sql = 'select * from member'\n",
    "\n",
    "cursor = conn.cursor()\n",
    "cursor.execute(sql)"
   ]
  },
  {
   "cell_type": "code",
   "execution_count": 7,
   "metadata": {},
   "outputs": [
    {
     "name": "stdout",
     "output_type": "stream",
     "text": [
      "(1, '123@abc.com', '1234', 'Lee', '200', datetime.datetime(2021, 4, 9, 14, 41, 22))\n",
      "(2, 'abc@def.com', 'abc', None, None, datetime.datetime(2021, 4, 9, 15, 42, 42))\n",
      "(3, 'hi@def.com', 'Park', None, None, datetime.datetime(2021, 4, 9, 15, 46, 54))\n",
      "(5, 'ABC@def.com', '1234', 'Choi', '002', datetime.datetime(2021, 4, 9, 15, 49, 29))\n",
      "(6, 'carami@nate.com', '1234', 'Kang', '200', datetime.datetime(2021, 4, 9, 18, 12, 31))\n",
      "(7, 'ABC@def.com', '1234', 'Choi', '002', datetime.datetime(2021, 4, 9, 18, 13, 8))\n",
      "(8, 'hong@nate.com', '5555', 'hong', '004', datetime.datetime(2021, 4, 12, 9, 31, 23))\n"
     ]
    }
   ],
   "source": [
    "# 실행한 결과 보기\n",
    "for member in cursor:\n",
    "    print(member)"
   ]
  },
  {
   "cell_type": "code",
   "execution_count": 21,
   "metadata": {},
   "outputs": [
    {
     "data": {
      "text/plain": [
       "(1,\n",
       " '123@abc.com',\n",
       " '1234',\n",
       " 'Lee',\n",
       " '200',\n",
       " datetime.datetime(2021, 4, 9, 14, 41, 22))"
      ]
     },
     "execution_count": 21,
     "metadata": {},
     "output_type": "execute_result"
    }
   ],
   "source": [
    "# 모든 값을 가져옴\n",
    "result = cursor.fetchall()\n",
    "#하나의 값만 가져옴\n",
    "result = cursor.fetchone()\n",
    "#불러올 값을 지정가능\n",
    "result = cursor.fetchmany(3)\n",
    "\n",
    "result"
   ]
  },
  {
   "cell_type": "code",
   "execution_count": 52,
   "metadata": {},
   "outputs": [
    {
     "data": {
      "text/plain": [
       "[{'member_id': 1,\n",
       "  'email': '123@abc.com',\n",
       "  'passwd': '1234',\n",
       "  'name': 'Lee',\n",
       "  'department_name': '200',\n",
       "  'join_date': datetime.datetime(2021, 4, 9, 14, 41, 22)},\n",
       " {'member_id': 2,\n",
       "  'email': 'abc@def.com',\n",
       "  'passwd': 'abc',\n",
       "  'name': None,\n",
       "  'department_name': None,\n",
       "  'join_date': datetime.datetime(2021, 4, 9, 15, 42, 42)},\n",
       " {'member_id': 3,\n",
       "  'email': 'hi@def.com',\n",
       "  'passwd': 'Park',\n",
       "  'name': None,\n",
       "  'department_name': None,\n",
       "  'join_date': datetime.datetime(2021, 4, 9, 15, 46, 54)},\n",
       " {'member_id': 5,\n",
       "  'email': 'ABC@def.com',\n",
       "  'passwd': '1234',\n",
       "  'name': 'Choi',\n",
       "  'department_name': '002',\n",
       "  'join_date': datetime.datetime(2021, 4, 9, 15, 49, 29)},\n",
       " {'member_id': 6,\n",
       "  'email': 'carami@nate.com',\n",
       "  'passwd': '1234',\n",
       "  'name': 'Kang',\n",
       "  'department_name': '200',\n",
       "  'join_date': datetime.datetime(2021, 4, 9, 18, 12, 31)},\n",
       " {'member_id': 7,\n",
       "  'email': 'ABC@def.com',\n",
       "  'passwd': '1234',\n",
       "  'name': 'Choi',\n",
       "  'department_name': '002',\n",
       "  'join_date': datetime.datetime(2021, 4, 9, 18, 13, 8)},\n",
       " {'member_id': 8,\n",
       "  'email': 'hong@nate.com',\n",
       "  'passwd': '5555',\n",
       "  'name': 'hong',\n",
       "  'department_name': '004',\n",
       "  'join_date': datetime.datetime(2021, 4, 12, 9, 31, 23)}]"
      ]
     },
     "execution_count": 52,
     "metadata": {},
     "output_type": "execute_result"
    }
   ],
   "source": [
    "dictCur = conn.cursor(pymysql.cursors.DictCursor)\n",
    "dictCur.execute('select * from member')\n",
    "dictResult = dictCur.fetchall()\n",
    "dictResult"
   ]
  },
  {
   "cell_type": "code",
   "execution_count": 44,
   "metadata": {},
   "outputs": [],
   "source": [
    "key = dictResult[0].keys()"
   ]
  },
  {
   "cell_type": "code",
   "execution_count": 45,
   "metadata": {},
   "outputs": [
    {
     "data": {
      "text/plain": [
       "dict_keys"
      ]
     },
     "execution_count": 45,
     "metadata": {},
     "output_type": "execute_result"
    }
   ],
   "source": [
    "type(key)"
   ]
  },
  {
   "cell_type": "code",
   "execution_count": 46,
   "metadata": {},
   "outputs": [
    {
     "data": {
      "text/html": [
       "<div>\n",
       "<style scoped>\n",
       "    .dataframe tbody tr th:only-of-type {\n",
       "        vertical-align: middle;\n",
       "    }\n",
       "\n",
       "    .dataframe tbody tr th {\n",
       "        vertical-align: top;\n",
       "    }\n",
       "\n",
       "    .dataframe thead th {\n",
       "        text-align: right;\n",
       "    }\n",
       "</style>\n",
       "<table border=\"1\" class=\"dataframe\">\n",
       "  <thead>\n",
       "    <tr style=\"text-align: right;\">\n",
       "      <th></th>\n",
       "      <th>member_id</th>\n",
       "      <th>email</th>\n",
       "      <th>passwd</th>\n",
       "      <th>name</th>\n",
       "      <th>department_name</th>\n",
       "      <th>join_date</th>\n",
       "    </tr>\n",
       "  </thead>\n",
       "  <tbody>\n",
       "    <tr>\n",
       "      <th>0</th>\n",
       "      <td>1</td>\n",
       "      <td>123@abc.com</td>\n",
       "      <td>1234</td>\n",
       "      <td>Lee</td>\n",
       "      <td>200</td>\n",
       "      <td>2021-04-09 14:41:22</td>\n",
       "    </tr>\n",
       "    <tr>\n",
       "      <th>1</th>\n",
       "      <td>2</td>\n",
       "      <td>abc@def.com</td>\n",
       "      <td>abc</td>\n",
       "      <td>None</td>\n",
       "      <td>None</td>\n",
       "      <td>2021-04-09 15:42:42</td>\n",
       "    </tr>\n",
       "    <tr>\n",
       "      <th>2</th>\n",
       "      <td>3</td>\n",
       "      <td>hi@def.com</td>\n",
       "      <td>Park</td>\n",
       "      <td>None</td>\n",
       "      <td>None</td>\n",
       "      <td>2021-04-09 15:46:54</td>\n",
       "    </tr>\n",
       "    <tr>\n",
       "      <th>3</th>\n",
       "      <td>5</td>\n",
       "      <td>ABC@def.com</td>\n",
       "      <td>1234</td>\n",
       "      <td>Choi</td>\n",
       "      <td>002</td>\n",
       "      <td>2021-04-09 15:49:29</td>\n",
       "    </tr>\n",
       "    <tr>\n",
       "      <th>4</th>\n",
       "      <td>6</td>\n",
       "      <td>carami@nate.com</td>\n",
       "      <td>1234</td>\n",
       "      <td>Kang</td>\n",
       "      <td>200</td>\n",
       "      <td>2021-04-09 18:12:31</td>\n",
       "    </tr>\n",
       "    <tr>\n",
       "      <th>5</th>\n",
       "      <td>7</td>\n",
       "      <td>ABC@def.com</td>\n",
       "      <td>1234</td>\n",
       "      <td>Choi</td>\n",
       "      <td>002</td>\n",
       "      <td>2021-04-09 18:13:08</td>\n",
       "    </tr>\n",
       "    <tr>\n",
       "      <th>6</th>\n",
       "      <td>8</td>\n",
       "      <td>hong@nate.com</td>\n",
       "      <td>5555</td>\n",
       "      <td>hong</td>\n",
       "      <td>004</td>\n",
       "      <td>2021-04-12 09:31:23</td>\n",
       "    </tr>\n",
       "  </tbody>\n",
       "</table>\n",
       "</div>"
      ],
      "text/plain": [
       "   member_id            email passwd  name department_name           join_date\n",
       "0          1      123@abc.com   1234   Lee             200 2021-04-09 14:41:22\n",
       "1          2      abc@def.com    abc  None            None 2021-04-09 15:42:42\n",
       "2          3       hi@def.com   Park  None            None 2021-04-09 15:46:54\n",
       "3          5      ABC@def.com   1234  Choi             002 2021-04-09 15:49:29\n",
       "4          6  carami@nate.com   1234  Kang             200 2021-04-09 18:12:31\n",
       "5          7      ABC@def.com   1234  Choi             002 2021-04-09 18:13:08\n",
       "6          8    hong@nate.com   5555  hong             004 2021-04-12 09:31:23"
      ]
     },
     "execution_count": 46,
     "metadata": {},
     "output_type": "execute_result"
    }
   ],
   "source": [
    "import pandas as pd\n",
    "\n",
    "result = pd.DataFrame(dictResult)\n",
    "result"
   ]
  },
  {
   "cell_type": "code",
   "execution_count": 49,
   "metadata": {},
   "outputs": [
    {
     "data": {
      "text/html": [
       "<div>\n",
       "<style scoped>\n",
       "    .dataframe tbody tr th:only-of-type {\n",
       "        vertical-align: middle;\n",
       "    }\n",
       "\n",
       "    .dataframe tbody tr th {\n",
       "        vertical-align: top;\n",
       "    }\n",
       "\n",
       "    .dataframe thead th {\n",
       "        text-align: right;\n",
       "    }\n",
       "</style>\n",
       "<table border=\"1\" class=\"dataframe\">\n",
       "  <thead>\n",
       "    <tr style=\"text-align: right;\">\n",
       "      <th></th>\n",
       "      <th>member_id</th>\n",
       "      <th>email</th>\n",
       "      <th>passwd</th>\n",
       "      <th>name</th>\n",
       "      <th>department_name</th>\n",
       "      <th>join_date</th>\n",
       "    </tr>\n",
       "  </thead>\n",
       "  <tbody>\n",
       "    <tr>\n",
       "      <th>0</th>\n",
       "      <td>1</td>\n",
       "      <td>123@abc.com</td>\n",
       "      <td>1234</td>\n",
       "      <td>Lee</td>\n",
       "      <td>200</td>\n",
       "      <td>2021-04-09 14:41:22</td>\n",
       "    </tr>\n",
       "    <tr>\n",
       "      <th>1</th>\n",
       "      <td>2</td>\n",
       "      <td>abc@def.com</td>\n",
       "      <td>abc</td>\n",
       "      <td>None</td>\n",
       "      <td>None</td>\n",
       "      <td>2021-04-09 15:42:42</td>\n",
       "    </tr>\n",
       "    <tr>\n",
       "      <th>2</th>\n",
       "      <td>3</td>\n",
       "      <td>hi@def.com</td>\n",
       "      <td>Park</td>\n",
       "      <td>None</td>\n",
       "      <td>None</td>\n",
       "      <td>2021-04-09 15:46:54</td>\n",
       "    </tr>\n",
       "    <tr>\n",
       "      <th>3</th>\n",
       "      <td>5</td>\n",
       "      <td>ABC@def.com</td>\n",
       "      <td>1234</td>\n",
       "      <td>Choi</td>\n",
       "      <td>002</td>\n",
       "      <td>2021-04-09 15:49:29</td>\n",
       "    </tr>\n",
       "    <tr>\n",
       "      <th>4</th>\n",
       "      <td>6</td>\n",
       "      <td>carami@nate.com</td>\n",
       "      <td>1234</td>\n",
       "      <td>Kang</td>\n",
       "      <td>200</td>\n",
       "      <td>2021-04-09 18:12:31</td>\n",
       "    </tr>\n",
       "    <tr>\n",
       "      <th>5</th>\n",
       "      <td>7</td>\n",
       "      <td>ABC@def.com</td>\n",
       "      <td>1234</td>\n",
       "      <td>Choi</td>\n",
       "      <td>002</td>\n",
       "      <td>2021-04-09 18:13:08</td>\n",
       "    </tr>\n",
       "    <tr>\n",
       "      <th>6</th>\n",
       "      <td>8</td>\n",
       "      <td>hong@nate.com</td>\n",
       "      <td>5555</td>\n",
       "      <td>hong</td>\n",
       "      <td>004</td>\n",
       "      <td>2021-04-12 09:31:23</td>\n",
       "    </tr>\n",
       "  </tbody>\n",
       "</table>\n",
       "</div>"
      ],
      "text/plain": [
       "   member_id            email passwd  name department_name           join_date\n",
       "0          1      123@abc.com   1234   Lee             200 2021-04-09 14:41:22\n",
       "1          2      abc@def.com    abc  None            None 2021-04-09 15:42:42\n",
       "2          3       hi@def.com   Park  None            None 2021-04-09 15:46:54\n",
       "3          5      ABC@def.com   1234  Choi             002 2021-04-09 15:49:29\n",
       "4          6  carami@nate.com   1234  Kang             200 2021-04-09 18:12:31\n",
       "5          7      ABC@def.com   1234  Choi             002 2021-04-09 18:13:08\n",
       "6          8    hong@nate.com   5555  hong             004 2021-04-12 09:31:23"
      ]
     },
     "execution_count": 49,
     "metadata": {},
     "output_type": "execute_result"
    }
   ],
   "source": [
    "result.loc[\"k\"]"
   ]
  },
  {
   "cell_type": "code",
   "execution_count": 54,
   "metadata": {},
   "outputs": [],
   "source": [
    "cursor.close()\n",
    "DictCursor.close()\n",
    "conn.close()"
   ]
  },
  {
   "cell_type": "code",
   "execution_count": 67,
   "metadata": {},
   "outputs": [],
   "source": [
    "# 입력하기\n",
    "query='''\n",
    "insert member\n",
    "values(null,'cho@nate.com','8745','cho','22',default)\n",
    "'''\n",
    "\n",
    "cur = conn.cursor()\n",
    "cur.execute(query)\n",
    "conn.commit()\n",
    "cursor.close()\n",
    "conn.close()"
   ]
  },
  {
   "cell_type": "code",
   "execution_count": 74,
   "metadata": {},
   "outputs": [],
   "source": [
    "email = 'go@nate.com'\n",
    "passwd ='8715'\n",
    "name = 'go'\n",
    "\n",
    "#%s받아오면 됨\n",
    "query='''\n",
    "insert member\n",
    "values(null,%s,%s,%s,'22',default)\n",
    "'''\n",
    "\n",
    "cur = conn.cursor()\n",
    "cur.execute(query,(email, passwd, name))\n",
    "conn.commit()\n",
    "cursor.close()\n",
    "conn.close()"
   ]
  }
 ],
 "metadata": {
  "kernelspec": {
   "display_name": "Python 3",
   "language": "python",
   "name": "python3"
  },
  "language_info": {
   "codemirror_mode": {
    "name": "ipython",
    "version": 3
   },
   "file_extension": ".py",
   "mimetype": "text/x-python",
   "name": "python",
   "nbconvert_exporter": "python",
   "pygments_lexer": "ipython3",
   "version": "3.8.5"
  }
 },
 "nbformat": 4,
 "nbformat_minor": 4
}
