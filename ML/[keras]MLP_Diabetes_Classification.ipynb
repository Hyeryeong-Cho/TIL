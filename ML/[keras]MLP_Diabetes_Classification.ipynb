{
 "cells": [
  {
   "cell_type": "markdown",
   "metadata": {},
   "source": [
    "### 딥-러닝 과정 Mulit Layer Perceptron(MLP) "
   ]
  },
  {
   "cell_type": "markdown",
   "metadata": {},
   "source": [
    "## Keras 모델 생성/학습 - 당뇨병 예측 모델"
   ]
  },
  {
   "cell_type": "code",
   "execution_count": 1,
   "metadata": {},
   "outputs": [],
   "source": [
    "# 1. Pandas 가져오기\n",
    "import pandas as pd\n",
    "import numpy as np"
   ]
  },
  {
   "cell_type": "code",
   "execution_count": 2,
   "metadata": {},
   "outputs": [],
   "source": [
    "# 2. 데이터 불러오기\n",
    "data = pd.read_csv('diabetes_data.csv')"
   ]
  },
  {
   "cell_type": "code",
   "execution_count": 3,
   "metadata": {
    "scrolled": true
   },
   "outputs": [
    {
     "data": {
      "text/html": [
       "<div>\n",
       "<style scoped>\n",
       "    .dataframe tbody tr th:only-of-type {\n",
       "        vertical-align: middle;\n",
       "    }\n",
       "\n",
       "    .dataframe tbody tr th {\n",
       "        vertical-align: top;\n",
       "    }\n",
       "\n",
       "    .dataframe thead th {\n",
       "        text-align: right;\n",
       "    }\n",
       "</style>\n",
       "<table border=\"1\" class=\"dataframe\">\n",
       "  <thead>\n",
       "    <tr style=\"text-align: right;\">\n",
       "      <th></th>\n",
       "      <th>pregnant</th>\n",
       "      <th>gloucose</th>\n",
       "      <th>blood pressure</th>\n",
       "      <th>skin thickness</th>\n",
       "      <th>insulin</th>\n",
       "      <th>BMI</th>\n",
       "      <th>DPF</th>\n",
       "      <th>age</th>\n",
       "      <th>result</th>\n",
       "    </tr>\n",
       "  </thead>\n",
       "  <tbody>\n",
       "    <tr>\n",
       "      <th>0</th>\n",
       "      <td>6</td>\n",
       "      <td>148</td>\n",
       "      <td>72</td>\n",
       "      <td>35</td>\n",
       "      <td>0</td>\n",
       "      <td>33.6</td>\n",
       "      <td>0.627</td>\n",
       "      <td>50</td>\n",
       "      <td>1</td>\n",
       "    </tr>\n",
       "    <tr>\n",
       "      <th>1</th>\n",
       "      <td>1</td>\n",
       "      <td>85</td>\n",
       "      <td>66</td>\n",
       "      <td>29</td>\n",
       "      <td>0</td>\n",
       "      <td>26.6</td>\n",
       "      <td>0.351</td>\n",
       "      <td>31</td>\n",
       "      <td>0</td>\n",
       "    </tr>\n",
       "    <tr>\n",
       "      <th>2</th>\n",
       "      <td>8</td>\n",
       "      <td>183</td>\n",
       "      <td>64</td>\n",
       "      <td>0</td>\n",
       "      <td>0</td>\n",
       "      <td>23.3</td>\n",
       "      <td>0.672</td>\n",
       "      <td>32</td>\n",
       "      <td>1</td>\n",
       "    </tr>\n",
       "    <tr>\n",
       "      <th>3</th>\n",
       "      <td>1</td>\n",
       "      <td>89</td>\n",
       "      <td>66</td>\n",
       "      <td>23</td>\n",
       "      <td>94</td>\n",
       "      <td>28.1</td>\n",
       "      <td>0.167</td>\n",
       "      <td>21</td>\n",
       "      <td>0</td>\n",
       "    </tr>\n",
       "    <tr>\n",
       "      <th>4</th>\n",
       "      <td>0</td>\n",
       "      <td>137</td>\n",
       "      <td>40</td>\n",
       "      <td>35</td>\n",
       "      <td>168</td>\n",
       "      <td>43.1</td>\n",
       "      <td>2.288</td>\n",
       "      <td>33</td>\n",
       "      <td>1</td>\n",
       "    </tr>\n",
       "  </tbody>\n",
       "</table>\n",
       "</div>"
      ],
      "text/plain": [
       "   pregnant  gloucose  blood pressure  skin thickness  insulin   BMI    DPF  \\\n",
       "0         6       148              72              35        0  33.6  0.627   \n",
       "1         1        85              66              29        0  26.6  0.351   \n",
       "2         8       183              64               0        0  23.3  0.672   \n",
       "3         1        89              66              23       94  28.1  0.167   \n",
       "4         0       137              40              35      168  43.1  2.288   \n",
       "\n",
       "   age  result  \n",
       "0   50       1  \n",
       "1   31       0  \n",
       "2   32       1  \n",
       "3   21       0  \n",
       "4   33       1  "
      ]
     },
     "execution_count": 3,
     "metadata": {},
     "output_type": "execute_result"
    }
   ],
   "source": [
    "data.head()"
   ]
  },
  {
   "cell_type": "code",
   "execution_count": 4,
   "metadata": {
    "scrolled": true
   },
   "outputs": [
    {
     "name": "stdout",
     "output_type": "stream",
     "text": [
      "<class 'pandas.core.frame.DataFrame'>\n",
      "RangeIndex: 768 entries, 0 to 767\n",
      "Data columns (total 9 columns):\n",
      " #   Column          Non-Null Count  Dtype  \n",
      "---  ------          --------------  -----  \n",
      " 0   pregnant        768 non-null    int64  \n",
      " 1   gloucose        768 non-null    int64  \n",
      " 2   blood pressure  768 non-null    int64  \n",
      " 3   skin thickness  768 non-null    int64  \n",
      " 4   insulin         768 non-null    int64  \n",
      " 5   BMI             768 non-null    float64\n",
      " 6   DPF             768 non-null    float64\n",
      " 7   age             768 non-null    int64  \n",
      " 8   result          768 non-null    int64  \n",
      "dtypes: float64(2), int64(7)\n",
      "memory usage: 54.1 KB\n"
     ]
    }
   ],
   "source": [
    "data.info()"
   ]
  },
  {
   "cell_type": "code",
   "execution_count": 5,
   "metadata": {},
   "outputs": [],
   "source": [
    "# 3. X/y 나누기\n",
    "X = data.copy().drop(['result'], axis = 1)\n",
    "y = data.copy()['result']"
   ]
  },
  {
   "cell_type": "code",
   "execution_count": 6,
   "metadata": {},
   "outputs": [
    {
     "name": "stdout",
     "output_type": "stream",
     "text": [
      "X: (614, 8) (154, 8)\n",
      "y: (614,) (154,)\n"
     ]
    }
   ],
   "source": [
    "# 4. Train set, Test set 나누기\n",
    "from sklearn.model_selection import train_test_split\n",
    "\n",
    "X_train, X_test, y_train, y_test = train_test_split(X, y, test_size = 0.2, random_state = 1234)\n",
    "\n",
    "print('X:', X_train.shape, X_test.shape)\n",
    "print('y:', y_train.shape, y_test.shape)"
   ]
  },
  {
   "cell_type": "markdown",
   "metadata": {},
   "source": [
    "## 전처리 후 모델링 해보기\n",
    "# EDA\n",
    "\n",
    "\n",
    "* pregnant : 임신횟수\n",
    "* glucose : 포도당 부하 검사 수치\n",
    "* bloodpressure : 혈압\n",
    "* Skinthickness : 팔 삼두근 뒤쪽의 피하지방 측정값\n",
    "* insulin : 혈청 인슐린\n",
    "* BMI : 체질량 지수\n",
    "* DPF(DiabetesPedigreeFunction) : 당뇨 내력 가중치 값\n",
    "* age : 나이\n",
    "* result : 당뇨여부(0 또는 1)"
   ]
  },
  {
   "cell_type": "code",
   "execution_count": 33,
   "metadata": {},
   "outputs": [
    {
     "data": {
      "text/html": [
       "<div>\n",
       "<style scoped>\n",
       "    .dataframe tbody tr th:only-of-type {\n",
       "        vertical-align: middle;\n",
       "    }\n",
       "\n",
       "    .dataframe tbody tr th {\n",
       "        vertical-align: top;\n",
       "    }\n",
       "\n",
       "    .dataframe thead th {\n",
       "        text-align: right;\n",
       "    }\n",
       "</style>\n",
       "<table border=\"1\" class=\"dataframe\">\n",
       "  <thead>\n",
       "    <tr style=\"text-align: right;\">\n",
       "      <th></th>\n",
       "      <th>pregnant</th>\n",
       "      <th>gloucose</th>\n",
       "      <th>blood pressure</th>\n",
       "      <th>skin thickness</th>\n",
       "      <th>insulin</th>\n",
       "      <th>BMI</th>\n",
       "      <th>DPF</th>\n",
       "      <th>age</th>\n",
       "      <th>result</th>\n",
       "    </tr>\n",
       "  </thead>\n",
       "  <tbody>\n",
       "    <tr>\n",
       "      <th>count</th>\n",
       "      <td>768.000000</td>\n",
       "      <td>768.000000</td>\n",
       "      <td>768.000000</td>\n",
       "      <td>768.000000</td>\n",
       "      <td>768.000000</td>\n",
       "      <td>768.000000</td>\n",
       "      <td>768.000000</td>\n",
       "      <td>768.000000</td>\n",
       "      <td>768.000000</td>\n",
       "    </tr>\n",
       "    <tr>\n",
       "      <th>mean</th>\n",
       "      <td>3.845052</td>\n",
       "      <td>120.894531</td>\n",
       "      <td>69.105469</td>\n",
       "      <td>20.536458</td>\n",
       "      <td>79.799479</td>\n",
       "      <td>31.992578</td>\n",
       "      <td>0.471876</td>\n",
       "      <td>33.240885</td>\n",
       "      <td>0.348958</td>\n",
       "    </tr>\n",
       "    <tr>\n",
       "      <th>std</th>\n",
       "      <td>3.369578</td>\n",
       "      <td>31.972618</td>\n",
       "      <td>19.355807</td>\n",
       "      <td>15.952218</td>\n",
       "      <td>115.244002</td>\n",
       "      <td>7.884160</td>\n",
       "      <td>0.331329</td>\n",
       "      <td>11.760232</td>\n",
       "      <td>0.476951</td>\n",
       "    </tr>\n",
       "    <tr>\n",
       "      <th>min</th>\n",
       "      <td>0.000000</td>\n",
       "      <td>0.000000</td>\n",
       "      <td>0.000000</td>\n",
       "      <td>0.000000</td>\n",
       "      <td>0.000000</td>\n",
       "      <td>0.000000</td>\n",
       "      <td>0.078000</td>\n",
       "      <td>21.000000</td>\n",
       "      <td>0.000000</td>\n",
       "    </tr>\n",
       "    <tr>\n",
       "      <th>25%</th>\n",
       "      <td>1.000000</td>\n",
       "      <td>99.000000</td>\n",
       "      <td>62.000000</td>\n",
       "      <td>0.000000</td>\n",
       "      <td>0.000000</td>\n",
       "      <td>27.300000</td>\n",
       "      <td>0.243750</td>\n",
       "      <td>24.000000</td>\n",
       "      <td>0.000000</td>\n",
       "    </tr>\n",
       "    <tr>\n",
       "      <th>50%</th>\n",
       "      <td>3.000000</td>\n",
       "      <td>117.000000</td>\n",
       "      <td>72.000000</td>\n",
       "      <td>23.000000</td>\n",
       "      <td>30.500000</td>\n",
       "      <td>32.000000</td>\n",
       "      <td>0.372500</td>\n",
       "      <td>29.000000</td>\n",
       "      <td>0.000000</td>\n",
       "    </tr>\n",
       "    <tr>\n",
       "      <th>75%</th>\n",
       "      <td>6.000000</td>\n",
       "      <td>140.250000</td>\n",
       "      <td>80.000000</td>\n",
       "      <td>32.000000</td>\n",
       "      <td>127.250000</td>\n",
       "      <td>36.600000</td>\n",
       "      <td>0.626250</td>\n",
       "      <td>41.000000</td>\n",
       "      <td>1.000000</td>\n",
       "    </tr>\n",
       "    <tr>\n",
       "      <th>max</th>\n",
       "      <td>17.000000</td>\n",
       "      <td>199.000000</td>\n",
       "      <td>122.000000</td>\n",
       "      <td>99.000000</td>\n",
       "      <td>846.000000</td>\n",
       "      <td>67.100000</td>\n",
       "      <td>2.420000</td>\n",
       "      <td>81.000000</td>\n",
       "      <td>1.000000</td>\n",
       "    </tr>\n",
       "  </tbody>\n",
       "</table>\n",
       "</div>"
      ],
      "text/plain": [
       "         pregnant    gloucose  blood pressure  skin thickness     insulin  \\\n",
       "count  768.000000  768.000000      768.000000      768.000000  768.000000   \n",
       "mean     3.845052  120.894531       69.105469       20.536458   79.799479   \n",
       "std      3.369578   31.972618       19.355807       15.952218  115.244002   \n",
       "min      0.000000    0.000000        0.000000        0.000000    0.000000   \n",
       "25%      1.000000   99.000000       62.000000        0.000000    0.000000   \n",
       "50%      3.000000  117.000000       72.000000       23.000000   30.500000   \n",
       "75%      6.000000  140.250000       80.000000       32.000000  127.250000   \n",
       "max     17.000000  199.000000      122.000000       99.000000  846.000000   \n",
       "\n",
       "              BMI         DPF         age      result  \n",
       "count  768.000000  768.000000  768.000000  768.000000  \n",
       "mean    31.992578    0.471876   33.240885    0.348958  \n",
       "std      7.884160    0.331329   11.760232    0.476951  \n",
       "min      0.000000    0.078000   21.000000    0.000000  \n",
       "25%     27.300000    0.243750   24.000000    0.000000  \n",
       "50%     32.000000    0.372500   29.000000    0.000000  \n",
       "75%     36.600000    0.626250   41.000000    1.000000  \n",
       "max     67.100000    2.420000   81.000000    1.000000  "
      ]
     },
     "execution_count": 33,
     "metadata": {},
     "output_type": "execute_result"
    }
   ],
   "source": [
    "data.describe(include = 'all')"
   ]
  },
  {
   "cell_type": "markdown",
   "metadata": {},
   "source": [
    "gloucose, blood pressure, skin thickness,insulin,BMI은 0이 나올 수 없는 값이므로(gloucose의 정상 수치는 65~99 mg/dL)  \n",
    "0이 나온 것은 결측치인지 확인하여 대체(평균 or 중앙값)"
   ]
  },
  {
   "cell_type": "code",
   "execution_count": 36,
   "metadata": {
    "scrolled": true
   },
   "outputs": [
    {
     "data": {
      "image/png": "[encoded data removed]",
      "text/plain": [
       "<Figure size 432x288 with 1 Axes>"
      ]
     },
     "metadata": {
      "needs_background": "light"
     },
     "output_type": "display_data"
    },
    {
     "data": {
      "text/plain": [
       "<AxesSubplot:ylabel='Density'>"
      ]
     },
     "execution_count": 36,
     "metadata": {},
     "output_type": "execute_result"
    },
    {
     "data": {
      "image/png": "[encoded data removed]",
      "text/plain": [
       "<Figure size 432x288 with 1 Axes>"
      ]
     },
     "metadata": {
      "needs_background": "light"
     },
     "output_type": "display_data"
    }
   ],
   "source": [
    "sns.kdeplot(data = data[['gloucose','blood pressure','skin thickness','BMI']])\n",
    "plt.show()\n",
    "sns.kdeplot(data = data[['insulin']])"
   ]
  },
  {
   "cell_type": "code",
   "execution_count": null,
   "metadata": {},
   "outputs": [],
   "source": [
    "g = sns.FacetGrid.map(x = 'result', data = 'data')\n",
    "g =\n",
    "sns.kdeplot(data = data[['gloucose','blood pressure','skin thickness','BMI']])\n",
    "plt.show()\n",
    "sns.kdeplot(data = data[['insulin']])"
   ]
  },
  {
   "cell_type": "code",
   "execution_count": 7,
   "metadata": {},
   "outputs": [],
   "source": [
    "# 5. Keras 패키지 가져오기\n",
    "from tensorflow import keras\n",
    "from tensorflow.keras import layers\n",
    "from tensorflow.keras.layers import Dense, Activation"
   ]
  },
  {
   "cell_type": "code",
   "execution_count": 8,
   "metadata": {},
   "outputs": [],
   "source": [
    "# 6. MLP 모델 생성\n",
    "model = keras.Sequential()"
   ]
  },
  {
   "cell_type": "code",
   "execution_count": 9,
   "metadata": {},
   "outputs": [],
   "source": [
    "# network 생성\n",
    "model.add(Dense(input_dim = 8, units = 64, activation = 'relu'))\n",
    "model.add(Dense(units = 64, activation = 'relu'))\n",
    "model.add(Dense(units = 1, activation = 'sigmoid'))"
   ]
  },
  {
   "cell_type": "code",
   "execution_count": 10,
   "metadata": {},
   "outputs": [],
   "source": [
    "# 7. Compile - Optimizer, Loss function 설정\n",
    "#adam = keras.optimizers.Adam(lr = 0.1)\n",
    "model.compile(loss = 'binary_crossentropy', optimizer = 'adam')"
   ]
  },
  {
   "cell_type": "code",
   "execution_count": 11,
   "metadata": {},
   "outputs": [
    {
     "name": "stdout",
     "output_type": "stream",
     "text": [
      "Epoch 1/100\n",
      "39/39 [==============================] - 0s 929us/step - loss: 1.5800\n",
      "Epoch 2/100\n",
      "39/39 [==============================] - 0s 900us/step - loss: 0.7619\n",
      "Epoch 3/100\n",
      "39/39 [==============================] - 0s 874us/step - loss: 0.9135\n",
      "Epoch 4/100\n",
      "39/39 [==============================] - 0s 989us/step - loss: 0.6465\n",
      "Epoch 5/100\n",
      "39/39 [==============================] - 0s 888us/step - loss: 0.7371\n",
      "Epoch 6/100\n",
      "39/39 [==============================] - 0s 923us/step - loss: 0.7588\n",
      "Epoch 7/100\n",
      "39/39 [==============================] - 0s 890us/step - loss: 0.7944\n",
      "Epoch 8/100\n",
      "39/39 [==============================] - 0s 801us/step - loss: 0.6020\n",
      "Epoch 9/100\n",
      "39/39 [==============================] - 0s 855us/step - loss: 0.7234\n",
      "Epoch 10/100\n",
      "39/39 [==============================] - 0s 934us/step - loss: 0.6926\n",
      "Epoch 11/100\n",
      "39/39 [==============================] - 0s 843us/step - loss: 0.5971\n",
      "Epoch 12/100\n",
      "39/39 [==============================] - 0s 822us/step - loss: 0.5537\n",
      "Epoch 13/100\n",
      "39/39 [==============================] - 0s 832us/step - loss: 0.5614\n",
      "Epoch 14/100\n",
      "39/39 [==============================] - 0s 881us/step - loss: 0.6508\n",
      "Epoch 15/100\n",
      "39/39 [==============================] - 0s 952us/step - loss: 0.6508\n",
      "Epoch 16/100\n",
      "39/39 [==============================] - 0s 862us/step - loss: 0.8066\n",
      "Epoch 17/100\n",
      "39/39 [==============================] - 0s 966us/step - loss: 0.6310\n",
      "Epoch 18/100\n",
      "39/39 [==============================] - 0s 837us/step - loss: 0.5829\n",
      "Epoch 19/100\n",
      "39/39 [==============================] - 0s 864us/step - loss: 0.6084\n",
      "Epoch 20/100\n",
      "39/39 [==============================] - 0s 914us/step - loss: 0.5911\n",
      "Epoch 21/100\n",
      "39/39 [==============================] - 0s 884us/step - loss: 0.5391\n",
      "Epoch 22/100\n",
      "39/39 [==============================] - 0s 882us/step - loss: 0.5893\n",
      "Epoch 23/100\n",
      "39/39 [==============================] - 0s 900us/step - loss: 0.7173\n",
      "Epoch 24/100\n",
      "39/39 [==============================] - 0s 918us/step - loss: 0.7193\n",
      "Epoch 25/100\n",
      "39/39 [==============================] - 0s 1ms/step - loss: 0.6528\n",
      "Epoch 26/100\n",
      "39/39 [==============================] - 0s 892us/step - loss: 0.5814\n",
      "Epoch 27/100\n",
      "39/39 [==============================] - 0s 927us/step - loss: 0.5545\n",
      "Epoch 28/100\n",
      "39/39 [==============================] - 0s 887us/step - loss: 0.5859\n",
      "Epoch 29/100\n",
      "39/39 [==============================] - 0s 1ms/step - loss: 0.5671\n",
      "Epoch 30/100\n",
      "39/39 [==============================] - 0s 855us/step - loss: 0.6522\n",
      "Epoch 31/100\n",
      "39/39 [==============================] - 0s 1ms/step - loss: 0.6638\n",
      "Epoch 32/100\n",
      "39/39 [==============================] - 0s 920us/step - loss: 0.6008\n",
      "Epoch 33/100\n",
      "39/39 [==============================] - 0s 948us/step - loss: 0.6335\n",
      "Epoch 34/100\n",
      "39/39 [==============================] - 0s 909us/step - loss: 0.5554\n",
      "Epoch 35/100\n",
      "39/39 [==============================] - 0s 836us/step - loss: 0.5762\n",
      "Epoch 36/100\n",
      "39/39 [==============================] - 0s 886us/step - loss: 0.5967\n",
      "Epoch 37/100\n",
      "39/39 [==============================] - 0s 820us/step - loss: 0.5219\n",
      "Epoch 38/100\n",
      "39/39 [==============================] - 0s 860us/step - loss: 0.5016\n",
      "Epoch 39/100\n",
      "39/39 [==============================] - 0s 878us/step - loss: 0.5145\n",
      "Epoch 40/100\n",
      "39/39 [==============================] - 0s 841us/step - loss: 0.5420\n",
      "Epoch 41/100\n",
      "39/39 [==============================] - 0s 871us/step - loss: 0.5100\n",
      "Epoch 42/100\n",
      "39/39 [==============================] - 0s 848us/step - loss: 0.5386\n",
      "Epoch 43/100\n",
      "39/39 [==============================] - 0s 897us/step - loss: 0.5036\n",
      "Epoch 44/100\n",
      "39/39 [==============================] - 0s 845us/step - loss: 0.4827\n",
      "Epoch 45/100\n",
      "39/39 [==============================] - 0s 861us/step - loss: 0.5573\n",
      "Epoch 46/100\n",
      "39/39 [==============================] - 0s 888us/step - loss: 0.5366\n",
      "Epoch 47/100\n",
      "39/39 [==============================] - 0s 844us/step - loss: 0.5254\n",
      "Epoch 48/100\n",
      "39/39 [==============================] - 0s 860us/step - loss: 0.5440\n",
      "Epoch 49/100\n",
      "39/39 [==============================] - 0s 952us/step - loss: 0.4906\n",
      "Epoch 50/100\n",
      "39/39 [==============================] - 0s 896us/step - loss: 0.5690\n",
      "Epoch 51/100\n",
      "39/39 [==============================] - 0s 853us/step - loss: 0.4868\n",
      "Epoch 52/100\n",
      "39/39 [==============================] - 0s 814us/step - loss: 0.5259\n",
      "Epoch 53/100\n",
      "39/39 [==============================] - 0s 809us/step - loss: 0.4825\n",
      "Epoch 54/100\n",
      "39/39 [==============================] - 0s 877us/step - loss: 0.4942\n",
      "Epoch 55/100\n",
      "39/39 [==============================] - 0s 1ms/step - loss: 0.4672\n",
      "Epoch 56/100\n",
      "39/39 [==============================] - 0s 861us/step - loss: 0.5149\n",
      "Epoch 57/100\n",
      "39/39 [==============================] - 0s 903us/step - loss: 0.5614\n",
      "Epoch 58/100\n",
      "39/39 [==============================] - 0s 942us/step - loss: 0.4418\n",
      "Epoch 59/100\n",
      "39/39 [==============================] - 0s 850us/step - loss: 0.4817\n",
      "Epoch 60/100\n",
      "39/39 [==============================] - 0s 846us/step - loss: 0.5184\n",
      "Epoch 61/100\n",
      "39/39 [==============================] - 0s 940us/step - loss: 0.4904\n",
      "Epoch 62/100\n",
      "39/39 [==============================] - 0s 838us/step - loss: 0.6242\n",
      "Epoch 63/100\n",
      "39/39 [==============================] - 0s 914us/step - loss: 0.5225\n",
      "Epoch 64/100\n",
      "39/39 [==============================] - 0s 872us/step - loss: 0.4417\n",
      "Epoch 65/100\n",
      "39/39 [==============================] - 0s 826us/step - loss: 0.4439\n",
      "Epoch 66/100\n",
      "39/39 [==============================] - 0s 820us/step - loss: 0.5463\n",
      "Epoch 67/100\n",
      "39/39 [==============================] - 0s 864us/step - loss: 0.4926\n",
      "Epoch 68/100\n",
      "39/39 [==============================] - 0s 1ms/step - loss: 0.5005\n",
      "Epoch 69/100\n",
      "39/39 [==============================] - 0s 856us/step - loss: 0.4496\n",
      "Epoch 70/100\n",
      "39/39 [==============================] - 0s 838us/step - loss: 0.4636\n",
      "Epoch 71/100\n",
      "39/39 [==============================] - 0s 872us/step - loss: 0.5510\n",
      "Epoch 72/100\n",
      "39/39 [==============================] - 0s 916us/step - loss: 0.4277\n",
      "Epoch 73/100\n",
      "39/39 [==============================] - 0s 855us/step - loss: 0.4447\n",
      "Epoch 74/100\n",
      "39/39 [==============================] - 0s 1ms/step - loss: 0.4919\n",
      "Epoch 75/100\n",
      "39/39 [==============================] - 0s 948us/step - loss: 0.4352\n",
      "Epoch 76/100\n",
      "39/39 [==============================] - 0s 906us/step - loss: 0.4404\n",
      "Epoch 77/100\n",
      "39/39 [==============================] - 0s 936us/step - loss: 0.4632\n",
      "Epoch 78/100\n",
      "39/39 [==============================] - 0s 851us/step - loss: 0.4304\n",
      "Epoch 79/100\n",
      "39/39 [==============================] - 0s 857us/step - loss: 0.4384\n",
      "Epoch 80/100\n",
      "39/39 [==============================] - 0s 894us/step - loss: 0.5896\n",
      "Epoch 81/100\n",
      "39/39 [==============================] - 0s 846us/step - loss: 0.5168\n",
      "Epoch 82/100\n",
      "39/39 [==============================] - 0s 865us/step - loss: 0.5119\n",
      "Epoch 83/100\n",
      "39/39 [==============================] - 0s 898us/step - loss: 0.5350\n",
      "Epoch 84/100\n",
      "39/39 [==============================] - 0s 850us/step - loss: 0.4625\n",
      "Epoch 85/100\n",
      "39/39 [==============================] - 0s 850us/step - loss: 0.4442\n",
      "Epoch 86/100\n",
      "39/39 [==============================] - 0s 939us/step - loss: 0.4319\n",
      "Epoch 87/100\n",
      "39/39 [==============================] - 0s 846us/step - loss: 0.4749\n",
      "Epoch 88/100\n",
      "39/39 [==============================] - 0s 850us/step - loss: 0.5613\n",
      "Epoch 89/100\n",
      "39/39 [==============================] - 0s 892us/step - loss: 0.4701\n",
      "Epoch 90/100\n",
      "39/39 [==============================] - 0s 860us/step - loss: 0.4978\n",
      "Epoch 91/100\n",
      "39/39 [==============================] - 0s 863us/step - loss: 0.4219\n",
      "Epoch 92/100\n",
      "39/39 [==============================] - 0s 827us/step - loss: 0.4753\n",
      "Epoch 93/100\n",
      "39/39 [==============================] - 0s 858us/step - loss: 0.4739\n",
      "Epoch 94/100\n",
      "39/39 [==============================] - 0s 844us/step - loss: 0.4701\n",
      "Epoch 95/100\n",
      "39/39 [==============================] - 0s 827us/step - loss: 0.5021\n",
      "Epoch 96/100\n",
      "39/39 [==============================] - 0s 893us/step - loss: 0.4478\n",
      "Epoch 97/100\n",
      "39/39 [==============================] - 0s 1ms/step - loss: 0.4608\n",
      "Epoch 98/100\n",
      "39/39 [==============================] - 0s 873us/step - loss: 0.4355\n",
      "Epoch 99/100\n",
      "39/39 [==============================] - 0s 842us/step - loss: 0.4540\n"
     ]
    },
    {
     "name": "stdout",
     "output_type": "stream",
     "text": [
      "Epoch 100/100\n",
      "39/39 [==============================] - 0s 821us/step - loss: 0.4311\n"
     ]
    },
    {
     "data": {
      "text/plain": [
       "<tensorflow.python.keras.callbacks.History at 0x7f7d01791190>"
      ]
     },
     "execution_count": 11,
     "metadata": {},
     "output_type": "execute_result"
    }
   ],
   "source": [
    "# 8. 학습시키기\n",
    "model.fit(X_train, y_train,\n",
    "         batch_size = 16,\n",
    "         epochs = 100)"
   ]
  },
  {
   "cell_type": "code",
   "execution_count": 12,
   "metadata": {},
   "outputs": [
    {
     "name": "stdout",
     "output_type": "stream",
     "text": [
      "[[0]\n",
      " [1]\n",
      " [1]\n",
      " [0]\n",
      " [0]\n",
      " [1]\n",
      " [0]\n",
      " [0]\n",
      " [1]\n",
      " [0]\n",
      " [0]\n",
      " [0]\n",
      " [1]\n",
      " [0]\n",
      " [0]\n",
      " [1]\n",
      " [1]\n",
      " [0]\n",
      " [0]\n",
      " [0]\n",
      " [1]\n",
      " [0]\n",
      " [0]\n",
      " [1]\n",
      " [0]\n",
      " [0]\n",
      " [0]\n",
      " [1]\n",
      " [0]\n",
      " [0]\n",
      " [0]\n",
      " [1]\n",
      " [1]\n",
      " [1]\n",
      " [0]\n",
      " [1]\n",
      " [0]\n",
      " [1]\n",
      " [0]\n",
      " [1]\n",
      " [0]\n",
      " [0]\n",
      " [1]\n",
      " [0]\n",
      " [0]\n",
      " [0]\n",
      " [0]\n",
      " [1]\n",
      " [0]\n",
      " [0]\n",
      " [1]\n",
      " [1]\n",
      " [1]\n",
      " [1]\n",
      " [0]\n",
      " [0]\n",
      " [0]\n",
      " [0]\n",
      " [1]\n",
      " [0]\n",
      " [1]\n",
      " [1]\n",
      " [0]\n",
      " [0]\n",
      " [0]\n",
      " [0]\n",
      " [0]\n",
      " [0]\n",
      " [1]\n",
      " [0]\n",
      " [1]\n",
      " [1]\n",
      " [0]\n",
      " [0]\n",
      " [1]\n",
      " [0]\n",
      " [0]\n",
      " [0]\n",
      " [0]\n",
      " [0]\n",
      " [0]\n",
      " [1]\n",
      " [0]\n",
      " [1]\n",
      " [0]\n",
      " [0]\n",
      " [0]\n",
      " [0]\n",
      " [0]\n",
      " [0]\n",
      " [1]\n",
      " [1]\n",
      " [0]\n",
      " [0]\n",
      " [0]\n",
      " [0]\n",
      " [0]\n",
      " [0]\n",
      " [0]\n",
      " [1]\n",
      " [1]\n",
      " [1]\n",
      " [0]\n",
      " [1]\n",
      " [0]\n",
      " [1]\n",
      " [1]\n",
      " [1]\n",
      " [0]\n",
      " [0]\n",
      " [1]\n",
      " [1]\n",
      " [0]\n",
      " [0]\n",
      " [0]\n",
      " [1]\n",
      " [0]\n",
      " [1]\n",
      " [0]\n",
      " [0]\n",
      " [0]\n",
      " [1]\n",
      " [1]\n",
      " [0]\n",
      " [0]\n",
      " [0]\n",
      " [1]\n",
      " [0]\n",
      " [0]\n",
      " [0]\n",
      " [0]\n",
      " [0]\n",
      " [0]\n",
      " [1]\n",
      " [0]\n",
      " [0]\n",
      " [0]\n",
      " [0]\n",
      " [0]\n",
      " [1]\n",
      " [0]\n",
      " [0]\n",
      " [1]\n",
      " [0]\n",
      " [0]\n",
      " [1]\n",
      " [1]\n",
      " [0]\n",
      " [1]\n",
      " [0]\n",
      " [1]\n",
      " [0]\n",
      " [1]\n",
      " [1]]\n"
     ]
    },
    {
     "name": "stderr",
     "output_type": "stream",
     "text": [
      "/anaconda/envs/py38_tensorflow/lib/python3.8/site-packages/tensorflow/python/keras/engine/sequential.py:450: UserWarning: `model.predict_classes()` is deprecated and will be removed after 2021-01-01. Please use instead:* `np.argmax(model.predict(x), axis=-1)`,   if your model does multi-class classification   (e.g. if it uses a `softmax` last-layer activation).* `(model.predict(x) > 0.5).astype(\"int32\")`,   if your model does binary classification   (e.g. if it uses a `sigmoid` last-layer activation).\n",
      "  warnings.warn('`model.predict_classes()` is deprecated and '\n"
     ]
    }
   ],
   "source": [
    "# 9. 모델 평가하기\n",
    "predict = model.predict_classes(X_test)\n",
    "print(predict)"
   ]
  },
  {
   "cell_type": "code",
   "execution_count": 13,
   "metadata": {},
   "outputs": [
    {
     "data": {
      "text/plain": [
       "array([109])"
      ]
     },
     "execution_count": 13,
     "metadata": {},
     "output_type": "execute_result"
    }
   ],
   "source": [
    "sum(pre == y for pre, y in zip(predict, y_test))\n"
   ]
  },
  {
   "cell_type": "code",
   "execution_count": 14,
   "metadata": {},
   "outputs": [
    {
     "data": {
      "text/plain": [
       "0.7077922077922078"
      ]
     },
     "execution_count": 14,
     "metadata": {},
     "output_type": "execute_result"
    }
   ],
   "source": [
    "# 10. 학습 시각화하기\n",
    "acc = sum(pre == y for pre, y in zip(predict, y_test))/len(y_test)\n",
    "acc[0]"
   ]
  },
  {
   "cell_type": "code",
   "execution_count": 15,
   "metadata": {},
   "outputs": [
    {
     "name": "stdout",
     "output_type": "stream",
     "text": [
      "Model: \"sequential_1\"\n",
      "_________________________________________________________________\n",
      "Layer (type)                 Output Shape              Param #   \n",
      "=================================================================\n",
      "dense_3 (Dense)              (None, 64)                576       \n",
      "_________________________________________________________________\n",
      "dense_4 (Dense)              (None, 128)               8320      \n",
      "_________________________________________________________________\n",
      "dense_5 (Dense)              (None, 64)                8256      \n",
      "_________________________________________________________________\n",
      "dense_6 (Dense)              (None, 1)                 65        \n",
      "=================================================================\n",
      "Total params: 17,217\n",
      "Trainable params: 17,217\n",
      "Non-trainable params: 0\n",
      "_________________________________________________________________\n"
     ]
    }
   ],
   "source": [
    "model1 = keras.Sequential()\n",
    "\n",
    "model1.add(Dense(input_dim = X_train.shape[1], units = 64, activation = 'relu'))\n",
    "model1.add(Dense(units = 128, activation = 'relu'))\n",
    "model1.add(Dense(units = 64, activation = 'relu'))\n",
    "model1.add(Dense(units = 1, activation = 'sigmoid'))\n",
    "\n",
    "model1.summary()\n"
   ]
  },
  {
   "cell_type": "code",
   "execution_count": 16,
   "metadata": {},
   "outputs": [],
   "source": [
    "model1.compile(loss = 'binary_crossentropy',\n",
    "              optimizer = 'adam',\n",
    "               metrics = ['accuracy'])"
   ]
  },
  {
   "cell_type": "code",
   "execution_count": 17,
   "metadata": {
    "scrolled": true
   },
   "outputs": [
    {
     "name": "stdout",
     "output_type": "stream",
     "text": [
      "Epoch 1/100\n",
      "39/39 [==============================] - 0s 1ms/step - loss: 1.5447 - accuracy: 0.5928\n",
      "Epoch 2/100\n",
      "39/39 [==============================] - 0s 1ms/step - loss: 0.7455 - accuracy: 0.6527\n",
      "Epoch 3/100\n",
      "39/39 [==============================] - 0s 998us/step - loss: 0.9908 - accuracy: 0.6192\n",
      "Epoch 4/100\n",
      "39/39 [==============================] - 0s 1ms/step - loss: 0.7408 - accuracy: 0.6270\n",
      "Epoch 5/100\n",
      "39/39 [==============================] - 0s 1ms/step - loss: 0.7397 - accuracy: 0.6369\n",
      "Epoch 6/100\n",
      "39/39 [==============================] - 0s 1ms/step - loss: 0.6288 - accuracy: 0.6847\n",
      "Epoch 7/100\n",
      "39/39 [==============================] - 0s 1ms/step - loss: 0.7910 - accuracy: 0.6517\n",
      "Epoch 8/100\n",
      "39/39 [==============================] - 0s 1ms/step - loss: 0.6926 - accuracy: 0.6824\n",
      "Epoch 9/100\n",
      "39/39 [==============================] - 0s 1ms/step - loss: 0.7262 - accuracy: 0.6778\n",
      "Epoch 10/100\n",
      "39/39 [==============================] - 0s 1ms/step - loss: 0.6089 - accuracy: 0.6701\n",
      "Epoch 11/100\n",
      "39/39 [==============================] - 0s 1ms/step - loss: 0.6970 - accuracy: 0.6546\n",
      "Epoch 12/100\n",
      "39/39 [==============================] - 0s 1ms/step - loss: 0.6576 - accuracy: 0.6873\n",
      "Epoch 13/100\n",
      "39/39 [==============================] - 0s 1ms/step - loss: 0.7206 - accuracy: 0.6498\n",
      "Epoch 14/100\n",
      "39/39 [==============================] - 0s 953us/step - loss: 0.6133 - accuracy: 0.7179\n",
      "Epoch 15/100\n",
      "39/39 [==============================] - 0s 1ms/step - loss: 0.5955 - accuracy: 0.7088\n",
      "Epoch 16/100\n",
      "39/39 [==============================] - 0s 997us/step - loss: 0.5475 - accuracy: 0.7254\n",
      "Epoch 17/100\n",
      "39/39 [==============================] - 0s 1ms/step - loss: 0.6158 - accuracy: 0.6900\n",
      "Epoch 18/100\n",
      "39/39 [==============================] - 0s 1ms/step - loss: 0.5319 - accuracy: 0.7395\n",
      "Epoch 19/100\n",
      "39/39 [==============================] - 0s 1ms/step - loss: 0.6777 - accuracy: 0.6712\n",
      "Epoch 20/100\n",
      "39/39 [==============================] - 0s 991us/step - loss: 0.5939 - accuracy: 0.7226\n",
      "Epoch 21/100\n",
      "39/39 [==============================] - 0s 1ms/step - loss: 0.6736 - accuracy: 0.7229\n",
      "Epoch 22/100\n",
      "39/39 [==============================] - 0s 1ms/step - loss: 0.6089 - accuracy: 0.7161\n",
      "Epoch 23/100\n",
      "39/39 [==============================] - 0s 1ms/step - loss: 0.5929 - accuracy: 0.7144\n",
      "Epoch 24/100\n",
      "39/39 [==============================] - 0s 1ms/step - loss: 0.5605 - accuracy: 0.6927\n",
      "Epoch 25/100\n",
      "39/39 [==============================] - 0s 1ms/step - loss: 0.5188 - accuracy: 0.7650\n",
      "Epoch 26/100\n",
      "39/39 [==============================] - 0s 1ms/step - loss: 0.6123 - accuracy: 0.7118\n",
      "Epoch 27/100\n",
      "39/39 [==============================] - 0s 989us/step - loss: 0.5373 - accuracy: 0.7437\n",
      "Epoch 28/100\n",
      "39/39 [==============================] - 0s 992us/step - loss: 0.5780 - accuracy: 0.7148\n",
      "Epoch 29/100\n",
      "39/39 [==============================] - 0s 1ms/step - loss: 0.4976 - accuracy: 0.7490\n",
      "Epoch 30/100\n",
      "39/39 [==============================] - 0s 1ms/step - loss: 0.5405 - accuracy: 0.7436\n",
      "Epoch 31/100\n",
      "39/39 [==============================] - 0s 953us/step - loss: 0.5759 - accuracy: 0.6909\n",
      "Epoch 32/100\n",
      "39/39 [==============================] - 0s 1ms/step - loss: 0.5173 - accuracy: 0.7553\n",
      "Epoch 33/100\n",
      "39/39 [==============================] - 0s 1ms/step - loss: 0.5272 - accuracy: 0.7320\n",
      "Epoch 34/100\n",
      "39/39 [==============================] - 0s 1ms/step - loss: 0.4958 - accuracy: 0.7373\n",
      "Epoch 35/100\n",
      "39/39 [==============================] - 0s 1ms/step - loss: 0.5475 - accuracy: 0.7354\n",
      "Epoch 36/100\n",
      "39/39 [==============================] - 0s 1ms/step - loss: 0.4862 - accuracy: 0.7449\n",
      "Epoch 37/100\n",
      "39/39 [==============================] - 0s 1ms/step - loss: 0.4825 - accuracy: 0.7631\n",
      "Epoch 38/100\n",
      "39/39 [==============================] - 0s 1ms/step - loss: 0.5096 - accuracy: 0.7449\n",
      "Epoch 39/100\n",
      "39/39 [==============================] - 0s 1ms/step - loss: 0.4808 - accuracy: 0.7587\n",
      "Epoch 40/100\n",
      "39/39 [==============================] - 0s 1ms/step - loss: 0.5226 - accuracy: 0.7262\n",
      "Epoch 41/100\n",
      "39/39 [==============================] - 0s 1ms/step - loss: 0.5032 - accuracy: 0.7585\n",
      "Epoch 42/100\n",
      "39/39 [==============================] - 0s 1ms/step - loss: 0.5124 - accuracy: 0.7225\n",
      "Epoch 43/100\n",
      "39/39 [==============================] - 0s 1ms/step - loss: 0.6036 - accuracy: 0.7093\n",
      "Epoch 44/100\n",
      "39/39 [==============================] - 0s 1ms/step - loss: 0.5474 - accuracy: 0.6914\n",
      "Epoch 45/100\n",
      "39/39 [==============================] - 0s 998us/step - loss: 0.4930 - accuracy: 0.7581\n",
      "Epoch 46/100\n",
      "39/39 [==============================] - 0s 1ms/step - loss: 0.5054 - accuracy: 0.7444\n",
      "Epoch 47/100\n",
      "39/39 [==============================] - 0s 1ms/step - loss: 0.5184 - accuracy: 0.7439\n",
      "Epoch 48/100\n",
      "39/39 [==============================] - 0s 1ms/step - loss: 0.4814 - accuracy: 0.7516\n",
      "Epoch 49/100\n",
      "39/39 [==============================] - 0s 1ms/step - loss: 0.4945 - accuracy: 0.7505\n",
      "Epoch 50/100\n",
      "39/39 [==============================] - 0s 1ms/step - loss: 0.4852 - accuracy: 0.7772\n",
      "Epoch 51/100\n",
      "39/39 [==============================] - 0s 1ms/step - loss: 0.4664 - accuracy: 0.7625\n",
      "Epoch 52/100\n",
      "39/39 [==============================] - 0s 1ms/step - loss: 0.4596 - accuracy: 0.7635\n",
      "Epoch 53/100\n",
      "39/39 [==============================] - 0s 1ms/step - loss: 0.4726 - accuracy: 0.7848\n",
      "Epoch 54/100\n",
      "39/39 [==============================] - 0s 1ms/step - loss: 0.5001 - accuracy: 0.7401\n",
      "Epoch 55/100\n",
      "39/39 [==============================] - 0s 983us/step - loss: 0.4325 - accuracy: 0.7997\n",
      "Epoch 56/100\n",
      "39/39 [==============================] - 0s 1ms/step - loss: 0.4618 - accuracy: 0.7689\n",
      "Epoch 57/100\n",
      "39/39 [==============================] - 0s 1ms/step - loss: 0.4620 - accuracy: 0.7773\n",
      "Epoch 58/100\n",
      "39/39 [==============================] - 0s 979us/step - loss: 0.4281 - accuracy: 0.8182\n",
      "Epoch 59/100\n",
      "39/39 [==============================] - 0s 1ms/step - loss: 0.5167 - accuracy: 0.7367\n",
      "Epoch 60/100\n",
      "39/39 [==============================] - 0s 1ms/step - loss: 0.4626 - accuracy: 0.7612\n",
      "Epoch 61/100\n",
      "39/39 [==============================] - 0s 1ms/step - loss: 0.4843 - accuracy: 0.7332\n",
      "Epoch 62/100\n",
      "39/39 [==============================] - 0s 1ms/step - loss: 0.4388 - accuracy: 0.7911\n",
      "Epoch 63/100\n",
      "39/39 [==============================] - 0s 1ms/step - loss: 0.4668 - accuracy: 0.7615\n",
      "Epoch 64/100\n",
      "39/39 [==============================] - 0s 1ms/step - loss: 0.4741 - accuracy: 0.7678\n",
      "Epoch 65/100\n",
      "39/39 [==============================] - 0s 981us/step - loss: 0.4606 - accuracy: 0.7796\n",
      "Epoch 66/100\n",
      "39/39 [==============================] - 0s 1ms/step - loss: 0.4989 - accuracy: 0.7531\n",
      "Epoch 67/100\n",
      "39/39 [==============================] - 0s 1ms/step - loss: 0.4194 - accuracy: 0.8111\n",
      "Epoch 68/100\n",
      "39/39 [==============================] - 0s 1ms/step - loss: 0.4618 - accuracy: 0.7759\n",
      "Epoch 69/100\n",
      "39/39 [==============================] - 0s 997us/step - loss: 0.4560 - accuracy: 0.7848\n",
      "Epoch 70/100\n",
      "39/39 [==============================] - 0s 1ms/step - loss: 0.4925 - accuracy: 0.7673\n",
      "Epoch 71/100\n",
      "39/39 [==============================] - 0s 1ms/step - loss: 0.4215 - accuracy: 0.7982\n",
      "Epoch 72/100\n",
      "39/39 [==============================] - 0s 1ms/step - loss: 0.4981 - accuracy: 0.7501\n",
      "Epoch 73/100\n",
      "39/39 [==============================] - 0s 1ms/step - loss: 0.4409 - accuracy: 0.7763\n",
      "Epoch 74/100\n",
      "39/39 [==============================] - 0s 989us/step - loss: 0.4384 - accuracy: 0.7649\n",
      "Epoch 75/100\n",
      "39/39 [==============================] - 0s 1ms/step - loss: 0.4177 - accuracy: 0.7956\n",
      "Epoch 76/100\n",
      "39/39 [==============================] - 0s 976us/step - loss: 0.4839 - accuracy: 0.7391\n",
      "Epoch 77/100\n",
      "39/39 [==============================] - 0s 1ms/step - loss: 0.4156 - accuracy: 0.8144\n",
      "Epoch 78/100\n",
      "39/39 [==============================] - 0s 1ms/step - loss: 0.4170 - accuracy: 0.8011\n",
      "Epoch 79/100\n",
      "39/39 [==============================] - 0s 1ms/step - loss: 0.4184 - accuracy: 0.7819\n",
      "Epoch 80/100\n",
      "39/39 [==============================] - 0s 1ms/step - loss: 0.4247 - accuracy: 0.7886\n",
      "Epoch 81/100\n",
      "39/39 [==============================] - 0s 1ms/step - loss: 0.4086 - accuracy: 0.7940\n",
      "Epoch 82/100\n"
     ]
    },
    {
     "name": "stdout",
     "output_type": "stream",
     "text": [
      "39/39 [==============================] - 0s 1ms/step - loss: 0.4068 - accuracy: 0.8132\n",
      "Epoch 83/100\n",
      "39/39 [==============================] - 0s 1ms/step - loss: 0.4149 - accuracy: 0.7799\n",
      "Epoch 84/100\n",
      "39/39 [==============================] - 0s 1ms/step - loss: 0.4130 - accuracy: 0.8125\n",
      "Epoch 85/100\n",
      "39/39 [==============================] - 0s 1ms/step - loss: 0.4961 - accuracy: 0.7604\n",
      "Epoch 86/100\n",
      "39/39 [==============================] - 0s 1ms/step - loss: 0.4489 - accuracy: 0.7870\n",
      "Epoch 87/100\n",
      "39/39 [==============================] - 0s 1ms/step - loss: 0.3988 - accuracy: 0.8245\n",
      "Epoch 88/100\n",
      "39/39 [==============================] - 0s 1ms/step - loss: 0.3680 - accuracy: 0.8567\n",
      "Epoch 89/100\n",
      "39/39 [==============================] - 0s 994us/step - loss: 0.3906 - accuracy: 0.8035\n",
      "Epoch 90/100\n",
      "39/39 [==============================] - 0s 1ms/step - loss: 0.3766 - accuracy: 0.8231\n",
      "Epoch 91/100\n",
      "39/39 [==============================] - 0s 1ms/step - loss: 0.4054 - accuracy: 0.8055\n",
      "Epoch 92/100\n",
      "39/39 [==============================] - 0s 1ms/step - loss: 0.3551 - accuracy: 0.8404\n",
      "Epoch 93/100\n",
      "39/39 [==============================] - 0s 1ms/step - loss: 0.4203 - accuracy: 0.7764\n",
      "Epoch 94/100\n",
      "39/39 [==============================] - 0s 1ms/step - loss: 0.4060 - accuracy: 0.8074\n",
      "Epoch 95/100\n",
      "39/39 [==============================] - 0s 1ms/step - loss: 0.3905 - accuracy: 0.8031\n",
      "Epoch 96/100\n",
      "39/39 [==============================] - 0s 1ms/step - loss: 0.4091 - accuracy: 0.7910\n",
      "Epoch 97/100\n",
      "39/39 [==============================] - 0s 1ms/step - loss: 0.4245 - accuracy: 0.7687\n",
      "Epoch 98/100\n",
      "39/39 [==============================] - 0s 1ms/step - loss: 0.3486 - accuracy: 0.8341\n",
      "Epoch 99/100\n",
      "39/39 [==============================] - 0s 983us/step - loss: 0.4273 - accuracy: 0.7986\n",
      "Epoch 100/100\n",
      "39/39 [==============================] - 0s 998us/step - loss: 0.4707 - accuracy: 0.7549\n"
     ]
    },
    {
     "data": {
      "text/plain": [
       "<tensorflow.python.keras.callbacks.History at 0x7f7ced471a90>"
      ]
     },
     "execution_count": 17,
     "metadata": {},
     "output_type": "execute_result"
    }
   ],
   "source": [
    "# 모델 학습하기\n",
    "batch_size = 16\n",
    "epochs = 100\n",
    "\n",
    "# model1.fit(X_train, y_train,\n",
    "#            batch_size = batch_size,\n",
    "#            epochs = epochs,\n",
    "#            verbose = 1)\n",
    "\n",
    "\n",
    "model1.fit(X_train, y_train,\n",
    "         batch_size = batch_size,\n",
    "         epochs = epochs,\n",
    "         verbose = 1)"
   ]
  },
  {
   "cell_type": "code",
   "execution_count": 18,
   "metadata": {},
   "outputs": [
    {
     "name": "stdout",
     "output_type": "stream",
     "text": [
      "38.375\n"
     ]
    }
   ],
   "source": [
    "print(X_train.shape[0]/batch_size)"
   ]
  },
  {
   "cell_type": "code",
   "execution_count": 19,
   "metadata": {},
   "outputs": [
    {
     "name": "stdout",
     "output_type": "stream",
     "text": [
      "X: (614, 8) (77, 8) (77, 8)\n",
      "y: (614,) (77,) (77,)\n"
     ]
    }
   ],
   "source": [
    "# 4. Train set, Test set 나누기\n",
    "from sklearn.model_selection import train_test_split\n",
    "\n",
    "X_train, X_test, y_train, y_test = train_test_split(X, y, test_size = 0.2, random_state = 1234)\n",
    "X_val, X_test, y_val, y_test = train_test_split(X_test, y_test, test_size = 0.5, random_state = 1234)\n",
    "\n",
    "print('X:', X_train.shape, X_val.shape, X_test.shape)\n",
    "print('y:', y_train.shape, y_val.shape, y_test.shape)\n"
   ]
  },
  {
   "cell_type": "code",
   "execution_count": 20,
   "metadata": {},
   "outputs": [],
   "source": [
    "model = keras.Sequential()\n",
    "\n",
    "model.add(Dense(input_dim = X_train.shape[1], units = 64, activation = 'relu'))\n",
    "model.add(Dense(units = 64, activation = 'relu'))\n",
    "model.add(Dense(units = 1, activation = 'sigmoid'))"
   ]
  },
  {
   "cell_type": "code",
   "execution_count": 21,
   "metadata": {},
   "outputs": [],
   "source": [
    "model.compile(loss = 'binary_crossentropy',\n",
    "              optimizer = 'adam',\n",
    "               metrics = ['accuracy'])"
   ]
  },
  {
   "cell_type": "code",
   "execution_count": 22,
   "metadata": {},
   "outputs": [
    {
     "name": "stdout",
     "output_type": "stream",
     "text": [
      "Epoch 1/100\n",
      "39/39 [==============================] - 1s 12ms/step - loss: 1.5912 - accuracy: 0.5478 - val_loss: 1.1105 - val_accuracy: 0.5974\n",
      "Epoch 2/100\n",
      "39/39 [==============================] - 0s 2ms/step - loss: 0.8093 - accuracy: 0.6080 - val_loss: 0.9687 - val_accuracy: 0.6234\n",
      "Epoch 3/100\n",
      "39/39 [==============================] - 0s 2ms/step - loss: 0.7162 - accuracy: 0.6751 - val_loss: 0.8275 - val_accuracy: 0.5844\n",
      "Epoch 4/100\n",
      "39/39 [==============================] - 0s 2ms/step - loss: 0.6224 - accuracy: 0.6571 - val_loss: 0.6579 - val_accuracy: 0.6883\n",
      "Epoch 5/100\n",
      "39/39 [==============================] - 0s 2ms/step - loss: 0.5826 - accuracy: 0.6978 - val_loss: 1.3728 - val_accuracy: 0.6494\n",
      "Epoch 6/100\n",
      "39/39 [==============================] - 0s 2ms/step - loss: 0.8308 - accuracy: 0.6591 - val_loss: 1.1606 - val_accuracy: 0.5065\n",
      "Epoch 7/100\n",
      "39/39 [==============================] - 0s 2ms/step - loss: 0.8214 - accuracy: 0.6631 - val_loss: 0.6112 - val_accuracy: 0.7273\n",
      "Epoch 8/100\n",
      "39/39 [==============================] - 0s 2ms/step - loss: 0.6630 - accuracy: 0.6883 - val_loss: 0.7607 - val_accuracy: 0.6883\n",
      "Epoch 9/100\n",
      "39/39 [==============================] - 0s 2ms/step - loss: 0.5819 - accuracy: 0.7351 - val_loss: 0.6619 - val_accuracy: 0.7143\n",
      "Epoch 10/100\n",
      "39/39 [==============================] - 0s 2ms/step - loss: 0.5787 - accuracy: 0.7290 - val_loss: 0.6999 - val_accuracy: 0.7013\n",
      "Epoch 11/100\n",
      "39/39 [==============================] - 0s 2ms/step - loss: 0.6015 - accuracy: 0.7020 - val_loss: 0.8320 - val_accuracy: 0.6234\n",
      "Epoch 12/100\n",
      "39/39 [==============================] - 0s 2ms/step - loss: 0.7359 - accuracy: 0.6690 - val_loss: 0.6639 - val_accuracy: 0.7273\n",
      "Epoch 13/100\n",
      "39/39 [==============================] - 0s 2ms/step - loss: 0.6846 - accuracy: 0.6808 - val_loss: 0.6839 - val_accuracy: 0.7273\n",
      "Epoch 14/100\n",
      "39/39 [==============================] - 0s 2ms/step - loss: 0.6106 - accuracy: 0.7346 - val_loss: 0.9049 - val_accuracy: 0.6364\n",
      "Epoch 15/100\n",
      "39/39 [==============================] - 0s 2ms/step - loss: 0.6688 - accuracy: 0.6413 - val_loss: 0.6544 - val_accuracy: 0.7273\n",
      "Epoch 16/100\n",
      "39/39 [==============================] - 0s 2ms/step - loss: 0.5782 - accuracy: 0.6954 - val_loss: 1.2230 - val_accuracy: 0.6364\n",
      "Epoch 17/100\n",
      "39/39 [==============================] - 0s 2ms/step - loss: 0.6173 - accuracy: 0.6965 - val_loss: 0.7360 - val_accuracy: 0.6234\n",
      "Epoch 18/100\n",
      "39/39 [==============================] - 0s 2ms/step - loss: 0.5977 - accuracy: 0.6988 - val_loss: 0.5991 - val_accuracy: 0.7013\n",
      "Epoch 19/100\n",
      "39/39 [==============================] - 0s 2ms/step - loss: 0.5619 - accuracy: 0.7578 - val_loss: 1.0841 - val_accuracy: 0.5455\n",
      "Epoch 20/100\n",
      "39/39 [==============================] - 0s 2ms/step - loss: 0.7232 - accuracy: 0.6571 - val_loss: 0.6075 - val_accuracy: 0.7403\n",
      "Epoch 21/100\n",
      "39/39 [==============================] - 0s 2ms/step - loss: 0.6263 - accuracy: 0.6953 - val_loss: 0.7503 - val_accuracy: 0.6883\n",
      "Epoch 22/100\n",
      "39/39 [==============================] - 0s 2ms/step - loss: 0.5475 - accuracy: 0.7354 - val_loss: 0.6627 - val_accuracy: 0.7273\n",
      "Epoch 23/100\n",
      "39/39 [==============================] - 0s 2ms/step - loss: 0.6466 - accuracy: 0.7099 - val_loss: 0.6982 - val_accuracy: 0.6883\n",
      "Epoch 24/100\n",
      "39/39 [==============================] - 0s 2ms/step - loss: 0.5896 - accuracy: 0.7216 - val_loss: 0.8229 - val_accuracy: 0.6883\n",
      "Epoch 25/100\n",
      "39/39 [==============================] - 0s 2ms/step - loss: 0.6843 - accuracy: 0.6920 - val_loss: 0.7564 - val_accuracy: 0.6494\n",
      "Epoch 26/100\n",
      "39/39 [==============================] - 0s 2ms/step - loss: 0.5611 - accuracy: 0.7503 - val_loss: 0.6406 - val_accuracy: 0.6883\n",
      "Epoch 27/100\n",
      "39/39 [==============================] - 0s 2ms/step - loss: 0.5878 - accuracy: 0.7175 - val_loss: 0.7616 - val_accuracy: 0.6883\n",
      "Epoch 28/100\n",
      "39/39 [==============================] - 0s 2ms/step - loss: 0.5141 - accuracy: 0.7398 - val_loss: 0.5854 - val_accuracy: 0.7532\n",
      "Epoch 29/100\n",
      "39/39 [==============================] - 0s 2ms/step - loss: 0.5443 - accuracy: 0.7265 - val_loss: 0.8466 - val_accuracy: 0.6364\n",
      "Epoch 30/100\n",
      "39/39 [==============================] - 0s 2ms/step - loss: 0.5536 - accuracy: 0.7574 - val_loss: 0.8295 - val_accuracy: 0.6494\n",
      "Epoch 31/100\n",
      "39/39 [==============================] - 0s 2ms/step - loss: 0.5619 - accuracy: 0.7140 - val_loss: 0.6449 - val_accuracy: 0.7013\n",
      "Epoch 32/100\n",
      "39/39 [==============================] - 0s 2ms/step - loss: 0.5017 - accuracy: 0.7703 - val_loss: 0.7408 - val_accuracy: 0.6753\n",
      "Epoch 33/100\n",
      "39/39 [==============================] - 0s 2ms/step - loss: 0.4989 - accuracy: 0.7458 - val_loss: 0.7257 - val_accuracy: 0.6623\n",
      "Epoch 34/100\n",
      "39/39 [==============================] - 0s 2ms/step - loss: 0.5446 - accuracy: 0.7194 - val_loss: 0.7215 - val_accuracy: 0.6623\n",
      "Epoch 35/100\n",
      "39/39 [==============================] - 0s 2ms/step - loss: 0.5425 - accuracy: 0.7371 - val_loss: 0.6538 - val_accuracy: 0.7532\n",
      "Epoch 36/100\n",
      "39/39 [==============================] - 0s 2ms/step - loss: 0.5058 - accuracy: 0.7515 - val_loss: 0.7344 - val_accuracy: 0.6883\n",
      "Epoch 37/100\n",
      "39/39 [==============================] - 0s 2ms/step - loss: 0.5202 - accuracy: 0.7311 - val_loss: 0.7130 - val_accuracy: 0.7013\n",
      "Epoch 38/100\n",
      "39/39 [==============================] - 0s 2ms/step - loss: 0.5291 - accuracy: 0.7455 - val_loss: 0.7474 - val_accuracy: 0.7013\n",
      "Epoch 39/100\n",
      "39/39 [==============================] - 0s 2ms/step - loss: 0.4878 - accuracy: 0.7715 - val_loss: 0.7172 - val_accuracy: 0.7532\n",
      "Epoch 40/100\n",
      "39/39 [==============================] - 0s 2ms/step - loss: 0.4711 - accuracy: 0.7619 - val_loss: 0.8057 - val_accuracy: 0.6494\n",
      "Epoch 41/100\n",
      "39/39 [==============================] - 0s 2ms/step - loss: 0.5201 - accuracy: 0.7298 - val_loss: 0.7391 - val_accuracy: 0.7403\n",
      "Epoch 42/100\n",
      "39/39 [==============================] - 0s 2ms/step - loss: 0.5319 - accuracy: 0.7402 - val_loss: 0.6800 - val_accuracy: 0.6753\n",
      "Epoch 43/100\n",
      "39/39 [==============================] - 0s 2ms/step - loss: 0.5140 - accuracy: 0.7408 - val_loss: 0.7424 - val_accuracy: 0.7013\n",
      "Epoch 44/100\n",
      "39/39 [==============================] - 0s 2ms/step - loss: 0.4420 - accuracy: 0.7976 - val_loss: 0.7687 - val_accuracy: 0.6234\n",
      "Epoch 45/100\n",
      "39/39 [==============================] - 0s 2ms/step - loss: 0.5600 - accuracy: 0.7309 - val_loss: 0.7574 - val_accuracy: 0.7143\n",
      "Epoch 46/100\n",
      "39/39 [==============================] - 0s 2ms/step - loss: 0.4813 - accuracy: 0.7525 - val_loss: 0.7901 - val_accuracy: 0.6623\n",
      "Epoch 47/100\n",
      "39/39 [==============================] - 0s 2ms/step - loss: 0.4742 - accuracy: 0.7772 - val_loss: 0.8212 - val_accuracy: 0.7143\n",
      "Epoch 48/100\n",
      "39/39 [==============================] - 0s 2ms/step - loss: 0.5178 - accuracy: 0.7405 - val_loss: 0.8150 - val_accuracy: 0.7143\n",
      "Epoch 49/100\n",
      "39/39 [==============================] - 0s 2ms/step - loss: 0.5183 - accuracy: 0.7768 - val_loss: 0.7770 - val_accuracy: 0.6104\n",
      "Epoch 50/100\n",
      "39/39 [==============================] - 0s 2ms/step - loss: 0.5129 - accuracy: 0.7725 - val_loss: 0.6756 - val_accuracy: 0.6623\n",
      "Epoch 51/100\n",
      "39/39 [==============================] - 0s 2ms/step - loss: 0.4624 - accuracy: 0.7646 - val_loss: 0.8536 - val_accuracy: 0.6623\n",
      "Epoch 52/100\n",
      "39/39 [==============================] - 0s 2ms/step - loss: 0.5038 - accuracy: 0.7657 - val_loss: 0.8889 - val_accuracy: 0.7013\n",
      "Epoch 53/100\n",
      "39/39 [==============================] - 0s 2ms/step - loss: 0.5130 - accuracy: 0.7555 - val_loss: 0.9543 - val_accuracy: 0.7013\n",
      "Epoch 54/100\n",
      "39/39 [==============================] - 0s 2ms/step - loss: 0.4787 - accuracy: 0.7485 - val_loss: 0.7612 - val_accuracy: 0.7013\n",
      "Epoch 55/100\n",
      "39/39 [==============================] - 0s 2ms/step - loss: 0.4824 - accuracy: 0.7612 - val_loss: 0.7867 - val_accuracy: 0.7013\n",
      "Epoch 56/100\n",
      "39/39 [==============================] - 0s 2ms/step - loss: 0.4944 - accuracy: 0.7558 - val_loss: 0.8479 - val_accuracy: 0.6623\n",
      "Epoch 57/100\n",
      "39/39 [==============================] - 0s 2ms/step - loss: 0.5376 - accuracy: 0.7454 - val_loss: 0.7621 - val_accuracy: 0.6883\n",
      "Epoch 58/100\n",
      "39/39 [==============================] - 0s 2ms/step - loss: 0.4683 - accuracy: 0.7555 - val_loss: 0.7870 - val_accuracy: 0.7013\n"
     ]
    },
    {
     "name": "stdout",
     "output_type": "stream",
     "text": [
      "Epoch 59/100\n",
      "39/39 [==============================] - 0s 2ms/step - loss: 0.4684 - accuracy: 0.7627 - val_loss: 1.0014 - val_accuracy: 0.6104\n",
      "Epoch 60/100\n",
      "39/39 [==============================] - 0s 2ms/step - loss: 0.4988 - accuracy: 0.7535 - val_loss: 0.8694 - val_accuracy: 0.6883\n",
      "Epoch 61/100\n",
      "39/39 [==============================] - 0s 2ms/step - loss: 0.4424 - accuracy: 0.7780 - val_loss: 0.8207 - val_accuracy: 0.7013\n",
      "Epoch 62/100\n",
      "39/39 [==============================] - 0s 2ms/step - loss: 0.5652 - accuracy: 0.7307 - val_loss: 0.8294 - val_accuracy: 0.6753\n",
      "Epoch 63/100\n",
      "39/39 [==============================] - 0s 2ms/step - loss: 0.4637 - accuracy: 0.7707 - val_loss: 0.7981 - val_accuracy: 0.6883\n",
      "Epoch 64/100\n",
      "39/39 [==============================] - 0s 2ms/step - loss: 0.4528 - accuracy: 0.7684 - val_loss: 0.7355 - val_accuracy: 0.7403\n",
      "Epoch 65/100\n",
      "39/39 [==============================] - 0s 2ms/step - loss: 0.5443 - accuracy: 0.7317 - val_loss: 0.7484 - val_accuracy: 0.7143\n",
      "Epoch 66/100\n",
      "39/39 [==============================] - 0s 2ms/step - loss: 0.4872 - accuracy: 0.7673 - val_loss: 0.7335 - val_accuracy: 0.7013\n",
      "Epoch 67/100\n",
      "39/39 [==============================] - 0s 2ms/step - loss: 0.4486 - accuracy: 0.7971 - val_loss: 0.7792 - val_accuracy: 0.7143\n",
      "Epoch 68/100\n",
      "39/39 [==============================] - 0s 2ms/step - loss: 0.4550 - accuracy: 0.7830 - val_loss: 1.0095 - val_accuracy: 0.7013\n",
      "Epoch 69/100\n",
      "39/39 [==============================] - 0s 2ms/step - loss: 0.4970 - accuracy: 0.7571 - val_loss: 0.8487 - val_accuracy: 0.6623\n",
      "Epoch 70/100\n",
      "39/39 [==============================] - 0s 2ms/step - loss: 0.4905 - accuracy: 0.7538 - val_loss: 0.8025 - val_accuracy: 0.7792\n",
      "Epoch 71/100\n",
      "39/39 [==============================] - 0s 2ms/step - loss: 0.4477 - accuracy: 0.7686 - val_loss: 0.8440 - val_accuracy: 0.7662\n",
      "Epoch 72/100\n",
      "39/39 [==============================] - 0s 2ms/step - loss: 0.5602 - accuracy: 0.7203 - val_loss: 1.1348 - val_accuracy: 0.6104\n",
      "Epoch 73/100\n",
      "39/39 [==============================] - 0s 2ms/step - loss: 0.5980 - accuracy: 0.7382 - val_loss: 0.9313 - val_accuracy: 0.7013\n",
      "Epoch 74/100\n",
      "39/39 [==============================] - 0s 2ms/step - loss: 0.4844 - accuracy: 0.7524 - val_loss: 0.9007 - val_accuracy: 0.6753\n",
      "Epoch 75/100\n",
      "39/39 [==============================] - 0s 2ms/step - loss: 0.4924 - accuracy: 0.7600 - val_loss: 0.8477 - val_accuracy: 0.7273\n",
      "Epoch 76/100\n",
      "39/39 [==============================] - 0s 2ms/step - loss: 0.5562 - accuracy: 0.7445 - val_loss: 1.0564 - val_accuracy: 0.6494\n",
      "Epoch 77/100\n",
      "39/39 [==============================] - 0s 2ms/step - loss: 0.6391 - accuracy: 0.7094 - val_loss: 0.8563 - val_accuracy: 0.7013\n",
      "Epoch 78/100\n",
      "39/39 [==============================] - 0s 2ms/step - loss: 0.4751 - accuracy: 0.7732 - val_loss: 0.9478 - val_accuracy: 0.6753\n",
      "Epoch 79/100\n",
      "39/39 [==============================] - 0s 2ms/step - loss: 0.5173 - accuracy: 0.7469 - val_loss: 0.9051 - val_accuracy: 0.6883\n",
      "Epoch 80/100\n",
      "39/39 [==============================] - 0s 2ms/step - loss: 0.4521 - accuracy: 0.7712 - val_loss: 0.7703 - val_accuracy: 0.7143\n",
      "Epoch 81/100\n",
      "39/39 [==============================] - 0s 2ms/step - loss: 0.4246 - accuracy: 0.8055 - val_loss: 0.8552 - val_accuracy: 0.6623\n",
      "Epoch 82/100\n",
      "39/39 [==============================] - 0s 2ms/step - loss: 0.4501 - accuracy: 0.7755 - val_loss: 0.9296 - val_accuracy: 0.6234\n",
      "Epoch 83/100\n",
      "39/39 [==============================] - 0s 2ms/step - loss: 0.4183 - accuracy: 0.7933 - val_loss: 0.8894 - val_accuracy: 0.7143\n",
      "Epoch 84/100\n",
      "39/39 [==============================] - 0s 2ms/step - loss: 0.4215 - accuracy: 0.7977 - val_loss: 0.9002 - val_accuracy: 0.6623\n",
      "Epoch 85/100\n",
      "39/39 [==============================] - 0s 2ms/step - loss: 0.4428 - accuracy: 0.7661 - val_loss: 0.9141 - val_accuracy: 0.6364\n",
      "Epoch 86/100\n",
      "39/39 [==============================] - 0s 2ms/step - loss: 0.4321 - accuracy: 0.7841 - val_loss: 1.0202 - val_accuracy: 0.6364\n",
      "Epoch 87/100\n",
      "39/39 [==============================] - 0s 2ms/step - loss: 0.4637 - accuracy: 0.7691 - val_loss: 1.1522 - val_accuracy: 0.6883\n",
      "Epoch 88/100\n",
      "39/39 [==============================] - 0s 2ms/step - loss: 0.4412 - accuracy: 0.7853 - val_loss: 0.8082 - val_accuracy: 0.7143\n",
      "Epoch 89/100\n",
      "39/39 [==============================] - 0s 2ms/step - loss: 0.4709 - accuracy: 0.7983 - val_loss: 0.9067 - val_accuracy: 0.7273\n",
      "Epoch 90/100\n",
      "39/39 [==============================] - 0s 2ms/step - loss: 0.4492 - accuracy: 0.7691 - val_loss: 0.8959 - val_accuracy: 0.6234\n",
      "Epoch 91/100\n",
      "39/39 [==============================] - 0s 2ms/step - loss: 0.4392 - accuracy: 0.7910 - val_loss: 0.8842 - val_accuracy: 0.7143\n",
      "Epoch 92/100\n",
      "39/39 [==============================] - 0s 2ms/step - loss: 0.4047 - accuracy: 0.8186 - val_loss: 0.9943 - val_accuracy: 0.6883\n",
      "Epoch 93/100\n",
      "39/39 [==============================] - 0s 2ms/step - loss: 0.4786 - accuracy: 0.7887 - val_loss: 0.7934 - val_accuracy: 0.7143\n",
      "Epoch 94/100\n",
      "39/39 [==============================] - 0s 2ms/step - loss: 0.5319 - accuracy: 0.7444 - val_loss: 1.1167 - val_accuracy: 0.5844\n",
      "Epoch 95/100\n",
      "39/39 [==============================] - 0s 2ms/step - loss: 0.4980 - accuracy: 0.7593 - val_loss: 0.9414 - val_accuracy: 0.6494\n",
      "Epoch 96/100\n",
      "39/39 [==============================] - 0s 2ms/step - loss: 0.4330 - accuracy: 0.7902 - val_loss: 0.8635 - val_accuracy: 0.7143\n",
      "Epoch 97/100\n",
      "39/39 [==============================] - 0s 2ms/step - loss: 0.4306 - accuracy: 0.7779 - val_loss: 0.8214 - val_accuracy: 0.6753\n",
      "Epoch 98/100\n",
      "39/39 [==============================] - 0s 2ms/step - loss: 0.4131 - accuracy: 0.7901 - val_loss: 0.9204 - val_accuracy: 0.7403\n",
      "Epoch 99/100\n",
      "39/39 [==============================] - 0s 2ms/step - loss: 0.4368 - accuracy: 0.7796 - val_loss: 0.8486 - val_accuracy: 0.6623\n",
      "Epoch 100/100\n",
      "39/39 [==============================] - 0s 2ms/step - loss: 0.4410 - accuracy: 0.7903 - val_loss: 1.0950 - val_accuracy: 0.6753\n"
     ]
    }
   ],
   "source": [
    "# 모델 학습하기\n",
    "batch_size = 16\n",
    "epochs = 100\n",
    "\n",
    "\n",
    "hist = model.fit(X_train, y_train,\n",
    "                 validation_data = (X_val, y_val),\n",
    "                 batch_size = batch_size,\n",
    "                 epochs = epochs,\n",
    "                 verbose = 1)"
   ]
  },
  {
   "cell_type": "code",
   "execution_count": 23,
   "metadata": {},
   "outputs": [
    {
     "data": {
      "image/png": "[encoded data removed]",
      "text/plain": [
       "<Figure size 432x288 with 1 Axes>"
      ]
     },
     "metadata": {
      "needs_background": "light"
     },
     "output_type": "display_data"
    },
    {
     "data": {
      "image/png": "[encoded data removed]",
      "text/plain": [
       "<Figure size 432x288 with 1 Axes>"
      ]
     },
     "metadata": {
      "needs_background": "light"
     },
     "output_type": "display_data"
    }
   ],
   "source": [
    "# 학습 시각화\n",
    "import matplotlib.pyplot as plt\n",
    "\n",
    "# 정확도 그래프\n",
    "plt.plot(hist.history['accuracy'])\n",
    "plt.plot(hist.history['val_accuracy'])\n",
    "\n",
    "plt.xlabel('Epoch')\n",
    "plt.ylabel('Accuracy')\n",
    "plt.legend(['train', 'val'], loc = 'upper left')\n",
    "plt.title('Accuracy')\n",
    "plt.show()\n",
    "\n",
    "# loss 그래프\n",
    "plt.plot(hist.history['loss'])\n",
    "plt.plot(hist.history['val_loss'])\n",
    "\n",
    "plt.xlabel('Epoch')\n",
    "plt.ylabel('loss')\n",
    "plt.legend(['train', 'val'], loc = 'upper left')\n",
    "plt.title('Loss Function')\n",
    "plt.show()"
   ]
  },
  {
   "cell_type": "markdown",
   "metadata": {},
   "source": [
    "#### Loss function  \n",
    "20번 epoch 이후부터는 overfitting이 일어나고 있다  \n",
    "\n",
    "### 1. Drop Out : Overfitting 해결법"
   ]
  },
  {
   "cell_type": "code",
   "execution_count": 24,
   "metadata": {},
   "outputs": [],
   "source": [
    "from tensorflow.keras.layers import Dropout\n",
    "\n",
    "model = keras.Sequential()\n",
    "\n",
    "model.add(Dense(input_dim = X_train.shape[1], units = 128, activation = 'relu'))\n",
    "model.add(Dense(units = 64, activation = 'relu'))\n",
    "\n",
    "model.add(Dropout(0.2))\n",
    "\n",
    "model.add(Dense(64, activation = 'relu'))\n",
    "model.add(Dense(1, activation = 'sigmoid'))\n",
    "\n",
    "model.compile(loss = 'binary_crossentropy',\n",
    "              optimizer = 'adam',\n",
    "               metrics = ['accuracy'])"
   ]
  },
  {
   "cell_type": "code",
   "execution_count": 25,
   "metadata": {},
   "outputs": [],
   "source": [
    "batch_size = 16\n",
    "epochs = 100\n",
    "hist = model.fit(X_train, y_train,\n",
    "                 validation_data = (X_val, y_val),\n",
    "                 batch_size = batch_size,\n",
    "                 epochs = epochs,\n",
    "                 verbose = 0)"
   ]
  },
  {
   "cell_type": "code",
   "execution_count": 26,
   "metadata": {},
   "outputs": [
    {
     "data": {
      "image/png": "[encoded data removed]",
      "text/plain": [
       "<Figure size 432x288 with 1 Axes>"
      ]
     },
     "metadata": {
      "needs_background": "light"
     },
     "output_type": "display_data"
    },
    {
     "data": {
      "image/png": "[encoded data removed]",
      "text/plain": [
       "<Figure size 432x288 with 1 Axes>"
      ]
     },
     "metadata": {
      "needs_background": "light"
     },
     "output_type": "display_data"
    }
   ],
   "source": [
    "# 정확도 그래프\n",
    "plt.plot(hist.history['accuracy'])\n",
    "plt.plot(hist.history['val_accuracy'])\n",
    "\n",
    "plt.xlabel('Epoch')\n",
    "plt.ylabel('Accuracy')\n",
    "plt.legend(['train', 'val'], loc = 'upper left')\n",
    "plt.title('Accuracy_dropout')\n",
    "plt.show()\n",
    "\n",
    "# loss 그래프\n",
    "plt.plot(hist.history['loss'])\n",
    "plt.plot(hist.history['val_loss'])\n",
    "\n",
    "plt.xlabel('Epoch')\n",
    "plt.ylabel('loss')\n",
    "plt.legend(['train', 'val'], loc = 'upper left')\n",
    "plt.title('Loss Function_dropout')\n",
    "plt.show()"
   ]
  },
  {
   "cell_type": "code",
   "execution_count": 27,
   "metadata": {},
   "outputs": [],
   "source": [
    "from keras.callbacks import EarlyStopping\n",
    "\n",
    "from tensorflow.keras.layers import Dropout\n",
    "\n",
    "model = keras.Sequential()\n",
    "\n",
    "model.add(Dense(input_dim = X_train.shape[1], units = 128, activation = 'relu'))\n",
    "model.add(Dense(units = 64, activation = 'relu'))\n",
    "\n",
    "model.add(Dropout(0.2))\n",
    "\n",
    "model.add(Dense(64, activation = 'relu'))\n",
    "model.add(Dense(1, activation = 'sigmoid'))\n",
    "\n",
    "model.compile(loss = 'binary_crossentropy',\n",
    "              optimizer = 'adam',\n",
    "               metrics = ['accuracy'])\n",
    "\n",
    "batch_size = 16\n",
    "epochs = 1000\n",
    "\n",
    "# 빠른 종료\n",
    "early_stopping = EarlyStopping(monitor = 'val_loss', # 이전 val_loss보다 높아지면 중지\n",
    "                              patience = 10) # epochs 10까지는 지켜보도록 함\n",
    "\n",
    "hist = model.fit(X_train, y_train,\n",
    "                 validation_data = (X_val, y_val),\n",
    "                 batch_size = batch_size,\n",
    "                 epochs = epochs,\n",
    "                 verbose = 0,\n",
    "                 callbacks = [early_stopping])"
   ]
  },
  {
   "cell_type": "code",
   "execution_count": 28,
   "metadata": {},
   "outputs": [
    {
     "data": {
      "image/png": "[encoded data removed]",
      "text/plain": [
       "<Figure size 432x288 with 1 Axes>"
      ]
     },
     "metadata": {
      "needs_background": "light"
     },
     "output_type": "display_data"
    },
    {
     "data": {
      "image/png": "[encoded data removed]",
      "text/plain": [
       "<Figure size 432x288 with 1 Axes>"
      ]
     },
     "metadata": {
      "needs_background": "light"
     },
     "output_type": "display_data"
    }
   ],
   "source": [
    "# 정확도 그래프\n",
    "plt.plot(hist.history['accuracy'])\n",
    "plt.plot(hist.history['val_accuracy'])\n",
    "\n",
    "plt.xlabel('Epoch')\n",
    "plt.ylabel('Accuracy')\n",
    "plt.legend(['train', 'val'], loc = 'upper left')\n",
    "plt.title('Accuracy_EarlyStopping')\n",
    "plt.show()\n",
    "\n",
    "# loss 그래프\n",
    "plt.plot(hist.history['loss'])\n",
    "plt.plot(hist.history['val_loss'])\n",
    "\n",
    "plt.xlabel('Epoch')\n",
    "plt.ylabel('loss')\n",
    "plt.legend(['train', 'val'], loc = 'upper left')\n",
    "plt.title('Loss Function_EarlyStopping')\n",
    "plt.show()"
   ]
  },
  {
   "cell_type": "markdown",
   "metadata": {},
   "source": [
    "### 2. Overfitting 해결 :Regularization"
   ]
  },
  {
   "cell_type": "code",
   "execution_count": 29,
   "metadata": {},
   "outputs": [],
   "source": [
    "model.add(Dense(64, input_dim = X_train.shape[1], activation = 'relu'))\n",
    "model.add(Dense(128, activation = 'relu',\n",
    "               kernel_regularizer = keras.regularizers.L2(0.1)))\n",
    "\n",
    "# model.add(Dropout(0.2))\n",
    "\n",
    "model.add(Dense(64, activation = 'relu'))\n",
    "model.add(Dense(1, activation = 'sigmoid'))"
   ]
  },
  {
   "cell_type": "code",
   "execution_count": 30,
   "metadata": {},
   "outputs": [],
   "source": [
    "from keras.callbacks import EarlyStopping\n",
    "\n",
    "from tensorflow.keras.layers import Dropout\n",
    "\n",
    "model = keras.Sequential()\n",
    "\n",
    "model.add(Dense(64, input_dim = X_train.shape[1], activation = 'relu'))\n",
    "model.add(Dense(128, activation = 'relu',\n",
    "               kernel_regularizer = keras.regularizers.L2(0.1)))\n",
    "\n",
    "# model.add(Dropout(0.2))\n",
    "\n",
    "model.add(Dense(64, activation = 'relu'))\n",
    "model.add(Dense(1, activation = 'sigmoid'))\n",
    "\n",
    "#compile \n",
    "model.compile(loss = 'binary_crossentropy',\n",
    "              optimizer = 'adam',\n",
    "               metrics = ['accuracy'])\n",
    "# modeling\n",
    "batch_size = 16\n",
    "epochs = 1000\n",
    "\n",
    "# 빠른 종료\n",
    "early_stopping = EarlyStopping(monitor = 'val_loss', # 이전 val_loss보다 높아지면 중지\n",
    "                              patience = 10) # epochs 10까지는 지켜보도록 함\n",
    "\n",
    "hist = model.fit(X_train, y_train,\n",
    "                 validation_data = (X_val, y_val),\n",
    "                 batch_size = batch_size,\n",
    "                 epochs = epochs,\n",
    "                 verbose = 0,\n",
    "                 callbacks = [early_stopping])"
   ]
  },
  {
   "cell_type": "code",
   "execution_count": 31,
   "metadata": {},
   "outputs": [
    {
     "data": {
      "image/png": "[encoded data removed]",
      "text/plain": [
       "<Figure size 432x288 with 1 Axes>"
      ]
     },
     "metadata": {
      "needs_background": "light"
     },
     "output_type": "display_data"
    },
    {
     "data": {
      "image/png": "[encoded data removed]",
      "text/plain": [
       "<Figure size 432x288 with 1 Axes>"
      ]
     },
     "metadata": {
      "needs_background": "light"
     },
     "output_type": "display_data"
    }
   ],
   "source": [
    "# 정확도 그래프\n",
    "plt.plot(hist.history['accuracy'])\n",
    "plt.plot(hist.history['val_accuracy'])\n",
    "\n",
    "plt.xlabel('Epoch')\n",
    "plt.ylabel('Accuracy')\n",
    "plt.legend(['train', 'val'], loc = 'upper left')\n",
    "plt.title('Accuracy_Regluarization')\n",
    "plt.show()\n",
    "\n",
    "# loss 그래프\n",
    "plt.plot(hist.history['loss'])\n",
    "plt.plot(hist.history['val_loss'])\n",
    "\n",
    "plt.xlabel('Epoch')\n",
    "plt.ylabel('loss')\n",
    "plt.legend(['train', 'val'], loc = 'upper left')\n",
    "plt.title('Loss Function_Regluarization')\n",
    "plt.show()"
   ]
  },
  {
   "cell_type": "code",
   "execution_count": null,
   "metadata": {},
   "outputs": [],
   "source": []
  }
 ],
 "metadata": {
  "kernelspec": {
   "display_name": "py38_tensorflow",
   "language": "python",
   "name": "conda-env-py38_tensorflow-py"
  },
  "language_info": {
   "codemirror_mode": {
    "name": "ipython",
    "version": 3
   },
   "file_extension": ".py",
   "mimetype": "text/x-python",
   "name": "python",
   "nbconvert_exporter": "python",
   "pygments_lexer": "ipython3",
   "version": "3.8.8"
  }
 },
 "nbformat": 4,
 "nbformat_minor": 2
}
