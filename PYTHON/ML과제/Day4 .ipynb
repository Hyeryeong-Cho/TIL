{
 "cells": [
  {
   "cell_type": "code",
   "execution_count": null,
   "metadata": {},
   "outputs": [],
   "source": [
    "inputFileName = 'employees.txt'\n",
    "inputFile = open(inputFileName, 'r')\n",
    "\n",
    "Bonus = 0.3\n",
    "print('Reading from', inputFileName)\n",
    "\n",
    "for line in inputFile :\n",
    "    name, job, income = line.split(',')\n",
    "    last,first = name.split()\n",
    "    income = int(income)\n",
    "    income = income + (income*Bonus)\n",
    "    print('Name: ', last, first,'\\t\\t Job: ', job, '\\t\\tIncome: ', income)\n",
    "print('Completed reading of file input.tst')\n",
    "inputFile.close()"
   ]
  },
  {
   "cell_type": "code",
   "execution_count": null,
   "metadata": {},
   "outputs": [],
   "source": [
    "inputFileName = 'train.txt'\n",
    "inputFile = open(inputFileName, 'r')\n",
    "\n",
    "Bonus = 0.3\n",
    "print('Reading from', inputFileName)\n",
    "\n",
    "for line in inputFile :\n",
    "    PassengerId, Survived, Pclass,Name,Sex,Age,SibSp,Parch,Ticket,Fare,Cabin,Embarked = line.split('\\t')\n",
    "    #last,first = name.split()\n",
    "    print('Name: ', Name,'\\t\\t Pclass: ', Pclass, '\\t\\tAge: ', Age)\n",
    "print('Completed reading of file input.tst')\n",
    "inputFile.close()"
   ]
  },
  {
   "cell_type": "code",
   "execution_count": null,
   "metadata": {},
   "outputs": [],
   "source": [
    "last, first = Name.split(',')\n",
    "\n",
    "last\n",
    "print(last)\n",
    "print(first)"
   ]
  },
  {
   "cell_type": "markdown",
   "metadata": {},
   "source": [
    "### 함수"
   ]
  },
  {
   "cell_type": "code",
   "execution_count": null,
   "metadata": {},
   "outputs": [],
   "source": [
    "# 매개변수 없는 함수\n",
    "def hello() : \n",
    "    print(\"반갑습니다.\")\n",
    "    print('2021 ML 수업에 오신 것을 환영합니다.')\n",
    "    #함수 정의이므로 아무런 출력이 없음"
   ]
  },
  {
   "cell_type": "code",
   "execution_count": null,
   "metadata": {},
   "outputs": [],
   "source": [
    "hello() # 함수 호출하기"
   ]
  },
  {
   "cell_type": "code",
   "execution_count": null,
   "metadata": {},
   "outputs": [],
   "source": [
    "def hello2(name) :\n",
    "    print('반갑습니다. ',name,'님')\n",
    "    print('반갑습니다. ', name,'님은 수업들어가셧었습니다.')"
   ]
  },
  {
   "cell_type": "code",
   "execution_count": null,
   "metadata": {},
   "outputs": [],
   "source": [
    "hello2('조혜령')"
   ]
  },
  {
   "cell_type": "code",
   "execution_count": null,
   "metadata": {},
   "outputs": [],
   "source": [
    "def adder(num1, num2):\n",
    "    hop =num1+num2\n",
    "    return hop"
   ]
  },
  {
   "cell_type": "code",
   "execution_count": null,
   "metadata": {},
   "outputs": [],
   "source": [
    "result = adder(3,5)\n",
    "print(result)"
   ]
  },
  {
   "cell_type": "code",
   "execution_count": null,
   "metadata": {},
   "outputs": [],
   "source": [
    "def plus(firstnum, secondnum):\n",
    "    result = firstnum +secondnum\n",
    "    return result\n",
    "\n",
    "firstnum = int(input('첫번째 숫자를 입력하시오.: ') )\n",
    "secondnum = int(input('두번째 숫자를 입력하시오.:'))\n",
    "result = plus(firstnum, secondnum)\n",
    "print('두 수의 합은 ',result, '입니다.')"
   ]
  },
  {
   "cell_type": "code",
   "execution_count": null,
   "metadata": {},
   "outputs": [],
   "source": [
    "name = 'Muji'\n",
    "print('Good Morning!', name)\n",
    "def calc():\n",
    "    number = 10\n",
    "    print(number*5)\n",
    "number =12\n",
    "print(number*5) #함수 밖에 number로 출력\n",
    "number=14\n",
    "calc() # 함수 안에서 지정된 것 \n",
    "print(number*5) # 함수 외 최근에 지정된 number"
   ]
  },
  {
   "cell_type": "markdown",
   "metadata": {},
   "source": [
    "### 함수를 사용한 가위, 바위,보"
   ]
  },
  {
   "cell_type": "code",
   "execution_count": null,
   "metadata": {
    "scrolled": true
   },
   "outputs": [],
   "source": [
    "print(\"안녕하세요. 가위, 바위, 보 게임을 시작하겠습니다.\")\n",
    "import random\n",
    "\n",
    "def game():\n",
    "    player = input(\"가위, 바위, 보를 선택해주십시오: \")\n",
    "    computer = random.randint(1,3)\n",
    "    if computer==1 :\n",
    "        computer ='가위'\n",
    "    elif computer ==2 :\n",
    "        computer ='바위'\n",
    "    else :\n",
    "        computer= '보'\n",
    "    result = [player, computer]    \n",
    "    \n",
    "    def InputData(player, computer):\n",
    "    # 가위,바위, 보 결정    \n",
    "        player = result[0]\n",
    "        computer = result[1]\n",
    "    if computer==player :\n",
    "        winner = '무승부'\n",
    "        print('무승부입니다!')\n",
    "    elif (computer=='바위'and player=='가위') or (computer=='보'and player=='바위') or (computer=='가위'and player=='보') :\n",
    "        winner = '컴퓨터'\n",
    "        print('컴퓨터가 승리입니다')\n",
    "    else :\n",
    "        winner = '사용자'\n",
    "        return winner\n",
    "\n",
    "        \n",
    "game()"
   ]
  },
  {
   "cell_type": "markdown",
   "metadata": {},
   "source": [
    "### 이길 때까지 반복하는 가위바위보게임"
   ]
  },
  {
   "cell_type": "code",
   "execution_count": null,
   "metadata": {},
   "outputs": [],
   "source": [
    "import random\n",
    "#가위,바위보 결정하기\n",
    "def decideRSP():\n",
    "    player = input(\"가위, 바위, 보를 선택해주십시오: \")\n",
    "    computer = random.randint(1,3)\n",
    "    if computer==1 :\n",
    "        computer ='가위'\n",
    "    elif computer ==2 :\n",
    "        computer ='바위'\n",
    "    else :\n",
    "        computer= '보'\n",
    "    result = [player, computer]\n",
    "    print('사용자: ', player, '컴퓨터: ',computer)\n",
    "    return result\n",
    "#게임 승부 판별하기\n",
    "def desideWinner(result):   \n",
    "    if result[0]==result[1] :\n",
    "        winner = '무승부'\n",
    "        print('무승부입니다!\\n')\n",
    "    elif (result[1]=='바위'and result[0]=='가위') or (result[1]=='보'and result[0]=='바위') or (result[1]=='가위'and result[0]=='보') :\n",
    "        winner = '컴퓨터'\n",
    "        print('컴퓨터가 이겼습니다!\\n')\n",
    "    else :\n",
    "        winner = '사용자'\n",
    "        print('사용자가 이겼습니다!\\n')\n",
    "        return winner\n",
    "#사용자가 이길때까지 반복하기\n",
    "while True :\n",
    "    resultRSP=desideWinner(decideRSP())\n",
    "    if resultRSP == '사용자':\n",
    "        print('--------축하합니다---------')\n",
    "        break"
   ]
  },
  {
   "cell_type": "markdown",
   "metadata": {},
   "source": [
    "### 로또 번호 맞추기 게임"
   ]
  },
  {
   "cell_type": "code",
   "execution_count": 3,
   "metadata": {},
   "outputs": [],
   "source": [
    "# 사용자 숫자 넣기\n",
    "def decideUser():\n",
    "    User = input('1~45까지 6개의 로또 번호를 선택하여 주세요: ')\n",
    "    User = User.split(',')\n",
    "\n",
    "    User_num = []\n",
    "    for i in User:\n",
    "        User_num.append (int(i))\n",
    "    return User_num\n",
    "\n",
    "import random\n",
    "#로또 결과  \n",
    "def decideLotto():\n",
    "    listLotto = list(range(1,46))\n",
    "    random.shuffle(listLotto)\n",
    "    listLotto=listLotto[:6]\n",
    "    print('이번주 로또 번호는 ', listLotto,'입니다')\n",
    "    return listLotto\n",
    "\n",
    "i =0\n",
    "#당첨번호 확인함수\n",
    "def decideWinningnum() :\n",
    "    winningnum = []\n",
    "    User_num=decideUser()\n",
    "    listLotto=decideLotto()\n",
    "    \n",
    "    for j in User_num:\n",
    "        i =0\n",
    "        while i < 6:\n",
    "            if listLotto[i] == j:\n",
    "                winningnum.append(j)\n",
    "            i += 1\n",
    "    print('맞춘 번호는 ', winningnum,'입니다.')\n",
    "    return winningnum\n",
    "#계속 여부\n",
    "def Continue():\n",
    "    anw = input('계속하시겠습니까? ')\n",
    "    return anw\n",
    "#결과 보여주는 함수#결과 보여주는 함수\n",
    "def winning():\n",
    "    winningnum = decideWinningnum()\n",
    "\n",
    "    if len(winningnum) == 3:\n",
    "        print('3개를 맞춰 당첨금은 5,000원 입니다!')\n",
    "    elif len(winningnum) == 4:\n",
    "        print('4개를 맞춰 당첨금은 50,000원 입니다!')\n",
    "    elif len(winningnum) == 5:\n",
    "        print('5개를 맞춰 당첨금은 50,000,000원 입니다!')\n",
    "    elif len(winningnum) == 6:\n",
    "        print('6개를 맞춰 당첨금은 10,000,000,000원 입니다!')\n",
    "    else: \n",
    "        print(len(winningnum),'개를 맞춰 꽝입니다!')\n",
    "\n",
    "    anw = Continue()\n",
    "\n",
    "    return winningnum, anw "
   ]
  },
  {
   "cell_type": "markdown",
   "metadata": {},
   "source": [
    "최종 함수"
   ]
  },
  {
   "cell_type": "code",
   "execution_count": null,
   "metadata": {},
   "outputs": [],
   "source": [
    "def Lottogame():\n",
    "    while True :\n",
    "        a,b = winning()\n",
    "        print('')\n",
    "        if b==\"No\" :\n",
    "            break\n",
    "    return print('끝났습니다~~~')\n",
    "\n",
    "Lottogame()"
   ]
  },
  {
   "cell_type": "code",
   "execution_count": null,
   "metadata": {},
   "outputs": [],
   "source": []
  }
 ],
 "metadata": {
  "kernelspec": {
   "display_name": "Python 3",
   "language": "python",
   "name": "python3"
  },
  "language_info": {
   "codemirror_mode": {
    "name": "ipython",
    "version": 3
   },
   "file_extension": ".py",
   "mimetype": "text/x-python",
   "name": "python",
   "nbconvert_exporter": "python",
   "pygments_lexer": "ipython3",
   "version": "3.8.5"
  }
 },
 "nbformat": 4,
 "nbformat_minor": 4
}
