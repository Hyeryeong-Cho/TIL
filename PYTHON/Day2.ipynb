{
 "cells": [
  {
   "cell_type": "code",
   "execution_count": null,
   "metadata": {},
   "outputs": [],
   "source": [
    "import random\n",
    "import time"
   ]
  },
  {
   "cell_type": "code",
   "execution_count": null,
   "metadata": {},
   "outputs": [],
   "source": [
    "# SHIFT+TAP으로 usage 보기\n",
    "#time.process_time"
   ]
  },
  {
   "cell_type": "code",
   "execution_count": null,
   "metadata": {},
   "outputs": [],
   "source": [
    "# while 복습\n",
    "print()\n",
    "print('들여쓰기 경우(1)---------------------------------')\n",
    "number=1\n",
    "while number <=5: \n",
    "    print('파이썬은 재밌습니다.')\n",
    "    number=number+1\n",
    "    print('열심히 배워보세요!')\n",
    "\n",
    "print()\n",
    "print('들여쓰기 경우(2)---------------------------------')\n",
    "number=1\n",
    "while number <=5: \n",
    "    print('파이썬은 재밌습니다.')\n",
    "    number=number+1\n",
    "print('열심히 배워보세요!')\n",
    "        "
   ]
  },
  {
   "cell_type": "code",
   "execution_count": null,
   "metadata": {},
   "outputs": [],
   "source": [
    "dan = 2\n",
    "while dan <10:\n",
    "    cnt = 1 #구구단은 1로 시작함: 단이 증가해도 다시 cnt가 1부터 시작\n",
    "    while cnt <10:\n",
    "        print(dan, 'x', cnt, '=', dan*cnt)\n",
    "        cnt = cnt+1\n",
    "    dan = dan + 1\n",
    "    print()"
   ]
  },
  {
   "cell_type": "markdown",
   "metadata": {},
   "source": [
    "### This is a guess the number game"
   ]
  },
  {
   "cell_type": "code",
   "execution_count": null,
   "metadata": {
    "scrolled": true
   },
   "outputs": [],
   "source": [
    "import random\n",
    "\n",
    "name = input('Hello! What is your name?')\n",
    "number = random.randint(1,6)\n",
    "print('Well,,'+ name+ ' I am thinking of a number between 1 and 20. ')\n",
    "\n",
    "#반복문 시작: 맞추는 프로그램\n",
    "cnt = 0\n",
    "while cnt <6:\n",
    "    guess = int(input('Take a guess: ')) \n",
    "    cnt=cnt+1\n",
    "    if number!= guess :\n",
    "        print(\"Your guess is wrong\")\n",
    "    \n",
    "    if number == guess :\n",
    "        print(\"Congratulation! You're right!\")\n",
    "        break\n"
   ]
  },
  {
   "cell_type": "code",
   "execution_count": 16,
   "metadata": {},
   "outputs": [
    {
     "name": "stdout",
     "output_type": "stream",
     "text": [
      "Insert name: 5\n",
      "Insert name: 4\n",
      "Insert name: 2\n",
      "Insert name: 1\n",
      "Insert name: 5\n",
      "Insert name: 입력 끝\n",
      "입력받은 숫자의 합은  17 입니다.\n",
      "입력받은 숫자의 평균은  3.4 입니다.\n",
      "가장 큰 수는  5 입니다.\n",
      "가장 작은 수는  1 입니다.\n"
     ]
    }
   ],
   "source": [
    "# 기초통계량 계산기\n",
    "cnt = 0\n",
    "sum_num = 0\n",
    "max_num = 0\n",
    "min_num = 0\n",
    "# max=-999, min=999\n",
    "\n",
    "while True:\n",
    "    num = input('Insert name: ')\n",
    "    cnt=cnt+1\n",
    "    \n",
    "    if num == '입력 끝':\n",
    "        break\n",
    "    \n",
    "    number = int(num)\n",
    "    sum_num += number\n",
    "    avg_num = sum_num/cnt\n",
    "    \n",
    "    if number > max_num :\n",
    "        max_num = number\n",
    "    \n",
    "    if min_num == 0 :\n",
    "        min_num = number\n",
    "    if number < min_num :\n",
    "        min_num = number        \n",
    "   \n",
    "       \n",
    "\n",
    "print('입력받은 숫자의 합은 ',sum_num,'입니다.')\n",
    "print('입력받은 숫자의 평균은 ',avg_num,'입니다.')\n",
    "print('가장 큰 수는 ',max_num,'입니다.')\n",
    "print('가장 작은 수는 ',min_num,'입니다.')"
   ]
  },
  {
   "cell_type": "code",
   "execution_count": 40,
   "metadata": {},
   "outputs": [
    {
     "name": "stdout",
     "output_type": "stream",
     "text": [
      "숫자를 입력하세요.\n",
      "5\n",
      "4\n",
      "2\n",
      "입력 끝\n",
      "총 합:  11\n",
      "평균값:  3.6666666666666665\n",
      "최소값:  2\n",
      "최대값:  5\n"
     ]
    }
   ],
   "source": [
    "print(\"숫자를 입력하세요.\")\n",
    "\n",
    "cnt=0\n",
    "sumA = 0\n",
    "minV = 999\n",
    "maxV = -999\n",
    "\n",
    "txt = input()\n",
    "\n",
    "while txt != '입력 끝':\n",
    "    \n",
    "    txt = int(txt)\n",
    "    sumA += txt\n",
    "    cnt +=1\n",
    "    \n",
    "    if minV > txt:\n",
    "        minV = txt\n",
    "    if maxV < txt:\n",
    "        maxV = txt\n",
    "    # 다시 입력값 받기\n",
    "    txt = input()\n",
    "    \n",
    " \n",
    "print(\"총 합: \", sumA)\n",
    "print(\"평균값: \", sumA/cnt)\n",
    "print(\"최소값: \", minV)\n",
    "print(\"최대값: \", maxV)\n"
   ]
  },
  {
   "cell_type": "markdown",
   "metadata": {},
   "source": [
    "### 삼각형 출력하기"
   ]
  },
  {
   "cell_type": "code",
   "execution_count": 1,
   "metadata": {
    "scrolled": true
   },
   "outputs": [
    {
     "name": "stdout",
     "output_type": "stream",
     "text": [
      "----------------------\n",
      "Input number: 9\n",
      "💕\n",
      "💕💕\n",
      "💕💕💕\n",
      "💕💕💕💕\n",
      "💕💕💕💕💕\n",
      "💕💕💕💕💕💕\n",
      "💕💕💕💕💕💕💕\n",
      "💕💕💕💕💕💕💕💕\n",
      "💕💕💕💕💕💕💕💕💕\n",
      "----------------------\n"
     ]
    }
   ],
   "source": [
    "print('-'*22)\n",
    "# 줄수가 별의 개수와 동일\n",
    "height = int(input(\"Input number: \"))\n",
    "cnt= 0\n",
    "\n",
    "while cnt < height :\n",
    "    cnt = cnt+1\n",
    "    print('💕'*cnt)\n",
    "\n",
    "print('-'*22)"
   ]
  },
  {
   "cell_type": "code",
   "execution_count": 35,
   "metadata": {},
   "outputs": [
    {
     "name": "stdout",
     "output_type": "stream",
     "text": [
      "----------------------\n",
      "Input number: 5\n",
      "     1\n",
      "    111\n",
      "   11111\n",
      "  1111111\n",
      " 111111111\n",
      "       1\n",
      "      111\n",
      "     11111\n",
      "    1111111\n",
      "   111111111\n",
      "  11111111111\n",
      " 1111111111111\n"
     ]
    }
   ],
   "source": [
    "# 삼각형 만들기\n",
    "print('-'*22)\n",
    "# 줄수가 별의 개수와 동일\n",
    "height = int(input(\"Input number: \"))\n",
    "cnt= 0\n",
    "\n",
    "while cnt < height :\n",
    "    cnt = cnt+1\n",
    "    print(' '*(height-cnt),'1'*(2*cnt-1))\n",
    "\n",
    "\n",
    "\n",
    "# 줄 수와 공백의 합이 7\n",
    "row=0\n",
    "cnt=-1\n",
    "while row <7 :\n",
    "    while cnt < 13:\n",
    "        row=row+1\n",
    "        cnt=cnt+2\n",
    "        \n",
    "        print((7-row)*\" \", cnt*\"1\")\n",
    "    \n",
    "        "
   ]
  },
  {
   "cell_type": "code",
   "execution_count": 2,
   "metadata": {},
   "outputs": [
    {
     "name": "stdout",
     "output_type": "stream",
     "text": [
      "  *********\n",
      "   *******\n",
      "    *****\n",
      "     ***\n",
      "      *\n",
      "     ***\n",
      "    *****\n",
      "   *******\n",
      "  *********\n"
     ]
    }
   ],
   "source": [
    "# 모래 시개 모양\n",
    "row=0\n",
    "cnt=-1\n",
    "while row<5:\n",
    "    row=row+1\n",
    "    cnt=cnt+1\n",
    "        \n",
    "    print(\" \"*row, \"*\"*(9-2*cnt))\n",
    "row=0\n",
    "cnt=0\n",
    "while row <4 :\n",
    "    row=row+1\n",
    "    cnt=cnt+1\n",
    "        \n",
    "    print((5-row)*\" \", \"*\"*(2*cnt+1))\n"
   ]
  },
  {
   "cell_type": "code",
   "execution_count": 210,
   "metadata": {
    "scrolled": true
   },
   "outputs": [
    {
     "name": "stdout",
     "output_type": "stream",
     "text": [
      "Input number: 5\n",
      "     *\n",
      "    ***\n",
      "   *****\n",
      "  *******\n",
      " *********\n",
      "  *******\n",
      "   *****\n",
      "    ***\n",
      "     *\n",
      "      \n"
     ]
    }
   ],
   "source": [
    "height = int(input(\"Input number: \"))\n",
    "cnt=0\n",
    "while cnt < height :\n",
    "    cnt = cnt+1\n",
    "    print((height-cnt)*\" \",\"*\"*(2*cnt-1))\n",
    "\n",
    "cnt=0\n",
    "while cnt < height :\n",
    "    cnt = cnt+1\n",
    "    print( \" \"*cnt,\"*\"*(2*(height-cnt)-1))\n",
    "    "
   ]
  },
  {
   "cell_type": "code",
   "execution_count": 3,
   "metadata": {},
   "outputs": [
    {
     "name": "stdout",
     "output_type": "stream",
     "text": [
      "Inser number: 9\n",
      "       *\n",
      "      *  *\n",
      "     *    *\n",
      "    *      *\n",
      "   *        *\n",
      "  *          *\n",
      " *            *\n"
     ]
    }
   ],
   "source": [
    "num = int(input('Inser number: '))\n",
    "row = 0\n",
    "cnt = 0\n",
    "\n",
    "print(\" \"*(6-row),\"*\")\n",
    "while row < 6:\n",
    "    row += 1\n",
    "    print(\" \"*(6-row),\"*\",\" \"*2*(row-1),\"*\")\n",
    "\n"
   ]
  },
  {
   "cell_type": "code",
   "execution_count": 123,
   "metadata": {},
   "outputs": [
    {
     "name": "stdout",
     "output_type": "stream",
     "text": [
      "        *\n",
      "       *  *\n",
      "      *    *\n"
     ]
    }
   ],
   "source": [
    "row = 0\n",
    "print(\" \"*(7-row),\"*\")\n",
    "row = 1\n",
    "print(\" \"*(7-row),\"*\",\" \"*0,\"*\")\n",
    "row = 2\n",
    "print(\" \"*(7-row),\"*\",\" \"*2,\"*\")"
   ]
  },
  {
   "cell_type": "markdown",
   "metadata": {},
   "source": [
    "### 자판기 만들기\n",
    "1. 제품 지정\n",
    "2. 금액 넣기\n",
    "3. 제품 나오기\n",
    "4. 거스름돈 주기\n"
   ]
  },
  {
   "cell_type": "code",
   "execution_count": null,
   "metadata": {},
   "outputs": [],
   "source": [
    "# 제품 지정하기\n",
    "print('오렌지 주스 : 2000원')\n",
    "print('커피 : 1500원')\n",
    "print('물 : 1000원')\n",
    "\n",
    "product = input('원하시는 제품을 입력하세요: ')\n",
    "\n",
    "pdt_list = ['오렌지 주스','커피','물']\n",
    "pdt_price = [2000,1500,1000]\n",
    "\n",
    "# 금액을 넣어주세요\n",
    "money = int(input('---> 금액을 넣어주세요: '))\n",
    "\n",
    "# 제품 나오기\n",
    "if money >= price :\n",
    "     print(\"\")"
   ]
  },
  {
   "cell_type": "markdown",
   "metadata": {},
   "source": [
    "### Lists"
   ]
  },
  {
   "cell_type": "code",
   "execution_count": 49,
   "metadata": {},
   "outputs": [],
   "source": [
    "univ = ['한양대', '서울대', '강릉대','수원대','부산대','제주대']"
   ]
  },
  {
   "cell_type": "code",
   "execution_count": 50,
   "metadata": {},
   "outputs": [
    {
     "data": {
      "text/plain": [
       "['한양대', '서울대', '강릉대', '수원대', '부산대', '제주대']"
      ]
     },
     "execution_count": 50,
     "metadata": {},
     "output_type": "execute_result"
    }
   ],
   "source": [
    "univ"
   ]
  },
  {
   "cell_type": "code",
   "execution_count": 51,
   "metadata": {},
   "outputs": [
    {
     "data": {
      "text/plain": [
       "'부산대'"
      ]
     },
     "execution_count": 51,
     "metadata": {},
     "output_type": "execute_result"
    }
   ],
   "source": [
    "#5번째로 index =5-1\n",
    "univ[4]"
   ]
  },
  {
   "cell_type": "code",
   "execution_count": 55,
   "metadata": {},
   "outputs": [
    {
     "data": {
      "text/plain": [
       "['한양대', '서울대', '대전대', '수원대', '부산대', '제주대']"
      ]
     },
     "execution_count": 55,
     "metadata": {},
     "output_type": "execute_result"
    }
   ],
   "source": [
    "univ[2]='대전대'\n",
    "univ"
   ]
  },
  {
   "cell_type": "code",
   "execution_count": 56,
   "metadata": {},
   "outputs": [
    {
     "data": {
      "text/plain": [
       "['한양대', '대전대', '수원대', '부산대', '제주대']"
      ]
     },
     "execution_count": 56,
     "metadata": {},
     "output_type": "execute_result"
    }
   ],
   "source": [
    "# 삭제 del\n",
    "del univ[1]\n",
    "univ\n",
    "#자리도 대체되고, 내용도 지워짐\n",
    "# 삭제되면서 인덱스도 변화"
   ]
  },
  {
   "cell_type": "markdown",
   "metadata": {},
   "source": [
    "#### slicing\n"
   ]
  },
  {
   "cell_type": "code",
   "execution_count": 54,
   "metadata": {},
   "outputs": [
    {
     "data": {
      "text/plain": [
       "['서울대', '강릉대', '수원대']"
      ]
     },
     "execution_count": 54,
     "metadata": {},
     "output_type": "execute_result"
    }
   ],
   "source": [
    "# index 4인 것 앞까지\n",
    "univ[1:4]"
   ]
  },
  {
   "cell_type": "code",
   "execution_count": 61,
   "metadata": {},
   "outputs": [
    {
     "data": {
      "text/plain": [
       "[]"
      ]
     },
     "execution_count": 61,
     "metadata": {},
     "output_type": "execute_result"
    }
   ],
   "source": [
    "univ[0:0]"
   ]
  },
  {
   "cell_type": "code",
   "execution_count": 62,
   "metadata": {},
   "outputs": [
    {
     "data": {
      "text/plain": [
       "['한양대', '대전대', '수원대', '부산대', '제주대']"
      ]
     },
     "execution_count": 62,
     "metadata": {},
     "output_type": "execute_result"
    }
   ],
   "source": [
    "univ[:]"
   ]
  },
  {
   "cell_type": "code",
   "execution_count": 65,
   "metadata": {},
   "outputs": [
    {
     "data": {
      "text/plain": [
       "['한양대', '대전대', '수원대', '부산대', '제주대', '대구대']"
      ]
     },
     "execution_count": 65,
     "metadata": {},
     "output_type": "execute_result"
    }
   ],
   "source": [
    "univ.append('대구대')\n",
    "\n",
    "univ"
   ]
  },
  {
   "cell_type": "code",
   "execution_count": 66,
   "metadata": {},
   "outputs": [
    {
     "data": {
      "text/plain": [
       "['대구대', '제주대', '부산대', '수원대', '대전대', '한양대']"
      ]
     },
     "execution_count": 66,
     "metadata": {},
     "output_type": "execute_result"
    }
   ],
   "source": [
    "univ.reverse()\n",
    "univ"
   ]
  },
  {
   "cell_type": "code",
   "execution_count": 70,
   "metadata": {},
   "outputs": [],
   "source": [
    "txt = 'IndentationError: expected an indented block In documentation terminology, indentation means the space from margin to the begin of characters in a line. In most popular programming languages, spaces or indentation are just used to make the code look better and be easier to read. In Python, it is actually part of this programming language.'"
   ]
  },
  {
   "cell_type": "code",
   "execution_count": 71,
   "metadata": {},
   "outputs": [
    {
     "data": {
      "text/plain": [
       "['IndentationError:',\n",
       " 'expected',\n",
       " 'an',\n",
       " 'indented',\n",
       " 'block',\n",
       " 'In',\n",
       " 'documentation',\n",
       " 'terminology,',\n",
       " 'indentation',\n",
       " 'means',\n",
       " 'the',\n",
       " 'space',\n",
       " 'from',\n",
       " 'margin',\n",
       " 'to',\n",
       " 'the',\n",
       " 'begin',\n",
       " 'of',\n",
       " 'characters',\n",
       " 'in',\n",
       " 'a',\n",
       " 'line.',\n",
       " 'In',\n",
       " 'most',\n",
       " 'popular',\n",
       " 'programming',\n",
       " 'languages,',\n",
       " 'spaces',\n",
       " 'or',\n",
       " 'indentation',\n",
       " 'are',\n",
       " 'just',\n",
       " 'used',\n",
       " 'to',\n",
       " 'make',\n",
       " 'the',\n",
       " 'code',\n",
       " 'look',\n",
       " 'better',\n",
       " 'and',\n",
       " 'be',\n",
       " 'easier',\n",
       " 'to',\n",
       " 'read.',\n",
       " 'In',\n",
       " 'Python,',\n",
       " 'it',\n",
       " 'is',\n",
       " 'actually',\n",
       " 'part',\n",
       " 'of',\n",
       " 'this',\n",
       " 'programming',\n",
       " 'language.']"
      ]
     },
     "execution_count": 71,
     "metadata": {},
     "output_type": "execute_result"
    }
   ],
   "source": [
    "txt.split()"
   ]
  },
  {
   "cell_type": "code",
   "execution_count": 72,
   "metadata": {},
   "outputs": [
    {
     "data": {
      "text/plain": [
       "['IndentationError: expected ',\n",
       " ' indented block In documentation terminology, indentation me',\n",
       " 's the space from margin to the begin of characters in a line. In most popular programming l',\n",
       " 'guages, spaces or indentation are just used to make the code look better ',\n",
       " 'd be easier to read. In Python, it is actually part of this programming l',\n",
       " 'guage.']"
      ]
     },
     "execution_count": 72,
     "metadata": {},
     "output_type": "execute_result"
    }
   ],
   "source": [
    "txt.split('an')"
   ]
  },
  {
   "cell_type": "code",
   "execution_count": 73,
   "metadata": {},
   "outputs": [
    {
     "data": {
      "text/plain": [
       "6"
      ]
     },
     "execution_count": 73,
     "metadata": {},
     "output_type": "execute_result"
    }
   ],
   "source": [
    "# len(): 리스트가 가지고 있는 아이템의 수\n",
    "len(univ)\n"
   ]
  },
  {
   "cell_type": "code",
   "execution_count": 74,
   "metadata": {},
   "outputs": [
    {
     "name": "stdout",
     "output_type": "stream",
     "text": [
      "0 대구대\n",
      "1 제주대\n",
      "2 부산대\n",
      "3 수원대\n",
      "4 대전대\n",
      "5 한양대\n"
     ]
    }
   ],
   "source": [
    "cnt = 0\n",
    "while cnt < len(univ):\n",
    "    print(cnt, univ[cnt])\n",
    "    cnt += 1"
   ]
  },
  {
   "cell_type": "code",
   "execution_count": 8,
   "metadata": {},
   "outputs": [
    {
     "name": "stdout",
     "output_type": "stream",
     "text": [
      "range(0, 10)\n"
     ]
    }
   ],
   "source": [
    "a=range(10)\n",
    "print(a)"
   ]
  },
  {
   "cell_type": "code",
   "execution_count": 77,
   "metadata": {},
   "outputs": [
    {
     "data": {
      "text/plain": [
       "[0, 1, 2, 3, 4, 5, 6, 7, 8, 9]"
      ]
     },
     "execution_count": 77,
     "metadata": {},
     "output_type": "execute_result"
    }
   ],
   "source": [
    "# 0부터 10-1 그 직전까지 총 10개의 숫자를 리스트로 만들어 줌\n",
    "list(range(10))"
   ]
  },
  {
   "cell_type": "code",
   "execution_count": 79,
   "metadata": {},
   "outputs": [
    {
     "data": {
      "text/plain": [
       "[10, 20, 30, 40, 50, 60, 70, 80, 90]"
      ]
     },
     "execution_count": 79,
     "metadata": {},
     "output_type": "execute_result"
    }
   ],
   "source": [
    "#range(시작점, 끝점, 차이)\n",
    "range(10,100,10)\n",
    "list(range(10,100,10))"
   ]
  },
  {
   "cell_type": "code",
   "execution_count": 81,
   "metadata": {},
   "outputs": [
    {
     "data": {
      "text/plain": [
       "[1, 4, 'red', 'text', 6]"
      ]
     },
     "execution_count": 81,
     "metadata": {},
     "output_type": "execute_result"
    }
   ],
   "source": [
    "# 변수자체는 실제 값을 불러옴\n",
    "listA = [1,4,'red', 'text',cnt]\n",
    "listA"
   ]
  },
  {
   "cell_type": "code",
   "execution_count": 10,
   "metadata": {},
   "outputs": [
    {
     "data": {
      "text/plain": [
       "[['에잇', '스물넷', '팔레트', '예뻤어'],\n",
       " ['노트북', '어바웃타임', '오만과편견', '클래식'],\n",
       " ['떡볶이', '스테이크', '피자', '스파게티']]"
      ]
     },
     "execution_count": 10,
     "metadata": {},
     "output_type": "execute_result"
    }
   ],
   "source": [
    "#리스트는 아이템으로 리스트를 가질 수 있다.\n",
    "\n",
    "FavSongs = ['에잇', '스물넷','팔레트','예뻤어']\n",
    "FavMovies = ['노트북','어바웃타임','오만과편견','클래식']\n",
    "FavFoods = ['떡볶이','스테이크','피자','스파게티']\n",
    "\n",
    "MyFav = [FavSongs, FavMovies,FavFoods]\n",
    "MyFav"
   ]
  },
  {
   "attachments": {
    "image.png": {
     "image/png": "[encoded data removed]"
    }
   },
   "cell_type": "markdown",
   "metadata": {},
   "source": [
    "![image.png](attachment:image.png)"
   ]
  },
  {
   "cell_type": "code",
   "execution_count": 11,
   "metadata": {
    "scrolled": true
   },
   "outputs": [
    {
     "data": {
      "text/plain": [
       "[['에잇', '스물넷', '예뻤어'],\n",
       " ['노트북', 'Wonder woman', '오만과편견', '클래식'],\n",
       " ['떡볶이', '스테이크', '피자', '스파게티', 'Pizzs']]"
      ]
     },
     "execution_count": 11,
     "metadata": {},
     "output_type": "execute_result"
    }
   ],
   "source": [
    "del FavSongs[2]\n",
    "FavFoods.append('Pizzs')\n",
    "FavMovies[1] = 'Wonder woman'\n",
    "\n",
    "MyFav\n"
   ]
  },
  {
   "cell_type": "code",
   "execution_count": 12,
   "metadata": {},
   "outputs": [
    {
     "data": {
      "text/plain": [
       "'Wonder woman'"
      ]
     },
     "execution_count": 12,
     "metadata": {},
     "output_type": "execute_result"
    }
   ],
   "source": [
    "MyFav[1][1]"
   ]
  },
  {
   "cell_type": "code",
   "execution_count": 89,
   "metadata": {},
   "outputs": [],
   "source": [
    "MyFav[2].append('김치')"
   ]
  },
  {
   "cell_type": "code",
   "execution_count": 91,
   "metadata": {},
   "outputs": [
    {
     "data": {
      "text/plain": [
       "[['에잇', '스물넷', '예뻤어'],\n",
       " ['노트북', 'Wonder woman', '오만과편견', '클래식'],\n",
       " ['떡볶이', '스테이크', '피자', '스파게티', 'Pizzs', '김치']]"
      ]
     },
     "execution_count": 91,
     "metadata": {},
     "output_type": "execute_result"
    }
   ],
   "source": [
    "MyFav"
   ]
  },
  {
   "cell_type": "markdown",
   "metadata": {},
   "source": [
    "## 오늘의 옷 추천"
   ]
  },
  {
   "cell_type": "code",
   "execution_count": 93,
   "metadata": {},
   "outputs": [],
   "source": [
    "import random\n",
    "# 옷 지정\n",
    "colors = ['black','blue','yellow','white','red']\n",
    "tops = ['shirt','T-shirt','jaket','cardigan']\n",
    "bottoms = ['legging','jins','hotpants','skirt']\n",
    "acc = ['shoes','tie','hat','earrings','scarf']"
   ]
  },
  {
   "cell_type": "code",
   "execution_count": 95,
   "metadata": {},
   "outputs": [
    {
     "name": "stdout",
     "output_type": "stream",
     "text": [
      "오늘의 패션 1 번 추천 조합 입니다.\n",
      "red   cardigan\n",
      "black   hotpants\n",
      "black   shoes\n",
      " \n",
      "오늘의 패션 2 번 추천 조합 입니다.\n",
      "yellow   cardigan\n",
      "yellow   skirt\n",
      "yellow   earrings\n",
      " \n",
      "오늘의 패션 3 번 추천 조합 입니다.\n",
      "red   shirt\n",
      "red   jins\n",
      "black   earrings\n",
      " \n"
     ]
    }
   ],
   "source": [
    "#옷 추천\n",
    "cnt=0\n",
    "while cnt <3:\n",
    "    cnt += 1\n",
    "    \n",
    "    print('오늘의 패션', cnt,'번 추천 조합 입니다.')\n",
    "    print(colors[random.randint(0,len(colors)-1)], \" \",tops[random.randint(0,len(tops)-1)] )\n",
    "    print(colors[random.randint(0,len(colors)-1)], \" \",bottoms[random.randint(0,len(bottoms)-1)])\n",
    "    print(colors[random.randint(0,len(colors)-1)], \" \",acc[random.randint(0,len(acc)-1)])\n",
    "    print(\" \")\n",
    "    "
   ]
  },
  {
   "cell_type": "markdown",
   "metadata": {},
   "source": [
    "len(colors)-1까지로 랜덤 번호를 뽑은 이유는\n",
    "index번호가 0부터 시작하기 때문에 -1이 되고\n",
    "len은 개수로 뽑히기 때문이다.\n"
   ]
  },
  {
   "cell_type": "markdown",
   "metadata": {},
   "source": [
    "### Multi-item print\n",
    "print('''\n",
    "\n",
    "\n",
    "''') -> 우리가 보이는 대로 나옴\n"
   ]
  },
  {
   "cell_type": "code",
   "execution_count": 99,
   "metadata": {},
   "outputs": [
    {
     "name": "stdout",
     "output_type": "stream",
     "text": [
      "\n",
      "가나\n",
      "다라마\n",
      "바사아자\n",
      "타파하\n",
      "\n",
      "\n"
     ]
    }
   ],
   "source": [
    "print('''\n",
    "가나\n",
    "다라마\n",
    "바사아자\n",
    "타파하\n",
    "\n",
    "''')"
   ]
  },
  {
   "cell_type": "code",
   "execution_count": 104,
   "metadata": {},
   "outputs": [
    {
     "name": "stdout",
     "output_type": "stream",
     "text": [
      "\n",
      "동해물과 백두산이 마르고 닳도록 하느님이 보우하사\n",
      "'우리나라' 만세\n",
      "\n"
     ]
    }
   ],
   "source": [
    "#\\''같은 것을 바로 보이게\n",
    "print('''\n",
    "동해물과 백두산이 마르고 닳도록 하느님이 보우하사\n",
    "\\'우리나라' 만세\n",
    "''')"
   ]
  },
  {
   "cell_type": "code",
   "execution_count": 106,
   "metadata": {
    "scrolled": true
   },
   "outputs": [
    {
     "name": "stdout",
     "output_type": "stream",
     "text": [
      "2021 \n",
      "\t\\p PBL \n",
      "\n"
     ]
    }
   ],
   "source": [
    "# \\n 줄바꿈, \\t 탭\n",
    "print('2021 \\n\\t PBL \\n')"
   ]
  },
  {
   "cell_type": "markdown",
   "metadata": {},
   "source": [
    "### for 반복문"
   ]
  },
  {
   "cell_type": "code",
   "execution_count": 138,
   "metadata": {},
   "outputs": [
    {
     "data": {
      "text/plain": [
       "True"
      ]
     },
     "execution_count": 138,
     "metadata": {},
     "output_type": "execute_result"
    }
   ],
   "source": [
    "'제주대' in  univ"
   ]
  },
  {
   "cell_type": "code",
   "execution_count": 139,
   "metadata": {},
   "outputs": [
    {
     "data": {
      "text/plain": [
       "True"
      ]
     },
     "execution_count": 139,
     "metadata": {},
     "output_type": "execute_result"
    }
   ],
   "source": [
    "# 주민등록번호에서 특정 문자열이 있는지로 활용 가능\n",
    "test = '04'\n",
    "test in '20210401'\n"
   ]
  },
  {
   "cell_type": "code",
   "execution_count": 140,
   "metadata": {},
   "outputs": [
    {
     "name": "stdout",
     "output_type": "stream",
     "text": [
      "4월생입니다!\n"
     ]
    }
   ],
   "source": [
    "#불린 값이라서 if 의 조건문으로 사용가능\n",
    "\n",
    "if test in '20210401':\n",
    "    print(\"4월생입니다!\")\n",
    "    \n",
    "    #하지만 디테일하게 특정 문자 값이 해야한다고는 해야함 2004년생이면 04가 포함시키기때문"
   ]
  },
  {
   "cell_type": "markdown",
   "metadata": {},
   "source": [
    "for (for문 변수) in (순서가 있는 자료) :\n",
    "          \n",
    "실행문장1\n",
    "        \n",
    "실행문장2\n",
    "        \n",
    "실행문장3"
   ]
  },
  {
   "cell_type": "code",
   "execution_count": 142,
   "metadata": {},
   "outputs": [
    {
     "name": "stdout",
     "output_type": "stream",
     "text": [
      "대구대\n",
      "제주대\n",
      "부산대\n",
      "수원대\n",
      "대전대\n",
      "한양대\n"
     ]
    }
   ],
   "source": [
    "for list_name in univ:\n",
    "    print(list_name)"
   ]
  },
  {
   "cell_type": "code",
   "execution_count": 143,
   "metadata": {},
   "outputs": [
    {
     "name": "stdout",
     "output_type": "stream",
     "text": [
      "H a n y a n g "
     ]
    }
   ],
   "source": [
    "for string_text in 'Hanyang':\n",
    "    print(string_text, end=' ')"
   ]
  },
  {
   "cell_type": "markdown",
   "metadata": {},
   "source": [
    "print(,end=''): 줄바꿈하지않고 가로로 정렬"
   ]
  },
  {
   "cell_type": "code",
   "execution_count": 145,
   "metadata": {},
   "outputs": [
    {
     "name": "stdout",
     "output_type": "stream",
     "text": [
      "I really like  cats .\n",
      "I really like  pasta .\n",
      "I really like  programming .\n",
      "I really like  spam .\n"
     ]
    }
   ],
   "source": [
    "for thing in ['cats','pasta','programming','spam']:\n",
    "    print('I really like ', thing,\".\")"
   ]
  },
  {
   "cell_type": "code",
   "execution_count": 146,
   "metadata": {},
   "outputs": [
    {
     "name": "stdout",
     "output_type": "stream",
     "text": [
      "0\n",
      "1\n",
      "2\n",
      "3\n",
      "4\n",
      "5\n",
      "6\n",
      "7\n",
      "8\n",
      "9\n"
     ]
    }
   ],
   "source": [
    "for i in range(10): # range(10): 0~9까지의 숫자\n",
    "    print(i)"
   ]
  },
  {
   "cell_type": "code",
   "execution_count": 147,
   "metadata": {},
   "outputs": [
    {
     "name": "stdout",
     "output_type": "stream",
     "text": [
      "H\n",
      "e\n",
      "l\n",
      "l\n",
      "o\n",
      "w\n",
      "o\n",
      "r\n",
      "l\n",
      "d\n"
     ]
    }
   ],
   "source": [
    "for i in 'Helloworld':\n",
    "    print(i)"
   ]
  },
  {
   "cell_type": "markdown",
   "metadata": {},
   "source": [
    "# (실습) 최소값, 최대값 찾기 - for, while문 사용해서 비교하기\n",
    "\n",
    "- 길이가 20인 리스트에 무작위로 1~100 사이의 숫자를 생성하기\n",
    "- 가장 큰 수와 가장 작은 수 찾아서 출력하기\n",
    "- 실제로, 가장 작은 수를 찾았는지 리스트 전체에서 확인하기"
   ]
  },
  {
   "cell_type": "code",
   "execution_count": 159,
   "metadata": {},
   "outputs": [
    {
     "name": "stdout",
     "output_type": "stream",
     "text": [
      "[9, 56, 1, 40, 16, 98, 65, 10, 58, 98, 7, 52, 88, 24, 74, 90, 13, 97, 72, 23]\n"
     ]
    }
   ],
   "source": [
    "import random\n",
    "\n",
    "# 리스트 생성하기\n",
    "rnd_list = []\n",
    "\n",
    "while len(rnd_list)<20:\n",
    "    rnd = random.randint(1,100)\n",
    "    rnd_list.append(rnd)\n",
    "print(rnd_list)"
   ]
  },
  {
   "cell_type": "code",
   "execution_count": 160,
   "metadata": {},
   "outputs": [
    {
     "name": "stdout",
     "output_type": "stream",
     "text": [
      "최대값:  98 최소값:  1\n"
     ]
    }
   ],
   "source": [
    "# while 로 가장 작은 수 찾기\n",
    "Min = 999\n",
    "Max = -999\n",
    "cnt = 0\n",
    "while cnt <20:\n",
    "    if rnd_list[cnt] > Max:\n",
    "        Max = rnd_list[cnt]\n",
    "    if rnd_list[cnt] < Min:\n",
    "        Min = rnd_list[cnt]\n",
    "    cnt +=1\n",
    "    \n",
    "print('최대값: ', Max, '최소값: ', Min)"
   ]
  },
  {
   "cell_type": "code",
   "execution_count": 161,
   "metadata": {},
   "outputs": [
    {
     "name": "stdout",
     "output_type": "stream",
     "text": [
      "최대값:  98 최소값:  1\n"
     ]
    }
   ],
   "source": [
    "# for구문을 활용한 가장 큰값, 가장 작은 값 찾기\n",
    "Min = 999\n",
    "Max = -999\n",
    "\n",
    "for num in rnd_list:\n",
    "    if num > Max:\n",
    "        Max = num\n",
    "    if num < Min:\n",
    "        Min = num\n",
    "\n",
    "print('최대값: ', Max, '최소값: ', Min)"
   ]
  },
  {
   "attachments": {
    "image.png": {
     "image/png": "[encoded data removed]"
    }
   },
   "cell_type": "markdown",
   "metadata": {},
   "source": [
    "![image.png](attachment:image.png)\n",
    "\n",
    "for 문 두개로 중첩하기\n",
    "alpha = a~z\n"
   ]
  },
  {
   "cell_type": "code",
   "execution_count": 163,
   "metadata": {},
   "outputs": [
    {
     "name": "stdout",
     "output_type": "stream",
     "text": [
      "['a', 'b', 'c', 'd', 'e', 'f', 'g', 'h', 'i', 'j', 'k', 'l', 'm', 'n', 'o', 'p', 'q', 'r', 's', 't', 'u', 'v', 'w', 'x', 'y', 'z']\n"
     ]
    }
   ],
   "source": [
    "# alpha라는 리스트 지정\n",
    "alpha = []\n",
    "for apb in 'abcdefghijklmnopqrstuvwxyz':\n",
    "    alpha.append(apb)\n",
    "print(alpha)"
   ]
  },
  {
   "cell_type": "code",
   "execution_count": 194,
   "metadata": {
    "scrolled": true
   },
   "outputs": [
    {
     "name": "stdout",
     "output_type": "stream",
     "text": [
      "a :  16\n",
      "b :  2\n",
      "c :  6\n",
      "d :  6\n",
      "e :  16\n",
      "f :  1\n",
      "g :  1\n",
      "h :  2\n",
      "i :  7\n",
      "j :  0\n",
      "k :  1\n",
      "l :  10\n",
      "m :  2\n",
      "n :  12\n",
      "o :  17\n",
      "p :  3\n",
      "q :  0\n",
      "r :  7\n",
      "s :  10\n",
      "t :  8\n",
      "u :  5\n",
      "v :  4\n",
      "w :  1\n",
      "x :  0\n",
      "y :  6\n",
      "z :  0\n"
     ]
    }
   ],
   "source": [
    "txt = \"Anaconda solutions are serious technology for real data science and ML applications. Anaconda is versatile - you'll be ready to solve problems you don't even know you have yet.\"\n",
    "# txt 정제\n",
    "text= txt.lower()\n",
    "\n",
    "# count리스트 만들기\n",
    "count = []\n",
    "\n",
    "for apb in alpha:\n",
    "    cnt = 0\n",
    "    for string in text:\n",
    "        if string == apb:\n",
    "            cnt += 1\n",
    "    count.append(cnt)\n",
    "\n",
    "for i in range(0,26):\n",
    "    print(str(alpha[i]),': ',str(count[i]))\n",
    "            "
   ]
  },
  {
   "cell_type": "code",
   "execution_count": 196,
   "metadata": {},
   "outputs": [
    {
     "name": "stdout",
     "output_type": "stream",
     "text": [
      "a :  16\n",
      "b :  2\n",
      "c :  6\n",
      "d :  6\n",
      "e :  16\n",
      "f :  1\n",
      "g :  1\n",
      "h :  2\n",
      "i :  7\n",
      "j :  0\n",
      "k :  1\n",
      "l :  10\n",
      "m :  2\n",
      "n :  12\n",
      "o :  17\n",
      "p :  3\n",
      "q :  0\n",
      "r :  7\n",
      "s :  10\n",
      "t :  8\n",
      "u :  5\n",
      "v :  4\n",
      "w :  1\n",
      "x :  0\n",
      "y :  6\n",
      "z :  0\n"
     ]
    }
   ],
   "source": [
    "for apb in 'abcdefghijklmnopqrstuvwxyz':\n",
    "    cnt = 0\n",
    "    for string in text:\n",
    "        if string == apb:\n",
    "            cnt += 1\n",
    "    print(apb,': ', cnt)"
   ]
  },
  {
   "cell_type": "code",
   "execution_count": 235,
   "metadata": {},
   "outputs": [
    {
     "name": "stdout",
     "output_type": "stream",
     "text": [
      "3 x 1 = 3\n",
      "3 x 2 = 6\n",
      "3 x 3 = 9\n",
      "3 x 4 = 12\n",
      "3 x 5 = 15\n",
      "3 x 6 = 18\n",
      "3 x 7 = 21\n",
      "3 x 8 = 24\n",
      "3 x 9 = 27\n"
     ]
    }
   ],
   "source": [
    "# 구구단 for 문으로\n",
    "\n",
    "cnt = 1\n",
    "while cnt <10:\n",
    "    print('3 x', cnt, '=', 3*cnt)\n",
    "    cnt +=1"
   ]
  },
  {
   "cell_type": "code",
   "execution_count": 236,
   "metadata": {},
   "outputs": [
    {
     "name": "stdout",
     "output_type": "stream",
     "text": [
      "3 x 1 = 3\n",
      "3 x 2 = 6\n",
      "3 x 3 = 9\n",
      "3 x 4 = 12\n",
      "3 x 5 = 15\n",
      "3 x 6 = 18\n",
      "3 x 7 = 21\n",
      "3 x 8 = 24\n",
      "3 x 9 = 27\n"
     ]
    }
   ],
   "source": [
    "for i in range(1,10):\n",
    "    print('3 x', i, '=', 3*i)\n"
   ]
  },
  {
   "cell_type": "code",
   "execution_count": null,
   "metadata": {},
   "outputs": [],
   "source": []
  }
 ],
 "metadata": {
  "kernelspec": {
   "display_name": "Python 3",
   "language": "python",
   "name": "python3"
  },
  "language_info": {
   "codemirror_mode": {
    "name": "ipython",
    "version": 3
   },
   "file_extension": ".py",
   "mimetype": "text/x-python",
   "name": "python",
   "nbconvert_exporter": "python",
   "pygments_lexer": "ipython3",
   "version": "3.8.5"
  }
 },
 "nbformat": 4,
 "nbformat_minor": 4
}
