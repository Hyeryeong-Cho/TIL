{
 "cells": [
  {
   "cell_type": "code",
   "execution_count": 1,
   "metadata": {},
   "outputs": [],
   "source": [
    "from pymongo import MongoClient # mongo db에 접속을 해줄 객체"
   ]
  },
  {
   "cell_type": "code",
   "execution_count": 3,
   "metadata": {},
   "outputs": [],
   "source": [
    "# mongoclient 객체를 생성\n",
    "# 객체생성: MongoClient().\n",
    "# 접속할 DB 명 적어주기(python_test): 없으면 생성, 있으면 기존 db에 접속\n",
    "db = MongoClient().python_test"
   ]
  },
  {
   "cell_type": "code",
   "execution_count": 4,
   "metadata": {},
   "outputs": [
    {
     "data": {
      "text/plain": [
       "Database(MongoClient(host=['localhost:27017'], document_class=dict, tz_aware=False, connect=True), 'python_test')"
      ]
     },
     "execution_count": 4,
     "metadata": {},
     "output_type": "execute_result"
    }
   ],
   "source": [
    "db # mongodb에 python_test에 접속한 것을 알 수 있음"
   ]
  },
  {
   "cell_type": "code",
   "execution_count": 5,
   "metadata": {},
   "outputs": [],
   "source": [
    "from gridfs import GridFS"
   ]
  },
  {
   "cell_type": "code",
   "execution_count": 6,
   "metadata": {},
   "outputs": [],
   "source": [
    "# MongoDB에 파일을 저장할 겍체 생성\n",
    "fs = GridFS(db)"
   ]
  },
  {
   "cell_type": "code",
   "execution_count": 7,
   "metadata": {},
   "outputs": [
    {
     "data": {
      "text/plain": [
       "<gridfs.GridFS at 0x1b305046f10>"
      ]
     },
     "execution_count": 7,
     "metadata": {},
     "output_type": "execute_result"
    }
   ],
   "source": [
    "fs"
   ]
  },
  {
   "cell_type": "code",
   "execution_count": 15,
   "metadata": {},
   "outputs": [
    {
     "name": "stdout",
     "output_type": "stream",
     "text": [
      "f = <_io.BufferedReader name='C:/ai/workspace/mongodb/test.txt'>\n",
      "f.read() = b'MongoDB GRIDFS\\xec\\x97\\x90 \\xec\\xa0\\x80\\xec\\x9e\\xa5\\xed\\x95\\xa0 \\xeb\\x82\\xb4\\xec\\x9a\\xa9'\n"
     ]
    }
   ],
   "source": [
    "# 폴더에서 파일을 읽을 객체 f 생성\n",
    "with open('C:/ai/workspace/mongodb/test.txt', 'rb') as f:\n",
    "    print(\"f =\", f) # 파일을 읽을 객체를 확인 \n",
    "    print(\"f.read() =\", f.read()) # 한글 숫자 변환 "
   ]
  },
  {
   "cell_type": "code",
   "execution_count": 16,
   "metadata": {},
   "outputs": [],
   "source": [
    "# 폴더에서 파일을 읽을 객체 f 생성\n",
    "with open('C:/ai/workspace/mongodb/test.txt', 'rb') as f:\n",
    "    # f를 통해서 데이터를 읽고,  GridFS에 저장\n",
    "    fs.put(f, filename = 'test.txt')"
   ]
  },
  {
   "cell_type": "code",
   "execution_count": 18,
   "metadata": {},
   "outputs": [
    {
     "data": {
      "text/plain": [
       "[{'_id': ObjectId('608f5c0b04107577b18afb72'),\n",
       "  'filename': 'test.txt',\n",
       "  'md5': 'f724155ac0c9f27e693daa18c3427d07',\n",
       "  'chunkSize': 261120,\n",
       "  'length': 34,\n",
       "  'uploadDate': datetime.datetime(2021, 5, 3, 2, 12, 27, 551000)},\n",
       " {'_id': ObjectId('608f5c3c04107577b18afb74'),\n",
       "  'filename': 'test.txt',\n",
       "  'md5': 'f724155ac0c9f27e693daa18c3427d07',\n",
       "  'chunkSize': 261120,\n",
       "  'length': 34,\n",
       "  'uploadDate': datetime.datetime(2021, 5, 3, 2, 13, 16, 265000)}]"
      ]
     },
     "execution_count": 18,
     "metadata": {},
     "output_type": "execute_result"
    }
   ],
   "source": [
    "# test.txt 파일의 내용을 읽어서 data 저장(파일 정보 가져오기)\n",
    "list(db.fs.files.find())"
   ]
  },
  {
   "cell_type": "code",
   "execution_count": 19,
   "metadata": {},
   "outputs": [],
   "source": [
    "f_last_get =fs.get_last_version(filename='test.txt')"
   ]
  },
  {
   "cell_type": "code",
   "execution_count": 20,
   "metadata": {},
   "outputs": [],
   "source": [
    "data = f_last_get.read()"
   ]
  },
  {
   "cell_type": "code",
   "execution_count": 21,
   "metadata": {},
   "outputs": [
    {
     "data": {
      "text/plain": [
       "b'MongoDB GRIDFS\\xec\\x97\\x90 \\xec\\xa0\\x80\\xec\\x9e\\xa5\\xed\\x95\\xa0 \\xeb\\x82\\xb4\\xec\\x9a\\xa9'"
      ]
     },
     "execution_count": 21,
     "metadata": {},
     "output_type": "execute_result"
    }
   ],
   "source": [
    "data"
   ]
  },
  {
   "cell_type": "code",
   "execution_count": 22,
   "metadata": {},
   "outputs": [
    {
     "data": {
      "text/plain": [
       "'MongoDB GRIDFS에 저장할 내용'"
      ]
     },
     "execution_count": 22,
     "metadata": {},
     "output_type": "execute_result"
    }
   ],
   "source": [
    "data.decode('utf-8')"
   ]
  },
  {
   "cell_type": "code",
   "execution_count": null,
   "metadata": {},
   "outputs": [],
   "source": []
  }
 ],
 "metadata": {
  "kernelspec": {
   "display_name": "Python 3",
   "language": "python",
   "name": "python3"
  },
  "language_info": {
   "codemirror_mode": {
    "name": "ipython",
    "version": 3
   },
   "file_extension": ".py",
   "mimetype": "text/x-python",
   "name": "python",
   "nbconvert_exporter": "python",
   "pygments_lexer": "ipython3",
   "version": "3.8.5"
  }
 },
 "nbformat": 4,
 "nbformat_minor": 4
}
